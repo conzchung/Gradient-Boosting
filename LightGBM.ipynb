{
 "cells": [
  {
   "cell_type": "markdown",
   "id": "b8cfd480",
   "metadata": {},
   "source": [
    "# LightGBM - Gradient Boosted Decision Trees"
   ]
  },
  {
   "cell_type": "markdown",
   "id": "cd666e01",
   "metadata": {},
   "source": [
    "LightGBM is a framework that provides an implementation of gradient boosted decision trees. It's created by the researchers and developers team at Microsoft. Light GBM is known for its faster-training speed, good accuracy with default parameters, parallel, and GPU learning, low memory footprint, and capability of handling large dataset which might not fit in memory. LightGBM provides API in C, Python, and R Programming. LightGBM even provides CLI which lets us use the library from the command line. LightGBM estimators provide a large set of hyperparameters to tune the model. It even has a large set of optimization/loss functions and evaluation metrics already implemented. As a part of this tutorial, we'll be covering the Python API of lightgbm. We'll try to explain and cover the majority of the Python API of lightgbm. The main aim of this tutorial is to make readers aware of the majority of functionalities available through lightgbm and get them started with the framework. There are other libraries (xgboost, catboost, scikit-learn) that also provide an implementation of gradient boosted decision trees. Please feel free to check the references section to know about them."
   ]
  },
  {
   "cell_type": "code",
   "execution_count": 3,
   "id": "0dca457b",
   "metadata": {},
   "outputs": [
    {
     "name": "stdout",
     "output_type": "stream",
     "text": [
      "LightGBM Version     :  3.2.0\n",
      "Scikit-Learn Version :  0.24.1\n"
     ]
    }
   ],
   "source": [
    "import pandas as pd\n",
    "import numpy as np\n",
    "\n",
    "import matplotlib.pyplot as plt\n",
    "\n",
    "import warnings\n",
    "\n",
    "warnings.filterwarnings(\"ignore\")\n",
    "pd.set_option(\"display.max_columns\", 50)\n",
    "\n",
    "import lightgbm as lgb\n",
    "import sklearn\n",
    "\n",
    "print(\"LightGBM Version     : \", lgb.__version__)\n",
    "print(\"Scikit-Learn Version : \", sklearn.__version__)"
   ]
  },
  {
   "cell_type": "markdown",
   "id": "8d933457",
   "metadata": {},
   "source": [
    "## Load Datasets\n",
    "\n",
    "- Boston Housing Dataset: It's a regression problem dataset which has information about the various attribute of houses in Boston and their price in dollar. This will be used for regression tasks.\n",
    "- Breast Cancer Dataset: It's a classification dataset that has information about two different types of tumor. It'll be used for explaining binary classification tasks.\n",
    "- Wine Dataset: It's a classification dataset that has information about ingredients used in three different types of wines. It'll be used for explaining multi-class classification tasks."
   ]
  },
  {
   "cell_type": "markdown",
   "id": "c3b561ca",
   "metadata": {},
   "source": [
    "### Boston Housing Dataset"
   ]
  },
  {
   "cell_type": "code",
   "execution_count": 4,
   "id": "8de39eb8",
   "metadata": {},
   "outputs": [
    {
     "name": "stdout",
     "output_type": "stream",
     "text": [
      "**Data Set Characteristics:**  \n",
      "\n",
      "    :Number of Instances: 506 \n",
      "\n",
      "    :Number of Attributes: 13 numeric/categorical predictive. Median Value (attribute 14) is usually the target.\n",
      "\n",
      "    :Attribute Information (in order):\n",
      "        - CRIM     per capita crime rate by town\n",
      "        - ZN       proportion of residential land zoned for lots over 25,000 sq.ft.\n",
      "        - INDUS    proportion of non-retail business acres per town\n",
      "        - CHAS     Charles River dummy variable (= 1 if tract bounds river; 0 otherwise)\n",
      "        - NOX      nitric oxides concentration (parts per 10 million)\n",
      "        - RM       average number of rooms per dwelling\n",
      "        - AGE      proportion of owner-occupied units built prior to 1940\n",
      "        - DIS      weighted distances to five Boston employment centres\n",
      "        - RAD      index of accessibility to radial highways\n",
      "        - TAX      full-value property-tax rate per $10,000\n",
      "        - PTRATIO  pupil-teacher ratio by town\n",
      "        - B        1000(Bk - 0.63)^2 where Bk is the proportion of blacks by town\n",
      "        - LSTAT    % lower status of the population\n",
      "        - MEDV     Median value of owner-occupied homes in $1000's\n",
      "\n",
      "    :Missing Attribute Values: None\n",
      "\n"
     ]
    },
    {
     "data": {
      "text/html": [
       "<div>\n",
       "<style scoped>\n",
       "    .dataframe tbody tr th:only-of-type {\n",
       "        vertical-align: middle;\n",
       "    }\n",
       "\n",
       "    .dataframe tbody tr th {\n",
       "        vertical-align: top;\n",
       "    }\n",
       "\n",
       "    .dataframe thead th {\n",
       "        text-align: right;\n",
       "    }\n",
       "</style>\n",
       "<table border=\"1\" class=\"dataframe\">\n",
       "  <thead>\n",
       "    <tr style=\"text-align: right;\">\n",
       "      <th></th>\n",
       "      <th>CRIM</th>\n",
       "      <th>ZN</th>\n",
       "      <th>INDUS</th>\n",
       "      <th>CHAS</th>\n",
       "      <th>NOX</th>\n",
       "      <th>RM</th>\n",
       "      <th>AGE</th>\n",
       "      <th>DIS</th>\n",
       "      <th>RAD</th>\n",
       "      <th>TAX</th>\n",
       "      <th>PTRATIO</th>\n",
       "      <th>B</th>\n",
       "      <th>LSTAT</th>\n",
       "      <th>Price</th>\n",
       "    </tr>\n",
       "  </thead>\n",
       "  <tbody>\n",
       "    <tr>\n",
       "      <th>0</th>\n",
       "      <td>0.00632</td>\n",
       "      <td>18.0</td>\n",
       "      <td>2.31</td>\n",
       "      <td>0.0</td>\n",
       "      <td>0.538</td>\n",
       "      <td>6.575</td>\n",
       "      <td>65.2</td>\n",
       "      <td>4.0900</td>\n",
       "      <td>1.0</td>\n",
       "      <td>296.0</td>\n",
       "      <td>15.3</td>\n",
       "      <td>396.90</td>\n",
       "      <td>4.98</td>\n",
       "      <td>24.0</td>\n",
       "    </tr>\n",
       "    <tr>\n",
       "      <th>1</th>\n",
       "      <td>0.02731</td>\n",
       "      <td>0.0</td>\n",
       "      <td>7.07</td>\n",
       "      <td>0.0</td>\n",
       "      <td>0.469</td>\n",
       "      <td>6.421</td>\n",
       "      <td>78.9</td>\n",
       "      <td>4.9671</td>\n",
       "      <td>2.0</td>\n",
       "      <td>242.0</td>\n",
       "      <td>17.8</td>\n",
       "      <td>396.90</td>\n",
       "      <td>9.14</td>\n",
       "      <td>21.6</td>\n",
       "    </tr>\n",
       "    <tr>\n",
       "      <th>2</th>\n",
       "      <td>0.02729</td>\n",
       "      <td>0.0</td>\n",
       "      <td>7.07</td>\n",
       "      <td>0.0</td>\n",
       "      <td>0.469</td>\n",
       "      <td>7.185</td>\n",
       "      <td>61.1</td>\n",
       "      <td>4.9671</td>\n",
       "      <td>2.0</td>\n",
       "      <td>242.0</td>\n",
       "      <td>17.8</td>\n",
       "      <td>392.83</td>\n",
       "      <td>4.03</td>\n",
       "      <td>34.7</td>\n",
       "    </tr>\n",
       "    <tr>\n",
       "      <th>3</th>\n",
       "      <td>0.03237</td>\n",
       "      <td>0.0</td>\n",
       "      <td>2.18</td>\n",
       "      <td>0.0</td>\n",
       "      <td>0.458</td>\n",
       "      <td>6.998</td>\n",
       "      <td>45.8</td>\n",
       "      <td>6.0622</td>\n",
       "      <td>3.0</td>\n",
       "      <td>222.0</td>\n",
       "      <td>18.7</td>\n",
       "      <td>394.63</td>\n",
       "      <td>2.94</td>\n",
       "      <td>33.4</td>\n",
       "    </tr>\n",
       "    <tr>\n",
       "      <th>4</th>\n",
       "      <td>0.06905</td>\n",
       "      <td>0.0</td>\n",
       "      <td>2.18</td>\n",
       "      <td>0.0</td>\n",
       "      <td>0.458</td>\n",
       "      <td>7.147</td>\n",
       "      <td>54.2</td>\n",
       "      <td>6.0622</td>\n",
       "      <td>3.0</td>\n",
       "      <td>222.0</td>\n",
       "      <td>18.7</td>\n",
       "      <td>396.90</td>\n",
       "      <td>5.33</td>\n",
       "      <td>36.2</td>\n",
       "    </tr>\n",
       "  </tbody>\n",
       "</table>\n",
       "</div>"
      ],
      "text/plain": [
       "      CRIM    ZN  INDUS  CHAS    NOX     RM   AGE     DIS  RAD    TAX  \\\n",
       "0  0.00632  18.0   2.31   0.0  0.538  6.575  65.2  4.0900  1.0  296.0   \n",
       "1  0.02731   0.0   7.07   0.0  0.469  6.421  78.9  4.9671  2.0  242.0   \n",
       "2  0.02729   0.0   7.07   0.0  0.469  7.185  61.1  4.9671  2.0  242.0   \n",
       "3  0.03237   0.0   2.18   0.0  0.458  6.998  45.8  6.0622  3.0  222.0   \n",
       "4  0.06905   0.0   2.18   0.0  0.458  7.147  54.2  6.0622  3.0  222.0   \n",
       "\n",
       "   PTRATIO       B  LSTAT  Price  \n",
       "0     15.3  396.90   4.98   24.0  \n",
       "1     17.8  396.90   9.14   21.6  \n",
       "2     17.8  392.83   4.03   34.7  \n",
       "3     18.7  394.63   2.94   33.4  \n",
       "4     18.7  396.90   5.33   36.2  "
      ]
     },
     "execution_count": 4,
     "metadata": {},
     "output_type": "execute_result"
    }
   ],
   "source": [
    "from sklearn.datasets import load_boston\n",
    "\n",
    "boston = load_boston()\n",
    "\n",
    "for line in boston.DESCR.split(\"\\n\")[5:29]:\n",
    "    print(line)\n",
    "\n",
    "boston_df = pd.DataFrame(data=boston.data, columns = boston.feature_names)\n",
    "boston_df[\"Price\"] = boston.target\n",
    "\n",
    "boston_df.head()"
   ]
  },
  {
   "cell_type": "markdown",
   "id": "2fd06824",
   "metadata": {},
   "source": [
    "### Breast Cancer Dataset"
   ]
  },
  {
   "cell_type": "code",
   "execution_count": 5,
   "id": "727b8162",
   "metadata": {},
   "outputs": [
    {
     "name": "stdout",
     "output_type": "stream",
     "text": [
      "**Data Set Characteristics:**\n",
      "\n",
      "    :Number of Instances: 569\n",
      "\n",
      "    :Number of Attributes: 30 numeric, predictive attributes and the class\n",
      "\n",
      "    :Attribute Information:\n",
      "        - radius (mean of distances from center to points on the perimeter)\n",
      "        - texture (standard deviation of gray-scale values)\n",
      "        - perimeter\n",
      "        - area\n",
      "        - smoothness (local variation in radius lengths)\n",
      "        - compactness (perimeter^2 / area - 1.0)\n",
      "        - concavity (severity of concave portions of the contour)\n",
      "        - concave points (number of concave portions of the contour)\n",
      "        - symmetry\n",
      "        - fractal dimension (\"coastline approximation\" - 1)\n",
      "\n",
      "        The mean, standard error, and \"worst\" or largest (mean of the three\n",
      "        worst/largest values) of these features were computed for each image,\n",
      "        resulting in 30 features.  For instance, field 0 is Mean Radius, field\n",
      "        10 is Radius SE, field 20 is Worst Radius.\n",
      "\n",
      "        - class:\n",
      "                - WDBC-Malignant\n",
      "                - WDBC-Benign\n"
     ]
    },
    {
     "data": {
      "text/html": [
       "<div>\n",
       "<style scoped>\n",
       "    .dataframe tbody tr th:only-of-type {\n",
       "        vertical-align: middle;\n",
       "    }\n",
       "\n",
       "    .dataframe tbody tr th {\n",
       "        vertical-align: top;\n",
       "    }\n",
       "\n",
       "    .dataframe thead th {\n",
       "        text-align: right;\n",
       "    }\n",
       "</style>\n",
       "<table border=\"1\" class=\"dataframe\">\n",
       "  <thead>\n",
       "    <tr style=\"text-align: right;\">\n",
       "      <th></th>\n",
       "      <th>mean radius</th>\n",
       "      <th>mean texture</th>\n",
       "      <th>mean perimeter</th>\n",
       "      <th>mean area</th>\n",
       "      <th>mean smoothness</th>\n",
       "      <th>mean compactness</th>\n",
       "      <th>mean concavity</th>\n",
       "      <th>mean concave points</th>\n",
       "      <th>mean symmetry</th>\n",
       "      <th>mean fractal dimension</th>\n",
       "      <th>radius error</th>\n",
       "      <th>texture error</th>\n",
       "      <th>perimeter error</th>\n",
       "      <th>area error</th>\n",
       "      <th>smoothness error</th>\n",
       "      <th>compactness error</th>\n",
       "      <th>concavity error</th>\n",
       "      <th>concave points error</th>\n",
       "      <th>symmetry error</th>\n",
       "      <th>fractal dimension error</th>\n",
       "      <th>worst radius</th>\n",
       "      <th>worst texture</th>\n",
       "      <th>worst perimeter</th>\n",
       "      <th>worst area</th>\n",
       "      <th>worst smoothness</th>\n",
       "      <th>worst compactness</th>\n",
       "      <th>worst concavity</th>\n",
       "      <th>worst concave points</th>\n",
       "      <th>worst symmetry</th>\n",
       "      <th>worst fractal dimension</th>\n",
       "      <th>TumorType</th>\n",
       "    </tr>\n",
       "  </thead>\n",
       "  <tbody>\n",
       "    <tr>\n",
       "      <th>0</th>\n",
       "      <td>17.99</td>\n",
       "      <td>10.38</td>\n",
       "      <td>122.80</td>\n",
       "      <td>1001.0</td>\n",
       "      <td>0.11840</td>\n",
       "      <td>0.27760</td>\n",
       "      <td>0.3001</td>\n",
       "      <td>0.14710</td>\n",
       "      <td>0.2419</td>\n",
       "      <td>0.07871</td>\n",
       "      <td>1.0950</td>\n",
       "      <td>0.9053</td>\n",
       "      <td>8.589</td>\n",
       "      <td>153.40</td>\n",
       "      <td>0.006399</td>\n",
       "      <td>0.04904</td>\n",
       "      <td>0.05373</td>\n",
       "      <td>0.01587</td>\n",
       "      <td>0.03003</td>\n",
       "      <td>0.006193</td>\n",
       "      <td>25.38</td>\n",
       "      <td>17.33</td>\n",
       "      <td>184.60</td>\n",
       "      <td>2019.0</td>\n",
       "      <td>0.1622</td>\n",
       "      <td>0.6656</td>\n",
       "      <td>0.7119</td>\n",
       "      <td>0.2654</td>\n",
       "      <td>0.4601</td>\n",
       "      <td>0.11890</td>\n",
       "      <td>0</td>\n",
       "    </tr>\n",
       "    <tr>\n",
       "      <th>1</th>\n",
       "      <td>20.57</td>\n",
       "      <td>17.77</td>\n",
       "      <td>132.90</td>\n",
       "      <td>1326.0</td>\n",
       "      <td>0.08474</td>\n",
       "      <td>0.07864</td>\n",
       "      <td>0.0869</td>\n",
       "      <td>0.07017</td>\n",
       "      <td>0.1812</td>\n",
       "      <td>0.05667</td>\n",
       "      <td>0.5435</td>\n",
       "      <td>0.7339</td>\n",
       "      <td>3.398</td>\n",
       "      <td>74.08</td>\n",
       "      <td>0.005225</td>\n",
       "      <td>0.01308</td>\n",
       "      <td>0.01860</td>\n",
       "      <td>0.01340</td>\n",
       "      <td>0.01389</td>\n",
       "      <td>0.003532</td>\n",
       "      <td>24.99</td>\n",
       "      <td>23.41</td>\n",
       "      <td>158.80</td>\n",
       "      <td>1956.0</td>\n",
       "      <td>0.1238</td>\n",
       "      <td>0.1866</td>\n",
       "      <td>0.2416</td>\n",
       "      <td>0.1860</td>\n",
       "      <td>0.2750</td>\n",
       "      <td>0.08902</td>\n",
       "      <td>0</td>\n",
       "    </tr>\n",
       "    <tr>\n",
       "      <th>2</th>\n",
       "      <td>19.69</td>\n",
       "      <td>21.25</td>\n",
       "      <td>130.00</td>\n",
       "      <td>1203.0</td>\n",
       "      <td>0.10960</td>\n",
       "      <td>0.15990</td>\n",
       "      <td>0.1974</td>\n",
       "      <td>0.12790</td>\n",
       "      <td>0.2069</td>\n",
       "      <td>0.05999</td>\n",
       "      <td>0.7456</td>\n",
       "      <td>0.7869</td>\n",
       "      <td>4.585</td>\n",
       "      <td>94.03</td>\n",
       "      <td>0.006150</td>\n",
       "      <td>0.04006</td>\n",
       "      <td>0.03832</td>\n",
       "      <td>0.02058</td>\n",
       "      <td>0.02250</td>\n",
       "      <td>0.004571</td>\n",
       "      <td>23.57</td>\n",
       "      <td>25.53</td>\n",
       "      <td>152.50</td>\n",
       "      <td>1709.0</td>\n",
       "      <td>0.1444</td>\n",
       "      <td>0.4245</td>\n",
       "      <td>0.4504</td>\n",
       "      <td>0.2430</td>\n",
       "      <td>0.3613</td>\n",
       "      <td>0.08758</td>\n",
       "      <td>0</td>\n",
       "    </tr>\n",
       "    <tr>\n",
       "      <th>3</th>\n",
       "      <td>11.42</td>\n",
       "      <td>20.38</td>\n",
       "      <td>77.58</td>\n",
       "      <td>386.1</td>\n",
       "      <td>0.14250</td>\n",
       "      <td>0.28390</td>\n",
       "      <td>0.2414</td>\n",
       "      <td>0.10520</td>\n",
       "      <td>0.2597</td>\n",
       "      <td>0.09744</td>\n",
       "      <td>0.4956</td>\n",
       "      <td>1.1560</td>\n",
       "      <td>3.445</td>\n",
       "      <td>27.23</td>\n",
       "      <td>0.009110</td>\n",
       "      <td>0.07458</td>\n",
       "      <td>0.05661</td>\n",
       "      <td>0.01867</td>\n",
       "      <td>0.05963</td>\n",
       "      <td>0.009208</td>\n",
       "      <td>14.91</td>\n",
       "      <td>26.50</td>\n",
       "      <td>98.87</td>\n",
       "      <td>567.7</td>\n",
       "      <td>0.2098</td>\n",
       "      <td>0.8663</td>\n",
       "      <td>0.6869</td>\n",
       "      <td>0.2575</td>\n",
       "      <td>0.6638</td>\n",
       "      <td>0.17300</td>\n",
       "      <td>0</td>\n",
       "    </tr>\n",
       "    <tr>\n",
       "      <th>4</th>\n",
       "      <td>20.29</td>\n",
       "      <td>14.34</td>\n",
       "      <td>135.10</td>\n",
       "      <td>1297.0</td>\n",
       "      <td>0.10030</td>\n",
       "      <td>0.13280</td>\n",
       "      <td>0.1980</td>\n",
       "      <td>0.10430</td>\n",
       "      <td>0.1809</td>\n",
       "      <td>0.05883</td>\n",
       "      <td>0.7572</td>\n",
       "      <td>0.7813</td>\n",
       "      <td>5.438</td>\n",
       "      <td>94.44</td>\n",
       "      <td>0.011490</td>\n",
       "      <td>0.02461</td>\n",
       "      <td>0.05688</td>\n",
       "      <td>0.01885</td>\n",
       "      <td>0.01756</td>\n",
       "      <td>0.005115</td>\n",
       "      <td>22.54</td>\n",
       "      <td>16.67</td>\n",
       "      <td>152.20</td>\n",
       "      <td>1575.0</td>\n",
       "      <td>0.1374</td>\n",
       "      <td>0.2050</td>\n",
       "      <td>0.4000</td>\n",
       "      <td>0.1625</td>\n",
       "      <td>0.2364</td>\n",
       "      <td>0.07678</td>\n",
       "      <td>0</td>\n",
       "    </tr>\n",
       "  </tbody>\n",
       "</table>\n",
       "</div>"
      ],
      "text/plain": [
       "   mean radius  mean texture  mean perimeter  mean area  mean smoothness  \\\n",
       "0        17.99         10.38          122.80     1001.0          0.11840   \n",
       "1        20.57         17.77          132.90     1326.0          0.08474   \n",
       "2        19.69         21.25          130.00     1203.0          0.10960   \n",
       "3        11.42         20.38           77.58      386.1          0.14250   \n",
       "4        20.29         14.34          135.10     1297.0          0.10030   \n",
       "\n",
       "   mean compactness  mean concavity  mean concave points  mean symmetry  \\\n",
       "0           0.27760          0.3001              0.14710         0.2419   \n",
       "1           0.07864          0.0869              0.07017         0.1812   \n",
       "2           0.15990          0.1974              0.12790         0.2069   \n",
       "3           0.28390          0.2414              0.10520         0.2597   \n",
       "4           0.13280          0.1980              0.10430         0.1809   \n",
       "\n",
       "   mean fractal dimension  radius error  texture error  perimeter error  \\\n",
       "0                 0.07871        1.0950         0.9053            8.589   \n",
       "1                 0.05667        0.5435         0.7339            3.398   \n",
       "2                 0.05999        0.7456         0.7869            4.585   \n",
       "3                 0.09744        0.4956         1.1560            3.445   \n",
       "4                 0.05883        0.7572         0.7813            5.438   \n",
       "\n",
       "   area error  smoothness error  compactness error  concavity error  \\\n",
       "0      153.40          0.006399            0.04904          0.05373   \n",
       "1       74.08          0.005225            0.01308          0.01860   \n",
       "2       94.03          0.006150            0.04006          0.03832   \n",
       "3       27.23          0.009110            0.07458          0.05661   \n",
       "4       94.44          0.011490            0.02461          0.05688   \n",
       "\n",
       "   concave points error  symmetry error  fractal dimension error  \\\n",
       "0               0.01587         0.03003                 0.006193   \n",
       "1               0.01340         0.01389                 0.003532   \n",
       "2               0.02058         0.02250                 0.004571   \n",
       "3               0.01867         0.05963                 0.009208   \n",
       "4               0.01885         0.01756                 0.005115   \n",
       "\n",
       "   worst radius  worst texture  worst perimeter  worst area  worst smoothness  \\\n",
       "0         25.38          17.33           184.60      2019.0            0.1622   \n",
       "1         24.99          23.41           158.80      1956.0            0.1238   \n",
       "2         23.57          25.53           152.50      1709.0            0.1444   \n",
       "3         14.91          26.50            98.87       567.7            0.2098   \n",
       "4         22.54          16.67           152.20      1575.0            0.1374   \n",
       "\n",
       "   worst compactness  worst concavity  worst concave points  worst symmetry  \\\n",
       "0             0.6656           0.7119                0.2654          0.4601   \n",
       "1             0.1866           0.2416                0.1860          0.2750   \n",
       "2             0.4245           0.4504                0.2430          0.3613   \n",
       "3             0.8663           0.6869                0.2575          0.6638   \n",
       "4             0.2050           0.4000                0.1625          0.2364   \n",
       "\n",
       "   worst fractal dimension  TumorType  \n",
       "0                  0.11890          0  \n",
       "1                  0.08902          0  \n",
       "2                  0.08758          0  \n",
       "3                  0.17300          0  \n",
       "4                  0.07678          0  "
      ]
     },
     "execution_count": 5,
     "metadata": {},
     "output_type": "execute_result"
    }
   ],
   "source": [
    "from sklearn.datasets import load_breast_cancer\n",
    "\n",
    "breast_cancer = load_breast_cancer()\n",
    "\n",
    "for line in breast_cancer.DESCR.split(\"\\n\")[5:31]:\n",
    "    print(line)\n",
    "\n",
    "breast_cancer_df = pd.DataFrame(data=breast_cancer.data, columns = breast_cancer.feature_names) # features\n",
    "breast_cancer_df[\"TumorType\"] = breast_cancer.target # target\n",
    "\n",
    "breast_cancer_df.head()"
   ]
  },
  {
   "cell_type": "markdown",
   "id": "fcd9be91",
   "metadata": {},
   "source": [
    "### Wine Dataset"
   ]
  },
  {
   "cell_type": "code",
   "execution_count": 6,
   "id": "ad105d33",
   "metadata": {},
   "outputs": [
    {
     "name": "stdout",
     "output_type": "stream",
     "text": [
      "**Data Set Characteristics:**\n",
      "\n",
      "    :Number of Instances: 178 (50 in each of three classes)\n",
      "    :Number of Attributes: 13 numeric, predictive attributes and the class\n",
      "    :Attribute Information:\n",
      " \t\t- Alcohol\n",
      " \t\t- Malic acid\n",
      " \t\t- Ash\n",
      "\t\t- Alcalinity of ash  \n",
      " \t\t- Magnesium\n",
      "\t\t- Total phenols\n",
      " \t\t- Flavanoids\n",
      " \t\t- Nonflavanoid phenols\n",
      " \t\t- Proanthocyanins\n",
      "\t\t- Color intensity\n",
      " \t\t- Hue\n",
      " \t\t- OD280/OD315 of diluted wines\n",
      " \t\t- Proline\n",
      "\n",
      "    - class:\n",
      "            - class_0\n",
      "            - class_1\n",
      "            - class_2\n",
      "\t\t\n"
     ]
    },
    {
     "data": {
      "text/html": [
       "<div>\n",
       "<style scoped>\n",
       "    .dataframe tbody tr th:only-of-type {\n",
       "        vertical-align: middle;\n",
       "    }\n",
       "\n",
       "    .dataframe tbody tr th {\n",
       "        vertical-align: top;\n",
       "    }\n",
       "\n",
       "    .dataframe thead th {\n",
       "        text-align: right;\n",
       "    }\n",
       "</style>\n",
       "<table border=\"1\" class=\"dataframe\">\n",
       "  <thead>\n",
       "    <tr style=\"text-align: right;\">\n",
       "      <th></th>\n",
       "      <th>alcohol</th>\n",
       "      <th>malic_acid</th>\n",
       "      <th>ash</th>\n",
       "      <th>alcalinity_of_ash</th>\n",
       "      <th>magnesium</th>\n",
       "      <th>total_phenols</th>\n",
       "      <th>flavanoids</th>\n",
       "      <th>nonflavanoid_phenols</th>\n",
       "      <th>proanthocyanins</th>\n",
       "      <th>color_intensity</th>\n",
       "      <th>hue</th>\n",
       "      <th>od280/od315_of_diluted_wines</th>\n",
       "      <th>proline</th>\n",
       "      <th>WineType</th>\n",
       "    </tr>\n",
       "  </thead>\n",
       "  <tbody>\n",
       "    <tr>\n",
       "      <th>0</th>\n",
       "      <td>14.23</td>\n",
       "      <td>1.71</td>\n",
       "      <td>2.43</td>\n",
       "      <td>15.6</td>\n",
       "      <td>127.0</td>\n",
       "      <td>2.80</td>\n",
       "      <td>3.06</td>\n",
       "      <td>0.28</td>\n",
       "      <td>2.29</td>\n",
       "      <td>5.64</td>\n",
       "      <td>1.04</td>\n",
       "      <td>3.92</td>\n",
       "      <td>1065.0</td>\n",
       "      <td>0</td>\n",
       "    </tr>\n",
       "    <tr>\n",
       "      <th>1</th>\n",
       "      <td>13.20</td>\n",
       "      <td>1.78</td>\n",
       "      <td>2.14</td>\n",
       "      <td>11.2</td>\n",
       "      <td>100.0</td>\n",
       "      <td>2.65</td>\n",
       "      <td>2.76</td>\n",
       "      <td>0.26</td>\n",
       "      <td>1.28</td>\n",
       "      <td>4.38</td>\n",
       "      <td>1.05</td>\n",
       "      <td>3.40</td>\n",
       "      <td>1050.0</td>\n",
       "      <td>0</td>\n",
       "    </tr>\n",
       "    <tr>\n",
       "      <th>2</th>\n",
       "      <td>13.16</td>\n",
       "      <td>2.36</td>\n",
       "      <td>2.67</td>\n",
       "      <td>18.6</td>\n",
       "      <td>101.0</td>\n",
       "      <td>2.80</td>\n",
       "      <td>3.24</td>\n",
       "      <td>0.30</td>\n",
       "      <td>2.81</td>\n",
       "      <td>5.68</td>\n",
       "      <td>1.03</td>\n",
       "      <td>3.17</td>\n",
       "      <td>1185.0</td>\n",
       "      <td>0</td>\n",
       "    </tr>\n",
       "    <tr>\n",
       "      <th>3</th>\n",
       "      <td>14.37</td>\n",
       "      <td>1.95</td>\n",
       "      <td>2.50</td>\n",
       "      <td>16.8</td>\n",
       "      <td>113.0</td>\n",
       "      <td>3.85</td>\n",
       "      <td>3.49</td>\n",
       "      <td>0.24</td>\n",
       "      <td>2.18</td>\n",
       "      <td>7.80</td>\n",
       "      <td>0.86</td>\n",
       "      <td>3.45</td>\n",
       "      <td>1480.0</td>\n",
       "      <td>0</td>\n",
       "    </tr>\n",
       "    <tr>\n",
       "      <th>4</th>\n",
       "      <td>13.24</td>\n",
       "      <td>2.59</td>\n",
       "      <td>2.87</td>\n",
       "      <td>21.0</td>\n",
       "      <td>118.0</td>\n",
       "      <td>2.80</td>\n",
       "      <td>2.69</td>\n",
       "      <td>0.39</td>\n",
       "      <td>1.82</td>\n",
       "      <td>4.32</td>\n",
       "      <td>1.04</td>\n",
       "      <td>2.93</td>\n",
       "      <td>735.0</td>\n",
       "      <td>0</td>\n",
       "    </tr>\n",
       "  </tbody>\n",
       "</table>\n",
       "</div>"
      ],
      "text/plain": [
       "   alcohol  malic_acid   ash  alcalinity_of_ash  magnesium  total_phenols  \\\n",
       "0    14.23        1.71  2.43               15.6      127.0           2.80   \n",
       "1    13.20        1.78  2.14               11.2      100.0           2.65   \n",
       "2    13.16        2.36  2.67               18.6      101.0           2.80   \n",
       "3    14.37        1.95  2.50               16.8      113.0           3.85   \n",
       "4    13.24        2.59  2.87               21.0      118.0           2.80   \n",
       "\n",
       "   flavanoids  nonflavanoid_phenols  proanthocyanins  color_intensity   hue  \\\n",
       "0        3.06                  0.28             2.29             5.64  1.04   \n",
       "1        2.76                  0.26             1.28             4.38  1.05   \n",
       "2        3.24                  0.30             2.81             5.68  1.03   \n",
       "3        3.49                  0.24             2.18             7.80  0.86   \n",
       "4        2.69                  0.39             1.82             4.32  1.04   \n",
       "\n",
       "   od280/od315_of_diluted_wines  proline  WineType  \n",
       "0                          3.92   1065.0         0  \n",
       "1                          3.40   1050.0         0  \n",
       "2                          3.17   1185.0         0  \n",
       "3                          3.45   1480.0         0  \n",
       "4                          2.93    735.0         0  "
      ]
     },
     "execution_count": 6,
     "metadata": {},
     "output_type": "execute_result"
    }
   ],
   "source": [
    "from sklearn.datasets import load_wine\n",
    "\n",
    "wine = load_wine()\n",
    "\n",
    "for line in wine.DESCR.split(\"\\n\")[5:29]:\n",
    "    print(line)\n",
    "\n",
    "wine_df = pd.DataFrame(data=wine.data, columns = wine.feature_names) # features\n",
    "wine_df[\"WineType\"] = wine.target # target\n",
    "\n",
    "wine_df.head()"
   ]
  },
  {
   "cell_type": "markdown",
   "id": "f8b324fc",
   "metadata": {},
   "source": [
    "## train()\n",
    "\n",
    "The simplest way to create an estimator in lightgbm is by using the train() method. It takes as input estimator parameter as dictionary and training dataset. It then trains the estimator and returns an object of type Booster which is a trained estimator that can be used to make future predictions.\n",
    "\n",
    "Below are some of the important parameters of the train() method.\n",
    "\n",
    "- params - This parameter accepts dictionary specifying parameters of gradient boosted decision trees algorithm. We just need to provide an objective function to get started with based on the type of problem (classification/regression). We'll later explain a commonly used list of parameters that can be passed to this dictionary.\n",
    "- train_set - This parameter accepts lightgbm Dataset object which holds information about feature values and target values. It's an internal data structure designed by lightgbm to wrap data.\n",
    "- num_boost_round - It specifies the number of booting trees that will be used in the ensemble. The group of gradient boosted trees is called ensemble to whom we generally refer as an estimator. The default value is 100.\n",
    "- valid_sets - It accepts list of Dataset objects which as validation sets. These validation sets will be evaluated after each training round.\n",
    "- valid_names - It accepts a list of strings of the same length as that of valid_sets specifying names for each validation set. These names will be used when printing evaluation metrics for these datasets as well as when plotting them.\n",
    "- categorical_feature - It accepts list of strings/ints or string auto. If we give a list of strings/ints then those columns from the dataset will be treated as categorical columns.\n",
    "- verbose_eval - It accepts bool or int as value. If we set the value to False or 0 then it won't print metrics evaluation results calculated on validation sets that we passed. If we pass True then it'll print results for each round. If we pass an integer greater than 1 then it'll print results repeatedly after that many rounds."
   ]
  },
  {
   "cell_type": "markdown",
   "id": "056f5a4d",
   "metadata": {},
   "source": [
    "## Dataset\n",
    "\n",
    "The dataset is a lightgbm internal data structure for holding data and labels. Below are important parameters of the class.\n",
    "\n",
    "- data - It accepts numpy array, pandas dataframe, scipy sparse matrix, list of numpy arrays, h2o data table’s frame as input holding feature values.\n",
    "- label - It accepts numpy array, pandas series, pandas one column dataframe specifying target values. We can even set this parameter to None if we don't have target values. The default is None.\n",
    "- feature_name - It accepts a list of strings specifying feature names.\n",
    "- categorical_feature - It has the same meaning as that mentioned in the train() method parameter above. We can handle categorical feature here or in that method."
   ]
  },
  {
   "cell_type": "markdown",
   "id": "47e5eaa2",
   "metadata": {},
   "source": [
    "## Regression\n",
    "\n",
    "The first problem that we'll solve using lightgbm is a simple regression problem using the Boston housing dataset which we loaded earlier. We have divided the dataset into train/test sets and created a Dataset instance out of them. We have then called the lightgbm.train() method giving it train and validation set. We have set the number of boosting rounds to 10 hence it'll create 10 boosted trees to solve the problem. After training completes, it'll return an instance of type Booster which we can later use to make future predictions on the dataset. As we have given the validation set as input, it'll print the validation l2 score after each iteration of training. Please make a note that by default lightgbm minimizes l2 loss for regression problems."
   ]
  },
  {
   "cell_type": "code",
   "execution_count": 9,
   "id": "69f8978f",
   "metadata": {},
   "outputs": [
    {
     "name": "stdout",
     "output_type": "stream",
     "text": [
      "Train/Test Sizes :  (379, 13) (127, 13) (379,) (127,)\n",
      "[LightGBM] [Warning] Auto-choosing row-wise multi-threading, the overhead of testing was 0.000787 seconds.\n",
      "You can set `force_row_wise=true` to remove the overhead.\n",
      "And if memory is not enough, you can set `force_col_wise=true`.\n",
      "[LightGBM] [Info] Total Bins 972\n",
      "[LightGBM] [Info] Number of data points in the train set: 379, number of used features: 13\n",
      "[LightGBM] [Info] Start training from score 22.341689\n",
      "[LightGBM] [Warning] No further splits with positive gain, best gain: -inf\n",
      "[1]\tvalid_0's l2: 87.0145\n",
      "[LightGBM] [Warning] No further splits with positive gain, best gain: -inf\n",
      "[2]\tvalid_0's l2: 73.8937\n",
      "[LightGBM] [Warning] No further splits with positive gain, best gain: -inf\n",
      "[3]\tvalid_0's l2: 63.2678\n",
      "[LightGBM] [Warning] No further splits with positive gain, best gain: -inf\n",
      "[4]\tvalid_0's l2: 54.1019\n",
      "[LightGBM] [Warning] No further splits with positive gain, best gain: -inf\n",
      "[5]\tvalid_0's l2: 46.8454\n",
      "[LightGBM] [Warning] No further splits with positive gain, best gain: -inf\n",
      "[6]\tvalid_0's l2: 40.5635\n",
      "[LightGBM] [Warning] No further splits with positive gain, best gain: -inf\n",
      "[7]\tvalid_0's l2: 35.9496\n",
      "[LightGBM] [Warning] No further splits with positive gain, best gain: -inf\n",
      "[8]\tvalid_0's l2: 31.592\n",
      "[LightGBM] [Warning] No further splits with positive gain, best gain: -inf\n",
      "[9]\tvalid_0's l2: 28.7453\n",
      "[LightGBM] [Warning] No further splits with positive gain, best gain: -inf\n",
      "[10]\tvalid_0's l2: 26.1055\n"
     ]
    }
   ],
   "source": [
    "from sklearn.model_selection import train_test_split\n",
    "\n",
    "# Split the data\n",
    "X_train, X_test, Y_train, Y_test = train_test_split(boston.data, boston.target)\n",
    "\n",
    "print(\"Train/Test Sizes : \", X_train.shape, X_test.shape, Y_train.shape, Y_test.shape)\n",
    "\n",
    "# Pool the data into training set & test set\n",
    "train_dataset = lgb.Dataset(X_train, Y_train, feature_name=boston.feature_names.tolist())\n",
    "test_dataset = lgb.Dataset(X_test, Y_test, feature_name=boston.feature_names.tolist())\n",
    "\n",
    "# Build the model\n",
    "booster = lgb.train({'objective': 'regression'},\n",
    "                   train_set=train_dataset,\n",
    "                   valid_sets=test_dataset,\n",
    "                   num_boost_round=10)"
   ]
  },
  {
   "cell_type": "code",
   "execution_count": 11,
   "id": "7b5450fa",
   "metadata": {},
   "outputs": [
    {
     "name": "stdout",
     "output_type": "stream",
     "text": [
      "\n",
      "Test  R2 Score : 0.75\n",
      "Train R2 Score : 0.72\n"
     ]
    }
   ],
   "source": [
    "from sklearn.metrics import r2_score\n",
    "\n",
    "# make predictions\n",
    "test_preds = booster.predict(X_test)\n",
    "train_preds = booster.predict(X_train)\n",
    "\n",
    "# Calculate the metrics\n",
    "print(\"\\nTest  R2 Score : %.2f\"%r2_score(Y_test, test_preds))\n",
    "print(\"Train R2 Score : %.2f\"%r2_score(Y_train, train_preds))"
   ]
  },
  {
   "cell_type": "code",
   "execution_count": 12,
   "id": "a8fc1464",
   "metadata": {},
   "outputs": [
    {
     "name": "stdout",
     "output_type": "stream",
     "text": [
      "Shape :  (127, 10)\n"
     ]
    },
    {
     "data": {
      "text/plain": [
       "array([[ 7,  7, 10, ..., 10,  6, 10],\n",
       "       [11, 13, 13, ...,  1,  9,  8],\n",
       "       [ 7,  7,  3, ..., 10,  2, 10],\n",
       "       ...,\n",
       "       [ 6, 11,  6, ...,  3,  1,  3],\n",
       "       [ 7,  7, 10, ...,  7, 13,  5],\n",
       "       [ 0,  4,  4, ...,  9,  3,  8]], dtype=int32)"
      ]
     },
     "execution_count": 12,
     "metadata": {},
     "output_type": "execute_result"
    }
   ],
   "source": [
    "# pred_leaf accepts boolean values \n",
    "# if set to True will return an index of leaf in each tree that was predicted for a particular sample \n",
    "# The size of the output will be n_samples x n_trees\n",
    "\n",
    "idxs = booster.predict(X_test, pred_leaf=True)\n",
    "\n",
    "print(\"Shape : \", idxs.shape)\n",
    "\n",
    "idxs"
   ]
  },
  {
   "cell_type": "code",
   "execution_count": 14,
   "id": "845417e3",
   "metadata": {},
   "outputs": [
    {
     "name": "stdout",
     "output_type": "stream",
     "text": [
      "Shape :  (127, 14)\n",
      "\n",
      "Shap Values of 0th Sample :  [-3.23954207e-01  0.00000000e+00 -4.83995948e-03  0.00000000e+00\n",
      "  9.86231262e-02 -1.10481955e+00 -6.21180186e-03 -5.70020434e-01\n",
      "  1.07277866e-01 -4.46355298e-02 -1.17184525e-01 -1.02602359e-02\n",
      " -5.11159462e+00  2.23416887e+01]\n",
      "\n",
      "Prediction of 0th using SHAP Values :  15.25406879827502\n",
      "Actual Prediction of 0th Sample     :  15.254068798275018\n"
     ]
    }
   ],
   "source": [
    "# pred_contrib returns an array of features contribution for each sample. \n",
    "# It'll return an array of size (n_features + 1) for each sample of data \n",
    "# where the last value is the expected value and the first n_features values are the contribution of features. \n",
    "# We can add the contribution of each feature to the last expected value and we'll get an actual prediction. \n",
    "# It's commonly referred to as SHAP values.\n",
    "\n",
    "shap_vals = booster.predict(X_test, pred_contrib=True)\n",
    "\n",
    "print(\"Shape : \", shap_vals.shape)\n",
    "\n",
    "print(\"\\nShap Values of 0th Sample : \", shap_vals[0])\n",
    "print(\"\\nPrediction of 0th using SHAP Values : \", shap_vals[0].sum())\n",
    "print(\"Actual Prediction of 0th Sample     : \", test_preds[0])"
   ]
  },
  {
   "cell_type": "code",
   "execution_count": 15,
   "id": "e5ef35dc",
   "metadata": {},
   "outputs": [
    {
     "data": {
      "text/plain": [
       "10"
      ]
     },
     "execution_count": 15,
     "metadata": {},
     "output_type": "execute_result"
    }
   ],
   "source": [
    "# Get a number of trees in the ensemble\n",
    "booster.num_trees()"
   ]
  },
  {
   "cell_type": "code",
   "execution_count": 19,
   "id": "c1d5ada5",
   "metadata": {},
   "outputs": [
    {
     "data": {
      "text/plain": [
       "array([ 2760.06980801,     0.        ,   766.4780941 ,     0.        ,\n",
       "        1545.68559074, 41160.03977966,   249.85597229,  3443.557127  ,\n",
       "         309.67120171,   777.44651413,   610.13279057,   138.16349983,\n",
       "       61125.01821709])"
      ]
     },
     "execution_count": 19,
     "metadata": {},
     "output_type": "execute_result"
    }
   ],
   "source": [
    "# Return the importance of features based on gain and split values of the trees.\n",
    "booster.feature_importance(importance_type=\"gain\")"
   ]
  },
  {
   "cell_type": "code",
   "execution_count": 20,
   "id": "3c43801c",
   "metadata": {},
   "outputs": [
    {
     "data": {
      "text/plain": [
       "array([20,  0,  4,  0, 10, 22,  8, 14,  6,  8,  7,  3, 40], dtype=int32)"
      ]
     },
     "execution_count": 20,
     "metadata": {},
     "output_type": "execute_result"
    }
   ],
   "source": [
    "booster.feature_importance(importance_type=\"split\")\n"
   ]
  },
  {
   "cell_type": "markdown",
   "id": "e2e05f95",
   "metadata": {},
   "source": [
    "## Binary Classification"
   ]
  },
  {
   "cell_type": "markdown",
   "id": "159ec4b8",
   "metadata": {},
   "source": [
    "In this section, we have explained how we can use the train() method to create a booster for a binary classification problem. We are training the model on the breast cancer dataset and later evaluating the accuracy of it using a metric from sklearn. We have set an objective to binary for informing the train() method that we'll be giving data for binary classification problem. We have also set the verbosity parameter value to -1 in order to prevent training messages. It'll still print validation set evaluation results which can be turned off by setting the verbose_eval parameter to False.\n",
    "\n",
    "Please make a note that for classification problems predict() method of booster return probabilities. We have included logic to convert probabilities to the target class.\n",
    "\n",
    "LightGBM evaluates binary log loss function by default on the validation set for binary classification problems. We can give the metric parameter in the dictionary which we are giving to the train() method with any metric names available with lightgbm and it'll evaluate that metric. We'll later explain the list of available metrics with lightgbm."
   ]
  },
  {
   "cell_type": "code",
   "execution_count": 21,
   "id": "a8be619a",
   "metadata": {},
   "outputs": [
    {
     "name": "stdout",
     "output_type": "stream",
     "text": [
      "Train/Test Sizes :  (426, 30) (143, 30) (426,) (143,)\n"
     ]
    }
   ],
   "source": [
    "from sklearn.model_selection import train_test_split\n",
    "\n",
    "# split the breast cancer dataset\n",
    "X_train, X_test, Y_train, Y_test = train_test_split(breast_cancer.data, breast_cancer.target)\n",
    "\n",
    "print(\"Train/Test Sizes : \", X_train.shape, X_test.shape, Y_train.shape, Y_test.shape)"
   ]
  },
  {
   "cell_type": "code",
   "execution_count": 22,
   "id": "6a2c3e55",
   "metadata": {},
   "outputs": [],
   "source": [
    "train_dataset = lgb.Dataset(X_train, Y_train, feature_name=breast_cancer.feature_names.tolist())\n",
    "test_dataset = lgb.Dataset(X_test, Y_test, feature_name=breast_cancer.feature_names.tolist())"
   ]
  },
  {
   "cell_type": "code",
   "execution_count": 23,
   "id": "7584fc77",
   "metadata": {},
   "outputs": [
    {
     "name": "stdout",
     "output_type": "stream",
     "text": [
      "[1]\tvalid_0's binary_logloss: 0.568447\n",
      "[2]\tvalid_0's binary_logloss: 0.510434\n",
      "[3]\tvalid_0's binary_logloss: 0.459273\n",
      "[4]\tvalid_0's binary_logloss: 0.416297\n",
      "[5]\tvalid_0's binary_logloss: 0.381285\n",
      "[6]\tvalid_0's binary_logloss: 0.347548\n",
      "[7]\tvalid_0's binary_logloss: 0.319352\n",
      "[8]\tvalid_0's binary_logloss: 0.293637\n",
      "[9]\tvalid_0's binary_logloss: 0.272446\n",
      "[10]\tvalid_0's binary_logloss: 0.253529\n"
     ]
    }
   ],
   "source": [
    "# Create a binary classification model\n",
    "booster = lgb.train({'objective':'binary', 'verbosity':-1},\n",
    "                   train_set=train_dataset,\n",
    "                   valid_sets=test_dataset,\n",
    "                   num_boost_round=10)"
   ]
  },
  {
   "cell_type": "code",
   "execution_count": 24,
   "id": "ab8883fe",
   "metadata": {},
   "outputs": [
    {
     "name": "stdout",
     "output_type": "stream",
     "text": [
      "\n",
      " Test  Accuracy Score : 0.97\n",
      "Train Accuracy Score : 0.99\n"
     ]
    }
   ],
   "source": [
    "from sklearn.metrics import accuracy_score\n",
    "\n",
    "# Get the predictions\n",
    "test_preds = booster.predict(X_test)\n",
    "train_preds = booster.predict(X_train)\n",
    "\n",
    "# Change the probs into binary classes 1 or 0\n",
    "test_preds = [1 if pred > 0.5 else 0 for pred in test_preds]\n",
    "train_preds = [1 if pred > 0.5 else 0 for pred in train_preds]\n",
    "\n",
    "# Calculate the metrics\n",
    "print(\"\\n Test  Accuracy Score : %.2f\"%accuracy_score(Y_test, test_preds))\n",
    "print(\"Train Accuracy Score : %.2f\"%accuracy_score(Y_train, train_preds))"
   ]
  },
  {
   "cell_type": "markdown",
   "id": "e89f92d5",
   "metadata": {},
   "source": [
    "## MultiClass Classification"
   ]
  },
  {
   "cell_type": "markdown",
   "id": "5316f9ff",
   "metadata": {},
   "source": [
    "As a part of this section, we have explained how we can use the train() method for multi-class classification problems. We are using it on the wine dataset which has three different types of wine as the target variable. We have set an objective function to multiclass. We need to provide the num_class parameter with an integer specifying a number of classes whenever we are using the method for multi-class classification problems.\n",
    "\n",
    "The predict() method returns the probabilities of each class in case of multi-class problems. We have included logic to select the class with maximum probability as a prediction.\n",
    "\n",
    "LightGBM evaluates multi-class log loss function by default on the validation set for binary classification problems."
   ]
  },
  {
   "cell_type": "code",
   "execution_count": 25,
   "id": "a3bedc24",
   "metadata": {},
   "outputs": [
    {
     "name": "stdout",
     "output_type": "stream",
     "text": [
      "Train/Test Sizes :  (133, 13) (45, 13) (133,) (45,)\n"
     ]
    }
   ],
   "source": [
    "from sklearn.model_selection import train_test_split\n",
    "\n",
    "# Split the wine dataset\n",
    "X_train, X_test, Y_train, Y_test = train_test_split(wine.data, wine.target)\n",
    "\n",
    "print(\"Train/Test Sizes : \", X_train.shape, X_test.shape, Y_train.shape, Y_test.shape)"
   ]
  },
  {
   "cell_type": "code",
   "execution_count": 26,
   "id": "932bea1f",
   "metadata": {},
   "outputs": [],
   "source": [
    "train_dataset = lgb.Dataset(X_train, Y_train, feature_name=wine.feature_names)\n",
    "test_dataset = lgb.Dataset(X_test, Y_test, feature_name=wine.feature_names)"
   ]
  },
  {
   "cell_type": "code",
   "execution_count": 29,
   "id": "d26b2d71",
   "metadata": {},
   "outputs": [
    {
     "name": "stdout",
     "output_type": "stream",
     "text": [
      "[1]\tvalid_0's multi_logloss: 0.94095\n",
      "[2]\tvalid_0's multi_logloss: 0.821151\n",
      "[3]\tvalid_0's multi_logloss: 0.727273\n",
      "[4]\tvalid_0's multi_logloss: 0.644224\n",
      "[5]\tvalid_0's multi_logloss: 0.577971\n",
      "[6]\tvalid_0's multi_logloss: 0.521939\n",
      "[7]\tvalid_0's multi_logloss: 0.466891\n",
      "[8]\tvalid_0's multi_logloss: 0.423331\n",
      "[9]\tvalid_0's multi_logloss: 0.382365\n",
      "[10]\tvalid_0's multi_logloss: 0.348977\n"
     ]
    }
   ],
   "source": [
    "# Build a multiclass classification model\n",
    "booster = lgb.train({'objective':'multiclass', 'num_class':3, 'verbosity':-1},\n",
    "                   train_set=train_dataset, valid_sets=test_dataset,\n",
    "                   num_boost_round=10)"
   ]
  },
  {
   "cell_type": "code",
   "execution_count": 30,
   "id": "634fe941",
   "metadata": {},
   "outputs": [
    {
     "name": "stdout",
     "output_type": "stream",
     "text": [
      "\n",
      "Test  Accuracy Score : 0.98\n",
      "Train Accuracy Score : 1.00\n"
     ]
    }
   ],
   "source": [
    "from sklearn.metrics import accuracy_score\n",
    "\n",
    "# Get the predictions\n",
    "test_preds = booster.predict(X_test)\n",
    "train_preds = booster.predict(X_train)\n",
    "\n",
    "# Return the index with the highest probs\n",
    "test_preds = np.argmax(test_preds, axis=1)\n",
    "train_preds = np.argmax(train_preds, axis=1)\n",
    "\n",
    "# Calculate the metrics\n",
    "print(\"\\nTest  Accuracy Score : %.2f\"%accuracy_score(Y_test, test_preds))\n",
    "print(\"Train Accuracy Score : %.2f\"%accuracy_score(Y_train, train_preds))"
   ]
  },
  {
   "cell_type": "markdown",
   "id": "8756496d",
   "metadata": {},
   "source": [
    "## LGBMModel\n"
   ]
  },
  {
   "cell_type": "markdown",
   "id": "bef116cc",
   "metadata": {},
   "source": [
    "LGBMModel class is a wrapper around Booster class that provides scikit-learn like API for training and prediction in lightgbm. It let us create an estimator object with a list of parameters as input. We can then call the fit() method giving train data for training and the predict() method for making a prediction. The parameters which we had given as a dictionary to params parameter of train() can now directly be given to the constructor of LGBMModel to create a model. LGBMModel let us perform both classification and regression tasks by specifying the objective of the task."
   ]
  },
  {
   "cell_type": "markdown",
   "id": "5af8b973",
   "metadata": {},
   "source": [
    "## Regression"
   ]
  },
  {
   "cell_type": "markdown",
   "id": "97231173",
   "metadata": {},
   "source": [
    "Below we have explained with a simple example of how we can use LGBMModel to perform regression tasks with Boston housing data. We have first created an instance of LGBMModel with the objective as regression and number of trees set to 10. The n_estimators parameter is an alias of num_boost_round parameter of train() method.\n",
    "\n",
    "We have then called the fit() method for the training model giving train data to it. Please make a note that it accepts numpy arrays as input and not lightgbm Dataset object. We have also given a dataset to be used as an evaluation set and metrics to be evaluated on the evaluation dataset. The parameter of the fit() method is almost the same as that of the train() method.\n",
    "\n",
    "At last, we have called the predict() method to make predictions."
   ]
  },
  {
   "cell_type": "code",
   "execution_count": 31,
   "id": "0671c105",
   "metadata": {},
   "outputs": [
    {
     "name": "stdout",
     "output_type": "stream",
     "text": [
      "Train/Test Sizes :  (379, 13) (127, 13) (379,) (127,)\n",
      "[1]\tvalid_0's rmse: 9.09388\tvalid_0's l2: 82.6987\n",
      "[2]\tvalid_0's rmse: 8.42901\tvalid_0's l2: 71.0481\n",
      "[3]\tvalid_0's rmse: 7.78787\tvalid_0's l2: 60.6509\n",
      "[4]\tvalid_0's rmse: 7.22399\tvalid_0's l2: 52.186\n",
      "[5]\tvalid_0's rmse: 6.7892\tvalid_0's l2: 46.0933\n",
      "[6]\tvalid_0's rmse: 6.33584\tvalid_0's l2: 40.1429\n",
      "[7]\tvalid_0's rmse: 5.94957\tvalid_0's l2: 35.3974\n",
      "[8]\tvalid_0's rmse: 5.60762\tvalid_0's l2: 31.4454\n",
      "[9]\tvalid_0's rmse: 5.29936\tvalid_0's l2: 28.0832\n",
      "[10]\tvalid_0's rmse: 5.04585\tvalid_0's l2: 25.4606\n",
      "\n",
      "Test  R2 Score : 0.74\n",
      "Train R2 Score : 0.73\n"
     ]
    }
   ],
   "source": [
    "from sklearn.model_selection import train_test_split\n",
    "\n",
    "X_train, X_test, Y_train, Y_test = train_test_split(boston.data, boston.target)\n",
    "\n",
    "print(\"Train/Test Sizes : \", X_train.shape, X_test.shape, Y_train.shape, Y_test.shape)\n",
    "\n",
    "booster = lgb.LGBMModel(objective=\"regression\", n_estimators=10) # Create the model \n",
    "\n",
    "booster.fit(X_train, Y_train, eval_set=[(X_test, Y_test),], eval_metric=\"rmse\") # Fit the data\n",
    "\n",
    "\n",
    "from sklearn.metrics import r2_score\n",
    "\n",
    "test_preds = booster.predict(X_test)\n",
    "train_preds = booster.predict(X_train)\n",
    "\n",
    "print(\"\\nTest  R2 Score : %.2f\"%r2_score(Y_test, test_preds))\n",
    "print(\"Train R2 Score : %.2f\"%r2_score(Y_train, train_preds))"
   ]
  },
  {
   "cell_type": "markdown",
   "id": "6d7af872",
   "metadata": {},
   "source": [
    "## Binary Classification"
   ]
  },
  {
   "cell_type": "markdown",
   "id": "c23845b5",
   "metadata": {},
   "source": [
    "Below we have explained with a simple example of how we can use LGBMModel for classification tasks. We have a trained model with a breast cancer dataset. Please make a note that the predict() method returns probabilities. We have included logic to calculate class from probabilities."
   ]
  },
  {
   "cell_type": "code",
   "execution_count": 32,
   "id": "4ae6de88",
   "metadata": {},
   "outputs": [
    {
     "name": "stdout",
     "output_type": "stream",
     "text": [
      "Train/Test Sizes :  (426, 30) (143, 30) (426,) (143,)\n",
      "[1]\tvalid_0's binary_logloss: 0.574652\n",
      "[2]\tvalid_0's binary_logloss: 0.51434\n",
      "[3]\tvalid_0's binary_logloss: 0.464978\n",
      "[4]\tvalid_0's binary_logloss: 0.426356\n",
      "[5]\tvalid_0's binary_logloss: 0.388081\n",
      "[6]\tvalid_0's binary_logloss: 0.355564\n",
      "[7]\tvalid_0's binary_logloss: 0.327794\n",
      "[8]\tvalid_0's binary_logloss: 0.305711\n",
      "[9]\tvalid_0's binary_logloss: 0.282253\n",
      "[10]\tvalid_0's binary_logloss: 0.262743\n",
      "\n",
      "Test  Accuracy Score : 0.96\n",
      "Train Accuracy Score : 0.98\n"
     ]
    }
   ],
   "source": [
    "from sklearn.model_selection import train_test_split\n",
    "\n",
    "X_train, X_test, Y_train, Y_test = train_test_split(breast_cancer.data, breast_cancer.target)\n",
    "\n",
    "print(\"Train/Test Sizes : \", X_train.shape, X_test.shape, Y_train.shape, Y_test.shape)\n",
    "\n",
    "booster = lgb.LGBMModel(objective=\"binary\", n_estimators=10) # Create the model\n",
    "\n",
    "booster.fit(X_train, Y_train, eval_set=[(X_test, Y_test)]) # Fit the data\n",
    "\n",
    "\n",
    "from sklearn.metrics import accuracy_score\n",
    "\n",
    "test_preds = booster.predict(X_test)\n",
    "train_preds = booster.predict(X_train)\n",
    "\n",
    "test_preds = [1 if pred > 0.5 else 0 for pred in test_preds]\n",
    "train_preds = [1 if pred > 0.5 else 0 for pred in train_preds]\n",
    "\n",
    "print(\"\\nTest  Accuracy Score : %.2f\"%accuracy_score(Y_test, test_preds))\n",
    "print(\"Train Accuracy Score : %.2f\"%accuracy_score(Y_train, train_preds))"
   ]
  },
  {
   "cell_type": "markdown",
   "id": "d6ea64ee",
   "metadata": {},
   "source": [
    "## LGBMRegressor"
   ]
  },
  {
   "cell_type": "markdown",
   "id": "2cd76d65",
   "metadata": {},
   "source": [
    "LGBMRegressor is another wrapper estimator around the Booster class provided by lightgbm which has the same API as that of sklearn estimators. As its name suggests, it’s designed for regression tasks. LGBMRegressor is almost the same as that of LGBMModel with the only difference that it’s designed for only regression tasks. Below we have explained the usage of LGBMRegressor with a simple example using the Boston housing dataset. Please make a note that LGBMRegressor provides the score() method which evaluates the R2 score for us which we used to evaluate using the sklearn metric method till now."
   ]
  },
  {
   "cell_type": "code",
   "execution_count": 33,
   "id": "2027d1cd",
   "metadata": {},
   "outputs": [
    {
     "name": "stdout",
     "output_type": "stream",
     "text": [
      "Train/Test Sizes :  (379, 13) (127, 13) (379,) (127,)\n",
      "[1]\tvalid_0's rmse: 9.5527\tvalid_0's l2: 91.2541\tvalid_0's l1: 6.668\n",
      "[2]\tvalid_0's rmse: 8.95701\tvalid_0's l2: 80.228\tvalid_0's l1: 6.19509\n",
      "[3]\tvalid_0's rmse: 8.43189\tvalid_0's l2: 71.0967\tvalid_0's l1: 5.80199\n",
      "[4]\tvalid_0's rmse: 7.9884\tvalid_0's l2: 63.8145\tvalid_0's l1: 5.46399\n",
      "[5]\tvalid_0's rmse: 7.54545\tvalid_0's l2: 56.9337\tvalid_0's l1: 5.14126\n",
      "[6]\tvalid_0's rmse: 7.21003\tvalid_0's l2: 51.9845\tvalid_0's l1: 4.87785\n",
      "[7]\tvalid_0's rmse: 6.88838\tvalid_0's l2: 47.4497\tvalid_0's l1: 4.64001\n",
      "[8]\tvalid_0's rmse: 6.63835\tvalid_0's l2: 44.0676\tvalid_0's l1: 4.44566\n",
      "[9]\tvalid_0's rmse: 6.39299\tvalid_0's l2: 40.8703\tvalid_0's l1: 4.26477\n",
      "[10]\tvalid_0's rmse: 6.22419\tvalid_0's l2: 38.7406\tvalid_0's l1: 4.13712\n",
      "\n",
      "Test  R2 Score : 0.76\n",
      "Train R2 Score : 0.61\n"
     ]
    }
   ],
   "source": [
    "from sklearn.model_selection import train_test_split\n",
    "\n",
    "X_train, X_test, Y_train, Y_test = train_test_split(boston.data, boston.target)\n",
    "\n",
    "print(\"Train/Test Sizes : \", X_train.shape, X_test.shape, Y_train.shape, Y_test.shape)\n",
    "\n",
    "booster = lgb.LGBMRegressor(objective=\"regression_l2\", n_estimators=10) # LGBMRegressor()\n",
    "\n",
    "# eval_metric=[\"rmse\", \"l2\", \"l1\"]\n",
    "booster.fit(X_train, Y_train, eval_set=[(X_test, Y_test)], eval_metric=[\"rmse\", \"l2\", \"l1\"])\n",
    "\n",
    "print(\"\\nTest  R2 Score : %.2f\"%booster.score(X_train, Y_train))\n",
    "print(\"Train R2 Score : %.2f\"%booster.score(X_test, Y_test))"
   ]
  },
  {
   "cell_type": "markdown",
   "id": "55ba3dfb",
   "metadata": {},
   "source": [
    "## LGBMClassifier"
   ]
  },
  {
   "cell_type": "markdown",
   "id": "82c78b08",
   "metadata": {},
   "source": [
    "LGBMClassifier is one more wrapper estimator around the Booster class that provides a sklearn-like API for classification tasks. It works exactly like LGBMModel but for only classification tasks. It also provides a score() method which evaluates the accuracy of data passed to it.\n",
    "\n",
    "Please make a note that LGBMClassifier predicts actual class labels for the classification tasks with the predict() method. It provides the predict_proba() method if we want probabilities of target classes."
   ]
  },
  {
   "cell_type": "markdown",
   "id": "fb6a48c1",
   "metadata": {},
   "source": [
    "### Binary Classification"
   ]
  },
  {
   "cell_type": "code",
   "execution_count": 34,
   "id": "ac6a3f51",
   "metadata": {},
   "outputs": [
    {
     "name": "stdout",
     "output_type": "stream",
     "text": [
      "Train/Test Sizes :  (426, 30) (143, 30) (426,) (143,)\n",
      "[1]\tvalid_0's binary_logloss: 0.587746\n",
      "[2]\tvalid_0's binary_logloss: 0.52675\n",
      "[3]\tvalid_0's binary_logloss: 0.476438\n",
      "[4]\tvalid_0's binary_logloss: 0.435045\n",
      "[5]\tvalid_0's binary_logloss: 0.398218\n",
      "[6]\tvalid_0's binary_logloss: 0.365871\n",
      "[7]\tvalid_0's binary_logloss: 0.340776\n",
      "[8]\tvalid_0's binary_logloss: 0.319048\n",
      "[9]\tvalid_0's binary_logloss: 0.298264\n",
      "[10]\tvalid_0's binary_logloss: 0.280274\n",
      "\n",
      "Test  Accuracy Score : 0.94\n",
      "Train Accuracy Score : 0.97\n"
     ]
    }
   ],
   "source": [
    "from sklearn.model_selection import train_test_split\n",
    "\n",
    "X_train, X_test, Y_train, Y_test = train_test_split(breast_cancer.data, breast_cancer.target)\n",
    "\n",
    "print(\"Train/Test Sizes : \", X_train.shape, X_test.shape, Y_train.shape, Y_test.shape)\n",
    "\n",
    "# LGBMClassifier(), objective=\"binary\"\n",
    "booster = lgb.LGBMClassifier(objective=\"binary\", n_estimators=10)\n",
    "\n",
    "booster.fit(X_train, Y_train, eval_set=[(X_test, Y_test)])\n",
    "\n",
    "print(\"\\nTest  Accuracy Score : %.2f\"%booster.score(X_test, Y_test))\n",
    "print(\"Train Accuracy Score : %.2f\"%booster.score(X_train, Y_train))"
   ]
  },
  {
   "cell_type": "markdown",
   "id": "dcc109b9",
   "metadata": {},
   "source": [
    "### Multi-Class Classification"
   ]
  },
  {
   "cell_type": "code",
   "execution_count": 35,
   "id": "80bfb319",
   "metadata": {},
   "outputs": [
    {
     "name": "stdout",
     "output_type": "stream",
     "text": [
      "Train/Test Sizes :  (133, 13) (45, 13) (133,) (45,)\n",
      "[1]\tvalid_0's multi_logloss: 0.928461\n",
      "[2]\tvalid_0's multi_logloss: 0.821876\n",
      "[3]\tvalid_0's multi_logloss: 0.747957\n",
      "[4]\tvalid_0's multi_logloss: 0.671349\n",
      "[5]\tvalid_0's multi_logloss: 0.622648\n",
      "[6]\tvalid_0's multi_logloss: 0.57354\n",
      "[7]\tvalid_0's multi_logloss: 0.531479\n",
      "[8]\tvalid_0's multi_logloss: 0.493702\n",
      "[9]\tvalid_0's multi_logloss: 0.466269\n",
      "[10]\tvalid_0's multi_logloss: 0.436322\n",
      "\n",
      "Test  Accuracy Score : 0.98\n",
      "Train Accuracy Score : 1.00\n"
     ]
    }
   ],
   "source": [
    "from sklearn.model_selection import train_test_split\n",
    "\n",
    "X_train, X_test, Y_train, Y_test = train_test_split(wine.data, wine.target)\n",
    "\n",
    "print(\"Train/Test Sizes : \", X_train.shape, X_test.shape, Y_train.shape, Y_test.shape)\n",
    "\n",
    "# LGBMClassifier(), objective=\"multiclassova\", num_class=3\n",
    "booster = lgb.LGBMClassifier(objective=\"multiclassova\", n_estimators=10, num_class=3)\n",
    "\n",
    "booster.fit(X_train, Y_train, eval_set=[(X_test, Y_test),])\n",
    "\n",
    "print(\"\\nTest  Accuracy Score : %.2f\"%booster.score(X_test, Y_test))\n",
    "print(\"Train Accuracy Score : %.2f\"%booster.score(X_train, Y_train))"
   ]
  },
  {
   "cell_type": "markdown",
   "id": "32ba7b8a",
   "metadata": {},
   "source": [
    "#### Please make a note that LGBMModel, LGBMRegressor and LGBMClassifier provides an attribute named booster_ which returns an instance of the Booster class which we can save to disk after training and later load for prediction."
   ]
  },
  {
   "cell_type": "code",
   "execution_count": 36,
   "id": "94b4d467",
   "metadata": {},
   "outputs": [
    {
     "data": {
      "text/plain": [
       "<lightgbm.basic.Booster at 0x7fbfb9913be0>"
      ]
     },
     "execution_count": 36,
     "metadata": {},
     "output_type": "execute_result"
    }
   ],
   "source": [
    "booster.booster_"
   ]
  },
  {
   "cell_type": "markdown",
   "id": "aab56c2e",
   "metadata": {},
   "source": [
    "## Saving and Loading Model"
   ]
  },
  {
   "cell_type": "markdown",
   "id": "c89a6ed9",
   "metadata": {},
   "source": [
    "We'll now explain how we can save the trained model to a disk to use later for predictions. Lightgbm provides the below-mentioned methods for our purpose of saving and loading models.\n",
    "\n",
    "- save_model() - This method takes as an input file name to which save the model.\n",
    "- model_to_string() - This method returns a string representation of the model which we can then save to a text file.\n",
    "- lightgbm.Booster() - This constructor lets us create an instance of the Booster class. It has two important parameters that can help us load a model from a file or from a string.\n",
    " - model_file - This parameter accepts the file name from which to load the trained model.\n",
    " - model_str - This parameter accepts a string that has information about the trained model. We need to give a string that was generated using model_to_string() to this parameter after loading from the file."
   ]
  },
  {
   "cell_type": "code",
   "execution_count": 37,
   "id": "5b98380c",
   "metadata": {},
   "outputs": [
    {
     "name": "stdout",
     "output_type": "stream",
     "text": [
      "Train/Test Sizes :  (379, 13) (127, 13) (379,) (127,)\n",
      "\n",
      "Test  R2 Score : 0.68\n",
      "Train R2 Score : 0.76\n"
     ]
    }
   ],
   "source": [
    "from sklearn.model_selection import train_test_split\n",
    "\n",
    "X_train, X_test, Y_train, Y_test = train_test_split(boston.data, boston.target)\n",
    "\n",
    "print(\"Train/Test Sizes : \", X_train.shape, X_test.shape, Y_train.shape, Y_test.shape)\n",
    "\n",
    "train_dataset = lgb.Dataset(X_train, Y_train, feature_name=boston.feature_names.tolist())\n",
    "test_dataset = lgb.Dataset(X_test, Y_test, feature_name=boston.feature_names.tolist())\n",
    "\n",
    "\n",
    "booster = lgb.train({\"objective\": \"regression\", \"verbosity\": -1},\n",
    "                    train_set=train_dataset, valid_sets=(test_dataset,),\n",
    "                    verbose_eval=False,\n",
    "                    feature_name=boston.feature_names.tolist(),\n",
    "                    num_boost_round=10)\n",
    "\n",
    "from sklearn.metrics import r2_score\n",
    "\n",
    "test_preds = booster.predict(X_test)\n",
    "train_preds = booster.predict(X_train)\n",
    "\n",
    "print(\"\\nTest  R2 Score : %.2f\"%r2_score(Y_test, test_preds))\n",
    "print(\"Train R2 Score : %.2f\"%r2_score(Y_train, train_preds))"
   ]
  },
  {
   "cell_type": "code",
   "execution_count": 38,
   "id": "9a0e0e06",
   "metadata": {},
   "outputs": [
    {
     "data": {
      "text/plain": [
       "<lightgbm.basic.Booster at 0x7fbfb95a43d0>"
      ]
     },
     "execution_count": 38,
     "metadata": {},
     "output_type": "execute_result"
    }
   ],
   "source": [
    "# Save the model\n",
    "booster.save_model(\"lgb.model\")"
   ]
  },
  {
   "cell_type": "code",
   "execution_count": 39,
   "id": "a8e62333",
   "metadata": {},
   "outputs": [
    {
     "data": {
      "text/plain": [
       "<lightgbm.basic.Booster at 0x7fbf9d5a7430>"
      ]
     },
     "execution_count": 39,
     "metadata": {},
     "output_type": "execute_result"
    }
   ],
   "source": [
    "# Load the model\n",
    "loaded_booster  = lgb.Booster(model_file=\"lgb.model\")\n",
    "\n",
    "loaded_booster"
   ]
  },
  {
   "cell_type": "code",
   "execution_count": 40,
   "id": "08256fa1",
   "metadata": {},
   "outputs": [
    {
     "name": "stdout",
     "output_type": "stream",
     "text": [
      "\n",
      "Test  R2 Score : 0.68\n",
      "Train R2 Score : 0.76\n"
     ]
    }
   ],
   "source": [
    "# Use it without repeating the training\n",
    "from sklearn.metrics import r2_score\n",
    "\n",
    "test_preds = loaded_booster.predict(X_test)\n",
    "train_preds = loaded_booster.predict(X_train)\n",
    "\n",
    "print(\"\\nTest  R2 Score : %.2f\"%r2_score(Y_test, test_preds))\n",
    "print(\"Train R2 Score : %.2f\"%r2_score(Y_train, train_preds))"
   ]
  },
  {
   "cell_type": "code",
   "execution_count": 41,
   "id": "a3debc2a",
   "metadata": {},
   "outputs": [],
   "source": [
    "model_as_str = booster.model_to_string()\n",
    "\n",
    "with open(\"booster2.model\", \"w\") as f:\n",
    "    f.write(model_as_str)"
   ]
  },
  {
   "cell_type": "code",
   "execution_count": 42,
   "id": "fba1f917",
   "metadata": {},
   "outputs": [
    {
     "name": "stdout",
     "output_type": "stream",
     "text": [
      "Finished loading model, total used 10 iterations\n"
     ]
    },
    {
     "data": {
      "text/plain": [
       "<lightgbm.basic.Booster at 0x7fbf9d5a7250>"
      ]
     },
     "execution_count": 42,
     "metadata": {},
     "output_type": "execute_result"
    }
   ],
   "source": [
    "model_str = open(\"booster2.model\").read()\n",
    "\n",
    "booster_frm_str = lgb.Booster(model_str = model_str)\n",
    "booster_frm_str"
   ]
  },
  {
   "cell_type": "code",
   "execution_count": 43,
   "id": "3154e4f8",
   "metadata": {},
   "outputs": [
    {
     "name": "stdout",
     "output_type": "stream",
     "text": [
      "\n",
      "Test  R2 Score : 0.68\n",
      "Train R2 Score : 0.76\n"
     ]
    }
   ],
   "source": [
    "from sklearn.metrics import r2_score\n",
    "\n",
    "test_preds = booster_frm_str.predict(X_test)\n",
    "train_preds = booster_frm_str.predict(X_train)\n",
    "\n",
    "print(\"\\nTest  R2 Score : %.2f\"%r2_score(Y_test, test_preds))\n",
    "print(\"Train R2 Score : %.2f\"%r2_score(Y_train, train_preds))"
   ]
  },
  {
   "cell_type": "markdown",
   "id": "9b300bfb",
   "metadata": {},
   "source": [
    "## Cross Validation"
   ]
  },
  {
   "cell_type": "markdown",
   "id": "6057766d",
   "metadata": {},
   "source": [
    "Lightgbm let us perform cross-validation using cv() method. It accepts model parameters as a dictionary like the train() method. We can then give a dataset on which to perform cross-validation. It performs 5-fold cross-validation by default. We can change the number of folds by setting the nfold parameter. It also accepts sklearn's data splitter like KFold, StratifiedKFold, ShuffleSplit, and StratifiedShuffleSplit. We can provide these data splitters to the folds parameter of the method.\n",
    "\n",
    "The cv() method returns a dictionary that has information about the mean and standard deviation of loss for each round of training. We can even ask the method to return an instance of CVBooster by setting the return_cvbooster parameter to True. CVBooster object has information about cross-validation."
   ]
  },
  {
   "cell_type": "code",
   "execution_count": 44,
   "id": "44a40e4b",
   "metadata": {},
   "outputs": [
    {
     "name": "stdout",
     "output_type": "stream",
     "text": [
      "[1]\tcv_agg's binary_logloss: 0.569495 + 0.0167596\n",
      "[2]\tcv_agg's binary_logloss: 0.521086 + 0.0229051\n",
      "[3]\tcv_agg's binary_logloss: 0.480852 + 0.031472\n",
      "[4]\tcv_agg's binary_logloss: 0.448002 + 0.0387974\n",
      "[5]\tcv_agg's binary_logloss: 0.4194 + 0.0439384\n",
      "[6]\tcv_agg's binary_logloss: 0.394492 + 0.0495578\n",
      "[7]\tcv_agg's binary_logloss: 0.374783 + 0.0571206\n",
      "[8]\tcv_agg's binary_logloss: 0.356358 + 0.0631276\n",
      "[9]\tcv_agg's binary_logloss: 0.339846 + 0.068211\n",
      "[10]\tcv_agg's binary_logloss: 0.326249 + 0.0678658\n"
     ]
    },
    {
     "data": {
      "text/plain": [
       "{'binary_logloss-mean': [0.5694952445963701,\n",
       "  0.5210856510476715,\n",
       "  0.48085163440132045,\n",
       "  0.4480016808788658,\n",
       "  0.4193997497886414,\n",
       "  0.39449225728726,\n",
       "  0.37478320484825717,\n",
       "  0.3563575795917545,\n",
       "  0.33984622496381584,\n",
       "  0.32624938015537197],\n",
       " 'binary_logloss-stdv': [0.01675960106086817,\n",
       "  0.02290507781579941,\n",
       "  0.03147197103441155,\n",
       "  0.03879738134284987,\n",
       "  0.04393843231743595,\n",
       "  0.04955784537279737,\n",
       "  0.05712062010222368,\n",
       "  0.06312758719609465,\n",
       "  0.06821102410982777,\n",
       "  0.06786577598812961]}"
      ]
     },
     "execution_count": 44,
     "metadata": {},
     "output_type": "execute_result"
    }
   ],
   "source": [
    "X_train, X_test, Y_train, Y_test = train_test_split(breast_cancer.data, breast_cancer.target)\n",
    "\n",
    "train_dataset = lgb.Dataset(X_train, Y_train, feature_name=breast_cancer.feature_names.tolist())\n",
    "test_dataset = lgb.Dataset(X_test, Y_test, feature_name=breast_cancer.feature_names.tolist())\n",
    "\n",
    "lgb.cv({\"objective\": \"binary\", \"verbosity\": -1},\n",
    "       train_set=test_dataset, num_boost_round=10,\n",
    "       nfold=5, stratified=True, shuffle=True,\n",
    "       verbose_eval=True)"
   ]
  },
  {
   "cell_type": "code",
   "execution_count": 45,
   "id": "e756c6b4",
   "metadata": {},
   "outputs": [
    {
     "name": "stdout",
     "output_type": "stream",
     "text": [
      "[1]\tcv_agg's auc: 0.913333 + 0.0784573\tcv_agg's average_precision: 0.954242 + 0.0383889\n",
      "[2]\tcv_agg's auc: 0.936667 + 0.046428\tcv_agg's average_precision: 0.967407 + 0.0234886\n",
      "[3]\tcv_agg's auc: 0.936667 + 0.046428\tcv_agg's average_precision: 0.967407 + 0.0234886\n",
      "[4]\tcv_agg's auc: 0.936667 + 0.0309121\tcv_agg's average_precision: 0.967796 + 0.0163472\n",
      "[5]\tcv_agg's auc: 0.943333 + 0.0262467\tcv_agg's average_precision: 0.969933 + 0.015005\n",
      "[6]\tcv_agg's auc: 0.943333 + 0.0262467\tcv_agg's average_precision: 0.969933 + 0.015005\n",
      "[7]\tcv_agg's auc: 0.943333 + 0.0262467\tcv_agg's average_precision: 0.969933 + 0.015005\n",
      "[8]\tcv_agg's auc: 0.943333 + 0.0262467\tcv_agg's average_precision: 0.969933 + 0.015005\n",
      "[9]\tcv_agg's auc: 0.936667 + 0.0309121\tcv_agg's average_precision: 0.967796 + 0.0163472\n",
      "[10]\tcv_agg's auc: 0.956667 + 0.0169967\tcv_agg's average_precision: 0.979192 + 0.00828529\n",
      "\n",
      "auc-mean  :  [0.9133333333333334, 0.9366666666666666, 0.9366666666666666, 0.9366666666666666, 0.9433333333333334, 0.9433333333333334, 0.9433333333333334, 0.9433333333333334, 0.9366666666666666, 0.9566666666666667]\n",
      "\n",
      "auc-stdv  :  [0.07845734863959879, 0.046427960923947055, 0.046427960923947055, 0.030912061651652323, 0.026246692913372675, 0.026246692913372675, 0.026246692913372675, 0.026246692913372675, 0.030912061651652323, 0.016996731711975962]\n",
      "\n",
      "average_precision-mean  :  [0.9542424242424242, 0.9674074074074074, 0.9674074074074074, 0.9677959077959079, 0.96993265993266, 0.96993265993266, 0.96993265993266, 0.96993265993266, 0.9677959077959079, 0.9791919191919192]\n",
      "\n",
      "average_precision-stdv  :  [0.03838888855666256, 0.02348860740104877, 0.02348860740104877, 0.01634721288386094, 0.015004977879900254, 0.015004977879900254, 0.015004977879900254, 0.015004977879900254, 0.01634721288386094, 0.008285291577539294]\n",
      "\n",
      "cvbooster  :  <lightgbm.engine.CVBooster object at 0x7fbfb95f3130>\n"
     ]
    }
   ],
   "source": [
    "from sklearn.model_selection import StratifiedShuffleSplit\n",
    "\n",
    "cv_output = lgb.cv({\"objective\": \"binary\", \"verbosity\": -1},\n",
    "                   train_set=test_dataset, num_boost_round=10,\n",
    "                   metrics=[\"auc\", \"average_precision\"],\n",
    "                   folds=StratifiedShuffleSplit(n_splits=3),\n",
    "                   verbose_eval=True,\n",
    "                   return_cvbooster=True)\n",
    "\n",
    "for key, val in cv_output.items():\n",
    "    print(\"\\n\" + key, \" : \", val)"
   ]
  },
  {
   "cell_type": "code",
   "execution_count": 46,
   "id": "be523592",
   "metadata": {},
   "outputs": [
    {
     "data": {
      "text/plain": [
       "[<lightgbm.basic.Booster at 0x7fbf9d6abb80>,\n",
       " <lightgbm.basic.Booster at 0x7fbfb95b1eb0>,\n",
       " <lightgbm.basic.Booster at 0x7fbfb95b1a30>]"
      ]
     },
     "execution_count": 46,
     "metadata": {},
     "output_type": "execute_result"
    }
   ],
   "source": [
    "cvbooster = cv_output['cvbooster']\n",
    "\n",
    "cvbooster.boosters"
   ]
  },
  {
   "cell_type": "markdown",
   "id": "97795493",
   "metadata": {},
   "source": [
    "## Plotting Functionality"
   ]
  },
  {
   "cell_type": "markdown",
   "id": "0697bec7",
   "metadata": {},
   "source": [
    "### plot_importance()\n",
    "\n",
    "This method accepts a booster instance and plots feature importance using it. Below we have created a feature importance plot using the booster trained earlier for the regression task. The method has a parameter named importance_type which can be set to string split will plot the number of times feature was used for split and plots gains of splits if set to string gain. The value of parameter importance_type is split. The plot_importance() method has another important parameter max_num_features which accepts an integer specifying how many features to include in the plot. We can limit the number of features using this parameter as it'll include only that many top features in the plot."
   ]
  },
  {
   "cell_type": "code",
   "execution_count": 47,
   "id": "6eef9ab1",
   "metadata": {},
   "outputs": [
    {
     "data": {
      "text/plain": [
       "<AxesSubplot:title={'center':'Feature importance'}, xlabel='Feature importance', ylabel='Features'>"
      ]
     },
     "execution_count": 47,
     "metadata": {},
     "output_type": "execute_result"
    },
    {
     "data": {
      "image/png": "[encoded data removed]",
      "text/plain": [
       "<Figure size 576x432 with 1 Axes>"
      ]
     },
     "metadata": {
      "needs_background": "light"
     },
     "output_type": "display_data"
    }
   ],
   "source": [
    "# plot the performance using lgb built-in graph \n",
    "lgb.plot_importance(booster, figsize=(8,6))"
   ]
  },
  {
   "cell_type": "markdown",
   "id": "dc2e2f81",
   "metadata": {},
   "source": [
    "### plot_metric()\n",
    "\n",
    "This method plots the results of an evaluation metric. We need to give a booster instance to the method in order to plot an evaluation metric evaluated on the evaluation dataset."
   ]
  },
  {
   "cell_type": "code",
   "execution_count": 48,
   "id": "522f40ce",
   "metadata": {},
   "outputs": [
    {
     "name": "stdout",
     "output_type": "stream",
     "text": [
      "Train/Test Sizes :  (379, 13) (127, 13) (379,) (127,)\n",
      "[1]\tValidation Set's rmse: 7.67235\tValidation Set's l2: 58.865\n",
      "[2]\tValidation Set's rmse: 7.0352\tValidation Set's l2: 49.4941\n",
      "[3]\tValidation Set's rmse: 6.47024\tValidation Set's l2: 41.8641\n",
      "[4]\tValidation Set's rmse: 5.9505\tValidation Set's l2: 35.4085\n",
      "[5]\tValidation Set's rmse: 5.50707\tValidation Set's l2: 30.3278\n",
      "[6]\tValidation Set's rmse: 5.11613\tValidation Set's l2: 26.1748\n",
      "[7]\tValidation Set's rmse: 4.78904\tValidation Set's l2: 22.9349\n",
      "[8]\tValidation Set's rmse: 4.49257\tValidation Set's l2: 20.1832\n",
      "[9]\tValidation Set's rmse: 4.26761\tValidation Set's l2: 18.2125\n",
      "[10]\tValidation Set's rmse: 4.08201\tValidation Set's l2: 16.6628\n"
     ]
    },
    {
     "data": {
      "text/plain": [
       "<AxesSubplot:title={'center':'Metric during training'}, xlabel='Iterations', ylabel='l2'>"
      ]
     },
     "execution_count": 48,
     "metadata": {},
     "output_type": "execute_result"
    },
    {
     "data": {
      "image/png": "[encoded data removed]",
      "text/plain": [
       "<Figure size 576x432 with 1 Axes>"
      ]
     },
     "metadata": {
      "needs_background": "light"
     },
     "output_type": "display_data"
    }
   ],
   "source": [
    "from sklearn.model_selection import train_test_split\n",
    "\n",
    "X_train, X_test, Y_train, Y_test = train_test_split(boston.data, boston.target)\n",
    "\n",
    "print(\"Train/Test Sizes : \", X_train.shape, X_test.shape, Y_train.shape, Y_test.shape)\n",
    "\n",
    "booster = lgb.LGBMModel(objective=\"regression\", n_estimators=10,)\n",
    "\n",
    "booster.fit(X_train, Y_train,\n",
    "            eval_set=[(X_test, Y_test),], eval_metric=\"rmse\", eval_names = [\"Validation Set\"],\n",
    "            feature_name=boston.feature_names.tolist())\n",
    "\n",
    "# plot the metric using lgb built-in graph\n",
    "lgb.plot_metric(booster, figsize=(8,6))"
   ]
  },
  {
   "cell_type": "code",
   "execution_count": 49,
   "id": "7c3ba57a",
   "metadata": {},
   "outputs": [
    {
     "data": {
      "text/plain": [
       "<AxesSubplot:title={'center':'Metric during training'}, xlabel='Iterations', ylabel='rmse'>"
      ]
     },
     "execution_count": 49,
     "metadata": {},
     "output_type": "execute_result"
    },
    {
     "data": {
      "image/png": "[encoded data removed]",
      "text/plain": [
       "<Figure size 576x432 with 1 Axes>"
      ]
     },
     "metadata": {
      "needs_background": "light"
     },
     "output_type": "display_data"
    }
   ],
   "source": [
    "lgb.plot_metric(booster, metric=\"rmse\", figsize=(8,6))"
   ]
  },
  {
   "cell_type": "markdown",
   "id": "f776b122",
   "metadata": {},
   "source": [
    "### plot_split_value_histogram()\n",
    "\n",
    "This method takes as input booster instance and feature name/index. It then plots a split value histogram for the feature."
   ]
  },
  {
   "cell_type": "code",
   "execution_count": 50,
   "id": "1dbd42c7",
   "metadata": {},
   "outputs": [
    {
     "data": {
      "text/plain": [
       "<AxesSubplot:title={'center':'Split value histogram for feature with name LSTAT'}, xlabel='Feature split value', ylabel='Count'>"
      ]
     },
     "execution_count": 50,
     "metadata": {},
     "output_type": "execute_result"
    },
    {
     "data": {
      "image/png": "[encoded data removed]",
      "text/plain": [
       "<Figure size 576x432 with 1 Axes>"
      ]
     },
     "metadata": {
      "needs_background": "light"
     },
     "output_type": "display_data"
    }
   ],
   "source": [
    "lgb.plot_split_value_histogram(booster, feature=\"LSTAT\", figsize=(8,6))"
   ]
  },
  {
   "cell_type": "markdown",
   "id": "2d0427ca",
   "metadata": {},
   "source": [
    "### plot_tree()\n",
    "\n",
    "This method lets us plot the individual tree of the ensemble. We need to give a booster instance and index of the tree which we want to plot to it."
   ]
  },
  {
   "cell_type": "code",
   "execution_count": 51,
   "id": "e9f2c578",
   "metadata": {},
   "outputs": [
    {
     "data": {
      "text/plain": [
       "<AxesSubplot:>"
      ]
     },
     "execution_count": 51,
     "metadata": {},
     "output_type": "execute_result"
    },
    {
     "data": {
      "image/png": "[encoded data removed]",
      "text/plain": [
       "<Figure size 1440x864 with 1 Axes>"
      ]
     },
     "metadata": {
      "needs_background": "light"
     },
     "output_type": "display_data"
    }
   ],
   "source": [
    "lgb.plot_tree(booster, tree_index = 1, figsize=(20,12))"
   ]
  },
  {
   "cell_type": "markdown",
   "id": "89aad467",
   "metadata": {},
   "source": [
    "## Early Stopping Training"
   ]
  },
  {
   "cell_type": "markdown",
   "id": "d446f9c6",
   "metadata": {},
   "source": [
    "Early stopping training is a process where we stop training if the evaluation metric evaluated on the evaluation dataset is not improving for a specified number of rounds. Lightgbm provides parameter named early_stopping_rounds as a part of train() method as well as fit() method of lightgbm sklearn-like estimators. This parameter accepts integer value specifying that stop the training process if the evaluation metric result has not improved for that many rounds.\n",
    "\n",
    "Please make a note that we need an evaluation dataset in order for this to work as it’s based on evaluation metric results evaluated on the evaluation dataset.\n",
    "\n",
    "Below we have explained the usage of the parameter early_stopping_rounds for regression and classification tasks with simple examples."
   ]
  },
  {
   "cell_type": "code",
   "execution_count": 52,
   "id": "a26c507a",
   "metadata": {},
   "outputs": [
    {
     "name": "stdout",
     "output_type": "stream",
     "text": [
      "Train/Test Sizes :  (379, 13) (127, 13) (379,) (127,)\n",
      "[1]\tvalid_0's rmse: 8.34842\n",
      "Training until validation scores don't improve for 5 rounds\n",
      "[2]\tvalid_0's rmse: 7.74892\n",
      "[3]\tvalid_0's rmse: 7.21769\n",
      "[4]\tvalid_0's rmse: 6.73637\n",
      "[5]\tvalid_0's rmse: 6.31446\n",
      "[6]\tvalid_0's rmse: 5.94183\n",
      "[7]\tvalid_0's rmse: 5.61866\n",
      "[8]\tvalid_0's rmse: 5.33416\n",
      "[9]\tvalid_0's rmse: 5.07542\n",
      "[10]\tvalid_0's rmse: 4.86871\n",
      "[11]\tvalid_0's rmse: 4.66187\n",
      "[12]\tvalid_0's rmse: 4.51139\n",
      "[13]\tvalid_0's rmse: 4.35577\n",
      "[14]\tvalid_0's rmse: 4.20796\n",
      "[15]\tvalid_0's rmse: 4.10601\n",
      "[16]\tvalid_0's rmse: 3.99954\n",
      "[17]\tvalid_0's rmse: 3.90961\n",
      "[18]\tvalid_0's rmse: 3.82026\n",
      "[19]\tvalid_0's rmse: 3.76619\n",
      "[20]\tvalid_0's rmse: 3.70553\n",
      "[21]\tvalid_0's rmse: 3.64445\n",
      "[22]\tvalid_0's rmse: 3.59078\n",
      "[23]\tvalid_0's rmse: 3.54158\n",
      "[24]\tvalid_0's rmse: 3.51947\n",
      "[25]\tvalid_0's rmse: 3.50207\n",
      "[26]\tvalid_0's rmse: 3.4655\n",
      "[27]\tvalid_0's rmse: 3.4336\n",
      "[28]\tvalid_0's rmse: 3.38799\n",
      "[29]\tvalid_0's rmse: 3.3786\n",
      "[30]\tvalid_0's rmse: 3.3328\n",
      "[31]\tvalid_0's rmse: 3.30403\n",
      "[32]\tvalid_0's rmse: 3.28203\n",
      "[33]\tvalid_0's rmse: 3.24678\n",
      "[34]\tvalid_0's rmse: 3.24067\n",
      "[35]\tvalid_0's rmse: 3.2308\n",
      "[36]\tvalid_0's rmse: 3.2296\n",
      "[37]\tvalid_0's rmse: 3.21638\n",
      "[38]\tvalid_0's rmse: 3.20723\n",
      "[39]\tvalid_0's rmse: 3.20838\n",
      "[40]\tvalid_0's rmse: 3.20097\n",
      "[41]\tvalid_0's rmse: 3.17626\n",
      "[42]\tvalid_0's rmse: 3.17138\n",
      "[43]\tvalid_0's rmse: 3.16286\n",
      "[44]\tvalid_0's rmse: 3.1459\n",
      "[45]\tvalid_0's rmse: 3.15135\n",
      "[46]\tvalid_0's rmse: 3.13877\n",
      "[47]\tvalid_0's rmse: 3.14281\n",
      "[48]\tvalid_0's rmse: 3.13923\n",
      "[49]\tvalid_0's rmse: 3.12233\n",
      "[50]\tvalid_0's rmse: 3.12898\n",
      "[51]\tvalid_0's rmse: 3.13642\n",
      "[52]\tvalid_0's rmse: 3.11488\n",
      "[53]\tvalid_0's rmse: 3.12333\n",
      "[54]\tvalid_0's rmse: 3.12591\n",
      "[55]\tvalid_0's rmse: 3.1324\n",
      "[56]\tvalid_0's rmse: 3.13881\n",
      "[57]\tvalid_0's rmse: 3.15427\n",
      "Early stopping, best iteration is:\n",
      "[52]\tvalid_0's rmse: 3.11488\n",
      "\n",
      "Test  R2 Score : 0.88\n",
      "Train R2 Score : 0.95\n"
     ]
    }
   ],
   "source": [
    "from sklearn.model_selection import train_test_split\n",
    "\n",
    "X_train, X_test, Y_train, Y_test = train_test_split(boston.data, boston.target)\n",
    "\n",
    "print(\"Train/Test Sizes : \", X_train.shape, X_test.shape, Y_train.shape, Y_test.shape)\n",
    "\n",
    "train_dataset = lgb.Dataset(X_train, Y_train, feature_name=boston.feature_names.tolist())\n",
    "test_dataset = lgb.Dataset(X_test, Y_test, feature_name=boston.feature_names.tolist())\n",
    "\n",
    "# early_stopping_rounds = 5\n",
    "booster = lgb.train({\"objective\": \"regression\", \"verbosity\": -1, \"metric\": \"rmse\"},\n",
    "                    train_set=train_dataset, valid_sets=(test_dataset,),\n",
    "                    early_stopping_rounds=5,\n",
    "                    num_boost_round=100)\n",
    "\n",
    "\n",
    "from sklearn.metrics import r2_score\n",
    "\n",
    "test_preds = booster.predict(X_test)\n",
    "train_preds = booster.predict(X_train)\n",
    "\n",
    "print(\"\\nTest  R2 Score : %.2f\"%r2_score(Y_test, test_preds))\n",
    "print(\"Train R2 Score : %.2f\"%r2_score(Y_train, train_preds))"
   ]
  },
  {
   "cell_type": "code",
   "execution_count": 54,
   "id": "2b9b20cf",
   "metadata": {},
   "outputs": [
    {
     "name": "stdout",
     "output_type": "stream",
     "text": [
      "Train/Test Sizes :  (426, 30) (143, 30) (426,) (143,)\n",
      "[1]\tvalid_0's auc: 0.950262\n",
      "Training until validation scores don't improve for 3 rounds\n",
      "[2]\tvalid_0's auc: 0.95571\n",
      "[3]\tvalid_0's auc: 0.955307\n",
      "[4]\tvalid_0's auc: 0.963781\n",
      "[5]\tvalid_0's auc: 0.966303\n",
      "[6]\tvalid_0's auc: 0.972659\n",
      "[7]\tvalid_0's auc: 0.972458\n",
      "[8]\tvalid_0's auc: 0.971852\n",
      "[9]\tvalid_0's auc: 0.974072\n",
      "[10]\tvalid_0's auc: 0.975787\n",
      "[11]\tvalid_0's auc: 0.979822\n",
      "[12]\tvalid_0's auc: 0.981235\n",
      "[13]\tvalid_0's auc: 0.983051\n",
      "[14]\tvalid_0's auc: 0.982647\n",
      "[15]\tvalid_0's auc: 0.981033\n",
      "[16]\tvalid_0's auc: 0.981437\n",
      "Early stopping, best iteration is:\n",
      "[13]\tvalid_0's auc: 0.983051\n",
      "\n",
      "Test  Accuracy Score : 0.94\n",
      "Train Accuracy Score : 0.98\n"
     ]
    }
   ],
   "source": [
    "from sklearn.model_selection import train_test_split\n",
    "\n",
    "X_train, X_test, Y_train, Y_test = train_test_split(breast_cancer.data, breast_cancer.target)\n",
    "\n",
    "print(\"Train/Test Sizes : \", X_train.shape, X_test.shape, Y_train.shape, Y_test.shape)\n",
    "\n",
    "booster = lgb.LGBMModel(objective=\"binary\", n_estimators=100, metric=\"auc\")\n",
    "\n",
    "# early_stopping_rounds = 3\n",
    "booster.fit(X_train, Y_train,\n",
    "            eval_set=[(X_test, Y_test),],\n",
    "            early_stopping_rounds=3)\n",
    "\n",
    "\n",
    "from sklearn.metrics import accuracy_score\n",
    "\n",
    "test_preds = booster.predict(X_test)\n",
    "train_preds = booster.predict(X_train)\n",
    "\n",
    "test_preds = [1 if pred > 0.5 else 0 for pred in test_preds]\n",
    "train_preds = [1 if pred > 0.5 else 0 for pred in train_preds]\n",
    "\n",
    "print(\"\\nTest  Accuracy Score : %.2f\"%accuracy_score(Y_test, test_preds))\n",
    "print(\"Train Accuracy Score : %.2f\"%accuracy_score(Y_train, train_preds))"
   ]
  },
  {
   "cell_type": "markdown",
   "id": "b919463d",
   "metadata": {},
   "source": [
    "#### Lightgbm provides early stopping training functionality using the early_stopping() callback function as well. We can give number of rounds to early_stopping() function and give that function to callbacks parameter of train()/fit() method. We have explained callbacks in an upcoming section."
   ]
  },
  {
   "cell_type": "code",
   "execution_count": 55,
   "id": "3d533212",
   "metadata": {},
   "outputs": [
    {
     "name": "stdout",
     "output_type": "stream",
     "text": [
      "Train/Test Sizes :  (426, 30) (143, 30) (426,) (143,)\n",
      "[1]\tvalid_0's auc: 0.970246\n",
      "Training until validation scores don't improve for 3 rounds\n",
      "[2]\tvalid_0's auc: 0.974303\n",
      "[3]\tvalid_0's auc: 0.974719\n",
      "[4]\tvalid_0's auc: 0.974927\n",
      "[5]\tvalid_0's auc: 0.966916\n",
      "[6]\tvalid_0's auc: 0.966916\n",
      "[7]\tvalid_0's auc: 0.967749\n",
      "Early stopping, best iteration is:\n",
      "[4]\tvalid_0's auc: 0.974927\n",
      "\n",
      "Test  Accuracy Score : 0.92\n",
      "Train Accuracy Score : 0.95\n"
     ]
    }
   ],
   "source": [
    "from sklearn.model_selection import train_test_split\n",
    "\n",
    "X_train, X_test, Y_train, Y_test = train_test_split(breast_cancer.data, breast_cancer.target)\n",
    "\n",
    "print(\"Train/Test Sizes : \", X_train.shape, X_test.shape, Y_train.shape, Y_test.shape)\n",
    "\n",
    "booster = lgb.LGBMModel(objective=\"binary\", n_estimators=100, metric=\"auc\")\n",
    "\n",
    "# callbacks=[lgb.early_stopping(3)]\n",
    "booster.fit(X_train, Y_train,\n",
    "            eval_set=[(X_test, Y_test),],\n",
    "            callbacks=[lgb.early_stopping(3)]\n",
    "            )\n",
    "\n",
    "\n",
    "from sklearn.metrics import accuracy_score\n",
    "\n",
    "test_preds = booster.predict(X_test)\n",
    "train_preds = booster.predict(X_train)\n",
    "\n",
    "test_preds = [1 if pred > 0.5 else 0 for pred in test_preds]\n",
    "train_preds = [1 if pred > 0.5 else 0 for pred in train_preds]\n",
    "\n",
    "print(\"\\nTest  Accuracy Score : %.2f\"%accuracy_score(Y_test, test_preds))\n",
    "print(\"Train Accuracy Score : %.2f\"%accuracy_score(Y_train, train_preds))"
   ]
  },
  {
   "cell_type": "markdown",
   "id": "e85d0cfa",
   "metadata": {},
   "source": [
    "## Feature Interaction Constraints"
   ]
  },
  {
   "cell_type": "markdown",
   "id": "c67f5438",
   "metadata": {},
   "source": [
    "When lightgbm has completed training trees of the ensemble on a dataset, the individual node of trees represents some condition based on some value of the feature. When we are making predictions using an individual tree, we start from the root node of the tree, checking the feature condition specified in the node with our sample feature values. We make decisions based on the feature values in our sample and the condition present in the tree. This way we follow a particular path reaching the leaf of the tree to make the final prediction. By default, there is no restriction on which node can have which feature as a condition. This process of making a final decision by going through nodes of tree checking feature condition is called feature interaction because predictor has come to the particular node after evaluating the condition of the previous node. Lightgbm can let us define restrictions on which feature to interact with which another feature. We can give a list of indices and only that many features will interact with one another. Those features won't be allowed to interact with other features and this restriction will be forced when creating trees during the training process.\n",
    "\n",
    "Below we have explained with a simple example of how we can force feature interaction constraint on estimator in lightgbm. Lighgbm estimators provide a parameter named interaction_constraints which accepts a list of lists where individual lists are indices of parameters that are allowed to interact with one another."
   ]
  },
  {
   "cell_type": "code",
   "execution_count": 56,
   "id": "20611705",
   "metadata": {},
   "outputs": [
    {
     "name": "stdout",
     "output_type": "stream",
     "text": [
      "Train/Test Sizes :  (455, 13) (51, 13) (455,) (51,) \n",
      "\n",
      "[1]\tvalid_0's rmse: 7.50225\n",
      "[2]\tvalid_0's rmse: 7.01989\n",
      "[3]\tvalid_0's rmse: 6.58246\n",
      "[4]\tvalid_0's rmse: 6.18581\n",
      "[5]\tvalid_0's rmse: 5.83873\n",
      "[6]\tvalid_0's rmse: 5.47166\n",
      "[7]\tvalid_0's rmse: 5.19667\n",
      "[8]\tvalid_0's rmse: 4.96259\n",
      "[9]\tvalid_0's rmse: 4.69168\n",
      "[10]\tvalid_0's rmse: 4.51653\n",
      "\n",
      "Test  R2 Score : 0.67\n",
      "Train R2 Score : 0.69\n"
     ]
    }
   ],
   "source": [
    "X_train, X_test, Y_train, Y_test = train_test_split(boston.data, boston.target, train_size=0.90, random_state=42)\n",
    "\n",
    "print(\"Train/Test Sizes : \", X_train.shape, X_test.shape, Y_train.shape, Y_test.shape, \"\\n\")\n",
    "\n",
    "train_dataset = lgb.Dataset(X_train, Y_train, feature_name=boston.feature_names.tolist())\n",
    "test_dataset = lgb.Dataset(X_test, Y_test, feature_name=boston.feature_names.tolist())\n",
    "\n",
    "# 'interaction_constraints'\n",
    "booster = lgb.train({\"objective\": \"regression\", \"verbosity\": -1, \"metric\": \"rmse\",\n",
    "                    'interaction_constraints':[[0,1,2,11,12], [3, 4],[6,10], [5,9], [7,8]]},\n",
    "                    train_set=train_dataset, valid_sets=(test_dataset,),\n",
    "                    num_boost_round=10)\n",
    "\n",
    "\n",
    "from sklearn.metrics import r2_score\n",
    "\n",
    "test_preds = booster.predict(X_test)\n",
    "train_preds = booster.predict(X_train)\n",
    "\n",
    "print(\"\\nTest  R2 Score : %.2f\"%r2_score(Y_test, test_preds))\n",
    "print(\"Train R2 Score : %.2f\"%r2_score(Y_train, train_preds))"
   ]
  },
  {
   "cell_type": "code",
   "execution_count": 57,
   "id": "85113aa3",
   "metadata": {},
   "outputs": [
    {
     "name": "stdout",
     "output_type": "stream",
     "text": [
      "Train/Test Sizes :  (379, 13) (127, 13) (379,) (127,)\n",
      "[1]\tvalid_0's rmse: 8.39767\tvalid_0's l2: 70.5208\n",
      "[2]\tvalid_0's rmse: 7.96609\tvalid_0's l2: 63.4587\n",
      "[3]\tvalid_0's rmse: 7.4764\tvalid_0's l2: 55.8965\n",
      "[4]\tvalid_0's rmse: 7.14941\tvalid_0's l2: 51.1141\n",
      "[5]\tvalid_0's rmse: 6.77229\tvalid_0's l2: 45.8639\n",
      "[6]\tvalid_0's rmse: 6.5229\tvalid_0's l2: 42.5483\n",
      "[7]\tvalid_0's rmse: 6.32644\tvalid_0's l2: 40.0239\n",
      "[8]\tvalid_0's rmse: 6.06744\tvalid_0's l2: 36.8138\n",
      "[9]\tvalid_0's rmse: 5.9335\tvalid_0's l2: 35.2064\n",
      "[10]\tvalid_0's rmse: 5.73785\tvalid_0's l2: 32.9229\n",
      "\n",
      "Test  R2 Score : 0.58\n",
      "Train R2 Score : 0.71\n"
     ]
    }
   ],
   "source": [
    "from sklearn.model_selection import train_test_split\n",
    "\n",
    "X_train, X_test, Y_train, Y_test = train_test_split(boston.data, boston.target)\n",
    "\n",
    "print(\"Train/Test Sizes : \", X_train.shape, X_test.shape, Y_train.shape, Y_test.shape)\n",
    "\n",
    "# interaction_constraints\n",
    "booster = lgb.LGBMModel(objective=\"regression\", n_estimators=10,\n",
    "                        interaction_constraints = [[0,1,2,11,12], [3, 4],[6,10], [5,9], [7,8]])\n",
    "\n",
    "booster.fit(X_train, Y_train,\n",
    "            eval_set=[(X_test, Y_test),], eval_metric=\"rmse\",\n",
    "            )\n",
    "\n",
    "from sklearn.metrics import r2_score\n",
    "\n",
    "test_preds = booster.predict(X_test)\n",
    "train_preds = booster.predict(X_train)\n",
    "\n",
    "print(\"\\nTest  R2 Score : %.2f\"%r2_score(Y_test, test_preds))\n",
    "print(\"Train R2 Score : %.2f\"%r2_score(Y_train, train_preds))"
   ]
  },
  {
   "cell_type": "markdown",
   "id": "3a49f6f7",
   "metadata": {},
   "source": [
    "## Callbacks"
   ]
  },
  {
   "cell_type": "markdown",
   "id": "e9b1ce93",
   "metadata": {},
   "source": [
    "Lightgbm provides users with a list of callback functions for a different purpose that gets executed after each iteration of training. Below is a list of available callback functions with lightgbm:\n",
    "\n",
    "- early_stopping(stopping_rounds) - This callback function accepts an integer specifying whether to stop training if evaluation metric results on the last evaluation set are not improved for that many iterations.\n",
    "- print_evaluation(period, show_stdv) - This callback function accepts integer values specifying how often to print evaluation results. Evaluation metric results are printed at every that many iterations as specified.\n",
    "- record_evaluation(eval_result) - This callback function accepts a dictionary in which evaluation results will be recorded.\n",
    "- reset_parameter() - This callback function lets us reset the learning rate after each iteration of training. It accepts an array of size the same as the number of iterations or callback returning the new learning rate for each iteration.\n",
    "\n",
    "The callbacks parameter which is available with the train() method and the fit() method of estimators accepts a list of callback functions.\n",
    "\n",
    "Below we have explained with simple examples of how we can use different callback functions. The explanation of the early_stopping() callback function has been covered in the early stopping training section of this tutorial."
   ]
  },
  {
   "cell_type": "code",
   "execution_count": 59,
   "id": "0b406483",
   "metadata": {},
   "outputs": [],
   "source": [
    "def first_grad(predt, dmat):\n",
    "    '''Compute the first derivative for mean squared error.'''\n",
    "    y = dmat.get_label() if isinstance(dmat, lgb.Dataset) else dmat\n",
    "    return 2*(y-predt)\n",
    "\n",
    "def second_grad(predt, dmat):\n",
    "    '''Compute the second derivative for mean squared error.'''\n",
    "    y = dmat.get_label() if isinstance(dmat, lgb.Dataset) else dmat\n",
    "    return [1] * len(predt)\n",
    "\n",
    "def mean_sqaured_error(predt, dmat):\n",
    "    ''''Mean squared error function.'''\n",
    "    predt[predt < -1] = -1 + 1e-6\n",
    "    grad = first_grad(predt, dmat)\n",
    "    hess = second_grad(predt, dmat)\n",
    "    return grad, hess"
   ]
  },
  {
   "cell_type": "code",
   "execution_count": 61,
   "id": "526a6085",
   "metadata": {},
   "outputs": [],
   "source": [
    "def mean_absolute_error(preds, dmat):\n",
    "    actuals = dmat.get_label() if isinstance(dmat, lgb.Dataset) else dmat\n",
    "    err = (actuals - preds).sum()\n",
    "    is_higher_better = False\n",
    "    return \"MAE\", err, is_higher_better"
   ]
  },
  {
   "cell_type": "code",
   "execution_count": 60,
   "id": "42cbc977",
   "metadata": {},
   "outputs": [
    {
     "name": "stdout",
     "output_type": "stream",
     "text": [
      "Train/Test Sizes :  (379, 13) (127, 13) (379,) (127,)\n",
      "[3]\tvalid_0's rmse: 14.0513\n",
      "[6]\tvalid_0's rmse: 9.11206\n",
      "[9]\tvalid_0's rmse: 7.02225\n",
      "\n",
      "Test  R2 Score : 0.47\n",
      "Train R2 Score : 0.84\n"
     ]
    }
   ],
   "source": [
    "from sklearn.model_selection import train_test_split\n",
    "\n",
    "X_train, X_test, Y_train, Y_test = train_test_split(boston.data, boston.target)\n",
    "\n",
    "print(\"Train/Test Sizes : \", X_train.shape, X_test.shape, Y_train.shape, Y_test.shape)\n",
    "\n",
    "booster = lgb.LGBMModel(objective=mean_sqaured_error, n_estimators=10,)\n",
    "\n",
    "# lgb.callback.print_evaluation\n",
    "booster.fit(X_train, Y_train,\n",
    "            eval_set=[(X_test, Y_test),], eval_metric=\"rmse\", verbose=False,\n",
    "            callbacks=[lgb.callback.print_evaluation(period=3)])\n",
    "\n",
    "from sklearn.metrics import r2_score\n",
    "\n",
    "test_preds = booster.predict(X_test)\n",
    "train_preds = booster.predict(X_train)\n",
    "\n",
    "print(\"\\nTest  R2 Score : %.2f\"%r2_score(Y_test, test_preds))\n",
    "print(\"Train R2 Score : %.2f\"%r2_score(Y_train, train_preds))"
   ]
  },
  {
   "cell_type": "code",
   "execution_count": 66,
   "id": "8d344182",
   "metadata": {},
   "outputs": [
    {
     "name": "stdout",
     "output_type": "stream",
     "text": [
      "Train/Test Sizes :  (379, 13) (127, 13) (379,) (127,)\n",
      "[3]\tvalid_0's rmse: 12.4224\n",
      "[6]\tvalid_0's rmse: 6.86183\n",
      "[9]\tvalid_0's rmse: 4.441\n",
      "\n",
      "Test  R2 Score : 0.80\n",
      "Train R2 Score : 0.80\n",
      "Evaluation Results :  {'valid_0': OrderedDict([('rmse', [19.161300519739168, 15.373207569394955, 12.422387932970771, 10.111529270395359, 8.290175244988973, 6.861832654328351, 5.808810060073737, 5.013050820616607, 4.441003018373879, 4.054905874624719])])}\n"
     ]
    }
   ],
   "source": [
    "from sklearn.model_selection import train_test_split\n",
    "\n",
    "X_train, X_test, Y_train, Y_test = train_test_split(boston.data, boston.target)\n",
    "\n",
    "print(\"Train/Test Sizes : \", X_train.shape, X_test.shape, Y_train.shape, Y_test.shape)\n",
    "\n",
    "booster = lgb.LGBMModel(objective=mean_sqaured_error, n_estimators=10,)\n",
    "\n",
    "# lgb.print_evaluation(period=3), lgb.record_evaluation(evals_results)\n",
    "evals_results = {} # creat an empty dict\n",
    "\n",
    "booster.fit(X_train, Y_train,\n",
    "            eval_set=[(X_test, Y_test),], eval_metric=\"rmse\", verbose=False,\n",
    "            callbacks=[lgb.print_evaluation(period=3), lgb.record_evaluation(evals_results)])\n",
    "\n",
    "from sklearn.metrics import r2_score\n",
    "\n",
    "test_preds = booster.predict(X_test)\n",
    "train_preds = booster.predict(X_train)\n",
    "\n",
    "print(\"\\nTest  R2 Score : %.2f\"%r2_score(Y_test, test_preds))\n",
    "print(\"Train R2 Score : %.2f\"%r2_score(Y_train, train_preds))\n",
    "print(\"Evaluation Results : \", evals_results)"
   ]
  },
  {
   "cell_type": "code",
   "execution_count": 67,
   "id": "71c4c4a1",
   "metadata": {},
   "outputs": [
    {
     "name": "stdout",
     "output_type": "stream",
     "text": [
      "Train/Test Sizes :  (379, 13) (127, 13) (379,) (127,)\n",
      "[1]\tvalid_0's rmse: 20.5495\n",
      "[2]\tvalid_0's rmse: 12.9511\n",
      "[3]\tvalid_0's rmse: 6.656\n",
      "[4]\tvalid_0's rmse: 4.55017\n",
      "[5]\tvalid_0's rmse: 4.18369\n",
      "[6]\tvalid_0's rmse: 3.97251\n",
      "[7]\tvalid_0's rmse: 4.00425\n",
      "[8]\tvalid_0's rmse: 3.87624\n",
      "[9]\tvalid_0's rmse: 3.963\n",
      "[10]\tvalid_0's rmse: 3.75744\n",
      "\n",
      "Test  R2 Score : 0.87\n",
      "Train R2 Score : 0.94\n"
     ]
    }
   ],
   "source": [
    "from sklearn.model_selection import train_test_split\n",
    "\n",
    "X_train, X_test, Y_train, Y_test = train_test_split(boston.data, boston.target)\n",
    "\n",
    "print(\"Train/Test Sizes : \", X_train.shape, X_test.shape, Y_train.shape, Y_test.shape)\n",
    "\n",
    "booster = lgb.LGBMModel(objective=mean_sqaured_error, n_estimators=10,)\n",
    "\n",
    "# lgb.reset_parameter\n",
    "booster.fit(X_train, Y_train,\n",
    "            eval_set=[(X_test, Y_test),], eval_metric=\"rmse\",\n",
    "            callbacks=[lgb.reset_parameter(learning_rate=np.linspace(0.1,1,10).tolist())])\n",
    "\n",
    "from sklearn.metrics import r2_score\n",
    "\n",
    "test_preds = booster.predict(X_test)\n",
    "train_preds = booster.predict(X_train)\n",
    "\n",
    "print(\"\\nTest  R2 Score : %.2f\"%r2_score(Y_test, test_preds))\n",
    "print(\"Train R2 Score : %.2f\"%r2_score(Y_train, train_preds))"
   ]
  },
  {
   "cell_type": "code",
   "execution_count": null,
   "id": "2c65160f",
   "metadata": {},
   "outputs": [],
   "source": []
  }
 ],
 "metadata": {
  "kernelspec": {
   "display_name": "Python 3",
   "language": "python",
   "name": "python3"
  },
  "language_info": {
   "codemirror_mode": {
    "name": "ipython",
    "version": 3
   },
   "file_extension": ".py",
   "mimetype": "text/x-python",
   "name": "python",
   "nbconvert_exporter": "python",
   "pygments_lexer": "ipython3",
   "version": "3.8.8"
  }
 },
 "nbformat": 4,
 "nbformat_minor": 5
}
