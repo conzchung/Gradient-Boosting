{
 "cells": [
  {
   "cell_type": "markdown",
   "id": "f84b83bc",
   "metadata": {},
   "source": [
    "# XGBoost (Extreme Gradient Boosting)"
   ]
  },
  {
   "cell_type": "markdown",
   "id": "29ed7b5b",
   "metadata": {},
   "source": [
    "Xgboost is a machine learning library that implements the gradient boosting trees concept. It's designed to be quite fast compared to the implementation available in sklearn. Xgboost lets us handle a large amount of data that can have samples in billions with ease. It can run in parallel and distributed environments to speed up the training process. The distributed algorithm can be useful if data does not fit into to main memory of the machine. Currently, it has support for dask to run the algorithm in a distributed environment. Xgboost even supports running an algorithm on GPU with simple configuration which will complete quite fast compared to when run on CPU. Xgboost provides API in C, C++, Python, R, Java, Julia, Ruby, and Swift. Xgboost code can be run on a distributed environment like AWS YARN, Hadoop, etc. It even provides an interface to run the algorithm from the command line/shell. Apart from this, xgboost provides support for controlling feature interactions, custom evaluation functions, callbacks during training, monotonic constraints, etc. As a part of this tutorial, we'll explain the API of xgboost and its various features through different examples. We'll try to cover the majority of features available from xgboost to make this tutorial a short reference to master xgboost API."
   ]
  },
  {
   "cell_type": "code",
   "execution_count": 2,
   "id": "4e4947e7",
   "metadata": {},
   "outputs": [
    {
     "name": "stdout",
     "output_type": "stream",
     "text": [
      "XGB Version          :  1.3.2\n",
      "Scikit-Learn Version :  0.24.1\n"
     ]
    },
    {
     "data": {
      "application/javascript": [
       "\n",
       "            setTimeout(function() {\n",
       "                var nbb_cell_id = 2;\n",
       "                var nbb_unformatted_code = \"import pandas as pd\\nimport numpy as np\\n\\nimport matplotlib.pyplot as plt\\n\\nimport warnings\\n\\nwarnings.filterwarnings(\\\"ignore\\\")\\npd.set_option(\\\"display.max_columns\\\", 50)\\n\\nimport xgboost as xgb\\nimport sklearn\\n\\nprint(\\\"XGB Version          : \\\", xgb.__version__)\\nprint(\\\"Scikit-Learn Version : \\\", sklearn.__version__)\";\n",
       "                var nbb_formatted_code = \"import pandas as pd\\nimport numpy as np\\n\\nimport matplotlib.pyplot as plt\\n\\nimport warnings\\n\\nwarnings.filterwarnings(\\\"ignore\\\")\\npd.set_option(\\\"display.max_columns\\\", 50)\\n\\nimport xgboost as xgb\\nimport sklearn\\n\\nprint(\\\"XGB Version          : \\\", xgb.__version__)\\nprint(\\\"Scikit-Learn Version : \\\", sklearn.__version__)\";\n",
       "                var nbb_cells = Jupyter.notebook.get_cells();\n",
       "                for (var i = 0; i < nbb_cells.length; ++i) {\n",
       "                    if (nbb_cells[i].input_prompt_number == nbb_cell_id) {\n",
       "                        if (nbb_cells[i].get_text() == nbb_unformatted_code) {\n",
       "                             nbb_cells[i].set_text(nbb_formatted_code);\n",
       "                        }\n",
       "                        break;\n",
       "                    }\n",
       "                }\n",
       "            }, 500);\n",
       "            "
      ],
      "text/plain": [
       "<IPython.core.display.Javascript object>"
      ]
     },
     "metadata": {},
     "output_type": "display_data"
    }
   ],
   "source": [
    "import pandas as pd\n",
    "import numpy as np\n",
    "\n",
    "import matplotlib.pyplot as plt\n",
    "\n",
    "import warnings\n",
    "\n",
    "warnings.filterwarnings(\"ignore\")\n",
    "pd.set_option(\"display.max_columns\", 50)\n",
    "\n",
    "import xgboost as xgb\n",
    "import sklearn\n",
    "\n",
    "print(\"XGB Version          : \", xgb.__version__)\n",
    "print(\"Scikit-Learn Version : \", sklearn.__version__)"
   ]
  },
  {
   "cell_type": "markdown",
   "id": "c9c4425d",
   "metadata": {},
   "source": [
    "## Load Datasets"
   ]
  },
  {
   "cell_type": "markdown",
   "id": "a181f76f",
   "metadata": {},
   "source": [
    "We’ll be using the below-mentioned three different datasets which are available from sklearn as a part of this tutorial for explanation purposes.\n",
    "\n",
    "- Boston Housing Dataset: It's a regression problem dataset which has information about a various attribute of houses in Boston and their price in dollar. This will be used for regression tasks.\n",
    "- Breast Cancer Dataset: It's a classification dataset which has information about two different types of tumor. It'll be used for explaining binary classification tasks.\n",
    "- Wine Dataset - It's a classification dataset which has information about ingredients used in three different types of wines. It'll be used for explaining multi-class classification tasks.\n",
    "\n",
    "We have loaded all three datasets mentioned one by one below. We are printing descriptions of datasets which gives us an overview of dataset features and size. We have even loaded each dataset as a pandas data frame and displayed the first few samples of data."
   ]
  },
  {
   "cell_type": "markdown",
   "id": "2d0ff2e5",
   "metadata": {},
   "source": [
    "### Boston Housing Dataset"
   ]
  },
  {
   "cell_type": "code",
   "execution_count": 3,
   "id": "65fc7ea1",
   "metadata": {},
   "outputs": [
    {
     "name": "stdout",
     "output_type": "stream",
     "text": [
      "**Data Set Characteristics:**  \n",
      "\n",
      "    :Number of Instances: 506 \n",
      "\n",
      "    :Number of Attributes: 13 numeric/categorical predictive. Median Value (attribute 14) is usually the target.\n",
      "\n",
      "    :Attribute Information (in order):\n",
      "        - CRIM     per capita crime rate by town\n",
      "        - ZN       proportion of residential land zoned for lots over 25,000 sq.ft.\n",
      "        - INDUS    proportion of non-retail business acres per town\n",
      "        - CHAS     Charles River dummy variable (= 1 if tract bounds river; 0 otherwise)\n",
      "        - NOX      nitric oxides concentration (parts per 10 million)\n",
      "        - RM       average number of rooms per dwelling\n",
      "        - AGE      proportion of owner-occupied units built prior to 1940\n",
      "        - DIS      weighted distances to five Boston employment centres\n",
      "        - RAD      index of accessibility to radial highways\n",
      "        - TAX      full-value property-tax rate per $10,000\n",
      "        - PTRATIO  pupil-teacher ratio by town\n",
      "        - B        1000(Bk - 0.63)^2 where Bk is the proportion of blacks by town\n",
      "        - LSTAT    % lower status of the population\n",
      "        - MEDV     Median value of owner-occupied homes in $1000's\n",
      "\n",
      "    :Missing Attribute Values: None\n",
      "\n"
     ]
    },
    {
     "data": {
      "text/html": [
       "<div>\n",
       "<style scoped>\n",
       "    .dataframe tbody tr th:only-of-type {\n",
       "        vertical-align: middle;\n",
       "    }\n",
       "\n",
       "    .dataframe tbody tr th {\n",
       "        vertical-align: top;\n",
       "    }\n",
       "\n",
       "    .dataframe thead th {\n",
       "        text-align: right;\n",
       "    }\n",
       "</style>\n",
       "<table border=\"1\" class=\"dataframe\">\n",
       "  <thead>\n",
       "    <tr style=\"text-align: right;\">\n",
       "      <th></th>\n",
       "      <th>CRIM</th>\n",
       "      <th>ZN</th>\n",
       "      <th>INDUS</th>\n",
       "      <th>CHAS</th>\n",
       "      <th>NOX</th>\n",
       "      <th>RM</th>\n",
       "      <th>AGE</th>\n",
       "      <th>DIS</th>\n",
       "      <th>RAD</th>\n",
       "      <th>TAX</th>\n",
       "      <th>PTRATIO</th>\n",
       "      <th>B</th>\n",
       "      <th>LSTAT</th>\n",
       "      <th>Price</th>\n",
       "    </tr>\n",
       "  </thead>\n",
       "  <tbody>\n",
       "    <tr>\n",
       "      <th>0</th>\n",
       "      <td>0.00632</td>\n",
       "      <td>18.0</td>\n",
       "      <td>2.31</td>\n",
       "      <td>0.0</td>\n",
       "      <td>0.538</td>\n",
       "      <td>6.575</td>\n",
       "      <td>65.2</td>\n",
       "      <td>4.0900</td>\n",
       "      <td>1.0</td>\n",
       "      <td>296.0</td>\n",
       "      <td>15.3</td>\n",
       "      <td>396.90</td>\n",
       "      <td>4.98</td>\n",
       "      <td>24.0</td>\n",
       "    </tr>\n",
       "    <tr>\n",
       "      <th>1</th>\n",
       "      <td>0.02731</td>\n",
       "      <td>0.0</td>\n",
       "      <td>7.07</td>\n",
       "      <td>0.0</td>\n",
       "      <td>0.469</td>\n",
       "      <td>6.421</td>\n",
       "      <td>78.9</td>\n",
       "      <td>4.9671</td>\n",
       "      <td>2.0</td>\n",
       "      <td>242.0</td>\n",
       "      <td>17.8</td>\n",
       "      <td>396.90</td>\n",
       "      <td>9.14</td>\n",
       "      <td>21.6</td>\n",
       "    </tr>\n",
       "    <tr>\n",
       "      <th>2</th>\n",
       "      <td>0.02729</td>\n",
       "      <td>0.0</td>\n",
       "      <td>7.07</td>\n",
       "      <td>0.0</td>\n",
       "      <td>0.469</td>\n",
       "      <td>7.185</td>\n",
       "      <td>61.1</td>\n",
       "      <td>4.9671</td>\n",
       "      <td>2.0</td>\n",
       "      <td>242.0</td>\n",
       "      <td>17.8</td>\n",
       "      <td>392.83</td>\n",
       "      <td>4.03</td>\n",
       "      <td>34.7</td>\n",
       "    </tr>\n",
       "    <tr>\n",
       "      <th>3</th>\n",
       "      <td>0.03237</td>\n",
       "      <td>0.0</td>\n",
       "      <td>2.18</td>\n",
       "      <td>0.0</td>\n",
       "      <td>0.458</td>\n",
       "      <td>6.998</td>\n",
       "      <td>45.8</td>\n",
       "      <td>6.0622</td>\n",
       "      <td>3.0</td>\n",
       "      <td>222.0</td>\n",
       "      <td>18.7</td>\n",
       "      <td>394.63</td>\n",
       "      <td>2.94</td>\n",
       "      <td>33.4</td>\n",
       "    </tr>\n",
       "    <tr>\n",
       "      <th>4</th>\n",
       "      <td>0.06905</td>\n",
       "      <td>0.0</td>\n",
       "      <td>2.18</td>\n",
       "      <td>0.0</td>\n",
       "      <td>0.458</td>\n",
       "      <td>7.147</td>\n",
       "      <td>54.2</td>\n",
       "      <td>6.0622</td>\n",
       "      <td>3.0</td>\n",
       "      <td>222.0</td>\n",
       "      <td>18.7</td>\n",
       "      <td>396.90</td>\n",
       "      <td>5.33</td>\n",
       "      <td>36.2</td>\n",
       "    </tr>\n",
       "  </tbody>\n",
       "</table>\n",
       "</div>"
      ],
      "text/plain": [
       "      CRIM    ZN  INDUS  CHAS    NOX     RM   AGE     DIS  RAD    TAX  \\\n",
       "0  0.00632  18.0   2.31   0.0  0.538  6.575  65.2  4.0900  1.0  296.0   \n",
       "1  0.02731   0.0   7.07   0.0  0.469  6.421  78.9  4.9671  2.0  242.0   \n",
       "2  0.02729   0.0   7.07   0.0  0.469  7.185  61.1  4.9671  2.0  242.0   \n",
       "3  0.03237   0.0   2.18   0.0  0.458  6.998  45.8  6.0622  3.0  222.0   \n",
       "4  0.06905   0.0   2.18   0.0  0.458  7.147  54.2  6.0622  3.0  222.0   \n",
       "\n",
       "   PTRATIO       B  LSTAT  Price  \n",
       "0     15.3  396.90   4.98   24.0  \n",
       "1     17.8  396.90   9.14   21.6  \n",
       "2     17.8  392.83   4.03   34.7  \n",
       "3     18.7  394.63   2.94   33.4  \n",
       "4     18.7  396.90   5.33   36.2  "
      ]
     },
     "execution_count": 3,
     "metadata": {},
     "output_type": "execute_result"
    },
    {
     "data": {
      "application/javascript": [
       "\n",
       "            setTimeout(function() {\n",
       "                var nbb_cell_id = 3;\n",
       "                var nbb_unformatted_code = \"from sklearn.datasets import load_boston\\n\\nboston = load_boston()\\n\\nfor line in boston.DESCR.split(\\\"\\\\n\\\")[5:29]:\\n    print(line)\\n\\nboston_df = pd.DataFrame(data=boston.data, columns = boston.feature_names)\\nboston_df[\\\"Price\\\"] = boston.target\\n\\nboston_df.head()\";\n",
       "                var nbb_formatted_code = \"from sklearn.datasets import load_boston\\n\\nboston = load_boston()\\n\\nfor line in boston.DESCR.split(\\\"\\\\n\\\")[5:29]:\\n    print(line)\\n\\nboston_df = pd.DataFrame(data=boston.data, columns=boston.feature_names)\\nboston_df[\\\"Price\\\"] = boston.target\\n\\nboston_df.head()\";\n",
       "                var nbb_cells = Jupyter.notebook.get_cells();\n",
       "                for (var i = 0; i < nbb_cells.length; ++i) {\n",
       "                    if (nbb_cells[i].input_prompt_number == nbb_cell_id) {\n",
       "                        if (nbb_cells[i].get_text() == nbb_unformatted_code) {\n",
       "                             nbb_cells[i].set_text(nbb_formatted_code);\n",
       "                        }\n",
       "                        break;\n",
       "                    }\n",
       "                }\n",
       "            }, 500);\n",
       "            "
      ],
      "text/plain": [
       "<IPython.core.display.Javascript object>"
      ]
     },
     "metadata": {},
     "output_type": "display_data"
    }
   ],
   "source": [
    "from sklearn.datasets import load_boston\n",
    "\n",
    "boston = load_boston()\n",
    "\n",
    "for line in boston.DESCR.split(\"\\n\")[5:29]:\n",
    "    print(line)\n",
    "\n",
    "boston_df = pd.DataFrame(data=boston.data, columns=boston.feature_names)\n",
    "boston_df[\"Price\"] = boston.target\n",
    "\n",
    "boston_df.head()"
   ]
  },
  {
   "cell_type": "markdown",
   "id": "cb7cfbeb",
   "metadata": {},
   "source": [
    "### Breast Cancer Dataset"
   ]
  },
  {
   "cell_type": "code",
   "execution_count": 4,
   "id": "8d105e74",
   "metadata": {},
   "outputs": [
    {
     "name": "stdout",
     "output_type": "stream",
     "text": [
      "**Data Set Characteristics:**\n",
      "\n",
      "    :Number of Instances: 569\n",
      "\n",
      "    :Number of Attributes: 30 numeric, predictive attributes and the class\n",
      "\n",
      "    :Attribute Information:\n",
      "        - radius (mean of distances from center to points on the perimeter)\n",
      "        - texture (standard deviation of gray-scale values)\n",
      "        - perimeter\n",
      "        - area\n",
      "        - smoothness (local variation in radius lengths)\n",
      "        - compactness (perimeter^2 / area - 1.0)\n",
      "        - concavity (severity of concave portions of the contour)\n",
      "        - concave points (number of concave portions of the contour)\n",
      "        - symmetry\n",
      "        - fractal dimension (\"coastline approximation\" - 1)\n",
      "\n",
      "        The mean, standard error, and \"worst\" or largest (mean of the three\n",
      "        worst/largest values) of these features were computed for each image,\n",
      "        resulting in 30 features.  For instance, field 0 is Mean Radius, field\n",
      "        10 is Radius SE, field 20 is Worst Radius.\n",
      "\n",
      "        - class:\n",
      "                - WDBC-Malignant\n",
      "                - WDBC-Benign\n"
     ]
    },
    {
     "data": {
      "text/html": [
       "<div>\n",
       "<style scoped>\n",
       "    .dataframe tbody tr th:only-of-type {\n",
       "        vertical-align: middle;\n",
       "    }\n",
       "\n",
       "    .dataframe tbody tr th {\n",
       "        vertical-align: top;\n",
       "    }\n",
       "\n",
       "    .dataframe thead th {\n",
       "        text-align: right;\n",
       "    }\n",
       "</style>\n",
       "<table border=\"1\" class=\"dataframe\">\n",
       "  <thead>\n",
       "    <tr style=\"text-align: right;\">\n",
       "      <th></th>\n",
       "      <th>mean radius</th>\n",
       "      <th>mean texture</th>\n",
       "      <th>mean perimeter</th>\n",
       "      <th>mean area</th>\n",
       "      <th>mean smoothness</th>\n",
       "      <th>mean compactness</th>\n",
       "      <th>mean concavity</th>\n",
       "      <th>mean concave points</th>\n",
       "      <th>mean symmetry</th>\n",
       "      <th>mean fractal dimension</th>\n",
       "      <th>radius error</th>\n",
       "      <th>texture error</th>\n",
       "      <th>perimeter error</th>\n",
       "      <th>area error</th>\n",
       "      <th>smoothness error</th>\n",
       "      <th>compactness error</th>\n",
       "      <th>concavity error</th>\n",
       "      <th>concave points error</th>\n",
       "      <th>symmetry error</th>\n",
       "      <th>fractal dimension error</th>\n",
       "      <th>worst radius</th>\n",
       "      <th>worst texture</th>\n",
       "      <th>worst perimeter</th>\n",
       "      <th>worst area</th>\n",
       "      <th>worst smoothness</th>\n",
       "      <th>worst compactness</th>\n",
       "      <th>worst concavity</th>\n",
       "      <th>worst concave points</th>\n",
       "      <th>worst symmetry</th>\n",
       "      <th>worst fractal dimension</th>\n",
       "      <th>TumorType</th>\n",
       "    </tr>\n",
       "  </thead>\n",
       "  <tbody>\n",
       "    <tr>\n",
       "      <th>0</th>\n",
       "      <td>17.99</td>\n",
       "      <td>10.38</td>\n",
       "      <td>122.80</td>\n",
       "      <td>1001.0</td>\n",
       "      <td>0.11840</td>\n",
       "      <td>0.27760</td>\n",
       "      <td>0.3001</td>\n",
       "      <td>0.14710</td>\n",
       "      <td>0.2419</td>\n",
       "      <td>0.07871</td>\n",
       "      <td>1.0950</td>\n",
       "      <td>0.9053</td>\n",
       "      <td>8.589</td>\n",
       "      <td>153.40</td>\n",
       "      <td>0.006399</td>\n",
       "      <td>0.04904</td>\n",
       "      <td>0.05373</td>\n",
       "      <td>0.01587</td>\n",
       "      <td>0.03003</td>\n",
       "      <td>0.006193</td>\n",
       "      <td>25.38</td>\n",
       "      <td>17.33</td>\n",
       "      <td>184.60</td>\n",
       "      <td>2019.0</td>\n",
       "      <td>0.1622</td>\n",
       "      <td>0.6656</td>\n",
       "      <td>0.7119</td>\n",
       "      <td>0.2654</td>\n",
       "      <td>0.4601</td>\n",
       "      <td>0.11890</td>\n",
       "      <td>0</td>\n",
       "    </tr>\n",
       "    <tr>\n",
       "      <th>1</th>\n",
       "      <td>20.57</td>\n",
       "      <td>17.77</td>\n",
       "      <td>132.90</td>\n",
       "      <td>1326.0</td>\n",
       "      <td>0.08474</td>\n",
       "      <td>0.07864</td>\n",
       "      <td>0.0869</td>\n",
       "      <td>0.07017</td>\n",
       "      <td>0.1812</td>\n",
       "      <td>0.05667</td>\n",
       "      <td>0.5435</td>\n",
       "      <td>0.7339</td>\n",
       "      <td>3.398</td>\n",
       "      <td>74.08</td>\n",
       "      <td>0.005225</td>\n",
       "      <td>0.01308</td>\n",
       "      <td>0.01860</td>\n",
       "      <td>0.01340</td>\n",
       "      <td>0.01389</td>\n",
       "      <td>0.003532</td>\n",
       "      <td>24.99</td>\n",
       "      <td>23.41</td>\n",
       "      <td>158.80</td>\n",
       "      <td>1956.0</td>\n",
       "      <td>0.1238</td>\n",
       "      <td>0.1866</td>\n",
       "      <td>0.2416</td>\n",
       "      <td>0.1860</td>\n",
       "      <td>0.2750</td>\n",
       "      <td>0.08902</td>\n",
       "      <td>0</td>\n",
       "    </tr>\n",
       "    <tr>\n",
       "      <th>2</th>\n",
       "      <td>19.69</td>\n",
       "      <td>21.25</td>\n",
       "      <td>130.00</td>\n",
       "      <td>1203.0</td>\n",
       "      <td>0.10960</td>\n",
       "      <td>0.15990</td>\n",
       "      <td>0.1974</td>\n",
       "      <td>0.12790</td>\n",
       "      <td>0.2069</td>\n",
       "      <td>0.05999</td>\n",
       "      <td>0.7456</td>\n",
       "      <td>0.7869</td>\n",
       "      <td>4.585</td>\n",
       "      <td>94.03</td>\n",
       "      <td>0.006150</td>\n",
       "      <td>0.04006</td>\n",
       "      <td>0.03832</td>\n",
       "      <td>0.02058</td>\n",
       "      <td>0.02250</td>\n",
       "      <td>0.004571</td>\n",
       "      <td>23.57</td>\n",
       "      <td>25.53</td>\n",
       "      <td>152.50</td>\n",
       "      <td>1709.0</td>\n",
       "      <td>0.1444</td>\n",
       "      <td>0.4245</td>\n",
       "      <td>0.4504</td>\n",
       "      <td>0.2430</td>\n",
       "      <td>0.3613</td>\n",
       "      <td>0.08758</td>\n",
       "      <td>0</td>\n",
       "    </tr>\n",
       "    <tr>\n",
       "      <th>3</th>\n",
       "      <td>11.42</td>\n",
       "      <td>20.38</td>\n",
       "      <td>77.58</td>\n",
       "      <td>386.1</td>\n",
       "      <td>0.14250</td>\n",
       "      <td>0.28390</td>\n",
       "      <td>0.2414</td>\n",
       "      <td>0.10520</td>\n",
       "      <td>0.2597</td>\n",
       "      <td>0.09744</td>\n",
       "      <td>0.4956</td>\n",
       "      <td>1.1560</td>\n",
       "      <td>3.445</td>\n",
       "      <td>27.23</td>\n",
       "      <td>0.009110</td>\n",
       "      <td>0.07458</td>\n",
       "      <td>0.05661</td>\n",
       "      <td>0.01867</td>\n",
       "      <td>0.05963</td>\n",
       "      <td>0.009208</td>\n",
       "      <td>14.91</td>\n",
       "      <td>26.50</td>\n",
       "      <td>98.87</td>\n",
       "      <td>567.7</td>\n",
       "      <td>0.2098</td>\n",
       "      <td>0.8663</td>\n",
       "      <td>0.6869</td>\n",
       "      <td>0.2575</td>\n",
       "      <td>0.6638</td>\n",
       "      <td>0.17300</td>\n",
       "      <td>0</td>\n",
       "    </tr>\n",
       "    <tr>\n",
       "      <th>4</th>\n",
       "      <td>20.29</td>\n",
       "      <td>14.34</td>\n",
       "      <td>135.10</td>\n",
       "      <td>1297.0</td>\n",
       "      <td>0.10030</td>\n",
       "      <td>0.13280</td>\n",
       "      <td>0.1980</td>\n",
       "      <td>0.10430</td>\n",
       "      <td>0.1809</td>\n",
       "      <td>0.05883</td>\n",
       "      <td>0.7572</td>\n",
       "      <td>0.7813</td>\n",
       "      <td>5.438</td>\n",
       "      <td>94.44</td>\n",
       "      <td>0.011490</td>\n",
       "      <td>0.02461</td>\n",
       "      <td>0.05688</td>\n",
       "      <td>0.01885</td>\n",
       "      <td>0.01756</td>\n",
       "      <td>0.005115</td>\n",
       "      <td>22.54</td>\n",
       "      <td>16.67</td>\n",
       "      <td>152.20</td>\n",
       "      <td>1575.0</td>\n",
       "      <td>0.1374</td>\n",
       "      <td>0.2050</td>\n",
       "      <td>0.4000</td>\n",
       "      <td>0.1625</td>\n",
       "      <td>0.2364</td>\n",
       "      <td>0.07678</td>\n",
       "      <td>0</td>\n",
       "    </tr>\n",
       "  </tbody>\n",
       "</table>\n",
       "</div>"
      ],
      "text/plain": [
       "   mean radius  mean texture  mean perimeter  mean area  mean smoothness  \\\n",
       "0        17.99         10.38          122.80     1001.0          0.11840   \n",
       "1        20.57         17.77          132.90     1326.0          0.08474   \n",
       "2        19.69         21.25          130.00     1203.0          0.10960   \n",
       "3        11.42         20.38           77.58      386.1          0.14250   \n",
       "4        20.29         14.34          135.10     1297.0          0.10030   \n",
       "\n",
       "   mean compactness  mean concavity  mean concave points  mean symmetry  \\\n",
       "0           0.27760          0.3001              0.14710         0.2419   \n",
       "1           0.07864          0.0869              0.07017         0.1812   \n",
       "2           0.15990          0.1974              0.12790         0.2069   \n",
       "3           0.28390          0.2414              0.10520         0.2597   \n",
       "4           0.13280          0.1980              0.10430         0.1809   \n",
       "\n",
       "   mean fractal dimension  radius error  texture error  perimeter error  \\\n",
       "0                 0.07871        1.0950         0.9053            8.589   \n",
       "1                 0.05667        0.5435         0.7339            3.398   \n",
       "2                 0.05999        0.7456         0.7869            4.585   \n",
       "3                 0.09744        0.4956         1.1560            3.445   \n",
       "4                 0.05883        0.7572         0.7813            5.438   \n",
       "\n",
       "   area error  smoothness error  compactness error  concavity error  \\\n",
       "0      153.40          0.006399            0.04904          0.05373   \n",
       "1       74.08          0.005225            0.01308          0.01860   \n",
       "2       94.03          0.006150            0.04006          0.03832   \n",
       "3       27.23          0.009110            0.07458          0.05661   \n",
       "4       94.44          0.011490            0.02461          0.05688   \n",
       "\n",
       "   concave points error  symmetry error  fractal dimension error  \\\n",
       "0               0.01587         0.03003                 0.006193   \n",
       "1               0.01340         0.01389                 0.003532   \n",
       "2               0.02058         0.02250                 0.004571   \n",
       "3               0.01867         0.05963                 0.009208   \n",
       "4               0.01885         0.01756                 0.005115   \n",
       "\n",
       "   worst radius  worst texture  worst perimeter  worst area  worst smoothness  \\\n",
       "0         25.38          17.33           184.60      2019.0            0.1622   \n",
       "1         24.99          23.41           158.80      1956.0            0.1238   \n",
       "2         23.57          25.53           152.50      1709.0            0.1444   \n",
       "3         14.91          26.50            98.87       567.7            0.2098   \n",
       "4         22.54          16.67           152.20      1575.0            0.1374   \n",
       "\n",
       "   worst compactness  worst concavity  worst concave points  worst symmetry  \\\n",
       "0             0.6656           0.7119                0.2654          0.4601   \n",
       "1             0.1866           0.2416                0.1860          0.2750   \n",
       "2             0.4245           0.4504                0.2430          0.3613   \n",
       "3             0.8663           0.6869                0.2575          0.6638   \n",
       "4             0.2050           0.4000                0.1625          0.2364   \n",
       "\n",
       "   worst fractal dimension  TumorType  \n",
       "0                  0.11890          0  \n",
       "1                  0.08902          0  \n",
       "2                  0.08758          0  \n",
       "3                  0.17300          0  \n",
       "4                  0.07678          0  "
      ]
     },
     "execution_count": 4,
     "metadata": {},
     "output_type": "execute_result"
    },
    {
     "data": {
      "application/javascript": [
       "\n",
       "            setTimeout(function() {\n",
       "                var nbb_cell_id = 4;\n",
       "                var nbb_unformatted_code = \"from sklearn.datasets import load_breast_cancer\\n\\nbreast_cancer = load_breast_cancer()\\n\\nfor line in breast_cancer.DESCR.split(\\\"\\\\n\\\")[5:31]:\\n    print(line)\\n\\nbreast_cancer_df = pd.DataFrame(data=breast_cancer.data, columns = breast_cancer.feature_names)\\nbreast_cancer_df[\\\"TumorType\\\"] = breast_cancer.target\\n\\nbreast_cancer_df.head()\";\n",
       "                var nbb_formatted_code = \"from sklearn.datasets import load_breast_cancer\\n\\nbreast_cancer = load_breast_cancer()\\n\\nfor line in breast_cancer.DESCR.split(\\\"\\\\n\\\")[5:31]:\\n    print(line)\\n\\nbreast_cancer_df = pd.DataFrame(\\n    data=breast_cancer.data, columns=breast_cancer.feature_names\\n)\\nbreast_cancer_df[\\\"TumorType\\\"] = breast_cancer.target\\n\\nbreast_cancer_df.head()\";\n",
       "                var nbb_cells = Jupyter.notebook.get_cells();\n",
       "                for (var i = 0; i < nbb_cells.length; ++i) {\n",
       "                    if (nbb_cells[i].input_prompt_number == nbb_cell_id) {\n",
       "                        if (nbb_cells[i].get_text() == nbb_unformatted_code) {\n",
       "                             nbb_cells[i].set_text(nbb_formatted_code);\n",
       "                        }\n",
       "                        break;\n",
       "                    }\n",
       "                }\n",
       "            }, 500);\n",
       "            "
      ],
      "text/plain": [
       "<IPython.core.display.Javascript object>"
      ]
     },
     "metadata": {},
     "output_type": "display_data"
    }
   ],
   "source": [
    "from sklearn.datasets import load_breast_cancer\n",
    "\n",
    "breast_cancer = load_breast_cancer()\n",
    "\n",
    "for line in breast_cancer.DESCR.split(\"\\n\")[5:31]:\n",
    "    print(line)\n",
    "\n",
    "breast_cancer_df = pd.DataFrame(\n",
    "    data=breast_cancer.data, columns=breast_cancer.feature_names\n",
    ")\n",
    "breast_cancer_df[\"TumorType\"] = breast_cancer.target\n",
    "\n",
    "breast_cancer_df.head()"
   ]
  },
  {
   "cell_type": "markdown",
   "id": "93858a59",
   "metadata": {},
   "source": [
    "### Wine Dataset"
   ]
  },
  {
   "cell_type": "code",
   "execution_count": 5,
   "id": "0cd62cf6",
   "metadata": {},
   "outputs": [
    {
     "name": "stdout",
     "output_type": "stream",
     "text": [
      "**Data Set Characteristics:**\n",
      "\n",
      "    :Number of Instances: 178 (50 in each of three classes)\n",
      "    :Number of Attributes: 13 numeric, predictive attributes and the class\n",
      "    :Attribute Information:\n",
      " \t\t- Alcohol\n",
      " \t\t- Malic acid\n",
      " \t\t- Ash\n",
      "\t\t- Alcalinity of ash  \n",
      " \t\t- Magnesium\n",
      "\t\t- Total phenols\n",
      " \t\t- Flavanoids\n",
      " \t\t- Nonflavanoid phenols\n",
      " \t\t- Proanthocyanins\n",
      "\t\t- Color intensity\n",
      " \t\t- Hue\n",
      " \t\t- OD280/OD315 of diluted wines\n",
      " \t\t- Proline\n",
      "\n",
      "    - class:\n",
      "            - class_0\n",
      "            - class_1\n",
      "            - class_2\n",
      "\t\t\n"
     ]
    },
    {
     "data": {
      "text/html": [
       "<div>\n",
       "<style scoped>\n",
       "    .dataframe tbody tr th:only-of-type {\n",
       "        vertical-align: middle;\n",
       "    }\n",
       "\n",
       "    .dataframe tbody tr th {\n",
       "        vertical-align: top;\n",
       "    }\n",
       "\n",
       "    .dataframe thead th {\n",
       "        text-align: right;\n",
       "    }\n",
       "</style>\n",
       "<table border=\"1\" class=\"dataframe\">\n",
       "  <thead>\n",
       "    <tr style=\"text-align: right;\">\n",
       "      <th></th>\n",
       "      <th>alcohol</th>\n",
       "      <th>malic_acid</th>\n",
       "      <th>ash</th>\n",
       "      <th>alcalinity_of_ash</th>\n",
       "      <th>magnesium</th>\n",
       "      <th>total_phenols</th>\n",
       "      <th>flavanoids</th>\n",
       "      <th>nonflavanoid_phenols</th>\n",
       "      <th>proanthocyanins</th>\n",
       "      <th>color_intensity</th>\n",
       "      <th>hue</th>\n",
       "      <th>od280/od315_of_diluted_wines</th>\n",
       "      <th>proline</th>\n",
       "      <th>WineType</th>\n",
       "    </tr>\n",
       "  </thead>\n",
       "  <tbody>\n",
       "    <tr>\n",
       "      <th>0</th>\n",
       "      <td>14.23</td>\n",
       "      <td>1.71</td>\n",
       "      <td>2.43</td>\n",
       "      <td>15.6</td>\n",
       "      <td>127.0</td>\n",
       "      <td>2.80</td>\n",
       "      <td>3.06</td>\n",
       "      <td>0.28</td>\n",
       "      <td>2.29</td>\n",
       "      <td>5.64</td>\n",
       "      <td>1.04</td>\n",
       "      <td>3.92</td>\n",
       "      <td>1065.0</td>\n",
       "      <td>0</td>\n",
       "    </tr>\n",
       "    <tr>\n",
       "      <th>1</th>\n",
       "      <td>13.20</td>\n",
       "      <td>1.78</td>\n",
       "      <td>2.14</td>\n",
       "      <td>11.2</td>\n",
       "      <td>100.0</td>\n",
       "      <td>2.65</td>\n",
       "      <td>2.76</td>\n",
       "      <td>0.26</td>\n",
       "      <td>1.28</td>\n",
       "      <td>4.38</td>\n",
       "      <td>1.05</td>\n",
       "      <td>3.40</td>\n",
       "      <td>1050.0</td>\n",
       "      <td>0</td>\n",
       "    </tr>\n",
       "    <tr>\n",
       "      <th>2</th>\n",
       "      <td>13.16</td>\n",
       "      <td>2.36</td>\n",
       "      <td>2.67</td>\n",
       "      <td>18.6</td>\n",
       "      <td>101.0</td>\n",
       "      <td>2.80</td>\n",
       "      <td>3.24</td>\n",
       "      <td>0.30</td>\n",
       "      <td>2.81</td>\n",
       "      <td>5.68</td>\n",
       "      <td>1.03</td>\n",
       "      <td>3.17</td>\n",
       "      <td>1185.0</td>\n",
       "      <td>0</td>\n",
       "    </tr>\n",
       "    <tr>\n",
       "      <th>3</th>\n",
       "      <td>14.37</td>\n",
       "      <td>1.95</td>\n",
       "      <td>2.50</td>\n",
       "      <td>16.8</td>\n",
       "      <td>113.0</td>\n",
       "      <td>3.85</td>\n",
       "      <td>3.49</td>\n",
       "      <td>0.24</td>\n",
       "      <td>2.18</td>\n",
       "      <td>7.80</td>\n",
       "      <td>0.86</td>\n",
       "      <td>3.45</td>\n",
       "      <td>1480.0</td>\n",
       "      <td>0</td>\n",
       "    </tr>\n",
       "    <tr>\n",
       "      <th>4</th>\n",
       "      <td>13.24</td>\n",
       "      <td>2.59</td>\n",
       "      <td>2.87</td>\n",
       "      <td>21.0</td>\n",
       "      <td>118.0</td>\n",
       "      <td>2.80</td>\n",
       "      <td>2.69</td>\n",
       "      <td>0.39</td>\n",
       "      <td>1.82</td>\n",
       "      <td>4.32</td>\n",
       "      <td>1.04</td>\n",
       "      <td>2.93</td>\n",
       "      <td>735.0</td>\n",
       "      <td>0</td>\n",
       "    </tr>\n",
       "  </tbody>\n",
       "</table>\n",
       "</div>"
      ],
      "text/plain": [
       "   alcohol  malic_acid   ash  alcalinity_of_ash  magnesium  total_phenols  \\\n",
       "0    14.23        1.71  2.43               15.6      127.0           2.80   \n",
       "1    13.20        1.78  2.14               11.2      100.0           2.65   \n",
       "2    13.16        2.36  2.67               18.6      101.0           2.80   \n",
       "3    14.37        1.95  2.50               16.8      113.0           3.85   \n",
       "4    13.24        2.59  2.87               21.0      118.0           2.80   \n",
       "\n",
       "   flavanoids  nonflavanoid_phenols  proanthocyanins  color_intensity   hue  \\\n",
       "0        3.06                  0.28             2.29             5.64  1.04   \n",
       "1        2.76                  0.26             1.28             4.38  1.05   \n",
       "2        3.24                  0.30             2.81             5.68  1.03   \n",
       "3        3.49                  0.24             2.18             7.80  0.86   \n",
       "4        2.69                  0.39             1.82             4.32  1.04   \n",
       "\n",
       "   od280/od315_of_diluted_wines  proline  WineType  \n",
       "0                          3.92   1065.0         0  \n",
       "1                          3.40   1050.0         0  \n",
       "2                          3.17   1185.0         0  \n",
       "3                          3.45   1480.0         0  \n",
       "4                          2.93    735.0         0  "
      ]
     },
     "execution_count": 5,
     "metadata": {},
     "output_type": "execute_result"
    },
    {
     "data": {
      "application/javascript": [
       "\n",
       "            setTimeout(function() {\n",
       "                var nbb_cell_id = 5;\n",
       "                var nbb_unformatted_code = \"from sklearn.datasets import load_wine\\n\\nwine = load_wine()\\n\\nfor line in wine.DESCR.split(\\\"\\\\n\\\")[5:29]:\\n    print(line)\\n\\nwine_df = pd.DataFrame(data=wine.data, columns = wine.feature_names)\\nwine_df[\\\"WineType\\\"] = wine.target\\n\\nwine_df.head()\";\n",
       "                var nbb_formatted_code = \"from sklearn.datasets import load_wine\\n\\nwine = load_wine()\\n\\nfor line in wine.DESCR.split(\\\"\\\\n\\\")[5:29]:\\n    print(line)\\n\\nwine_df = pd.DataFrame(data=wine.data, columns=wine.feature_names)\\nwine_df[\\\"WineType\\\"] = wine.target\\n\\nwine_df.head()\";\n",
       "                var nbb_cells = Jupyter.notebook.get_cells();\n",
       "                for (var i = 0; i < nbb_cells.length; ++i) {\n",
       "                    if (nbb_cells[i].input_prompt_number == nbb_cell_id) {\n",
       "                        if (nbb_cells[i].get_text() == nbb_unformatted_code) {\n",
       "                             nbb_cells[i].set_text(nbb_formatted_code);\n",
       "                        }\n",
       "                        break;\n",
       "                    }\n",
       "                }\n",
       "            }, 500);\n",
       "            "
      ],
      "text/plain": [
       "<IPython.core.display.Javascript object>"
      ]
     },
     "metadata": {},
     "output_type": "display_data"
    }
   ],
   "source": [
    "from sklearn.datasets import load_wine\n",
    "\n",
    "wine = load_wine()\n",
    "\n",
    "for line in wine.DESCR.split(\"\\n\")[5:29]:\n",
    "    print(line)\n",
    "\n",
    "wine_df = pd.DataFrame(data=wine.data, columns=wine.feature_names)\n",
    "wine_df[\"WineType\"] = wine.target\n",
    "\n",
    "wine_df.head()"
   ]
  },
  {
   "cell_type": "markdown",
   "id": "5edc554c",
   "metadata": {},
   "source": [
    "## Booster: Regression"
   ]
  },
  {
   "cell_type": "markdown",
   "id": "abefa9c8",
   "metadata": {},
   "source": [
    "We'll start with the creation of a simple estimator for the regression task of predicting prices of houses in Boston. We'll explain how we can use API to create an estimator with default parameters which will just work fine. We'll then explain various parameters available for a different purpose.\n",
    "\n",
    "We'll first divide Boston dataset into train (90%) and test (10%) datasets using sklearn's function train_test_split()."
   ]
  },
  {
   "cell_type": "code",
   "execution_count": 6,
   "id": "9f9fa613",
   "metadata": {},
   "outputs": [
    {
     "data": {
      "text/plain": [
       "((455, 13), (51, 13), (455,), (51,))"
      ]
     },
     "execution_count": 6,
     "metadata": {},
     "output_type": "execute_result"
    },
    {
     "data": {
      "application/javascript": [
       "\n",
       "            setTimeout(function() {\n",
       "                var nbb_cell_id = 6;\n",
       "                var nbb_unformatted_code = \"from sklearn.model_selection import train_test_split\\n\\nX_train, X_test, Y_train, Y_test = train_test_split(boston.data, boston.target, train_size=0.90, random_state=42)\\n\\nX_train.shape, X_test.shape, Y_train.shape, Y_test.shape\";\n",
       "                var nbb_formatted_code = \"from sklearn.model_selection import train_test_split\\n\\nX_train, X_test, Y_train, Y_test = train_test_split(\\n    boston.data, boston.target, train_size=0.90, random_state=42\\n)\\n\\nX_train.shape, X_test.shape, Y_train.shape, Y_test.shape\";\n",
       "                var nbb_cells = Jupyter.notebook.get_cells();\n",
       "                for (var i = 0; i < nbb_cells.length; ++i) {\n",
       "                    if (nbb_cells[i].input_prompt_number == nbb_cell_id) {\n",
       "                        if (nbb_cells[i].get_text() == nbb_unformatted_code) {\n",
       "                             nbb_cells[i].set_text(nbb_formatted_code);\n",
       "                        }\n",
       "                        break;\n",
       "                    }\n",
       "                }\n",
       "            }, 500);\n",
       "            "
      ],
      "text/plain": [
       "<IPython.core.display.Javascript object>"
      ]
     },
     "metadata": {},
     "output_type": "display_data"
    }
   ],
   "source": [
    "from sklearn.model_selection import train_test_split\n",
    "\n",
    "X_train, X_test, Y_train, Y_test = train_test_split(\n",
    "    boston.data, boston.target, train_size=0.90, random_state=42\n",
    ")\n",
    "\n",
    "X_train.shape, X_test.shape, Y_train.shape, Y_test.shape"
   ]
  },
  {
   "cell_type": "markdown",
   "id": "ed9cfc5e",
   "metadata": {},
   "source": [
    "Xgboost default API only accepts a dataset that is wrapped in DMatrix. DMatrix is an internal data structure of xgboost which wraps data features and labels both into it. It's designed to be efficient and fastens the training process."
   ]
  },
  {
   "cell_type": "markdown",
   "id": "e2090ad2",
   "metadata": {},
   "source": [
    "### DMatrix()"
   ]
  },
  {
   "cell_type": "markdown",
   "id": "163eb596",
   "metadata": {},
   "source": [
    "We can create a DMatrix instance by setting a list of the below parameters. Only the data parameter is required and all others are optional.\n",
    "\n",
    "- data - This parameter accepts one of the below as input which has values for data features.\n",
    " - pandas dataframe\n",
    " - numpy array\n",
    " - scipy sparse matrix\n",
    " - path to libsvm format text file\n",
    " - libsvm format text\n",
    "- label - It accepts a numpy array of pandas data frame containing labels of the dataset.\n",
    "- missing - It accepts float value in the dataset which should be treated as a float value. The default is None mean np.nan is considered missing.\n",
    "- feature_names - It accepts a list of string specifying feature names of data.\n",
    "- feature_types - It accepts a list of string specifying feature data types.\n",
    "- nthread - It accepts integer specifying the number of threads to use when loading data. The value of -1 uses all available threads on the system."
   ]
  },
  {
   "cell_type": "code",
   "execution_count": 11,
   "id": "835acd10",
   "metadata": {},
   "outputs": [
    {
     "data": {
      "text/plain": [
       "(<xgboost.core.DMatrix at 0x7fea456b62b0>,\n",
       " <xgboost.core.DMatrix at 0x7fea456b67f0>)"
      ]
     },
     "execution_count": 11,
     "metadata": {},
     "output_type": "execute_result"
    },
    {
     "data": {
      "application/javascript": [
       "\n",
       "            setTimeout(function() {\n",
       "                var nbb_cell_id = 11;\n",
       "                var nbb_unformatted_code = \"dmat_train = xgb.DMatrix(X_train, Y_train, feature_names=boston.feature_names)\\ndmat_test = xgb.DMatrix(X_test, Y_test, feature_names=boston.feature_names)\\n\\ndmat_test, dmat_train\";\n",
       "                var nbb_formatted_code = \"dmat_train = xgb.DMatrix(X_train, Y_train, feature_names=boston.feature_names)\\ndmat_test = xgb.DMatrix(X_test, Y_test, feature_names=boston.feature_names)\\n\\ndmat_test, dmat_train\";\n",
       "                var nbb_cells = Jupyter.notebook.get_cells();\n",
       "                for (var i = 0; i < nbb_cells.length; ++i) {\n",
       "                    if (nbb_cells[i].input_prompt_number == nbb_cell_id) {\n",
       "                        if (nbb_cells[i].get_text() == nbb_unformatted_code) {\n",
       "                             nbb_cells[i].set_text(nbb_formatted_code);\n",
       "                        }\n",
       "                        break;\n",
       "                    }\n",
       "                }\n",
       "            }, 500);\n",
       "            "
      ],
      "text/plain": [
       "<IPython.core.display.Javascript object>"
      ]
     },
     "metadata": {},
     "output_type": "display_data"
    }
   ],
   "source": [
    "dmat_train = xgb.DMatrix(X_train, Y_train, feature_names=boston.feature_names)\n",
    "dmat_test = xgb.DMatrix(X_test, Y_test, feature_names=boston.feature_names)\n",
    "\n",
    "dmat_test, dmat_train"
   ]
  },
  {
   "cell_type": "markdown",
   "id": "a3bf840b",
   "metadata": {},
   "source": [
    "The simplest way of creating a booster using xgboost is by calling the train() method of xgboost. The train() method returns an instance of class xgboost.core.Booster after training is completed. We need to pass parameters for boosting algorithm as a dictionary to train method."
   ]
  },
  {
   "cell_type": "markdown",
   "id": "7e2084b5",
   "metadata": {},
   "source": [
    "### train()"
   ]
  },
  {
   "cell_type": "markdown",
   "id": "7ece47cc",
   "metadata": {},
   "source": [
    "Below we have given a list of important parameters of the train() method. Only params and dtrain are required and all other parameters are optional and have default values set to them.\n",
    "\n",
    "- params - It accepts a dictionary of gradient boosting algorithm parameters. We can give it an even empty dictionary and it'll take the default value for all parameters. By default, it'll consider the task to be a regression task and will calculate RMSE loss. We need to specify at least an objective function if we want it to consider a classification task for the data.\n",
    "\n",
    "- dtrain - It accepts DMatrix instances of train data.\n",
    "\n",
    "- num_boost_round - It accepts integer specifying the number of rounds of the training process. The algorithm will iterate over whole training data that many times.\n",
    "\n",
    "- evals - We can provide a list of tuples specifying datasets to be used for evaluation when performing training. We have passed our train and test datasets as evaluation sets hence RMSE for each will be printed after all iterations.\n",
    "\n",
    "- obj - We can give customized objective function which will be maximized/minimized when training algorithm.\n",
    "\n",
    "- feval - We can give a customized evaluation function which will be used to evaluate datasets given to evals.\n",
    "\n",
    "- maximize - It accepts a boolean specifying whether to maximize or minimize our objective/loss function.\n",
    "\n",
    "- early_stopping_rounds - It accepts an integer which instructs the algorithm to stop training if the last eval set in the list has not improved for that many rounds. If the objective/loss of the last eval dataset has not improved for that many consecutive rounds of training then the training process will stop. This parameter requires us to provide an evals parameter for it to work.\n",
    "\n",
    "- evals_result - We can provide an empty dictionary to this parameter and it'll store evaluation results into it.\n",
    "\n",
    "- verbose_eval - It accepts bool or integer specifying whether to print evaluation results. The integer value greater than 0 will print evaluation results at every that many iterations.\n",
    "\n",
    "- callbacks - It accepts a list of callbacks that are applied at the end of each iteration of the training process.\n",
    "\n",
    "Below we have called the train() method of xgboost by passing it a few parameters for boosting algorithm, train data for training, and evaluation set of training and test dataset on which evaluation after each iteration will happen."
   ]
  },
  {
   "cell_type": "code",
   "execution_count": 12,
   "id": "e5301bbb",
   "metadata": {},
   "outputs": [
    {
     "name": "stdout",
     "output_type": "stream",
     "text": [
      "[0]\ttrain-rmse:3.94894\ttest-rmse:3.59159\n",
      "[1]\ttrain-rmse:3.37195\ttest-rmse:3.26373\n",
      "[2]\ttrain-rmse:3.09769\ttest-rmse:3.12218\n",
      "[3]\ttrain-rmse:2.78200\ttest-rmse:2.94107\n",
      "[4]\ttrain-rmse:2.53499\ttest-rmse:2.75222\n",
      "[5]\ttrain-rmse:2.37140\ttest-rmse:2.78515\n",
      "[6]\ttrain-rmse:2.23286\ttest-rmse:2.64519\n",
      "[7]\ttrain-rmse:2.16047\ttest-rmse:2.64290\n",
      "[8]\ttrain-rmse:2.03129\ttest-rmse:2.58895\n",
      "[9]\ttrain-rmse:1.96511\ttest-rmse:2.61442\n"
     ]
    },
    {
     "data": {
      "text/plain": [
       "<xgboost.core.Booster at 0x7fea459a58b0>"
      ]
     },
     "execution_count": 12,
     "metadata": {},
     "output_type": "execute_result"
    },
    {
     "data": {
      "application/javascript": [
       "\n",
       "            setTimeout(function() {\n",
       "                var nbb_cell_id = 12;\n",
       "                var nbb_unformatted_code = \"booster = xgb.train(\\n    {\\\"max_depth\\\": 3, \\\"eta\\\": 1, \\\"objective\\\": \\\"reg:squarederror\\\"},\\n    dmat_train,\\n    evals=[(dmat_train, \\\"train\\\"), (dmat_test, \\\"test\\\")],\\n)\\n\\nbooster\";\n",
       "                var nbb_formatted_code = \"booster = xgb.train(\\n    {\\\"max_depth\\\": 3, \\\"eta\\\": 1, \\\"objective\\\": \\\"reg:squarederror\\\"},\\n    dmat_train,\\n    evals=[(dmat_train, \\\"train\\\"), (dmat_test, \\\"test\\\")],\\n)\\n\\nbooster\";\n",
       "                var nbb_cells = Jupyter.notebook.get_cells();\n",
       "                for (var i = 0; i < nbb_cells.length; ++i) {\n",
       "                    if (nbb_cells[i].input_prompt_number == nbb_cell_id) {\n",
       "                        if (nbb_cells[i].get_text() == nbb_unformatted_code) {\n",
       "                             nbb_cells[i].set_text(nbb_formatted_code);\n",
       "                        }\n",
       "                        break;\n",
       "                    }\n",
       "                }\n",
       "            }, 500);\n",
       "            "
      ],
      "text/plain": [
       "<IPython.core.display.Javascript object>"
      ]
     },
     "metadata": {},
     "output_type": "display_data"
    }
   ],
   "source": [
    "booster = xgb.train(\n",
    "    {\"max_depth\": 3, \"eta\": 1, \"objective\": \"reg:squarederror\"},\n",
    "    dmat_train,\n",
    "    evals=[(dmat_train, \"train\"), (dmat_test, \"test\")],\n",
    ")\n",
    "\n",
    "booster"
   ]
  },
  {
   "cell_type": "markdown",
   "id": "9391deba",
   "metadata": {},
   "source": [
    "We can use the predict() method of booster instance to predict labels for data passed to it. The predict() method requires us to pass the DMatrix instance only."
   ]
  },
  {
   "cell_type": "markdown",
   "id": "ffc1f589",
   "metadata": {},
   "source": [
    "### predict()"
   ]
  },
  {
   "cell_type": "markdown",
   "id": "cdbacd85",
   "metadata": {},
   "source": [
    "The predict method provides a list of the below important parameters that can be useful in a different situation.\n",
    "\n",
    "- data - It accepts DMatrix of feature values.\n",
    "\n",
    "- ntree_limit - It accepts integer specifying the number of trees to use from the total tree to make a prediction. The default is 0 which means to use all trees.\n",
    "\n",
    "- pred_leaf - It accepts boolean which is set to True returns array of size n_samples x n_trees where each entry is an index of leaf in a tree which was used for prediction. The entry (0,1) refers to an index of leaf for the 2nd tree which was used to make a prediction for the first sample. The default is False.\n",
    "\n",
    "- pred_contribs - It accepts boolean which if set to True returns an array of size n_sample x n_features+1 where each entry specifies contributions of features in making a final prediction for that sample. It's referred to as SHAP values. If we add all values for a particular sample then we can get the actual prediction. The default is False.\n",
    "\n",
    "- pred_interactions - It accepts boolean which if set to True returns array of size n_sample x n_features+1 xn_features+1 indicating features SHAP interaction values for each sample.\n",
    "\n",
    "Below we have created a data frame showing the first 10 actual test labels and 10 predicted labels for test data."
   ]
  },
  {
   "cell_type": "code",
   "execution_count": 13,
   "id": "b652dc2c",
   "metadata": {},
   "outputs": [
    {
     "data": {
      "text/html": [
       "<div>\n",
       "<style scoped>\n",
       "    .dataframe tbody tr th:only-of-type {\n",
       "        vertical-align: middle;\n",
       "    }\n",
       "\n",
       "    .dataframe tbody tr th {\n",
       "        vertical-align: top;\n",
       "    }\n",
       "\n",
       "    .dataframe thead th {\n",
       "        text-align: right;\n",
       "    }\n",
       "</style>\n",
       "<table border=\"1\" class=\"dataframe\">\n",
       "  <thead>\n",
       "    <tr style=\"text-align: right;\">\n",
       "      <th></th>\n",
       "      <th>Actuals</th>\n",
       "      <th>Prediction</th>\n",
       "    </tr>\n",
       "  </thead>\n",
       "  <tbody>\n",
       "    <tr>\n",
       "      <th>0</th>\n",
       "      <td>23.6</td>\n",
       "      <td>25.580267</td>\n",
       "    </tr>\n",
       "    <tr>\n",
       "      <th>1</th>\n",
       "      <td>32.4</td>\n",
       "      <td>31.743393</td>\n",
       "    </tr>\n",
       "    <tr>\n",
       "      <th>2</th>\n",
       "      <td>13.6</td>\n",
       "      <td>13.508162</td>\n",
       "    </tr>\n",
       "    <tr>\n",
       "      <th>3</th>\n",
       "      <td>22.8</td>\n",
       "      <td>23.470869</td>\n",
       "    </tr>\n",
       "    <tr>\n",
       "      <th>4</th>\n",
       "      <td>16.1</td>\n",
       "      <td>13.658171</td>\n",
       "    </tr>\n",
       "    <tr>\n",
       "      <th>5</th>\n",
       "      <td>20.0</td>\n",
       "      <td>22.350372</td>\n",
       "    </tr>\n",
       "    <tr>\n",
       "      <th>6</th>\n",
       "      <td>17.8</td>\n",
       "      <td>17.217281</td>\n",
       "    </tr>\n",
       "    <tr>\n",
       "      <th>7</th>\n",
       "      <td>14.0</td>\n",
       "      <td>14.332675</td>\n",
       "    </tr>\n",
       "    <tr>\n",
       "      <th>8</th>\n",
       "      <td>19.6</td>\n",
       "      <td>20.501831</td>\n",
       "    </tr>\n",
       "    <tr>\n",
       "      <th>9</th>\n",
       "      <td>16.8</td>\n",
       "      <td>20.756474</td>\n",
       "    </tr>\n",
       "  </tbody>\n",
       "</table>\n",
       "</div>"
      ],
      "text/plain": [
       "   Actuals  Prediction\n",
       "0     23.6   25.580267\n",
       "1     32.4   31.743393\n",
       "2     13.6   13.508162\n",
       "3     22.8   23.470869\n",
       "4     16.1   13.658171\n",
       "5     20.0   22.350372\n",
       "6     17.8   17.217281\n",
       "7     14.0   14.332675\n",
       "8     19.6   20.501831\n",
       "9     16.8   20.756474"
      ]
     },
     "execution_count": 13,
     "metadata": {},
     "output_type": "execute_result"
    },
    {
     "data": {
      "application/javascript": [
       "\n",
       "            setTimeout(function() {\n",
       "                var nbb_cell_id = 13;\n",
       "                var nbb_unformatted_code = \"pd.DataFrame({ \\\"Actuals\\\":Y_test[:10], \\\"Prediction\\\":booster.predict(dmat_test)[:10]})\";\n",
       "                var nbb_formatted_code = \"pd.DataFrame({\\\"Actuals\\\": Y_test[:10], \\\"Prediction\\\": booster.predict(dmat_test)[:10]})\";\n",
       "                var nbb_cells = Jupyter.notebook.get_cells();\n",
       "                for (var i = 0; i < nbb_cells.length; ++i) {\n",
       "                    if (nbb_cells[i].input_prompt_number == nbb_cell_id) {\n",
       "                        if (nbb_cells[i].get_text() == nbb_unformatted_code) {\n",
       "                             nbb_cells[i].set_text(nbb_formatted_code);\n",
       "                        }\n",
       "                        break;\n",
       "                    }\n",
       "                }\n",
       "            }, 500);\n",
       "            "
      ],
      "text/plain": [
       "<IPython.core.display.Javascript object>"
      ]
     },
     "metadata": {},
     "output_type": "display_data"
    }
   ],
   "source": [
    "pd.DataFrame({\"Actuals\": Y_test[:10], \"Prediction\": booster.predict(dmat_test)[:10]})"
   ]
  },
  {
   "cell_type": "code",
   "execution_count": 15,
   "id": "1106a49e",
   "metadata": {},
   "outputs": [
    {
     "name": "stdout",
     "output_type": "stream",
     "text": [
      "SHAP Values Size :  (51, 14)\n",
      "\n",
      "Sample SHAP Values :  [ 5.31424880e-01  0.00000000e+00  3.62157822e-04  1.90089308e-02\n",
      "  1.01445103e+00 -2.51514196e+00 -5.74439168e-01  2.83589065e-01\n",
      "  4.30885423e-03 -2.59072632e-01  3.69396627e-01  1.22908555e-01\n",
      "  3.89043856e+00  2.26930332e+01]\n",
      "\n",
      "Summing SHAP Values for Prediction :  [25.580269 31.743395 13.508162 23.470871 13.658173]\n"
     ]
    },
    {
     "data": {
      "application/javascript": [
       "\n",
       "            setTimeout(function() {\n",
       "                var nbb_cell_id = 15;\n",
       "                var nbb_unformatted_code = \"shap_values = booster.predict(dmat_test, pred_contribs=True)\\n\\nprint(\\\"SHAP Values Size : \\\", shap_values.shape)\\n\\nprint(\\\"\\\\nSample SHAP Values : \\\", shap_values[0])\\nprint(\\n    \\\"\\\\nSumming SHAP Values for Prediction : \\\", shap_values.sum(axis=1)[:5]\\n)\";\n",
       "                var nbb_formatted_code = \"shap_values = booster.predict(dmat_test, pred_contribs=True)\\n\\nprint(\\\"SHAP Values Size : \\\", shap_values.shape)\\n\\nprint(\\\"\\\\nSample SHAP Values : \\\", shap_values[0])\\nprint(\\\"\\\\nSumming SHAP Values for Prediction : \\\", shap_values.sum(axis=1)[:5])\";\n",
       "                var nbb_cells = Jupyter.notebook.get_cells();\n",
       "                for (var i = 0; i < nbb_cells.length; ++i) {\n",
       "                    if (nbb_cells[i].input_prompt_number == nbb_cell_id) {\n",
       "                        if (nbb_cells[i].get_text() == nbb_unformatted_code) {\n",
       "                             nbb_cells[i].set_text(nbb_formatted_code);\n",
       "                        }\n",
       "                        break;\n",
       "                    }\n",
       "                }\n",
       "            }, 500);\n",
       "            "
      ],
      "text/plain": [
       "<IPython.core.display.Javascript object>"
      ]
     },
     "metadata": {},
     "output_type": "display_data"
    }
   ],
   "source": [
    "shap_values = booster.predict(dmat_test, pred_contribs=True)\n",
    "\n",
    "print(\"SHAP Values Size : \", shap_values.shape)\n",
    "\n",
    "print(\"\\nSample SHAP Values : \", shap_values[0])\n",
    "print(\"\\nSumming SHAP Values for Prediction : \", shap_values.sum(axis=1)[:5])"
   ]
  },
  {
   "cell_type": "code",
   "execution_count": 16,
   "id": "11a62139",
   "metadata": {},
   "outputs": [
    {
     "data": {
      "text/plain": [
       "array([[ 8, 11, 11, 13, 11,  8, 11,  5,  9, 13],\n",
       "       [ 8,  7, 11,  8, 12,  8,  8,  5,  7, 13],\n",
       "       [13, 11, 11, 12,  7, 13, 11,  6, 13, 11],\n",
       "       [ 8, 11, 11, 13,  7, 12,  8,  5,  7, 13],\n",
       "       [14, 11, 11, 14, 11, 13, 11,  5, 13, 14]], dtype=int32)"
      ]
     },
     "execution_count": 16,
     "metadata": {},
     "output_type": "execute_result"
    },
    {
     "data": {
      "application/javascript": [
       "\n",
       "            setTimeout(function() {\n",
       "                var nbb_cell_id = 16;\n",
       "                var nbb_unformatted_code = \"booster.predict(dmat_test, pred_leaf=True)[:5]\";\n",
       "                var nbb_formatted_code = \"booster.predict(dmat_test, pred_leaf=True)[:5]\";\n",
       "                var nbb_cells = Jupyter.notebook.get_cells();\n",
       "                for (var i = 0; i < nbb_cells.length; ++i) {\n",
       "                    if (nbb_cells[i].input_prompt_number == nbb_cell_id) {\n",
       "                        if (nbb_cells[i].get_text() == nbb_unformatted_code) {\n",
       "                             nbb_cells[i].set_text(nbb_formatted_code);\n",
       "                        }\n",
       "                        break;\n",
       "                    }\n",
       "                }\n",
       "            }, 500);\n",
       "            "
      ],
      "text/plain": [
       "<IPython.core.display.Javascript object>"
      ]
     },
     "metadata": {},
     "output_type": "display_data"
    }
   ],
   "source": [
    "booster.predict(dmat_test, pred_leaf=True)[:5]"
   ]
  },
  {
   "cell_type": "code",
   "execution_count": 17,
   "id": "80837b2a",
   "metadata": {},
   "outputs": [
    {
     "name": "stdout",
     "output_type": "stream",
     "text": [
      "SHAP Interactions Size :  (51, 14, 14)\n"
     ]
    },
    {
     "data": {
      "application/javascript": [
       "\n",
       "            setTimeout(function() {\n",
       "                var nbb_cell_id = 17;\n",
       "                var nbb_unformatted_code = \"shap_interactions = booster.predict(dmat_test, pred_interactions=True)\\n\\nprint(\\\"SHAP Interactions Size : \\\", shap_interactions.shape)\";\n",
       "                var nbb_formatted_code = \"shap_interactions = booster.predict(dmat_test, pred_interactions=True)\\n\\nprint(\\\"SHAP Interactions Size : \\\", shap_interactions.shape)\";\n",
       "                var nbb_cells = Jupyter.notebook.get_cells();\n",
       "                for (var i = 0; i < nbb_cells.length; ++i) {\n",
       "                    if (nbb_cells[i].input_prompt_number == nbb_cell_id) {\n",
       "                        if (nbb_cells[i].get_text() == nbb_unformatted_code) {\n",
       "                             nbb_cells[i].set_text(nbb_formatted_code);\n",
       "                        }\n",
       "                        break;\n",
       "                    }\n",
       "                }\n",
       "            }, 500);\n",
       "            "
      ],
      "text/plain": [
       "<IPython.core.display.Javascript object>"
      ]
     },
     "metadata": {},
     "output_type": "display_data"
    }
   ],
   "source": [
    "shap_interactions = booster.predict(dmat_test, pred_interactions=True)\n",
    "\n",
    "print(\"SHAP Interactions Size : \", shap_interactions.shape)"
   ]
  },
  {
   "cell_type": "code",
   "execution_count": 18,
   "id": "c8f9cce6",
   "metadata": {},
   "outputs": [
    {
     "name": "stdout",
     "output_type": "stream",
     "text": [
      "Train RMSE :  [0]\teval-rmse:1.965108\n",
      "Test  RMSE :  [0]\teval-rmse:2.614419\n"
     ]
    },
    {
     "data": {
      "application/javascript": [
       "\n",
       "            setTimeout(function() {\n",
       "                var nbb_cell_id = 18;\n",
       "                var nbb_unformatted_code = \"print(\\\"Train RMSE : \\\",booster.eval(dmat_train))\\nprint(\\\"Test  RMSE : \\\",booster.eval(dmat_test))\";\n",
       "                var nbb_formatted_code = \"print(\\\"Train RMSE : \\\", booster.eval(dmat_train))\\nprint(\\\"Test  RMSE : \\\", booster.eval(dmat_test))\";\n",
       "                var nbb_cells = Jupyter.notebook.get_cells();\n",
       "                for (var i = 0; i < nbb_cells.length; ++i) {\n",
       "                    if (nbb_cells[i].input_prompt_number == nbb_cell_id) {\n",
       "                        if (nbb_cells[i].get_text() == nbb_unformatted_code) {\n",
       "                             nbb_cells[i].set_text(nbb_formatted_code);\n",
       "                        }\n",
       "                        break;\n",
       "                    }\n",
       "                }\n",
       "            }, 500);\n",
       "            "
      ],
      "text/plain": [
       "<IPython.core.display.Javascript object>"
      ]
     },
     "metadata": {},
     "output_type": "display_data"
    }
   ],
   "source": [
    "print(\"Train RMSE : \", booster.eval(dmat_train))\n",
    "print(\"Test  RMSE : \", booster.eval(dmat_test))"
   ]
  },
  {
   "cell_type": "code",
   "execution_count": 19,
   "id": "a21a0756",
   "metadata": {},
   "outputs": [
    {
     "name": "stdout",
     "output_type": "stream",
     "text": [
      "Test  R2 Score : 0.89\n",
      "Train R2 Score : 0.96\n"
     ]
    },
    {
     "data": {
      "application/javascript": [
       "\n",
       "            setTimeout(function() {\n",
       "                var nbb_cell_id = 19;\n",
       "                var nbb_unformatted_code = \"from sklearn.metrics import r2_score\\n\\nprint(\\\"Test  R2 Score : %.2f\\\"%r2_score(Y_test, booster.predict(dmat_test)))\\nprint(\\\"Train R2 Score : %.2f\\\"%r2_score(Y_train, booster.predict(dmat_train)))\";\n",
       "                var nbb_formatted_code = \"from sklearn.metrics import r2_score\\n\\nprint(\\\"Test  R2 Score : %.2f\\\" % r2_score(Y_test, booster.predict(dmat_test)))\\nprint(\\\"Train R2 Score : %.2f\\\" % r2_score(Y_train, booster.predict(dmat_train)))\";\n",
       "                var nbb_cells = Jupyter.notebook.get_cells();\n",
       "                for (var i = 0; i < nbb_cells.length; ++i) {\n",
       "                    if (nbb_cells[i].input_prompt_number == nbb_cell_id) {\n",
       "                        if (nbb_cells[i].get_text() == nbb_unformatted_code) {\n",
       "                             nbb_cells[i].set_text(nbb_formatted_code);\n",
       "                        }\n",
       "                        break;\n",
       "                    }\n",
       "                }\n",
       "            }, 500);\n",
       "            "
      ],
      "text/plain": [
       "<IPython.core.display.Javascript object>"
      ]
     },
     "metadata": {},
     "output_type": "display_data"
    }
   ],
   "source": [
    "from sklearn.metrics import r2_score\n",
    "\n",
    "print(\"Test  R2 Score : %.2f\" % r2_score(Y_test, booster.predict(dmat_test)))\n",
    "print(\"Train R2 Score : %.2f\" % r2_score(Y_train, booster.predict(dmat_train)))"
   ]
  },
  {
   "cell_type": "code",
   "execution_count": 21,
   "id": "5417c530",
   "metadata": {},
   "outputs": [
    {
     "name": "stdout",
     "output_type": "stream",
     "text": [
      "Number of Trees in Ensemble :  10\n",
      "\n",
      "Test  R2 Score : 0.88\n",
      "Train R2 Score : 0.93\n"
     ]
    },
    {
     "data": {
      "application/javascript": [
       "\n",
       "            setTimeout(function() {\n",
       "                var nbb_cell_id = 21;\n",
       "                var nbb_unformatted_code = \"print(\\\"Number of Trees in Ensemble : \\\", booster.best_ntree_limit)\\n\\nprint(\\n    \\\"\\\\nTest  R2 Score : %.2f\\\"\\n    % r2_score(Y_test, booster.predict(dmat_test, ntree_limit=5))\\n)\\n\\nprint(\\n    \\\"Train R2 Score : %.2f\\\"\\n    % r2_score(Y_train, booster.predict(dmat_train, ntree_limit=5))\\n)\";\n",
       "                var nbb_formatted_code = \"print(\\\"Number of Trees in Ensemble : \\\", booster.best_ntree_limit)\\n\\nprint(\\n    \\\"\\\\nTest  R2 Score : %.2f\\\"\\n    % r2_score(Y_test, booster.predict(dmat_test, ntree_limit=5))\\n)\\n\\nprint(\\n    \\\"Train R2 Score : %.2f\\\"\\n    % r2_score(Y_train, booster.predict(dmat_train, ntree_limit=5))\\n)\";\n",
       "                var nbb_cells = Jupyter.notebook.get_cells();\n",
       "                for (var i = 0; i < nbb_cells.length; ++i) {\n",
       "                    if (nbb_cells[i].input_prompt_number == nbb_cell_id) {\n",
       "                        if (nbb_cells[i].get_text() == nbb_unformatted_code) {\n",
       "                             nbb_cells[i].set_text(nbb_formatted_code);\n",
       "                        }\n",
       "                        break;\n",
       "                    }\n",
       "                }\n",
       "            }, 500);\n",
       "            "
      ],
      "text/plain": [
       "<IPython.core.display.Javascript object>"
      ]
     },
     "metadata": {},
     "output_type": "display_data"
    }
   ],
   "source": [
    "print(\"Number of Trees in Ensemble : \", booster.best_ntree_limit)\n",
    "\n",
    "print(\n",
    "    \"\\nTest  R2 Score : %.2f\"\n",
    "    % r2_score(Y_test, booster.predict(dmat_test, ntree_limit=5))\n",
    ")\n",
    "\n",
    "print(\n",
    "    \"Train R2 Score : %.2f\"\n",
    "    % r2_score(Y_train, booster.predict(dmat_train, ntree_limit=5))\n",
    ")"
   ]
  },
  {
   "cell_type": "markdown",
   "id": "1e34b4be",
   "metadata": {},
   "source": [
    "### plot_importance()"
   ]
  },
  {
   "cell_type": "markdown",
   "id": "9f3d69bc",
   "metadata": {},
   "source": [
    "The xgboost provides functionality that lets us print feature importance. We need to pass our booster instance to the method and it'll plot feature importance bar chart using matplotlib. The plot_importance() method has an important parameter named importance_type which accepts one of the below mentioned 3 string values to plot feature importance in three different ways.\n",
    "\n",
    "- weight - It plots the number of times a feature appears in a tree. This is the default value.\n",
    "- gain - It plots the average gain of splits that uses the feature.\n",
    "- cover - It plots the average coverage of splits for each feature."
   ]
  },
  {
   "cell_type": "code",
   "execution_count": 22,
   "id": "5f3077dc",
   "metadata": {},
   "outputs": [
    {
     "data": {
      "image/png": "[encoded data removed]",
      "text/plain": [
       "<Figure size 648x432 with 1 Axes>"
      ]
     },
     "metadata": {},
     "output_type": "display_data"
    },
    {
     "data": {
      "application/javascript": [
       "\n",
       "            setTimeout(function() {\n",
       "                var nbb_cell_id = 22;\n",
       "                var nbb_unformatted_code = \"with plt.style.context(\\\"ggplot\\\"):\\n    fig = plt.figure(figsize=(9,6))\\n    ax = fig.add_subplot(111)\\n    xgb.plotting.plot_importance(booster, ax=ax, height=0.6, importance_type=\\\"weight\\\")\";\n",
       "                var nbb_formatted_code = \"with plt.style.context(\\\"ggplot\\\"):\\n    fig = plt.figure(figsize=(9, 6))\\n    ax = fig.add_subplot(111)\\n    xgb.plotting.plot_importance(booster, ax=ax, height=0.6, importance_type=\\\"weight\\\")\";\n",
       "                var nbb_cells = Jupyter.notebook.get_cells();\n",
       "                for (var i = 0; i < nbb_cells.length; ++i) {\n",
       "                    if (nbb_cells[i].input_prompt_number == nbb_cell_id) {\n",
       "                        if (nbb_cells[i].get_text() == nbb_unformatted_code) {\n",
       "                             nbb_cells[i].set_text(nbb_formatted_code);\n",
       "                        }\n",
       "                        break;\n",
       "                    }\n",
       "                }\n",
       "            }, 500);\n",
       "            "
      ],
      "text/plain": [
       "<IPython.core.display.Javascript object>"
      ]
     },
     "metadata": {},
     "output_type": "display_data"
    }
   ],
   "source": [
    "with plt.style.context(\"ggplot\"):\n",
    "    fig = plt.figure(figsize=(9, 6))\n",
    "    ax = fig.add_subplot(111)\n",
    "    xgb.plotting.plot_importance(booster, ax=ax, height=0.6, importance_type=\"weight\")"
   ]
  },
  {
   "cell_type": "markdown",
   "id": "999e6a7f",
   "metadata": {},
   "source": [
    "### plot_tree()\n",
    "Xgboost also lets us plot the individual trees in the ensemble of trees using the plot_tree() method. It accepts booster instance and index of a tree which we want to plot. Below we have plotted the 10th tree of an ensemble. Please make a note that indexing starts at 0."
   ]
  },
  {
   "cell_type": "code",
   "execution_count": 23,
   "id": "9b7cccff",
   "metadata": {},
   "outputs": [
    {
     "data": {
      "image/png": "[encoded data removed]",
      "text/plain": [
       "<Figure size 1800x720 with 1 Axes>"
      ]
     },
     "metadata": {},
     "output_type": "display_data"
    },
    {
     "data": {
      "application/javascript": [
       "\n",
       "            setTimeout(function() {\n",
       "                var nbb_cell_id = 23;\n",
       "                var nbb_unformatted_code = \"with plt.style.context(\\\"ggplot\\\"):\\n    fig = plt.figure(figsize=(25,10))\\n    ax = fig.add_subplot(111)\\n    xgb.plotting.plot_tree(booster, ax=ax, num_trees=9)\";\n",
       "                var nbb_formatted_code = \"with plt.style.context(\\\"ggplot\\\"):\\n    fig = plt.figure(figsize=(25, 10))\\n    ax = fig.add_subplot(111)\\n    xgb.plotting.plot_tree(booster, ax=ax, num_trees=9)\";\n",
       "                var nbb_cells = Jupyter.notebook.get_cells();\n",
       "                for (var i = 0; i < nbb_cells.length; ++i) {\n",
       "                    if (nbb_cells[i].input_prompt_number == nbb_cell_id) {\n",
       "                        if (nbb_cells[i].get_text() == nbb_unformatted_code) {\n",
       "                             nbb_cells[i].set_text(nbb_formatted_code);\n",
       "                        }\n",
       "                        break;\n",
       "                    }\n",
       "                }\n",
       "            }, 500);\n",
       "            "
      ],
      "text/plain": [
       "<IPython.core.display.Javascript object>"
      ]
     },
     "metadata": {},
     "output_type": "display_data"
    }
   ],
   "source": [
    "with plt.style.context(\"ggplot\"):\n",
    "    fig = plt.figure(figsize=(25, 10))\n",
    "    ax = fig.add_subplot(111)\n",
    "    xgb.plotting.plot_tree(booster, ax=ax, num_trees=9)"
   ]
  },
  {
   "cell_type": "markdown",
   "id": "c5353aa2",
   "metadata": {},
   "source": [
    "### trees_to_dataframe()\n",
    "The trees_to_dataframe() method will dump information on trees used in an ensemble as a pandas dataframe. It'll have information on each tree-like individual node ids, feature name, and its values used for a split at each node, gain at each node, cover at each node, etc."
   ]
  },
  {
   "cell_type": "code",
   "execution_count": 24,
   "id": "a8a36b16",
   "metadata": {},
   "outputs": [
    {
     "data": {
      "text/html": [
       "<div>\n",
       "<style scoped>\n",
       "    .dataframe tbody tr th:only-of-type {\n",
       "        vertical-align: middle;\n",
       "    }\n",
       "\n",
       "    .dataframe tbody tr th {\n",
       "        vertical-align: top;\n",
       "    }\n",
       "\n",
       "    .dataframe thead th {\n",
       "        text-align: right;\n",
       "    }\n",
       "</style>\n",
       "<table border=\"1\" class=\"dataframe\">\n",
       "  <thead>\n",
       "    <tr style=\"text-align: right;\">\n",
       "      <th></th>\n",
       "      <th>Tree</th>\n",
       "      <th>Node</th>\n",
       "      <th>ID</th>\n",
       "      <th>Feature</th>\n",
       "      <th>Split</th>\n",
       "      <th>Yes</th>\n",
       "      <th>No</th>\n",
       "      <th>Missing</th>\n",
       "      <th>Gain</th>\n",
       "      <th>Cover</th>\n",
       "    </tr>\n",
       "  </thead>\n",
       "  <tbody>\n",
       "    <tr>\n",
       "      <th>0</th>\n",
       "      <td>0</td>\n",
       "      <td>0</td>\n",
       "      <td>0-0</td>\n",
       "      <td>LSTAT</td>\n",
       "      <td>9.72500</td>\n",
       "      <td>0-1</td>\n",
       "      <td>0-2</td>\n",
       "      <td>0-1</td>\n",
       "      <td>16866.609400</td>\n",
       "      <td>455.0</td>\n",
       "    </tr>\n",
       "    <tr>\n",
       "      <th>1</th>\n",
       "      <td>0</td>\n",
       "      <td>1</td>\n",
       "      <td>0-1</td>\n",
       "      <td>RM</td>\n",
       "      <td>6.94100</td>\n",
       "      <td>0-3</td>\n",
       "      <td>0-4</td>\n",
       "      <td>0-3</td>\n",
       "      <td>6006.859380</td>\n",
       "      <td>196.0</td>\n",
       "    </tr>\n",
       "    <tr>\n",
       "      <th>2</th>\n",
       "      <td>0</td>\n",
       "      <td>2</td>\n",
       "      <td>0-2</td>\n",
       "      <td>LSTAT</td>\n",
       "      <td>16.21500</td>\n",
       "      <td>0-5</td>\n",
       "      <td>0-6</td>\n",
       "      <td>0-5</td>\n",
       "      <td>2317.007810</td>\n",
       "      <td>259.0</td>\n",
       "    </tr>\n",
       "    <tr>\n",
       "      <th>3</th>\n",
       "      <td>0</td>\n",
       "      <td>3</td>\n",
       "      <td>0-3</td>\n",
       "      <td>DIS</td>\n",
       "      <td>1.48495</td>\n",
       "      <td>0-7</td>\n",
       "      <td>0-8</td>\n",
       "      <td>0-7</td>\n",
       "      <td>562.812500</td>\n",
       "      <td>129.0</td>\n",
       "    </tr>\n",
       "    <tr>\n",
       "      <th>4</th>\n",
       "      <td>0</td>\n",
       "      <td>4</td>\n",
       "      <td>0-4</td>\n",
       "      <td>RM</td>\n",
       "      <td>7.43700</td>\n",
       "      <td>0-9</td>\n",
       "      <td>0-10</td>\n",
       "      <td>0-9</td>\n",
       "      <td>496.929688</td>\n",
       "      <td>67.0</td>\n",
       "    </tr>\n",
       "    <tr>\n",
       "      <th>...</th>\n",
       "      <td>...</td>\n",
       "      <td>...</td>\n",
       "      <td>...</td>\n",
       "      <td>...</td>\n",
       "      <td>...</td>\n",
       "      <td>...</td>\n",
       "      <td>...</td>\n",
       "      <td>...</td>\n",
       "      <td>...</td>\n",
       "      <td>...</td>\n",
       "    </tr>\n",
       "    <tr>\n",
       "      <th>133</th>\n",
       "      <td>9</td>\n",
       "      <td>10</td>\n",
       "      <td>9-10</td>\n",
       "      <td>Leaf</td>\n",
       "      <td>NaN</td>\n",
       "      <td>NaN</td>\n",
       "      <td>NaN</td>\n",
       "      <td>NaN</td>\n",
       "      <td>0.277203</td>\n",
       "      <td>2.0</td>\n",
       "    </tr>\n",
       "    <tr>\n",
       "      <th>134</th>\n",
       "      <td>9</td>\n",
       "      <td>11</td>\n",
       "      <td>9-11</td>\n",
       "      <td>Leaf</td>\n",
       "      <td>NaN</td>\n",
       "      <td>NaN</td>\n",
       "      <td>NaN</td>\n",
       "      <td>NaN</td>\n",
       "      <td>0.477180</td>\n",
       "      <td>104.0</td>\n",
       "    </tr>\n",
       "    <tr>\n",
       "      <th>135</th>\n",
       "      <td>9</td>\n",
       "      <td>12</td>\n",
       "      <td>9-12</td>\n",
       "      <td>Leaf</td>\n",
       "      <td>NaN</td>\n",
       "      <td>NaN</td>\n",
       "      <td>NaN</td>\n",
       "      <td>NaN</td>\n",
       "      <td>-1.080109</td>\n",
       "      <td>11.0</td>\n",
       "    </tr>\n",
       "    <tr>\n",
       "      <th>136</th>\n",
       "      <td>9</td>\n",
       "      <td>13</td>\n",
       "      <td>9-13</td>\n",
       "      <td>Leaf</td>\n",
       "      <td>NaN</td>\n",
       "      <td>NaN</td>\n",
       "      <td>NaN</td>\n",
       "      <td>NaN</td>\n",
       "      <td>0.046793</td>\n",
       "      <td>249.0</td>\n",
       "    </tr>\n",
       "    <tr>\n",
       "      <th>137</th>\n",
       "      <td>9</td>\n",
       "      <td>14</td>\n",
       "      <td>9-14</td>\n",
       "      <td>Leaf</td>\n",
       "      <td>NaN</td>\n",
       "      <td>NaN</td>\n",
       "      <td>NaN</td>\n",
       "      <td>NaN</td>\n",
       "      <td>-0.831588</td>\n",
       "      <td>78.0</td>\n",
       "    </tr>\n",
       "  </tbody>\n",
       "</table>\n",
       "<p>138 rows × 10 columns</p>\n",
       "</div>"
      ],
      "text/plain": [
       "     Tree  Node    ID Feature     Split  Yes    No Missing          Gain  \\\n",
       "0       0     0   0-0   LSTAT   9.72500  0-1   0-2     0-1  16866.609400   \n",
       "1       0     1   0-1      RM   6.94100  0-3   0-4     0-3   6006.859380   \n",
       "2       0     2   0-2   LSTAT  16.21500  0-5   0-6     0-5   2317.007810   \n",
       "3       0     3   0-3     DIS   1.48495  0-7   0-8     0-7    562.812500   \n",
       "4       0     4   0-4      RM   7.43700  0-9  0-10     0-9    496.929688   \n",
       "..    ...   ...   ...     ...       ...  ...   ...     ...           ...   \n",
       "133     9    10  9-10    Leaf       NaN  NaN   NaN     NaN      0.277203   \n",
       "134     9    11  9-11    Leaf       NaN  NaN   NaN     NaN      0.477180   \n",
       "135     9    12  9-12    Leaf       NaN  NaN   NaN     NaN     -1.080109   \n",
       "136     9    13  9-13    Leaf       NaN  NaN   NaN     NaN      0.046793   \n",
       "137     9    14  9-14    Leaf       NaN  NaN   NaN     NaN     -0.831588   \n",
       "\n",
       "     Cover  \n",
       "0    455.0  \n",
       "1    196.0  \n",
       "2    259.0  \n",
       "3    129.0  \n",
       "4     67.0  \n",
       "..     ...  \n",
       "133    2.0  \n",
       "134  104.0  \n",
       "135   11.0  \n",
       "136  249.0  \n",
       "137   78.0  \n",
       "\n",
       "[138 rows x 10 columns]"
      ]
     },
     "execution_count": 24,
     "metadata": {},
     "output_type": "execute_result"
    },
    {
     "data": {
      "application/javascript": [
       "\n",
       "            setTimeout(function() {\n",
       "                var nbb_cell_id = 24;\n",
       "                var nbb_unformatted_code = \"booster.trees_to_dataframe()\";\n",
       "                var nbb_formatted_code = \"booster.trees_to_dataframe()\";\n",
       "                var nbb_cells = Jupyter.notebook.get_cells();\n",
       "                for (var i = 0; i < nbb_cells.length; ++i) {\n",
       "                    if (nbb_cells[i].input_prompt_number == nbb_cell_id) {\n",
       "                        if (nbb_cells[i].get_text() == nbb_unformatted_code) {\n",
       "                             nbb_cells[i].set_text(nbb_formatted_code);\n",
       "                        }\n",
       "                        break;\n",
       "                    }\n",
       "                }\n",
       "            }, 500);\n",
       "            "
      ],
      "text/plain": [
       "<IPython.core.display.Javascript object>"
      ]
     },
     "metadata": {},
     "output_type": "display_data"
    }
   ],
   "source": [
    "booster.trees_to_dataframe()"
   ]
  },
  {
   "cell_type": "markdown",
   "id": "25c2051a",
   "metadata": {},
   "source": [
    "## Booster: Tweedie Regression\n",
    "\n",
    "Below we have explained an example of how we can use tweedie regression on Boston housing data. We have trained the model using tweedie regression and then evaluated RMSE and R2 scores on both train and test datasets."
   ]
  },
  {
   "cell_type": "code",
   "execution_count": 25,
   "id": "aeb812ec",
   "metadata": {},
   "outputs": [
    {
     "name": "stdout",
     "output_type": "stream",
     "text": [
      "Train/Test Sizes :  (455, 13) (51, 13) (455,) (51,) \n",
      "\n",
      "[0]\ttrain-tweedie-nloglik@1.5:28.32970\ttest-tweedie-nloglik@1.5:26.66488\n",
      "[1]\ttrain-tweedie-nloglik@1.5:19.30740\ttest-tweedie-nloglik@1.5:18.58394\n",
      "[2]\ttrain-tweedie-nloglik@1.5:18.72894\ttest-tweedie-nloglik@1.5:18.14010\n",
      "[3]\ttrain-tweedie-nloglik@1.5:18.71593\ttest-tweedie-nloglik@1.5:18.13066\n",
      "[4]\ttrain-tweedie-nloglik@1.5:18.70913\ttest-tweedie-nloglik@1.5:18.12305\n",
      "[5]\ttrain-tweedie-nloglik@1.5:18.70438\ttest-tweedie-nloglik@1.5:18.12354\n",
      "[6]\ttrain-tweedie-nloglik@1.5:18.70052\ttest-tweedie-nloglik@1.5:18.11985\n",
      "[7]\ttrain-tweedie-nloglik@1.5:18.69816\ttest-tweedie-nloglik@1.5:18.12131\n",
      "[8]\ttrain-tweedie-nloglik@1.5:18.69564\ttest-tweedie-nloglik@1.5:18.12422\n",
      "[9]\ttrain-tweedie-nloglik@1.5:18.69303\ttest-tweedie-nloglik@1.5:18.12833\n",
      "\n",
      "Train RMSE :  [0]\teval-tweedie-nloglik@1.5:18.693033\n",
      "Test  RMSE :  [0]\teval-tweedie-nloglik@1.5:18.128323\n",
      "\n",
      "Test  R2 Score : 0.90\n",
      "Train R2 Score : 0.95\n"
     ]
    },
    {
     "data": {
      "application/javascript": [
       "\n",
       "            setTimeout(function() {\n",
       "                var nbb_cell_id = 25;\n",
       "                var nbb_unformatted_code = \"X_train, X_test, Y_train, Y_test = train_test_split(boston.data, boston.target, train_size=0.90, random_state=42)\\n\\nprint(\\\"Train/Test Sizes : \\\", X_train.shape, X_test.shape, Y_train.shape, Y_test.shape, \\\"\\\\n\\\")\\n\\ndmat_train = xgb.DMatrix(X_train, Y_train, feature_names=boston.feature_names)\\ndmat_test = xgb.DMatrix(X_test, Y_test, feature_names=boston.feature_names)\\n\\ntweedie_booster = xgb.train({'max_depth': 3, 'eta': 1, 'objective': 'reg:tweedie', 'tree_method':'hist', 'nthread':4},\\n                    dmat_train,\\n                    evals=[(dmat_train, \\\"train\\\"), (dmat_test, \\\"test\\\")])\\n\\nprint(\\\"\\\\nTrain RMSE : \\\",tweedie_booster.eval(dmat_train))\\nprint(\\\"Test  RMSE : \\\",tweedie_booster.eval(dmat_test))\\n\\nfrom sklearn.metrics import r2_score\\n\\nprint(\\\"\\\\nTest  R2 Score : %.2f\\\"%r2_score(Y_test, tweedie_booster.predict(dmat_test)))\\nprint(\\\"Train R2 Score : %.2f\\\"%r2_score(Y_train, tweedie_booster.predict(dmat_train)))\";\n",
       "                var nbb_formatted_code = \"X_train, X_test, Y_train, Y_test = train_test_split(\\n    boston.data, boston.target, train_size=0.90, random_state=42\\n)\\n\\nprint(\\n    \\\"Train/Test Sizes : \\\",\\n    X_train.shape,\\n    X_test.shape,\\n    Y_train.shape,\\n    Y_test.shape,\\n    \\\"\\\\n\\\",\\n)\\n\\ndmat_train = xgb.DMatrix(X_train, Y_train, feature_names=boston.feature_names)\\ndmat_test = xgb.DMatrix(X_test, Y_test, feature_names=boston.feature_names)\\n\\ntweedie_booster = xgb.train(\\n    {\\n        \\\"max_depth\\\": 3,\\n        \\\"eta\\\": 1,\\n        \\\"objective\\\": \\\"reg:tweedie\\\",\\n        \\\"tree_method\\\": \\\"hist\\\",\\n        \\\"nthread\\\": 4,\\n    },\\n    dmat_train,\\n    evals=[(dmat_train, \\\"train\\\"), (dmat_test, \\\"test\\\")],\\n)\\n\\nprint(\\\"\\\\nTrain RMSE : \\\", tweedie_booster.eval(dmat_train))\\nprint(\\\"Test  RMSE : \\\", tweedie_booster.eval(dmat_test))\\n\\nfrom sklearn.metrics import r2_score\\n\\nprint(\\\"\\\\nTest  R2 Score : %.2f\\\" % r2_score(Y_test, tweedie_booster.predict(dmat_test)))\\nprint(\\\"Train R2 Score : %.2f\\\" % r2_score(Y_train, tweedie_booster.predict(dmat_train)))\";\n",
       "                var nbb_cells = Jupyter.notebook.get_cells();\n",
       "                for (var i = 0; i < nbb_cells.length; ++i) {\n",
       "                    if (nbb_cells[i].input_prompt_number == nbb_cell_id) {\n",
       "                        if (nbb_cells[i].get_text() == nbb_unformatted_code) {\n",
       "                             nbb_cells[i].set_text(nbb_formatted_code);\n",
       "                        }\n",
       "                        break;\n",
       "                    }\n",
       "                }\n",
       "            }, 500);\n",
       "            "
      ],
      "text/plain": [
       "<IPython.core.display.Javascript object>"
      ]
     },
     "metadata": {},
     "output_type": "display_data"
    }
   ],
   "source": [
    "X_train, X_test, Y_train, Y_test = train_test_split(\n",
    "    boston.data, boston.target, train_size=0.90, random_state=42\n",
    ")\n",
    "\n",
    "print(\n",
    "    \"Train/Test Sizes : \",\n",
    "    X_train.shape,\n",
    "    X_test.shape,\n",
    "    Y_train.shape,\n",
    "    Y_test.shape,\n",
    "    \"\\n\",\n",
    ")\n",
    "\n",
    "dmat_train = xgb.DMatrix(X_train, Y_train, feature_names=boston.feature_names)\n",
    "dmat_test = xgb.DMatrix(X_test, Y_test, feature_names=boston.feature_names)\n",
    "\n",
    "tweedie_booster = xgb.train(\n",
    "    {\n",
    "        \"max_depth\": 3,\n",
    "        \"eta\": 1,\n",
    "        \"objective\": \"reg:tweedie\",\n",
    "        \"tree_method\": \"hist\",\n",
    "        \"nthread\": 4,\n",
    "    },\n",
    "    dmat_train,\n",
    "    evals=[(dmat_train, \"train\"), (dmat_test, \"test\")],\n",
    ")\n",
    "\n",
    "print(\"\\nTrain RMSE : \", tweedie_booster.eval(dmat_train))\n",
    "print(\"Test  RMSE : \", tweedie_booster.eval(dmat_test))\n",
    "\n",
    "from sklearn.metrics import r2_score\n",
    "\n",
    "print(\"\\nTest  R2 Score : %.2f\" % r2_score(Y_test, tweedie_booster.predict(dmat_test)))\n",
    "print(\"Train R2 Score : %.2f\" % r2_score(Y_train, tweedie_booster.predict(dmat_train)))"
   ]
  },
  {
   "cell_type": "markdown",
   "id": "b24b08d3",
   "metadata": {},
   "source": [
    "## Booster: Binary Classification \n",
    "As a part of this section, we have explained how we can use the train() method to train booster for the binary classification task of classifying breast cancer tumor type. Please make a note that we have used binary:logistic as our objective function hence the output of the predict() method of the booster will be a probability. We have included logic to convert probabilities into class. We have then calculated accuracy, confusion matrix, and classification report for test data."
   ]
  },
  {
   "cell_type": "code",
   "execution_count": 27,
   "id": "d2ec4ea9",
   "metadata": {},
   "outputs": [
    {
     "name": "stdout",
     "output_type": "stream",
     "text": [
      "Train/Test Sizes :  (512, 30) (57, 30) (512,) (57,) \n",
      "\n",
      "[22:29:56] WARNING: /Users/travis/build/dmlc/xgboost/src/learner.cc:1061: Starting in XGBoost 1.3.0, the default evaluation metric used with the objective 'binary:logistic' was changed from 'error' to 'logloss'. Explicitly set eval_metric if you'd like to restore the old behavior.\n",
      "[0]\ttrain-logloss:0.21590\ttest-logloss:0.26491\n",
      "[1]\ttrain-logloss:0.12403\ttest-logloss:0.18752\n",
      "[2]\ttrain-logloss:0.08709\ttest-logloss:0.18044\n",
      "[3]\ttrain-logloss:0.06506\ttest-logloss:0.13185\n",
      "[4]\ttrain-logloss:0.04643\ttest-logloss:0.12292\n",
      "[5]\ttrain-logloss:0.03771\ttest-logloss:0.12396\n",
      "[6]\ttrain-logloss:0.03046\ttest-logloss:0.12586\n",
      "[7]\ttrain-logloss:0.02303\ttest-logloss:0.11204\n",
      "[8]\ttrain-logloss:0.01955\ttest-logloss:0.11809\n",
      "[9]\ttrain-logloss:0.01639\ttest-logloss:0.11828\n",
      "\n",
      "Train RMSE :  [0]\teval-logloss:0.016394\n",
      "Test  RMSE :  [0]\teval-logloss:0.118281\n",
      "\n",
      "Test  Accuracy : 0.96\n",
      "Train Accuracy : 1.00\n",
      "\n",
      "Confusion Matrix : \n",
      "[[20  1]\n",
      " [ 1 35]]\n",
      "\n",
      "Classification Report : \n",
      "              precision    recall  f1-score   support\n",
      "\n",
      "           0       0.95      0.95      0.95        21\n",
      "           1       0.97      0.97      0.97        36\n",
      "\n",
      "    accuracy                           0.96        57\n",
      "   macro avg       0.96      0.96      0.96        57\n",
      "weighted avg       0.96      0.96      0.96        57\n",
      "\n"
     ]
    },
    {
     "data": {
      "application/javascript": [
       "\n",
       "            setTimeout(function() {\n",
       "                var nbb_cell_id = 27;\n",
       "                var nbb_unformatted_code = \"X_train, X_test, Y_train, Y_test = train_test_split(\\n    breast_cancer.data,\\n    breast_cancer.target,\\n    train_size=0.90,\\n    stratify=breast_cancer.target,\\n    random_state=42,\\n)\\n\\nprint(\\n    \\\"Train/Test Sizes : \\\",\\n    X_train.shape,\\n    X_test.shape,\\n    Y_train.shape,\\n    Y_test.shape,\\n    \\\"\\\\n\\\",\\n)\\n\\ndmat_train = xgb.DMatrix(X_train, Y_train, feature_names=breast_cancer.feature_names)\\ndmat_test = xgb.DMatrix(X_test, Y_test, feature_names=breast_cancer.feature_names)\\n\\nbooster = xgb.train(\\n    {\\\"max_depth\\\": 2, \\\"eta\\\": 1, \\\"objective\\\": \\\"binary:logistic\\\"},\\n    dmat_train,\\n    evals=[(dmat_train, \\\"train\\\"), (dmat_test, \\\"test\\\")],\\n)\\n\\nprint(\\\"\\\\nTrain RMSE : \\\", booster.eval(dmat_train))\\nprint(\\\"Test  RMSE : \\\", booster.eval(dmat_test))\\n\\n\\nfrom sklearn.metrics import accuracy_score, classification_report, confusion_matrix\\n\\ntrain_preds = [1 if pred > 0.5 else 0 for pred in booster.predict(data=dmat_train)]\\ntest_preds = [1 if pred > 0.5 else 0 for pred in booster.predict(data=dmat_test)]\\n\\nprint(\\\"\\\\nTest  Accuracy : %.2f\\\" % accuracy_score(Y_test, test_preds))\\nprint(\\\"Train Accuracy : %.2f\\\" % accuracy_score(Y_train, train_preds))\\n\\nprint(\\\"\\\\nConfusion Matrix : \\\")\\nprint(confusion_matrix(Y_test, test_preds))\\n\\nprint(\\\"\\\\nClassification Report : \\\")\\nprint(classification_report(Y_test, test_preds))\";\n",
       "                var nbb_formatted_code = \"X_train, X_test, Y_train, Y_test = train_test_split(\\n    breast_cancer.data,\\n    breast_cancer.target,\\n    train_size=0.90,\\n    stratify=breast_cancer.target,\\n    random_state=42,\\n)\\n\\nprint(\\n    \\\"Train/Test Sizes : \\\",\\n    X_train.shape,\\n    X_test.shape,\\n    Y_train.shape,\\n    Y_test.shape,\\n    \\\"\\\\n\\\",\\n)\\n\\ndmat_train = xgb.DMatrix(X_train, Y_train, feature_names=breast_cancer.feature_names)\\ndmat_test = xgb.DMatrix(X_test, Y_test, feature_names=breast_cancer.feature_names)\\n\\nbooster = xgb.train(\\n    {\\\"max_depth\\\": 2, \\\"eta\\\": 1, \\\"objective\\\": \\\"binary:logistic\\\"},\\n    dmat_train,\\n    evals=[(dmat_train, \\\"train\\\"), (dmat_test, \\\"test\\\")],\\n)\\n\\nprint(\\\"\\\\nTrain RMSE : \\\", booster.eval(dmat_train))\\nprint(\\\"Test  RMSE : \\\", booster.eval(dmat_test))\\n\\n\\nfrom sklearn.metrics import accuracy_score, classification_report, confusion_matrix\\n\\ntrain_preds = [1 if pred > 0.5 else 0 for pred in booster.predict(data=dmat_train)]\\ntest_preds = [1 if pred > 0.5 else 0 for pred in booster.predict(data=dmat_test)]\\n\\nprint(\\\"\\\\nTest  Accuracy : %.2f\\\" % accuracy_score(Y_test, test_preds))\\nprint(\\\"Train Accuracy : %.2f\\\" % accuracy_score(Y_train, train_preds))\\n\\nprint(\\\"\\\\nConfusion Matrix : \\\")\\nprint(confusion_matrix(Y_test, test_preds))\\n\\nprint(\\\"\\\\nClassification Report : \\\")\\nprint(classification_report(Y_test, test_preds))\";\n",
       "                var nbb_cells = Jupyter.notebook.get_cells();\n",
       "                for (var i = 0; i < nbb_cells.length; ++i) {\n",
       "                    if (nbb_cells[i].input_prompt_number == nbb_cell_id) {\n",
       "                        if (nbb_cells[i].get_text() == nbb_unformatted_code) {\n",
       "                             nbb_cells[i].set_text(nbb_formatted_code);\n",
       "                        }\n",
       "                        break;\n",
       "                    }\n",
       "                }\n",
       "            }, 500);\n",
       "            "
      ],
      "text/plain": [
       "<IPython.core.display.Javascript object>"
      ]
     },
     "metadata": {},
     "output_type": "display_data"
    }
   ],
   "source": [
    "X_train, X_test, Y_train, Y_test = train_test_split(\n",
    "    breast_cancer.data,\n",
    "    breast_cancer.target,\n",
    "    train_size=0.90,\n",
    "    stratify=breast_cancer.target,\n",
    "    random_state=42,\n",
    ")\n",
    "\n",
    "print(\n",
    "    \"Train/Test Sizes : \",\n",
    "    X_train.shape,\n",
    "    X_test.shape,\n",
    "    Y_train.shape,\n",
    "    Y_test.shape,\n",
    "    \"\\n\",\n",
    ")\n",
    "\n",
    "dmat_train = xgb.DMatrix(X_train, Y_train, feature_names=breast_cancer.feature_names)\n",
    "dmat_test = xgb.DMatrix(X_test, Y_test, feature_names=breast_cancer.feature_names)\n",
    "\n",
    "\n",
    "# {\"max_depth\": 2, \"eta\": 1, \"objective\": \"binary:logistic\"}\n",
    "booster = xgb.train(\n",
    "    {\"max_depth\": 2, \"eta\": 1, \"objective\": \"binary:logistic\"},\n",
    "    dmat_train,\n",
    "    evals=[(dmat_train, \"train\"), (dmat_test, \"test\")],\n",
    ")\n",
    "\n",
    "print(\"\\nTrain RMSE : \", booster.eval(dmat_train))\n",
    "print(\"Test  RMSE : \", booster.eval(dmat_test))\n",
    "\n",
    "\n",
    "from sklearn.metrics import accuracy_score, classification_report, confusion_matrix\n",
    "\n",
    "train_preds = [1 if pred > 0.5 else 0 for pred in booster.predict(data=dmat_train)]\n",
    "test_preds = [1 if pred > 0.5 else 0 for pred in booster.predict(data=dmat_test)]\n",
    "\n",
    "print(\"\\nTest  Accuracy : %.2f\" % accuracy_score(Y_test, test_preds))\n",
    "print(\"Train Accuracy : %.2f\" % accuracy_score(Y_train, train_preds))\n",
    "\n",
    "print(\"\\nConfusion Matrix : \")\n",
    "print(confusion_matrix(Y_test, test_preds))\n",
    "\n",
    "print(\"\\nClassification Report : \")\n",
    "print(classification_report(Y_test, test_preds))"
   ]
  },
  {
   "cell_type": "code",
   "execution_count": 28,
   "id": "87d5d99b",
   "metadata": {},
   "outputs": [
    {
     "data": {
      "image/png": "[encoded data removed]",
      "text/plain": [
       "<Figure size 648x432 with 1 Axes>"
      ]
     },
     "metadata": {},
     "output_type": "display_data"
    },
    {
     "data": {
      "application/javascript": [
       "\n",
       "            setTimeout(function() {\n",
       "                var nbb_cell_id = 28;\n",
       "                var nbb_unformatted_code = \"with plt.style.context(\\\"ggplot\\\"):\\n    fig = plt.figure(figsize=(9,6))\\n    ax = fig.add_subplot(111)\\n    xgb.plotting.plot_importance(booster, ax=ax, height=0.6, importance_type=\\\"gain\\\")\";\n",
       "                var nbb_formatted_code = \"with plt.style.context(\\\"ggplot\\\"):\\n    fig = plt.figure(figsize=(9, 6))\\n    ax = fig.add_subplot(111)\\n    xgb.plotting.plot_importance(booster, ax=ax, height=0.6, importance_type=\\\"gain\\\")\";\n",
       "                var nbb_cells = Jupyter.notebook.get_cells();\n",
       "                for (var i = 0; i < nbb_cells.length; ++i) {\n",
       "                    if (nbb_cells[i].input_prompt_number == nbb_cell_id) {\n",
       "                        if (nbb_cells[i].get_text() == nbb_unformatted_code) {\n",
       "                             nbb_cells[i].set_text(nbb_formatted_code);\n",
       "                        }\n",
       "                        break;\n",
       "                    }\n",
       "                }\n",
       "            }, 500);\n",
       "            "
      ],
      "text/plain": [
       "<IPython.core.display.Javascript object>"
      ]
     },
     "metadata": {},
     "output_type": "display_data"
    }
   ],
   "source": [
    "with plt.style.context(\"ggplot\"):\n",
    "    fig = plt.figure(figsize=(9, 6))\n",
    "    ax = fig.add_subplot(111)\n",
    "    xgb.plotting.plot_importance(booster, ax=ax, height=0.6, importance_type=\"gain\")"
   ]
  },
  {
   "cell_type": "code",
   "execution_count": 32,
   "id": "eb34c7e3",
   "metadata": {},
   "outputs": [
    {
     "data": {
      "image/png": "[encoded data removed]",
      "text/plain": [
       "<Figure size 1080x720 with 1 Axes>"
      ]
     },
     "metadata": {},
     "output_type": "display_data"
    },
    {
     "data": {
      "application/javascript": [
       "\n",
       "            setTimeout(function() {\n",
       "                var nbb_cell_id = 32;\n",
       "                var nbb_unformatted_code = \"# We have now plotted 3rd tree from the ensemble below\\nwith plt.style.context(\\\"ggplot\\\"):\\n    fig = plt.figure(figsize=(15, 10))\\n    ax = fig.add_subplot(111)\\n    xgb.plotting.plot_tree(booster, ax=ax, num_trees=2)\";\n",
       "                var nbb_formatted_code = \"# We have now plotted 3rd tree from the ensemble below\\nwith plt.style.context(\\\"ggplot\\\"):\\n    fig = plt.figure(figsize=(15, 10))\\n    ax = fig.add_subplot(111)\\n    xgb.plotting.plot_tree(booster, ax=ax, num_trees=2)\";\n",
       "                var nbb_cells = Jupyter.notebook.get_cells();\n",
       "                for (var i = 0; i < nbb_cells.length; ++i) {\n",
       "                    if (nbb_cells[i].input_prompt_number == nbb_cell_id) {\n",
       "                        if (nbb_cells[i].get_text() == nbb_unformatted_code) {\n",
       "                             nbb_cells[i].set_text(nbb_formatted_code);\n",
       "                        }\n",
       "                        break;\n",
       "                    }\n",
       "                }\n",
       "            }, 500);\n",
       "            "
      ],
      "text/plain": [
       "<IPython.core.display.Javascript object>"
      ]
     },
     "metadata": {},
     "output_type": "display_data"
    }
   ],
   "source": [
    "# We have now plotted 3rd tree from the ensemble below\n",
    "with plt.style.context(\"ggplot\"):\n",
    "    fig = plt.figure(figsize=(15, 10))\n",
    "    ax = fig.add_subplot(111)\n",
    "    xgb.plotting.plot_tree(booster, ax=ax, num_trees=2)"
   ]
  },
  {
   "cell_type": "markdown",
   "id": "18e8f30b",
   "metadata": {},
   "source": [
    "## Booster: Multi-Class Classification \n",
    "As a part of this section, we have explained how we can use the train() method for multi-class classification problems. We have used it to generate booster trained on wine classification train dataset. We have then evaluated the accuracy, confusion matrix, and classification report on the test dataset.\n",
    "\n",
    "We have then plotted the feature importance bar chart and first decision tree."
   ]
  },
  {
   "cell_type": "code",
   "execution_count": 33,
   "id": "94b5aea7",
   "metadata": {},
   "outputs": [
    {
     "name": "stdout",
     "output_type": "stream",
     "text": [
      "Train/Test Sizes :  (142, 13) (36, 13) (142,) (36,) \n",
      "\n",
      "[22:32:17] WARNING: /Users/travis/build/dmlc/xgboost/src/learner.cc:1061: Starting in XGBoost 1.3.0, the default evaluation metric used with the objective 'multi:softmax' was changed from 'merror' to 'mlogloss'. Explicitly set eval_metric if you'd like to restore the old behavior.\n",
      "[0]\ttrain-mlogloss:0.25512\ttest-mlogloss:0.32637\n",
      "[1]\ttrain-mlogloss:0.10468\ttest-mlogloss:0.17816\n",
      "[2]\ttrain-mlogloss:0.05119\ttest-mlogloss:0.10644\n",
      "[3]\ttrain-mlogloss:0.02820\ttest-mlogloss:0.07878\n",
      "[4]\ttrain-mlogloss:0.01885\ttest-mlogloss:0.05759\n",
      "[5]\ttrain-mlogloss:0.01396\ttest-mlogloss:0.06325\n",
      "[6]\ttrain-mlogloss:0.01149\ttest-mlogloss:0.05437\n",
      "[7]\ttrain-mlogloss:0.01036\ttest-mlogloss:0.05812\n",
      "[8]\ttrain-mlogloss:0.00991\ttest-mlogloss:0.05858\n",
      "[9]\ttrain-mlogloss:0.00955\ttest-mlogloss:0.06127\n",
      "\n",
      "Train RMSE :  [0]\teval-mlogloss:0.009555\n",
      "Test  RMSE :  [0]\teval-mlogloss:0.061267\n",
      "\n",
      "Test  Accuracy : 0.97\n",
      "Train Accuracy : 1.00\n",
      "\n",
      "Confusion Matrix : \n",
      "[[12  0  0]\n",
      " [ 0 14  0]\n",
      " [ 0  1  9]]\n",
      "\n",
      "Classification Report : \n",
      "              precision    recall  f1-score   support\n",
      "\n",
      "           0       1.00      1.00      1.00        12\n",
      "           1       0.93      1.00      0.97        14\n",
      "           2       1.00      0.90      0.95        10\n",
      "\n",
      "    accuracy                           0.97        36\n",
      "   macro avg       0.98      0.97      0.97        36\n",
      "weighted avg       0.97      0.97      0.97        36\n",
      "\n"
     ]
    },
    {
     "data": {
      "application/javascript": [
       "\n",
       "            setTimeout(function() {\n",
       "                var nbb_cell_id = 33;\n",
       "                var nbb_unformatted_code = \"X_train, X_test, Y_train, Y_test = train_test_split(wine.data, wine.target, train_size=0.80, stratify=wine.target, random_state=42)\\n\\nprint(\\\"Train/Test Sizes : \\\", X_train.shape, X_test.shape, Y_train.shape, Y_test.shape, \\\"\\\\n\\\")\\n\\ndmat_train = xgb.DMatrix(X_train, Y_train, feature_names=wine.feature_names)\\ndmat_test = xgb.DMatrix(X_test, Y_test, feature_names=wine.feature_names)\\n\\nbooster = xgb.train({'max_depth': 5, 'eta': 1, 'objective': 'multi:softmax', 'num_class':3},\\n                    dmat_train,\\n                    evals=[(dmat_train, \\\"train\\\"), (dmat_test, \\\"test\\\")])\\n\\nprint(\\\"\\\\nTrain RMSE : \\\",booster.eval(dmat_train))\\nprint(\\\"Test  RMSE : \\\",booster.eval(dmat_test))\\n\\n\\nfrom sklearn.metrics import accuracy_score\\n\\nprint(\\\"\\\\nTest  Accuracy : %.2f\\\"%accuracy_score(Y_test, booster.predict(data=dmat_test)))\\nprint(\\\"Train Accuracy : %.2f\\\"%accuracy_score(Y_train, booster.predict(data=dmat_train)))\\n\\nprint(\\\"\\\\nConfusion Matrix : \\\")\\nprint(confusion_matrix(Y_test, booster.predict(data=dmat_test)))\\n\\nprint(\\\"\\\\nClassification Report : \\\")\\nprint(classification_report(Y_test, booster.predict(data=dmat_test)))\";\n",
       "                var nbb_formatted_code = \"X_train, X_test, Y_train, Y_test = train_test_split(\\n    wine.data, wine.target, train_size=0.80, stratify=wine.target, random_state=42\\n)\\n\\nprint(\\n    \\\"Train/Test Sizes : \\\",\\n    X_train.shape,\\n    X_test.shape,\\n    Y_train.shape,\\n    Y_test.shape,\\n    \\\"\\\\n\\\",\\n)\\n\\ndmat_train = xgb.DMatrix(X_train, Y_train, feature_names=wine.feature_names)\\ndmat_test = xgb.DMatrix(X_test, Y_test, feature_names=wine.feature_names)\\n\\nbooster = xgb.train(\\n    {\\\"max_depth\\\": 5, \\\"eta\\\": 1, \\\"objective\\\": \\\"multi:softmax\\\", \\\"num_class\\\": 3},\\n    dmat_train,\\n    evals=[(dmat_train, \\\"train\\\"), (dmat_test, \\\"test\\\")],\\n)\\n\\nprint(\\\"\\\\nTrain RMSE : \\\", booster.eval(dmat_train))\\nprint(\\\"Test  RMSE : \\\", booster.eval(dmat_test))\\n\\n\\nfrom sklearn.metrics import accuracy_score\\n\\nprint(\\n    \\\"\\\\nTest  Accuracy : %.2f\\\" % accuracy_score(Y_test, booster.predict(data=dmat_test))\\n)\\nprint(\\n    \\\"Train Accuracy : %.2f\\\" % accuracy_score(Y_train, booster.predict(data=dmat_train))\\n)\\n\\nprint(\\\"\\\\nConfusion Matrix : \\\")\\nprint(confusion_matrix(Y_test, booster.predict(data=dmat_test)))\\n\\nprint(\\\"\\\\nClassification Report : \\\")\\nprint(classification_report(Y_test, booster.predict(data=dmat_test)))\";\n",
       "                var nbb_cells = Jupyter.notebook.get_cells();\n",
       "                for (var i = 0; i < nbb_cells.length; ++i) {\n",
       "                    if (nbb_cells[i].input_prompt_number == nbb_cell_id) {\n",
       "                        if (nbb_cells[i].get_text() == nbb_unformatted_code) {\n",
       "                             nbb_cells[i].set_text(nbb_formatted_code);\n",
       "                        }\n",
       "                        break;\n",
       "                    }\n",
       "                }\n",
       "            }, 500);\n",
       "            "
      ],
      "text/plain": [
       "<IPython.core.display.Javascript object>"
      ]
     },
     "metadata": {},
     "output_type": "display_data"
    }
   ],
   "source": [
    "X_train, X_test, Y_train, Y_test = train_test_split(\n",
    "    wine.data, wine.target, train_size=0.80, stratify=wine.target, random_state=42\n",
    ")\n",
    "\n",
    "print(\n",
    "    \"Train/Test Sizes : \",\n",
    "    X_train.shape,\n",
    "    X_test.shape,\n",
    "    Y_train.shape,\n",
    "    Y_test.shape,\n",
    "    \"\\n\",\n",
    ")\n",
    "\n",
    "dmat_train = xgb.DMatrix(X_train, Y_train, feature_names=wine.feature_names)\n",
    "dmat_test = xgb.DMatrix(X_test, Y_test, feature_names=wine.feature_names)\n",
    "\n",
    "\n",
    "# \"max_depth\": 5, \"eta\": 1, \"objective\": \"multi:softmax\", \"num_class\": 3\n",
    "booster = xgb.train(\n",
    "    {\"max_depth\": 5, \"eta\": 1, \"objective\": \"multi:softmax\", \"num_class\": 3},\n",
    "    dmat_train,\n",
    "    evals=[(dmat_train, \"train\"), (dmat_test, \"test\")],\n",
    ")\n",
    "\n",
    "print(\"\\nTrain RMSE : \", booster.eval(dmat_train))\n",
    "print(\"Test  RMSE : \", booster.eval(dmat_test))\n",
    "\n",
    "\n",
    "from sklearn.metrics import accuracy_score\n",
    "\n",
    "print(\n",
    "    \"\\nTest  Accuracy : %.2f\" % accuracy_score(Y_test, booster.predict(data=dmat_test))\n",
    ")\n",
    "print(\n",
    "    \"Train Accuracy : %.2f\" % accuracy_score(Y_train, booster.predict(data=dmat_train))\n",
    ")\n",
    "\n",
    "print(\"\\nConfusion Matrix : \")\n",
    "print(confusion_matrix(Y_test, booster.predict(data=dmat_test)))\n",
    "\n",
    "print(\"\\nClassification Report : \")\n",
    "print(classification_report(Y_test, booster.predict(data=dmat_test)))"
   ]
  },
  {
   "cell_type": "code",
   "execution_count": 34,
   "id": "187fea71",
   "metadata": {},
   "outputs": [
    {
     "data": {
      "image/png": "[encoded data removed]",
      "text/plain": [
       "<Figure size 648x432 with 1 Axes>"
      ]
     },
     "metadata": {},
     "output_type": "display_data"
    },
    {
     "data": {
      "application/javascript": [
       "\n",
       "            setTimeout(function() {\n",
       "                var nbb_cell_id = 34;\n",
       "                var nbb_unformatted_code = \"with plt.style.context(\\\"ggplot\\\"):\\n    fig = plt.figure(figsize=(9,6))\\n    ax = fig.add_subplot(111)\\n    xgb.plotting.plot_importance(booster, ax=ax, height=0.6, importance_type=\\\"weight\\\")\";\n",
       "                var nbb_formatted_code = \"with plt.style.context(\\\"ggplot\\\"):\\n    fig = plt.figure(figsize=(9, 6))\\n    ax = fig.add_subplot(111)\\n    xgb.plotting.plot_importance(booster, ax=ax, height=0.6, importance_type=\\\"weight\\\")\";\n",
       "                var nbb_cells = Jupyter.notebook.get_cells();\n",
       "                for (var i = 0; i < nbb_cells.length; ++i) {\n",
       "                    if (nbb_cells[i].input_prompt_number == nbb_cell_id) {\n",
       "                        if (nbb_cells[i].get_text() == nbb_unformatted_code) {\n",
       "                             nbb_cells[i].set_text(nbb_formatted_code);\n",
       "                        }\n",
       "                        break;\n",
       "                    }\n",
       "                }\n",
       "            }, 500);\n",
       "            "
      ],
      "text/plain": [
       "<IPython.core.display.Javascript object>"
      ]
     },
     "metadata": {},
     "output_type": "display_data"
    }
   ],
   "source": [
    "with plt.style.context(\"ggplot\"):\n",
    "    fig = plt.figure(figsize=(9, 6))\n",
    "    ax = fig.add_subplot(111)\n",
    "    xgb.plotting.plot_importance(booster, ax=ax, height=0.6, importance_type=\"weight\")"
   ]
  },
  {
   "cell_type": "code",
   "execution_count": 38,
   "id": "e18c9f5b",
   "metadata": {},
   "outputs": [
    {
     "data": {
      "image/png": "[encoded data removed]",
      "text/plain": [
       "<Figure size 1440x720 with 1 Axes>"
      ]
     },
     "metadata": {},
     "output_type": "display_data"
    },
    {
     "data": {
      "application/javascript": [
       "\n",
       "            setTimeout(function() {\n",
       "                var nbb_cell_id = 38;\n",
       "                var nbb_unformatted_code = \"with plt.style.context(\\\"ggplot\\\"):\\n    fig = plt.figure(figsize=(20, 10))\\n    ax = fig.add_subplot(111)\\n    xgb.plotting.plot_tree(booster, ax=ax, num_trees=2)\";\n",
       "                var nbb_formatted_code = \"with plt.style.context(\\\"ggplot\\\"):\\n    fig = plt.figure(figsize=(20, 10))\\n    ax = fig.add_subplot(111)\\n    xgb.plotting.plot_tree(booster, ax=ax, num_trees=2)\";\n",
       "                var nbb_cells = Jupyter.notebook.get_cells();\n",
       "                for (var i = 0; i < nbb_cells.length; ++i) {\n",
       "                    if (nbb_cells[i].input_prompt_number == nbb_cell_id) {\n",
       "                        if (nbb_cells[i].get_text() == nbb_unformatted_code) {\n",
       "                             nbb_cells[i].set_text(nbb_formatted_code);\n",
       "                        }\n",
       "                        break;\n",
       "                    }\n",
       "                }\n",
       "            }, 500);\n",
       "            "
      ],
      "text/plain": [
       "<IPython.core.display.Javascript object>"
      ]
     },
     "metadata": {},
     "output_type": "display_data"
    }
   ],
   "source": [
    "with plt.style.context(\"ggplot\"):\n",
    "    fig = plt.figure(figsize=(20, 10))\n",
    "    ax = fig.add_subplot(111)\n",
    "    xgb.plotting.plot_tree(booster, ax=ax, num_trees=2)"
   ]
  },
  {
   "cell_type": "markdown",
   "id": "c383b771",
   "metadata": {},
   "source": [
    "## Saving and Loading Trained Model"
   ]
  },
  {
   "cell_type": "code",
   "execution_count": 39,
   "id": "ebfa4163",
   "metadata": {},
   "outputs": [
    {
     "data": {
      "application/javascript": [
       "\n",
       "            setTimeout(function() {\n",
       "                var nbb_cell_id = 39;\n",
       "                var nbb_unformatted_code = \"# Save the model \\nbooster.save_model(\\\"multiclass_classification.model\\\")\";\n",
       "                var nbb_formatted_code = \"# Save the model\\nbooster.save_model(\\\"multiclass_classification.model\\\")\";\n",
       "                var nbb_cells = Jupyter.notebook.get_cells();\n",
       "                for (var i = 0; i < nbb_cells.length; ++i) {\n",
       "                    if (nbb_cells[i].input_prompt_number == nbb_cell_id) {\n",
       "                        if (nbb_cells[i].get_text() == nbb_unformatted_code) {\n",
       "                             nbb_cells[i].set_text(nbb_formatted_code);\n",
       "                        }\n",
       "                        break;\n",
       "                    }\n",
       "                }\n",
       "            }, 500);\n",
       "            "
      ],
      "text/plain": [
       "<IPython.core.display.Javascript object>"
      ]
     },
     "metadata": {},
     "output_type": "display_data"
    }
   ],
   "source": [
    "# Save the model\n",
    "booster.save_model(\"multiclass_classification.model\")"
   ]
  },
  {
   "cell_type": "code",
   "execution_count": 40,
   "id": "673850f0",
   "metadata": {},
   "outputs": [
    {
     "data": {
      "text/plain": [
       "<xgboost.core.Booster at 0x7fea27c2de80>"
      ]
     },
     "execution_count": 40,
     "metadata": {},
     "output_type": "execute_result"
    },
    {
     "data": {
      "application/javascript": [
       "\n",
       "            setTimeout(function() {\n",
       "                var nbb_cell_id = 40;\n",
       "                var nbb_unformatted_code = \"# Load the model\\nloaded_booster =  xgb.Booster()\\nloaded_booster\";\n",
       "                var nbb_formatted_code = \"# Load the model\\nloaded_booster = xgb.Booster()\\nloaded_booster\";\n",
       "                var nbb_cells = Jupyter.notebook.get_cells();\n",
       "                for (var i = 0; i < nbb_cells.length; ++i) {\n",
       "                    if (nbb_cells[i].input_prompt_number == nbb_cell_id) {\n",
       "                        if (nbb_cells[i].get_text() == nbb_unformatted_code) {\n",
       "                             nbb_cells[i].set_text(nbb_formatted_code);\n",
       "                        }\n",
       "                        break;\n",
       "                    }\n",
       "                }\n",
       "            }, 500);\n",
       "            "
      ],
      "text/plain": [
       "<IPython.core.display.Javascript object>"
      ]
     },
     "metadata": {},
     "output_type": "display_data"
    }
   ],
   "source": [
    "# Load the model\n",
    "loaded_booster = xgb.Booster()\n",
    "loaded_booster"
   ]
  },
  {
   "cell_type": "code",
   "execution_count": 41,
   "id": "d831eeaa",
   "metadata": {},
   "outputs": [
    {
     "data": {
      "application/javascript": [
       "\n",
       "            setTimeout(function() {\n",
       "                var nbb_cell_id = 41;\n",
       "                var nbb_unformatted_code = \"loaded_booster.load_model(\\\"multiclass_classification.model\\\")\";\n",
       "                var nbb_formatted_code = \"loaded_booster.load_model(\\\"multiclass_classification.model\\\")\";\n",
       "                var nbb_cells = Jupyter.notebook.get_cells();\n",
       "                for (var i = 0; i < nbb_cells.length; ++i) {\n",
       "                    if (nbb_cells[i].input_prompt_number == nbb_cell_id) {\n",
       "                        if (nbb_cells[i].get_text() == nbb_unformatted_code) {\n",
       "                             nbb_cells[i].set_text(nbb_formatted_code);\n",
       "                        }\n",
       "                        break;\n",
       "                    }\n",
       "                }\n",
       "            }, 500);\n",
       "            "
      ],
      "text/plain": [
       "<IPython.core.display.Javascript object>"
      ]
     },
     "metadata": {},
     "output_type": "display_data"
    }
   ],
   "source": [
    "loaded_booster.load_model(\"multiclass_classification.model\")"
   ]
  },
  {
   "cell_type": "code",
   "execution_count": 42,
   "id": "8af15253",
   "metadata": {},
   "outputs": [
    {
     "data": {
      "text/html": [
       "<div>\n",
       "<style scoped>\n",
       "    .dataframe tbody tr th:only-of-type {\n",
       "        vertical-align: middle;\n",
       "    }\n",
       "\n",
       "    .dataframe tbody tr th {\n",
       "        vertical-align: top;\n",
       "    }\n",
       "\n",
       "    .dataframe thead th {\n",
       "        text-align: right;\n",
       "    }\n",
       "</style>\n",
       "<table border=\"1\" class=\"dataframe\">\n",
       "  <thead>\n",
       "    <tr style=\"text-align: right;\">\n",
       "      <th></th>\n",
       "      <th>Preds</th>\n",
       "      <th>Loaded Model Preds</th>\n",
       "    </tr>\n",
       "  </thead>\n",
       "  <tbody>\n",
       "    <tr>\n",
       "      <th>0</th>\n",
       "      <td>0.0</td>\n",
       "      <td>0.0</td>\n",
       "    </tr>\n",
       "    <tr>\n",
       "      <th>1</th>\n",
       "      <td>2.0</td>\n",
       "      <td>2.0</td>\n",
       "    </tr>\n",
       "    <tr>\n",
       "      <th>2</th>\n",
       "      <td>0.0</td>\n",
       "      <td>0.0</td>\n",
       "    </tr>\n",
       "    <tr>\n",
       "      <th>3</th>\n",
       "      <td>1.0</td>\n",
       "      <td>1.0</td>\n",
       "    </tr>\n",
       "    <tr>\n",
       "      <th>4</th>\n",
       "      <td>1.0</td>\n",
       "      <td>1.0</td>\n",
       "    </tr>\n",
       "  </tbody>\n",
       "</table>\n",
       "</div>"
      ],
      "text/plain": [
       "   Preds  Loaded Model Preds\n",
       "0    0.0                 0.0\n",
       "1    2.0                 2.0\n",
       "2    0.0                 0.0\n",
       "3    1.0                 1.0\n",
       "4    1.0                 1.0"
      ]
     },
     "execution_count": 42,
     "metadata": {},
     "output_type": "execute_result"
    },
    {
     "data": {
      "application/javascript": [
       "\n",
       "            setTimeout(function() {\n",
       "                var nbb_cell_id = 42;\n",
       "                var nbb_unformatted_code = \"pd.DataFrame({\\\"Preds\\\":booster.predict(dmat_test)[:5], \\\"Loaded Model Preds\\\":loaded_booster.predict(dmat_test)[:5]})\";\n",
       "                var nbb_formatted_code = \"pd.DataFrame(\\n    {\\n        \\\"Preds\\\": booster.predict(dmat_test)[:5],\\n        \\\"Loaded Model Preds\\\": loaded_booster.predict(dmat_test)[:5],\\n    }\\n)\";\n",
       "                var nbb_cells = Jupyter.notebook.get_cells();\n",
       "                for (var i = 0; i < nbb_cells.length; ++i) {\n",
       "                    if (nbb_cells[i].input_prompt_number == nbb_cell_id) {\n",
       "                        if (nbb_cells[i].get_text() == nbb_unformatted_code) {\n",
       "                             nbb_cells[i].set_text(nbb_formatted_code);\n",
       "                        }\n",
       "                        break;\n",
       "                    }\n",
       "                }\n",
       "            }, 500);\n",
       "            "
      ],
      "text/plain": [
       "<IPython.core.display.Javascript object>"
      ]
     },
     "metadata": {},
     "output_type": "display_data"
    }
   ],
   "source": [
    "pd.DataFrame(\n",
    "    {\n",
    "        \"Preds\": booster.predict(dmat_test)[:5],\n",
    "        \"Loaded Model Preds\": loaded_booster.predict(dmat_test)[:5],\n",
    "    }\n",
    ")"
   ]
  },
  {
   "cell_type": "code",
   "execution_count": 43,
   "id": "53a1f4c9",
   "metadata": {},
   "outputs": [
    {
     "data": {
      "text/html": [
       "<div>\n",
       "<style scoped>\n",
       "    .dataframe tbody tr th:only-of-type {\n",
       "        vertical-align: middle;\n",
       "    }\n",
       "\n",
       "    .dataframe tbody tr th {\n",
       "        vertical-align: top;\n",
       "    }\n",
       "\n",
       "    .dataframe thead th {\n",
       "        text-align: right;\n",
       "    }\n",
       "</style>\n",
       "<table border=\"1\" class=\"dataframe\">\n",
       "  <thead>\n",
       "    <tr style=\"text-align: right;\">\n",
       "      <th></th>\n",
       "      <th>Preds</th>\n",
       "      <th>Loaded Model Preds</th>\n",
       "    </tr>\n",
       "  </thead>\n",
       "  <tbody>\n",
       "    <tr>\n",
       "      <th>0</th>\n",
       "      <td>0.0</td>\n",
       "      <td>0.0</td>\n",
       "    </tr>\n",
       "    <tr>\n",
       "      <th>1</th>\n",
       "      <td>2.0</td>\n",
       "      <td>2.0</td>\n",
       "    </tr>\n",
       "    <tr>\n",
       "      <th>2</th>\n",
       "      <td>0.0</td>\n",
       "      <td>0.0</td>\n",
       "    </tr>\n",
       "    <tr>\n",
       "      <th>3</th>\n",
       "      <td>1.0</td>\n",
       "      <td>1.0</td>\n",
       "    </tr>\n",
       "    <tr>\n",
       "      <th>4</th>\n",
       "      <td>1.0</td>\n",
       "      <td>1.0</td>\n",
       "    </tr>\n",
       "  </tbody>\n",
       "</table>\n",
       "</div>"
      ],
      "text/plain": [
       "   Preds  Loaded Model Preds\n",
       "0    0.0                 0.0\n",
       "1    2.0                 2.0\n",
       "2    0.0                 0.0\n",
       "3    1.0                 1.0\n",
       "4    1.0                 1.0"
      ]
     },
     "execution_count": 43,
     "metadata": {},
     "output_type": "execute_result"
    },
    {
     "data": {
      "application/javascript": [
       "\n",
       "            setTimeout(function() {\n",
       "                var nbb_cell_id = 43;\n",
       "                var nbb_unformatted_code = \"loaded_booster1 =  xgb.Booster(model_file=\\\"multiclass_classification.model\\\")\\n\\npd.DataFrame({\\\"Preds\\\":booster.predict(dmat_test)[:5], \\\"Loaded Model Preds\\\":loaded_booster1.predict(dmat_test)[:5]})\";\n",
       "                var nbb_formatted_code = \"loaded_booster1 = xgb.Booster(model_file=\\\"multiclass_classification.model\\\")\\n\\npd.DataFrame(\\n    {\\n        \\\"Preds\\\": booster.predict(dmat_test)[:5],\\n        \\\"Loaded Model Preds\\\": loaded_booster1.predict(dmat_test)[:5],\\n    }\\n)\";\n",
       "                var nbb_cells = Jupyter.notebook.get_cells();\n",
       "                for (var i = 0; i < nbb_cells.length; ++i) {\n",
       "                    if (nbb_cells[i].input_prompt_number == nbb_cell_id) {\n",
       "                        if (nbb_cells[i].get_text() == nbb_unformatted_code) {\n",
       "                             nbb_cells[i].set_text(nbb_formatted_code);\n",
       "                        }\n",
       "                        break;\n",
       "                    }\n",
       "                }\n",
       "            }, 500);\n",
       "            "
      ],
      "text/plain": [
       "<IPython.core.display.Javascript object>"
      ]
     },
     "metadata": {},
     "output_type": "display_data"
    }
   ],
   "source": [
    "loaded_booster1 = xgb.Booster(model_file=\"multiclass_classification.model\")\n",
    "\n",
    "pd.DataFrame(\n",
    "    {\n",
    "        \"Preds\": booster.predict(dmat_test)[:5],\n",
    "        \"Loaded Model Preds\": loaded_booster1.predict(dmat_test)[:5],\n",
    "    }\n",
    ")"
   ]
  },
  {
   "cell_type": "markdown",
   "id": "cf85c4ba",
   "metadata": {},
   "source": [
    "## Cross Validation \n",
    "Xgboost lets us perform cross-validation on our dataset as well using the cv() method. The cv() method has almost the same parameters as that of the train() method with few extra parameters as mentioned below.\n",
    "\n",
    "- nfold - It accepts integer specifying the number of folds to create from the dataset. The default is 3.\n",
    "- folds - It accepts sklearn KFold, StratifiedKFold, ShuffleSplitor StratifiedShuffleSplit instance.\n",
    "- metrics - It accepts list of metrics to evaluate.\n",
    "\n",
    "Below we have performed cross-validation on the full Boston dataset for 10 rounds and 5 folds."
   ]
  },
  {
   "cell_type": "code",
   "execution_count": 44,
   "id": "ce746719",
   "metadata": {},
   "outputs": [
    {
     "data": {
      "text/html": [
       "<div>\n",
       "<style scoped>\n",
       "    .dataframe tbody tr th:only-of-type {\n",
       "        vertical-align: middle;\n",
       "    }\n",
       "\n",
       "    .dataframe tbody tr th {\n",
       "        vertical-align: top;\n",
       "    }\n",
       "\n",
       "    .dataframe thead th {\n",
       "        text-align: right;\n",
       "    }\n",
       "</style>\n",
       "<table border=\"1\" class=\"dataframe\">\n",
       "  <thead>\n",
       "    <tr style=\"text-align: right;\">\n",
       "      <th></th>\n",
       "      <th>train-rmse-mean</th>\n",
       "      <th>train-rmse-std</th>\n",
       "      <th>test-rmse-mean</th>\n",
       "      <th>test-rmse-std</th>\n",
       "    </tr>\n",
       "  </thead>\n",
       "  <tbody>\n",
       "    <tr>\n",
       "      <th>0</th>\n",
       "      <td>3.822509</td>\n",
       "      <td>0.207240</td>\n",
       "      <td>5.041322</td>\n",
       "      <td>0.709767</td>\n",
       "    </tr>\n",
       "    <tr>\n",
       "      <th>1</th>\n",
       "      <td>2.650213</td>\n",
       "      <td>0.148219</td>\n",
       "      <td>4.740112</td>\n",
       "      <td>0.665003</td>\n",
       "    </tr>\n",
       "    <tr>\n",
       "      <th>2</th>\n",
       "      <td>2.179826</td>\n",
       "      <td>0.093208</td>\n",
       "      <td>4.509482</td>\n",
       "      <td>0.673848</td>\n",
       "    </tr>\n",
       "    <tr>\n",
       "      <th>3</th>\n",
       "      <td>1.828081</td>\n",
       "      <td>0.080050</td>\n",
       "      <td>4.392651</td>\n",
       "      <td>0.675589</td>\n",
       "    </tr>\n",
       "    <tr>\n",
       "      <th>4</th>\n",
       "      <td>1.512701</td>\n",
       "      <td>0.056885</td>\n",
       "      <td>4.294071</td>\n",
       "      <td>0.450255</td>\n",
       "    </tr>\n",
       "    <tr>\n",
       "      <th>5</th>\n",
       "      <td>1.316335</td>\n",
       "      <td>0.024188</td>\n",
       "      <td>4.285634</td>\n",
       "      <td>0.437991</td>\n",
       "    </tr>\n",
       "    <tr>\n",
       "      <th>6</th>\n",
       "      <td>1.114541</td>\n",
       "      <td>0.050333</td>\n",
       "      <td>4.350707</td>\n",
       "      <td>0.418353</td>\n",
       "    </tr>\n",
       "    <tr>\n",
       "      <th>7</th>\n",
       "      <td>0.961021</td>\n",
       "      <td>0.054002</td>\n",
       "      <td>4.387452</td>\n",
       "      <td>0.434030</td>\n",
       "    </tr>\n",
       "    <tr>\n",
       "      <th>8</th>\n",
       "      <td>0.869441</td>\n",
       "      <td>0.049707</td>\n",
       "      <td>4.403180</td>\n",
       "      <td>0.421032</td>\n",
       "    </tr>\n",
       "    <tr>\n",
       "      <th>9</th>\n",
       "      <td>0.790959</td>\n",
       "      <td>0.063960</td>\n",
       "      <td>4.389377</td>\n",
       "      <td>0.445109</td>\n",
       "    </tr>\n",
       "  </tbody>\n",
       "</table>\n",
       "</div>"
      ],
      "text/plain": [
       "   train-rmse-mean  train-rmse-std  test-rmse-mean  test-rmse-std\n",
       "0         3.822509        0.207240        5.041322       0.709767\n",
       "1         2.650213        0.148219        4.740112       0.665003\n",
       "2         2.179826        0.093208        4.509482       0.673848\n",
       "3         1.828081        0.080050        4.392651       0.675589\n",
       "4         1.512701        0.056885        4.294071       0.450255\n",
       "5         1.316335        0.024188        4.285634       0.437991\n",
       "6         1.114541        0.050333        4.350707       0.418353\n",
       "7         0.961021        0.054002        4.387452       0.434030\n",
       "8         0.869441        0.049707        4.403180       0.421032\n",
       "9         0.790959        0.063960        4.389377       0.445109"
      ]
     },
     "execution_count": 44,
     "metadata": {},
     "output_type": "execute_result"
    },
    {
     "data": {
      "application/javascript": [
       "\n",
       "            setTimeout(function() {\n",
       "                var nbb_cell_id = 44;\n",
       "                var nbb_unformatted_code = \"dmat_train = xgb.DMatrix(boston.data, boston.target, feature_names=boston.feature_names)\\n\\nxgb.cv({'max_depth': 5, 'eta': 1, 'objective': 'reg:squarederror'}, dmat_train, num_boost_round=10, nfold=5)\";\n",
       "                var nbb_formatted_code = \"dmat_train = xgb.DMatrix(boston.data, boston.target, feature_names=boston.feature_names)\\n\\nxgb.cv(\\n    {\\\"max_depth\\\": 5, \\\"eta\\\": 1, \\\"objective\\\": \\\"reg:squarederror\\\"},\\n    dmat_train,\\n    num_boost_round=10,\\n    nfold=5,\\n)\";\n",
       "                var nbb_cells = Jupyter.notebook.get_cells();\n",
       "                for (var i = 0; i < nbb_cells.length; ++i) {\n",
       "                    if (nbb_cells[i].input_prompt_number == nbb_cell_id) {\n",
       "                        if (nbb_cells[i].get_text() == nbb_unformatted_code) {\n",
       "                             nbb_cells[i].set_text(nbb_formatted_code);\n",
       "                        }\n",
       "                        break;\n",
       "                    }\n",
       "                }\n",
       "            }, 500);\n",
       "            "
      ],
      "text/plain": [
       "<IPython.core.display.Javascript object>"
      ]
     },
     "metadata": {},
     "output_type": "display_data"
    }
   ],
   "source": [
    "dmat_train = xgb.DMatrix(boston.data, boston.target, feature_names=boston.feature_names)\n",
    "\n",
    "xgb.cv(\n",
    "    {\"max_depth\": 5, \"eta\": 1, \"objective\": \"reg:squarederror\"},\n",
    "    dmat_train,\n",
    "    num_boost_round=10,\n",
    "    nfold=5,\n",
    ")"
   ]
  },
  {
   "cell_type": "code",
   "execution_count": 45,
   "id": "e978d5e8",
   "metadata": {},
   "outputs": [
    {
     "data": {
      "text/html": [
       "<div>\n",
       "<style scoped>\n",
       "    .dataframe tbody tr th:only-of-type {\n",
       "        vertical-align: middle;\n",
       "    }\n",
       "\n",
       "    .dataframe tbody tr th {\n",
       "        vertical-align: top;\n",
       "    }\n",
       "\n",
       "    .dataframe thead th {\n",
       "        text-align: right;\n",
       "    }\n",
       "</style>\n",
       "<table border=\"1\" class=\"dataframe\">\n",
       "  <thead>\n",
       "    <tr style=\"text-align: right;\">\n",
       "      <th></th>\n",
       "      <th>train-rmsle-mean</th>\n",
       "      <th>train-rmsle-std</th>\n",
       "      <th>test-rmsle-mean</th>\n",
       "      <th>test-rmsle-std</th>\n",
       "    </tr>\n",
       "  </thead>\n",
       "  <tbody>\n",
       "    <tr>\n",
       "      <th>0</th>\n",
       "      <td>2.166785</td>\n",
       "      <td>0.006862</td>\n",
       "      <td>2.179977</td>\n",
       "      <td>0.064457</td>\n",
       "    </tr>\n",
       "    <tr>\n",
       "      <th>1</th>\n",
       "      <td>1.660312</td>\n",
       "      <td>0.006184</td>\n",
       "      <td>1.673285</td>\n",
       "      <td>0.062628</td>\n",
       "    </tr>\n",
       "    <tr>\n",
       "      <th>2</th>\n",
       "      <td>1.203496</td>\n",
       "      <td>0.005193</td>\n",
       "      <td>1.216123</td>\n",
       "      <td>0.059105</td>\n",
       "    </tr>\n",
       "    <tr>\n",
       "      <th>3</th>\n",
       "      <td>0.825498</td>\n",
       "      <td>0.003802</td>\n",
       "      <td>0.837564</td>\n",
       "      <td>0.051902</td>\n",
       "    </tr>\n",
       "    <tr>\n",
       "      <th>4</th>\n",
       "      <td>0.558500</td>\n",
       "      <td>0.003576</td>\n",
       "      <td>0.570968</td>\n",
       "      <td>0.040899</td>\n",
       "    </tr>\n",
       "    <tr>\n",
       "      <th>5</th>\n",
       "      <td>0.405827</td>\n",
       "      <td>0.004899</td>\n",
       "      <td>0.418653</td>\n",
       "      <td>0.036919</td>\n",
       "    </tr>\n",
       "    <tr>\n",
       "      <th>6</th>\n",
       "      <td>0.334471</td>\n",
       "      <td>0.008007</td>\n",
       "      <td>0.348108</td>\n",
       "      <td>0.039197</td>\n",
       "    </tr>\n",
       "    <tr>\n",
       "      <th>7</th>\n",
       "      <td>0.308396</td>\n",
       "      <td>0.010793</td>\n",
       "      <td>0.320564</td>\n",
       "      <td>0.043359</td>\n",
       "    </tr>\n",
       "    <tr>\n",
       "      <th>8</th>\n",
       "      <td>0.301879</td>\n",
       "      <td>0.011445</td>\n",
       "      <td>0.312817</td>\n",
       "      <td>0.046100</td>\n",
       "    </tr>\n",
       "    <tr>\n",
       "      <th>9</th>\n",
       "      <td>0.300311</td>\n",
       "      <td>0.011576</td>\n",
       "      <td>0.310560</td>\n",
       "      <td>0.047579</td>\n",
       "    </tr>\n",
       "  </tbody>\n",
       "</table>\n",
       "</div>"
      ],
      "text/plain": [
       "   train-rmsle-mean  train-rmsle-std  test-rmsle-mean  test-rmsle-std\n",
       "0          2.166785         0.006862         2.179977        0.064457\n",
       "1          1.660312         0.006184         1.673285        0.062628\n",
       "2          1.203496         0.005193         1.216123        0.059105\n",
       "3          0.825498         0.003802         0.837564        0.051902\n",
       "4          0.558500         0.003576         0.570968        0.040899\n",
       "5          0.405827         0.004899         0.418653        0.036919\n",
       "6          0.334471         0.008007         0.348108        0.039197\n",
       "7          0.308396         0.010793         0.320564        0.043359\n",
       "8          0.301879         0.011445         0.312817        0.046100\n",
       "9          0.300311         0.011576         0.310560        0.047579"
      ]
     },
     "execution_count": 45,
     "metadata": {},
     "output_type": "execute_result"
    },
    {
     "data": {
      "application/javascript": [
       "\n",
       "            setTimeout(function() {\n",
       "                var nbb_cell_id = 45;\n",
       "                var nbb_unformatted_code = \"from sklearn.model_selection import KFold, ShuffleSplit\\n\\nshuffle_split = ShuffleSplit(random_state=123)\\n\\ndmat_train = xgb.DMatrix(boston.data, boston.target, feature_names=boston.feature_names)\\n\\nxgb.cv({'max_depth': 5, 'eta': 1, 'objective': 'reg:squaredlogerror'}, dmat_train, folds=shuffle_split)\";\n",
       "                var nbb_formatted_code = \"from sklearn.model_selection import KFold, ShuffleSplit\\n\\nshuffle_split = ShuffleSplit(random_state=123)\\n\\ndmat_train = xgb.DMatrix(boston.data, boston.target, feature_names=boston.feature_names)\\n\\nxgb.cv(\\n    {\\\"max_depth\\\": 5, \\\"eta\\\": 1, \\\"objective\\\": \\\"reg:squaredlogerror\\\"},\\n    dmat_train,\\n    folds=shuffle_split,\\n)\";\n",
       "                var nbb_cells = Jupyter.notebook.get_cells();\n",
       "                for (var i = 0; i < nbb_cells.length; ++i) {\n",
       "                    if (nbb_cells[i].input_prompt_number == nbb_cell_id) {\n",
       "                        if (nbb_cells[i].get_text() == nbb_unformatted_code) {\n",
       "                             nbb_cells[i].set_text(nbb_formatted_code);\n",
       "                        }\n",
       "                        break;\n",
       "                    }\n",
       "                }\n",
       "            }, 500);\n",
       "            "
      ],
      "text/plain": [
       "<IPython.core.display.Javascript object>"
      ]
     },
     "metadata": {},
     "output_type": "display_data"
    }
   ],
   "source": [
    "from sklearn.model_selection import KFold, ShuffleSplit\n",
    "\n",
    "shuffle_split = ShuffleSplit(random_state=123)\n",
    "\n",
    "dmat_train = xgb.DMatrix(boston.data, boston.target, feature_names=boston.feature_names)\n",
    "\n",
    "xgb.cv(\n",
    "    {\"max_depth\": 5, \"eta\": 1, \"objective\": \"reg:squaredlogerror\"},\n",
    "    dmat_train,\n",
    "    folds=shuffle_split,\n",
    ")"
   ]
  },
  {
   "cell_type": "code",
   "execution_count": 46,
   "id": "307a6e98",
   "metadata": {},
   "outputs": [
    {
     "data": {
      "text/html": [
       "<div>\n",
       "<style scoped>\n",
       "    .dataframe tbody tr th:only-of-type {\n",
       "        vertical-align: middle;\n",
       "    }\n",
       "\n",
       "    .dataframe tbody tr th {\n",
       "        vertical-align: top;\n",
       "    }\n",
       "\n",
       "    .dataframe thead th {\n",
       "        text-align: right;\n",
       "    }\n",
       "</style>\n",
       "<table border=\"1\" class=\"dataframe\">\n",
       "  <thead>\n",
       "    <tr style=\"text-align: right;\">\n",
       "      <th></th>\n",
       "      <th>train-auc-mean</th>\n",
       "      <th>train-auc-std</th>\n",
       "      <th>train-logloss-mean</th>\n",
       "      <th>train-logloss-std</th>\n",
       "      <th>train-error-mean</th>\n",
       "      <th>train-error-std</th>\n",
       "      <th>test-auc-mean</th>\n",
       "      <th>test-auc-std</th>\n",
       "      <th>test-logloss-mean</th>\n",
       "      <th>test-logloss-std</th>\n",
       "      <th>test-error-mean</th>\n",
       "      <th>test-error-std</th>\n",
       "    </tr>\n",
       "  </thead>\n",
       "  <tbody>\n",
       "    <tr>\n",
       "      <th>0</th>\n",
       "      <td>0.984869</td>\n",
       "      <td>0.004415</td>\n",
       "      <td>0.751959</td>\n",
       "      <td>0.136324</td>\n",
       "      <td>0.032072</td>\n",
       "      <td>0.004724</td>\n",
       "      <td>0.954241</td>\n",
       "      <td>0.035507</td>\n",
       "      <td>2.221833</td>\n",
       "      <td>0.897529</td>\n",
       "      <td>0.070253</td>\n",
       "      <td>0.027104</td>\n",
       "    </tr>\n",
       "    <tr>\n",
       "      <th>1</th>\n",
       "      <td>0.995872</td>\n",
       "      <td>0.001205</td>\n",
       "      <td>0.502776</td>\n",
       "      <td>0.139846</td>\n",
       "      <td>0.021089</td>\n",
       "      <td>0.002238</td>\n",
       "      <td>0.978964</td>\n",
       "      <td>0.016550</td>\n",
       "      <td>1.408002</td>\n",
       "      <td>0.528581</td>\n",
       "      <td>0.063236</td>\n",
       "      <td>0.024375</td>\n",
       "    </tr>\n",
       "    <tr>\n",
       "      <th>2</th>\n",
       "      <td>0.998912</td>\n",
       "      <td>0.000321</td>\n",
       "      <td>0.238696</td>\n",
       "      <td>0.061521</td>\n",
       "      <td>0.011861</td>\n",
       "      <td>0.004071</td>\n",
       "      <td>0.984143</td>\n",
       "      <td>0.011847</td>\n",
       "      <td>1.183112</td>\n",
       "      <td>0.876535</td>\n",
       "      <td>0.045692</td>\n",
       "      <td>0.021765</td>\n",
       "    </tr>\n",
       "    <tr>\n",
       "      <th>3</th>\n",
       "      <td>0.999763</td>\n",
       "      <td>0.000146</td>\n",
       "      <td>0.137139</td>\n",
       "      <td>0.080469</td>\n",
       "      <td>0.006151</td>\n",
       "      <td>0.002153</td>\n",
       "      <td>0.984318</td>\n",
       "      <td>0.012822</td>\n",
       "      <td>1.118245</td>\n",
       "      <td>0.753408</td>\n",
       "      <td>0.042152</td>\n",
       "      <td>0.025636</td>\n",
       "    </tr>\n",
       "    <tr>\n",
       "      <th>4</th>\n",
       "      <td>0.999955</td>\n",
       "      <td>0.000033</td>\n",
       "      <td>0.037764</td>\n",
       "      <td>0.039303</td>\n",
       "      <td>0.003515</td>\n",
       "      <td>0.002240</td>\n",
       "      <td>0.986297</td>\n",
       "      <td>0.009412</td>\n",
       "      <td>1.168458</td>\n",
       "      <td>0.722708</td>\n",
       "      <td>0.033380</td>\n",
       "      <td>0.018714</td>\n",
       "    </tr>\n",
       "    <tr>\n",
       "      <th>5</th>\n",
       "      <td>1.000000</td>\n",
       "      <td>0.000000</td>\n",
       "      <td>0.017407</td>\n",
       "      <td>0.031814</td>\n",
       "      <td>0.001319</td>\n",
       "      <td>0.001077</td>\n",
       "      <td>0.988025</td>\n",
       "      <td>0.008570</td>\n",
       "      <td>1.048233</td>\n",
       "      <td>0.623548</td>\n",
       "      <td>0.035134</td>\n",
       "      <td>0.018378</td>\n",
       "    </tr>\n",
       "    <tr>\n",
       "      <th>6</th>\n",
       "      <td>1.000000</td>\n",
       "      <td>0.000000</td>\n",
       "      <td>0.001595</td>\n",
       "      <td>0.000859</td>\n",
       "      <td>0.001318</td>\n",
       "      <td>0.001076</td>\n",
       "      <td>0.989510</td>\n",
       "      <td>0.008008</td>\n",
       "      <td>0.923753</td>\n",
       "      <td>0.709116</td>\n",
       "      <td>0.033380</td>\n",
       "      <td>0.015071</td>\n",
       "    </tr>\n",
       "    <tr>\n",
       "      <th>7</th>\n",
       "      <td>1.000000</td>\n",
       "      <td>0.000000</td>\n",
       "      <td>0.000277</td>\n",
       "      <td>0.000347</td>\n",
       "      <td>0.000000</td>\n",
       "      <td>0.000000</td>\n",
       "      <td>0.990337</td>\n",
       "      <td>0.007300</td>\n",
       "      <td>0.925856</td>\n",
       "      <td>0.736739</td>\n",
       "      <td>0.036904</td>\n",
       "      <td>0.012884</td>\n",
       "    </tr>\n",
       "    <tr>\n",
       "      <th>8</th>\n",
       "      <td>1.000000</td>\n",
       "      <td>0.000000</td>\n",
       "      <td>0.000000</td>\n",
       "      <td>0.000000</td>\n",
       "      <td>0.000000</td>\n",
       "      <td>0.000000</td>\n",
       "      <td>0.990601</td>\n",
       "      <td>0.007210</td>\n",
       "      <td>1.118770</td>\n",
       "      <td>0.674130</td>\n",
       "      <td>0.033395</td>\n",
       "      <td>0.019542</td>\n",
       "    </tr>\n",
       "    <tr>\n",
       "      <th>9</th>\n",
       "      <td>1.000000</td>\n",
       "      <td>0.000000</td>\n",
       "      <td>0.000068</td>\n",
       "      <td>0.000135</td>\n",
       "      <td>0.000000</td>\n",
       "      <td>0.000000</td>\n",
       "      <td>0.991005</td>\n",
       "      <td>0.006828</td>\n",
       "      <td>0.807213</td>\n",
       "      <td>0.488695</td>\n",
       "      <td>0.036904</td>\n",
       "      <td>0.017003</td>\n",
       "    </tr>\n",
       "  </tbody>\n",
       "</table>\n",
       "</div>"
      ],
      "text/plain": [
       "   train-auc-mean  train-auc-std  train-logloss-mean  train-logloss-std  \\\n",
       "0        0.984869       0.004415            0.751959           0.136324   \n",
       "1        0.995872       0.001205            0.502776           0.139846   \n",
       "2        0.998912       0.000321            0.238696           0.061521   \n",
       "3        0.999763       0.000146            0.137139           0.080469   \n",
       "4        0.999955       0.000033            0.037764           0.039303   \n",
       "5        1.000000       0.000000            0.017407           0.031814   \n",
       "6        1.000000       0.000000            0.001595           0.000859   \n",
       "7        1.000000       0.000000            0.000277           0.000347   \n",
       "8        1.000000       0.000000            0.000000           0.000000   \n",
       "9        1.000000       0.000000            0.000068           0.000135   \n",
       "\n",
       "   train-error-mean  train-error-std  test-auc-mean  test-auc-std  \\\n",
       "0          0.032072         0.004724       0.954241      0.035507   \n",
       "1          0.021089         0.002238       0.978964      0.016550   \n",
       "2          0.011861         0.004071       0.984143      0.011847   \n",
       "3          0.006151         0.002153       0.984318      0.012822   \n",
       "4          0.003515         0.002240       0.986297      0.009412   \n",
       "5          0.001319         0.001077       0.988025      0.008570   \n",
       "6          0.001318         0.001076       0.989510      0.008008   \n",
       "7          0.000000         0.000000       0.990337      0.007300   \n",
       "8          0.000000         0.000000       0.990601      0.007210   \n",
       "9          0.000000         0.000000       0.991005      0.006828   \n",
       "\n",
       "   test-logloss-mean  test-logloss-std  test-error-mean  test-error-std  \n",
       "0           2.221833          0.897529         0.070253        0.027104  \n",
       "1           1.408002          0.528581         0.063236        0.024375  \n",
       "2           1.183112          0.876535         0.045692        0.021765  \n",
       "3           1.118245          0.753408         0.042152        0.025636  \n",
       "4           1.168458          0.722708         0.033380        0.018714  \n",
       "5           1.048233          0.623548         0.035134        0.018378  \n",
       "6           0.923753          0.709116         0.033380        0.015071  \n",
       "7           0.925856          0.736739         0.036904        0.012884  \n",
       "8           1.118770          0.674130         0.033395        0.019542  \n",
       "9           0.807213          0.488695         0.036904        0.017003  "
      ]
     },
     "execution_count": 46,
     "metadata": {},
     "output_type": "execute_result"
    },
    {
     "data": {
      "application/javascript": [
       "\n",
       "            setTimeout(function() {\n",
       "                var nbb_cell_id = 46;\n",
       "                var nbb_unformatted_code = \"dmat_train = xgb.DMatrix(breast_cancer.data,\\n                         breast_cancer.target,\\n                         feature_names=breast_cancer.feature_names)\\n\\nxgb.cv({'max_depth': 3, 'eta': 1, 'objective': 'binary:logitraw'},\\n       dmat_train, stratified=breast_cancer.target, nfold=5, metrics=[\\\"auc\\\", \\\"logloss\\\", \\\"error\\\"])\";\n",
       "                var nbb_formatted_code = \"dmat_train = xgb.DMatrix(\\n    breast_cancer.data, breast_cancer.target, feature_names=breast_cancer.feature_names\\n)\\n\\nxgb.cv(\\n    {\\\"max_depth\\\": 3, \\\"eta\\\": 1, \\\"objective\\\": \\\"binary:logitraw\\\"},\\n    dmat_train,\\n    stratified=breast_cancer.target,\\n    nfold=5,\\n    metrics=[\\\"auc\\\", \\\"logloss\\\", \\\"error\\\"],\\n)\";\n",
       "                var nbb_cells = Jupyter.notebook.get_cells();\n",
       "                for (var i = 0; i < nbb_cells.length; ++i) {\n",
       "                    if (nbb_cells[i].input_prompt_number == nbb_cell_id) {\n",
       "                        if (nbb_cells[i].get_text() == nbb_unformatted_code) {\n",
       "                             nbb_cells[i].set_text(nbb_formatted_code);\n",
       "                        }\n",
       "                        break;\n",
       "                    }\n",
       "                }\n",
       "            }, 500);\n",
       "            "
      ],
      "text/plain": [
       "<IPython.core.display.Javascript object>"
      ]
     },
     "metadata": {},
     "output_type": "display_data"
    }
   ],
   "source": [
    "dmat_train = xgb.DMatrix(\n",
    "    breast_cancer.data, breast_cancer.target, feature_names=breast_cancer.feature_names\n",
    ")\n",
    "\n",
    "xgb.cv(\n",
    "    {\"max_depth\": 3, \"eta\": 1, \"objective\": \"binary:logitraw\"},\n",
    "    dmat_train,\n",
    "    stratified=breast_cancer.target,\n",
    "    nfold=5,\n",
    "    metrics=[\"auc\", \"logloss\", \"error\"],\n",
    ")"
   ]
  },
  {
   "cell_type": "markdown",
   "id": "f22d288e",
   "metadata": {},
   "source": [
    "## Sklearn API \n",
    "Xgboost provides estimators that have almost the same API like that of sklearn estimators. This helps developers with sklearn background to grasp the usage of xgboost faster. It even lets us use the xgboost model with sklearn's grid search functionality. As a part of this section, we'll explain 4 estimators available from xgboost which has the same API as sklearn's estimators.\n",
    "\n",
    "1. XGBRegressor\n",
    "2. XGBClassifier\n",
    "3. XGBRFRegressor\n",
    "4. XGBRFClassifier"
   ]
  },
  {
   "cell_type": "markdown",
   "id": "8d0ed5a0",
   "metadata": {},
   "source": [
    "### XGBRegressor\n",
    "The XGBRegressor is an estimator that is used for regression problems. It has a default objective function as reg:squarederror. It has a list of parameters that we gave as a dictionary to the train() method. We pass those parameters to the constructor of XGBRegressor directly.\n",
    "\n",
    "Below we have trained XGBRegressor on Boston train data and then calculated R2 score on test and train dataset both. The score() method is available as a part of estimators which has sklearn like API. The score() method will return the R2 score for regression tasks and accuracy for classification tasks."
   ]
  },
  {
   "cell_type": "code",
   "execution_count": 47,
   "id": "856540ab",
   "metadata": {},
   "outputs": [
    {
     "name": "stdout",
     "output_type": "stream",
     "text": [
      "[0]\tvalidation_0-mae:14.61328\n",
      "[10]\tvalidation_0-mae:1.86316\n",
      "[20]\tvalidation_0-mae:1.70020\n",
      "[30]\tvalidation_0-mae:1.62740\n",
      "[40]\tvalidation_0-mae:1.63325\n",
      "[50]\tvalidation_0-mae:1.62120\n",
      "[60]\tvalidation_0-mae:1.61760\n",
      "[70]\tvalidation_0-mae:1.62004\n",
      "[80]\tvalidation_0-mae:1.61866\n",
      "[90]\tvalidation_0-mae:1.62278\n",
      "[99]\tvalidation_0-mae:1.62320\n",
      "Test  R2 Score : 0.93\n",
      "Train R2 Score : 1.00\n"
     ]
    },
    {
     "data": {
      "application/javascript": [
       "\n",
       "            setTimeout(function() {\n",
       "                var nbb_cell_id = 47;\n",
       "                var nbb_unformatted_code = \"X_train, X_test, Y_train, Y_test = train_test_split(boston.data, boston.target, train_size=0.90, random_state=42)\\n\\nxgb_regressor = xgb.XGBRegressor()\\n\\nxgb_regressor.fit(X_train, Y_train, eval_set=[(X_test, Y_test)], eval_metric=\\\"mae\\\", verbose=10)\\n\\nprint(\\\"Test  R2 Score : %.2f\\\"%xgb_regressor.score(X_test, Y_test))\\nprint(\\\"Train R2 Score : %.2f\\\"%xgb_regressor.score(X_train, Y_train))\";\n",
       "                var nbb_formatted_code = \"X_train, X_test, Y_train, Y_test = train_test_split(\\n    boston.data, boston.target, train_size=0.90, random_state=42\\n)\\n\\nxgb_regressor = xgb.XGBRegressor()\\n\\nxgb_regressor.fit(\\n    X_train, Y_train, eval_set=[(X_test, Y_test)], eval_metric=\\\"mae\\\", verbose=10\\n)\\n\\nprint(\\\"Test  R2 Score : %.2f\\\" % xgb_regressor.score(X_test, Y_test))\\nprint(\\\"Train R2 Score : %.2f\\\" % xgb_regressor.score(X_train, Y_train))\";\n",
       "                var nbb_cells = Jupyter.notebook.get_cells();\n",
       "                for (var i = 0; i < nbb_cells.length; ++i) {\n",
       "                    if (nbb_cells[i].input_prompt_number == nbb_cell_id) {\n",
       "                        if (nbb_cells[i].get_text() == nbb_unformatted_code) {\n",
       "                             nbb_cells[i].set_text(nbb_formatted_code);\n",
       "                        }\n",
       "                        break;\n",
       "                    }\n",
       "                }\n",
       "            }, 500);\n",
       "            "
      ],
      "text/plain": [
       "<IPython.core.display.Javascript object>"
      ]
     },
     "metadata": {},
     "output_type": "display_data"
    }
   ],
   "source": [
    "X_train, X_test, Y_train, Y_test = train_test_split(\n",
    "    boston.data, boston.target, train_size=0.90, random_state=42\n",
    ")\n",
    "\n",
    "xgb_regressor = xgb.XGBRegressor()\n",
    "\n",
    "xgb_regressor.fit(\n",
    "    X_train, Y_train, eval_set=[(X_test, Y_test)], eval_metric=\"mae\", verbose=10\n",
    ")\n",
    "\n",
    "print(\"Test  R2 Score : %.2f\" % xgb_regressor.score(X_test, Y_test))\n",
    "print(\"Train R2 Score : %.2f\" % xgb_regressor.score(X_train, Y_train))"
   ]
  },
  {
   "cell_type": "code",
   "execution_count": 48,
   "id": "56d45f71",
   "metadata": {},
   "outputs": [
    {
     "data": {
      "text/plain": [
       "array([24.521688, 29.77457 , 14.518699, 22.433651, 17.031559],\n",
       "      dtype=float32)"
      ]
     },
     "execution_count": 48,
     "metadata": {},
     "output_type": "execute_result"
    },
    {
     "data": {
      "application/javascript": [
       "\n",
       "            setTimeout(function() {\n",
       "                var nbb_cell_id = 48;\n",
       "                var nbb_unformatted_code = \"xgb_regressor.predict(X_test)[:5]\";\n",
       "                var nbb_formatted_code = \"xgb_regressor.predict(X_test)[:5]\";\n",
       "                var nbb_cells = Jupyter.notebook.get_cells();\n",
       "                for (var i = 0; i < nbb_cells.length; ++i) {\n",
       "                    if (nbb_cells[i].input_prompt_number == nbb_cell_id) {\n",
       "                        if (nbb_cells[i].get_text() == nbb_unformatted_code) {\n",
       "                             nbb_cells[i].set_text(nbb_formatted_code);\n",
       "                        }\n",
       "                        break;\n",
       "                    }\n",
       "                }\n",
       "            }, 500);\n",
       "            "
      ],
      "text/plain": [
       "<IPython.core.display.Javascript object>"
      ]
     },
     "metadata": {},
     "output_type": "display_data"
    }
   ],
   "source": [
    "xgb_regressor.predict(X_test)[:5]"
   ]
  },
  {
   "cell_type": "code",
   "execution_count": 49,
   "id": "12906a36",
   "metadata": {},
   "outputs": [
    {
     "name": "stdout",
     "output_type": "stream",
     "text": [
      "Default Number of Estimators :  100\n",
      "Default Max Depth of Trees   :  None\n",
      "Feature Importances : \n"
     ]
    },
    {
     "data": {
      "text/html": [
       "<div>\n",
       "<style scoped>\n",
       "    .dataframe tbody tr th:only-of-type {\n",
       "        vertical-align: middle;\n",
       "    }\n",
       "\n",
       "    .dataframe tbody tr th {\n",
       "        vertical-align: top;\n",
       "    }\n",
       "\n",
       "    .dataframe thead th {\n",
       "        text-align: right;\n",
       "    }\n",
       "</style>\n",
       "<table border=\"1\" class=\"dataframe\">\n",
       "  <thead>\n",
       "    <tr style=\"text-align: right;\">\n",
       "      <th></th>\n",
       "      <th>CRIM</th>\n",
       "      <th>ZN</th>\n",
       "      <th>INDUS</th>\n",
       "      <th>CHAS</th>\n",
       "      <th>NOX</th>\n",
       "      <th>RM</th>\n",
       "      <th>AGE</th>\n",
       "      <th>DIS</th>\n",
       "      <th>RAD</th>\n",
       "      <th>TAX</th>\n",
       "      <th>PTRATIO</th>\n",
       "      <th>B</th>\n",
       "      <th>LSTAT</th>\n",
       "    </tr>\n",
       "  </thead>\n",
       "  <tbody>\n",
       "    <tr>\n",
       "      <th>0</th>\n",
       "      <td>0.011552</td>\n",
       "      <td>0.001155</td>\n",
       "      <td>0.014551</td>\n",
       "      <td>0.00315</td>\n",
       "      <td>0.043485</td>\n",
       "      <td>0.242339</td>\n",
       "      <td>0.011518</td>\n",
       "      <td>0.056501</td>\n",
       "      <td>0.010146</td>\n",
       "      <td>0.032733</td>\n",
       "      <td>0.062321</td>\n",
       "      <td>0.012791</td>\n",
       "      <td>0.497758</td>\n",
       "    </tr>\n",
       "  </tbody>\n",
       "</table>\n",
       "</div>"
      ],
      "text/plain": [
       "       CRIM        ZN     INDUS     CHAS       NOX        RM       AGE  \\\n",
       "0  0.011552  0.001155  0.014551  0.00315  0.043485  0.242339  0.011518   \n",
       "\n",
       "        DIS       RAD       TAX   PTRATIO         B     LSTAT  \n",
       "0  0.056501  0.010146  0.032733  0.062321  0.012791  0.497758  "
      ]
     },
     "execution_count": 49,
     "metadata": {},
     "output_type": "execute_result"
    },
    {
     "data": {
      "application/javascript": [
       "\n",
       "            setTimeout(function() {\n",
       "                var nbb_cell_id = 49;\n",
       "                var nbb_unformatted_code = \"print(\\\"Default Number of Estimators : \\\",xgb_regressor.n_estimators)\\nprint(\\\"Default Max Depth of Trees   : \\\", xgb_regressor.max_depth)\\nprint(\\\"Feature Importances : \\\")\\npd.DataFrame([xgb_regressor.feature_importances_], columns=boston.feature_names)\";\n",
       "                var nbb_formatted_code = \"print(\\\"Default Number of Estimators : \\\", xgb_regressor.n_estimators)\\nprint(\\\"Default Max Depth of Trees   : \\\", xgb_regressor.max_depth)\\nprint(\\\"Feature Importances : \\\")\\npd.DataFrame([xgb_regressor.feature_importances_], columns=boston.feature_names)\";\n",
       "                var nbb_cells = Jupyter.notebook.get_cells();\n",
       "                for (var i = 0; i < nbb_cells.length; ++i) {\n",
       "                    if (nbb_cells[i].input_prompt_number == nbb_cell_id) {\n",
       "                        if (nbb_cells[i].get_text() == nbb_unformatted_code) {\n",
       "                             nbb_cells[i].set_text(nbb_formatted_code);\n",
       "                        }\n",
       "                        break;\n",
       "                    }\n",
       "                }\n",
       "            }, 500);\n",
       "            "
      ],
      "text/plain": [
       "<IPython.core.display.Javascript object>"
      ]
     },
     "metadata": {},
     "output_type": "display_data"
    }
   ],
   "source": [
    "print(\"Default Number of Estimators : \", xgb_regressor.n_estimators)\n",
    "print(\"Default Max Depth of Trees   : \", xgb_regressor.max_depth)\n",
    "print(\"Feature Importances : \")\n",
    "pd.DataFrame([xgb_regressor.feature_importances_], columns=boston.feature_names)"
   ]
  },
  {
   "cell_type": "markdown",
   "id": "4b9d818e",
   "metadata": {},
   "source": [
    "We have now explained how we perform a grid search with XGBRegressor. We have tried different values of parameters n_estimators, max_depth, and eta to find the best performing values. We have then plotted grid search results as well."
   ]
  },
  {
   "cell_type": "code",
   "execution_count": 50,
   "id": "1e67b4bd",
   "metadata": {},
   "outputs": [
    {
     "name": "stdout",
     "output_type": "stream",
     "text": [
      "Test  R2 Score : 0.91\n",
      "Train R2 Score : 0.99\n",
      "Best Params :  {'eta': 0.5, 'max_depth': 3, 'n_estimators': 50}\n",
      "Feature Importances : \n"
     ]
    },
    {
     "data": {
      "text/html": [
       "<div>\n",
       "<style scoped>\n",
       "    .dataframe tbody tr th:only-of-type {\n",
       "        vertical-align: middle;\n",
       "    }\n",
       "\n",
       "    .dataframe tbody tr th {\n",
       "        vertical-align: top;\n",
       "    }\n",
       "\n",
       "    .dataframe thead th {\n",
       "        text-align: right;\n",
       "    }\n",
       "</style>\n",
       "<table border=\"1\" class=\"dataframe\">\n",
       "  <thead>\n",
       "    <tr style=\"text-align: right;\">\n",
       "      <th></th>\n",
       "      <th>CRIM</th>\n",
       "      <th>ZN</th>\n",
       "      <th>INDUS</th>\n",
       "      <th>CHAS</th>\n",
       "      <th>NOX</th>\n",
       "      <th>RM</th>\n",
       "      <th>AGE</th>\n",
       "      <th>DIS</th>\n",
       "      <th>RAD</th>\n",
       "      <th>TAX</th>\n",
       "      <th>PTRATIO</th>\n",
       "      <th>B</th>\n",
       "      <th>LSTAT</th>\n",
       "    </tr>\n",
       "  </thead>\n",
       "  <tbody>\n",
       "    <tr>\n",
       "      <th>0</th>\n",
       "      <td>0.010459</td>\n",
       "      <td>0.0033</td>\n",
       "      <td>0.017157</td>\n",
       "      <td>0.01739</td>\n",
       "      <td>0.048247</td>\n",
       "      <td>0.16567</td>\n",
       "      <td>0.01108</td>\n",
       "      <td>0.048422</td>\n",
       "      <td>0.022519</td>\n",
       "      <td>0.027188</td>\n",
       "      <td>0.065526</td>\n",
       "      <td>0.013529</td>\n",
       "      <td>0.549512</td>\n",
       "    </tr>\n",
       "  </tbody>\n",
       "</table>\n",
       "</div>"
      ],
      "text/plain": [
       "       CRIM      ZN     INDUS     CHAS       NOX       RM      AGE       DIS  \\\n",
       "0  0.010459  0.0033  0.017157  0.01739  0.048247  0.16567  0.01108  0.048422   \n",
       "\n",
       "        RAD       TAX   PTRATIO         B     LSTAT  \n",
       "0  0.022519  0.027188  0.065526  0.013529  0.549512  "
      ]
     },
     "execution_count": 50,
     "metadata": {},
     "output_type": "execute_result"
    },
    {
     "data": {
      "application/javascript": [
       "\n",
       "            setTimeout(function() {\n",
       "                var nbb_cell_id = 50;\n",
       "                var nbb_unformatted_code = \"from sklearn.model_selection import GridSearchCV\\n\\nparams = {\\n        'n_estimators': [50,100],\\n        'max_depth': [None, 3, 5, 7, 9],\\n        'eta': [0.5, 1, 2, 3]\\n        }\\ngrid_search = GridSearchCV(xgb.XGBRegressor(), params, n_jobs=-1)\\n\\ngrid_search.fit(X_train, Y_train)\\n\\nprint(\\\"Test  R2 Score : %.2f\\\"%grid_search.score(X_test, Y_test))\\nprint(\\\"Train R2 Score : %.2f\\\"%grid_search.score(X_train, Y_train))\\n\\nprint(\\\"Best Params : \\\", grid_search.best_params_)\\nprint(\\\"Feature Importances : \\\")\\npd.DataFrame([grid_search.best_estimator_.feature_importances_], columns=boston.feature_names)\";\n",
       "                var nbb_formatted_code = \"from sklearn.model_selection import GridSearchCV\\n\\nparams = {\\n    \\\"n_estimators\\\": [50, 100],\\n    \\\"max_depth\\\": [None, 3, 5, 7, 9],\\n    \\\"eta\\\": [0.5, 1, 2, 3],\\n}\\ngrid_search = GridSearchCV(xgb.XGBRegressor(), params, n_jobs=-1)\\n\\ngrid_search.fit(X_train, Y_train)\\n\\nprint(\\\"Test  R2 Score : %.2f\\\" % grid_search.score(X_test, Y_test))\\nprint(\\\"Train R2 Score : %.2f\\\" % grid_search.score(X_train, Y_train))\\n\\nprint(\\\"Best Params : \\\", grid_search.best_params_)\\nprint(\\\"Feature Importances : \\\")\\npd.DataFrame(\\n    [grid_search.best_estimator_.feature_importances_], columns=boston.feature_names\\n)\";\n",
       "                var nbb_cells = Jupyter.notebook.get_cells();\n",
       "                for (var i = 0; i < nbb_cells.length; ++i) {\n",
       "                    if (nbb_cells[i].input_prompt_number == nbb_cell_id) {\n",
       "                        if (nbb_cells[i].get_text() == nbb_unformatted_code) {\n",
       "                             nbb_cells[i].set_text(nbb_formatted_code);\n",
       "                        }\n",
       "                        break;\n",
       "                    }\n",
       "                }\n",
       "            }, 500);\n",
       "            "
      ],
      "text/plain": [
       "<IPython.core.display.Javascript object>"
      ]
     },
     "metadata": {},
     "output_type": "display_data"
    }
   ],
   "source": [
    "from sklearn.model_selection import GridSearchCV\n",
    "\n",
    "params = {\n",
    "    \"n_estimators\": [50, 100],\n",
    "    \"max_depth\": [None, 3, 5, 7, 9],\n",
    "    \"eta\": [0.5, 1, 2, 3],\n",
    "}\n",
    "grid_search = GridSearchCV(xgb.XGBRegressor(), params, n_jobs=-1)\n",
    "\n",
    "grid_search.fit(X_train, Y_train)\n",
    "\n",
    "print(\"Test  R2 Score : %.2f\" % grid_search.score(X_test, Y_test))\n",
    "print(\"Train R2 Score : %.2f\" % grid_search.score(X_train, Y_train))\n",
    "\n",
    "print(\"Best Params : \", grid_search.best_params_)\n",
    "print(\"Feature Importances : \")\n",
    "pd.DataFrame(\n",
    "    [grid_search.best_estimator_.feature_importances_], columns=boston.feature_names\n",
    ")"
   ]
  },
  {
   "cell_type": "code",
   "execution_count": 51,
   "id": "9c78e778",
   "metadata": {},
   "outputs": [
    {
     "name": "stdout",
     "output_type": "stream",
     "text": [
      "Grid Search Size :  (40, 16)\n"
     ]
    },
    {
     "data": {
      "text/html": [
       "<div>\n",
       "<style scoped>\n",
       "    .dataframe tbody tr th:only-of-type {\n",
       "        vertical-align: middle;\n",
       "    }\n",
       "\n",
       "    .dataframe tbody tr th {\n",
       "        vertical-align: top;\n",
       "    }\n",
       "\n",
       "    .dataframe thead th {\n",
       "        text-align: right;\n",
       "    }\n",
       "</style>\n",
       "<table border=\"1\" class=\"dataframe\">\n",
       "  <thead>\n",
       "    <tr style=\"text-align: right;\">\n",
       "      <th></th>\n",
       "      <th>mean_fit_time</th>\n",
       "      <th>std_fit_time</th>\n",
       "      <th>mean_score_time</th>\n",
       "      <th>std_score_time</th>\n",
       "      <th>param_eta</th>\n",
       "      <th>param_max_depth</th>\n",
       "      <th>param_n_estimators</th>\n",
       "      <th>params</th>\n",
       "      <th>split0_test_score</th>\n",
       "      <th>split1_test_score</th>\n",
       "      <th>split2_test_score</th>\n",
       "      <th>split3_test_score</th>\n",
       "      <th>split4_test_score</th>\n",
       "      <th>mean_test_score</th>\n",
       "      <th>std_test_score</th>\n",
       "      <th>rank_test_score</th>\n",
       "    </tr>\n",
       "  </thead>\n",
       "  <tbody>\n",
       "    <tr>\n",
       "      <th>0</th>\n",
       "      <td>1.231961</td>\n",
       "      <td>0.041230</td>\n",
       "      <td>0.003689</td>\n",
       "      <td>0.000367</td>\n",
       "      <td>0.5</td>\n",
       "      <td>None</td>\n",
       "      <td>50</td>\n",
       "      <td>{'eta': 0.5, 'max_depth': None, 'n_estimators'...</td>\n",
       "      <td>0.830975</td>\n",
       "      <td>0.813619</td>\n",
       "      <td>0.806036</td>\n",
       "      <td>0.872551</td>\n",
       "      <td>0.895842</td>\n",
       "      <td>0.843804</td>\n",
       "      <td>0.034746</td>\n",
       "      <td>7</td>\n",
       "    </tr>\n",
       "    <tr>\n",
       "      <th>1</th>\n",
       "      <td>2.267783</td>\n",
       "      <td>0.046344</td>\n",
       "      <td>0.003961</td>\n",
       "      <td>0.000181</td>\n",
       "      <td>0.5</td>\n",
       "      <td>None</td>\n",
       "      <td>100</td>\n",
       "      <td>{'eta': 0.5, 'max_depth': None, 'n_estimators'...</td>\n",
       "      <td>0.830611</td>\n",
       "      <td>0.813487</td>\n",
       "      <td>0.805914</td>\n",
       "      <td>0.872568</td>\n",
       "      <td>0.895718</td>\n",
       "      <td>0.843660</td>\n",
       "      <td>0.034788</td>\n",
       "      <td>8</td>\n",
       "    </tr>\n",
       "    <tr>\n",
       "      <th>2</th>\n",
       "      <td>0.544976</td>\n",
       "      <td>0.020263</td>\n",
       "      <td>0.003467</td>\n",
       "      <td>0.000141</td>\n",
       "      <td>0.5</td>\n",
       "      <td>3</td>\n",
       "      <td>50</td>\n",
       "      <td>{'eta': 0.5, 'max_depth': 3, 'n_estimators': 50}</td>\n",
       "      <td>0.849582</td>\n",
       "      <td>0.827683</td>\n",
       "      <td>0.796997</td>\n",
       "      <td>0.914897</td>\n",
       "      <td>0.875050</td>\n",
       "      <td>0.852842</td>\n",
       "      <td>0.040265</td>\n",
       "      <td>1</td>\n",
       "    </tr>\n",
       "    <tr>\n",
       "      <th>3</th>\n",
       "      <td>1.053610</td>\n",
       "      <td>0.035112</td>\n",
       "      <td>0.004065</td>\n",
       "      <td>0.000474</td>\n",
       "      <td>0.5</td>\n",
       "      <td>3</td>\n",
       "      <td>100</td>\n",
       "      <td>{'eta': 0.5, 'max_depth': 3, 'n_estimators': 100}</td>\n",
       "      <td>0.849894</td>\n",
       "      <td>0.829382</td>\n",
       "      <td>0.786131</td>\n",
       "      <td>0.920122</td>\n",
       "      <td>0.876249</td>\n",
       "      <td>0.852356</td>\n",
       "      <td>0.044906</td>\n",
       "      <td>2</td>\n",
       "    </tr>\n",
       "    <tr>\n",
       "      <th>4</th>\n",
       "      <td>1.041648</td>\n",
       "      <td>0.061310</td>\n",
       "      <td>0.003710</td>\n",
       "      <td>0.000487</td>\n",
       "      <td>0.5</td>\n",
       "      <td>5</td>\n",
       "      <td>50</td>\n",
       "      <td>{'eta': 0.5, 'max_depth': 5, 'n_estimators': 50}</td>\n",
       "      <td>0.836613</td>\n",
       "      <td>0.802592</td>\n",
       "      <td>0.815075</td>\n",
       "      <td>0.888442</td>\n",
       "      <td>0.880532</td>\n",
       "      <td>0.844651</td>\n",
       "      <td>0.034390</td>\n",
       "      <td>5</td>\n",
       "    </tr>\n",
       "  </tbody>\n",
       "</table>\n",
       "</div>"
      ],
      "text/plain": [
       "   mean_fit_time  std_fit_time  mean_score_time  std_score_time param_eta  \\\n",
       "0       1.231961      0.041230         0.003689        0.000367       0.5   \n",
       "1       2.267783      0.046344         0.003961        0.000181       0.5   \n",
       "2       0.544976      0.020263         0.003467        0.000141       0.5   \n",
       "3       1.053610      0.035112         0.004065        0.000474       0.5   \n",
       "4       1.041648      0.061310         0.003710        0.000487       0.5   \n",
       "\n",
       "  param_max_depth param_n_estimators  \\\n",
       "0            None                 50   \n",
       "1            None                100   \n",
       "2               3                 50   \n",
       "3               3                100   \n",
       "4               5                 50   \n",
       "\n",
       "                                              params  split0_test_score  \\\n",
       "0  {'eta': 0.5, 'max_depth': None, 'n_estimators'...           0.830975   \n",
       "1  {'eta': 0.5, 'max_depth': None, 'n_estimators'...           0.830611   \n",
       "2   {'eta': 0.5, 'max_depth': 3, 'n_estimators': 50}           0.849582   \n",
       "3  {'eta': 0.5, 'max_depth': 3, 'n_estimators': 100}           0.849894   \n",
       "4   {'eta': 0.5, 'max_depth': 5, 'n_estimators': 50}           0.836613   \n",
       "\n",
       "   split1_test_score  split2_test_score  split3_test_score  split4_test_score  \\\n",
       "0           0.813619           0.806036           0.872551           0.895842   \n",
       "1           0.813487           0.805914           0.872568           0.895718   \n",
       "2           0.827683           0.796997           0.914897           0.875050   \n",
       "3           0.829382           0.786131           0.920122           0.876249   \n",
       "4           0.802592           0.815075           0.888442           0.880532   \n",
       "\n",
       "   mean_test_score  std_test_score  rank_test_score  \n",
       "0         0.843804        0.034746                7  \n",
       "1         0.843660        0.034788                8  \n",
       "2         0.852842        0.040265                1  \n",
       "3         0.852356        0.044906                2  \n",
       "4         0.844651        0.034390                5  "
      ]
     },
     "execution_count": 51,
     "metadata": {},
     "output_type": "execute_result"
    },
    {
     "data": {
      "application/javascript": [
       "\n",
       "            setTimeout(function() {\n",
       "                var nbb_cell_id = 51;\n",
       "                var nbb_unformatted_code = \"grid_search_results = pd.DataFrame(grid_search.cv_results_)\\nprint(\\\"Grid Search Size : \\\", grid_search_results.shape)\\ngrid_search_results.head()\";\n",
       "                var nbb_formatted_code = \"grid_search_results = pd.DataFrame(grid_search.cv_results_)\\nprint(\\\"Grid Search Size : \\\", grid_search_results.shape)\\ngrid_search_results.head()\";\n",
       "                var nbb_cells = Jupyter.notebook.get_cells();\n",
       "                for (var i = 0; i < nbb_cells.length; ++i) {\n",
       "                    if (nbb_cells[i].input_prompt_number == nbb_cell_id) {\n",
       "                        if (nbb_cells[i].get_text() == nbb_unformatted_code) {\n",
       "                             nbb_cells[i].set_text(nbb_formatted_code);\n",
       "                        }\n",
       "                        break;\n",
       "                    }\n",
       "                }\n",
       "            }, 500);\n",
       "            "
      ],
      "text/plain": [
       "<IPython.core.display.Javascript object>"
      ]
     },
     "metadata": {},
     "output_type": "display_data"
    }
   ],
   "source": [
    "grid_search_results = pd.DataFrame(grid_search.cv_results_)\n",
    "print(\"Grid Search Size : \", grid_search_results.shape)\n",
    "grid_search_results.head()"
   ]
  },
  {
   "cell_type": "code",
   "execution_count": 52,
   "id": "f864c194",
   "metadata": {},
   "outputs": [
    {
     "data": {
      "text/plain": [
       "<xgboost.core.Booster at 0x7fea27a42d60>"
      ]
     },
     "execution_count": 52,
     "metadata": {},
     "output_type": "execute_result"
    },
    {
     "data": {
      "application/javascript": [
       "\n",
       "            setTimeout(function() {\n",
       "                var nbb_cell_id = 52;\n",
       "                var nbb_unformatted_code = \"# We can get Booster object using this method from sklearn estimators\\nxgb_regressor.get_booster()\";\n",
       "                var nbb_formatted_code = \"# We can get Booster object using this method from sklearn estimators\\nxgb_regressor.get_booster()\";\n",
       "                var nbb_cells = Jupyter.notebook.get_cells();\n",
       "                for (var i = 0; i < nbb_cells.length; ++i) {\n",
       "                    if (nbb_cells[i].input_prompt_number == nbb_cell_id) {\n",
       "                        if (nbb_cells[i].get_text() == nbb_unformatted_code) {\n",
       "                             nbb_cells[i].set_text(nbb_formatted_code);\n",
       "                        }\n",
       "                        break;\n",
       "                    }\n",
       "                }\n",
       "            }, 500);\n",
       "            "
      ],
      "text/plain": [
       "<IPython.core.display.Javascript object>"
      ]
     },
     "metadata": {},
     "output_type": "display_data"
    }
   ],
   "source": [
    "# We can get Booster object using this method from sklearn estimators\n",
    "xgb_regressor.get_booster()"
   ]
  },
  {
   "cell_type": "markdown",
   "id": "a5b5e5d3",
   "metadata": {},
   "source": [
    "### XGBClassifier \n",
    "The XGBClassifier is an estimator that is used for classification tasks. It has the default objective function binary:logistic. We can pass the same parameters which we can pass to the train() method's params parameter as a dictionary to the constructor of XGBClassifier. We can get actual predictions using predict() method and probabilities using predict_proba() method. It even provides a score() method which lets us calculate the accuracy of the model on passed data.\n",
    "\n",
    "Below we have trained XGBClassifier on the breast cancer train dataset. We have then evaluated accuracy on train and test datasets. We have also printed the first few predictions and probabilities."
   ]
  },
  {
   "cell_type": "code",
   "execution_count": 53,
   "id": "45fe2efe",
   "metadata": {},
   "outputs": [
    {
     "name": "stdout",
     "output_type": "stream",
     "text": [
      "[0]\tvalidation_0-auc:0.97685\n",
      "[10]\tvalidation_0-auc:0.99339\n",
      "[20]\tvalidation_0-auc:0.99206\n",
      "[30]\tvalidation_0-auc:0.99206\n",
      "[40]\tvalidation_0-auc:0.98809\n",
      "[50]\tvalidation_0-auc:0.98809\n",
      "[60]\tvalidation_0-auc:0.98809\n",
      "[70]\tvalidation_0-auc:0.98809\n",
      "[80]\tvalidation_0-auc:0.98809\n",
      "[90]\tvalidation_0-auc:0.98809\n",
      "[99]\tvalidation_0-auc:0.98942\n",
      "Test  Accuracy Score : 0.96\n",
      "Train Accuracy Score : 1.00\n"
     ]
    },
    {
     "data": {
      "application/javascript": [
       "\n",
       "            setTimeout(function() {\n",
       "                var nbb_cell_id = 53;\n",
       "                var nbb_unformatted_code = \"X_train, X_test, Y_train, Y_test = train_test_split(breast_cancer.data, breast_cancer.target,\\n                                                    stratify=breast_cancer.target,\\n                                                    train_size=0.90, random_state=42)\\n\\nxgb_classif = xgb.XGBClassifier()\\n\\nxgb_classif.fit(X_train, Y_train, eval_set=[(X_test, Y_test)], eval_metric=\\\"auc\\\" , verbose=10)\\n\\nprint(\\\"Test  Accuracy Score : %.2f\\\"%xgb_classif.score(X_test, Y_test))\\nprint(\\\"Train Accuracy Score : %.2f\\\"%xgb_classif.score(X_train, Y_train))\";\n",
       "                var nbb_formatted_code = \"X_train, X_test, Y_train, Y_test = train_test_split(\\n    breast_cancer.data,\\n    breast_cancer.target,\\n    stratify=breast_cancer.target,\\n    train_size=0.90,\\n    random_state=42,\\n)\\n\\nxgb_classif = xgb.XGBClassifier()\\n\\nxgb_classif.fit(\\n    X_train, Y_train, eval_set=[(X_test, Y_test)], eval_metric=\\\"auc\\\", verbose=10\\n)\\n\\nprint(\\\"Test  Accuracy Score : %.2f\\\" % xgb_classif.score(X_test, Y_test))\\nprint(\\\"Train Accuracy Score : %.2f\\\" % xgb_classif.score(X_train, Y_train))\";\n",
       "                var nbb_cells = Jupyter.notebook.get_cells();\n",
       "                for (var i = 0; i < nbb_cells.length; ++i) {\n",
       "                    if (nbb_cells[i].input_prompt_number == nbb_cell_id) {\n",
       "                        if (nbb_cells[i].get_text() == nbb_unformatted_code) {\n",
       "                             nbb_cells[i].set_text(nbb_formatted_code);\n",
       "                        }\n",
       "                        break;\n",
       "                    }\n",
       "                }\n",
       "            }, 500);\n",
       "            "
      ],
      "text/plain": [
       "<IPython.core.display.Javascript object>"
      ]
     },
     "metadata": {},
     "output_type": "display_data"
    }
   ],
   "source": [
    "X_train, X_test, Y_train, Y_test = train_test_split(\n",
    "    breast_cancer.data,\n",
    "    breast_cancer.target,\n",
    "    stratify=breast_cancer.target,\n",
    "    train_size=0.90,\n",
    "    random_state=42,\n",
    ")\n",
    "\n",
    "xgb_classif = xgb.XGBClassifier()\n",
    "\n",
    "xgb_classif.fit(\n",
    "    X_train, Y_train, eval_set=[(X_test, Y_test)], eval_metric=\"auc\", verbose=10\n",
    ")\n",
    "\n",
    "print(\"Test  Accuracy Score : %.2f\" % xgb_classif.score(X_test, Y_test))\n",
    "print(\"Train Accuracy Score : %.2f\" % xgb_classif.score(X_train, Y_train))"
   ]
  },
  {
   "cell_type": "code",
   "execution_count": 54,
   "id": "eb15b92e",
   "metadata": {},
   "outputs": [
    {
     "data": {
      "text/plain": [
       "array([0, 1, 1, 0, 0])"
      ]
     },
     "execution_count": 54,
     "metadata": {},
     "output_type": "execute_result"
    },
    {
     "data": {
      "application/javascript": [
       "\n",
       "            setTimeout(function() {\n",
       "                var nbb_cell_id = 54;\n",
       "                var nbb_unformatted_code = \"xgb_classif.predict(X_test)[:5]\";\n",
       "                var nbb_formatted_code = \"xgb_classif.predict(X_test)[:5]\";\n",
       "                var nbb_cells = Jupyter.notebook.get_cells();\n",
       "                for (var i = 0; i < nbb_cells.length; ++i) {\n",
       "                    if (nbb_cells[i].input_prompt_number == nbb_cell_id) {\n",
       "                        if (nbb_cells[i].get_text() == nbb_unformatted_code) {\n",
       "                             nbb_cells[i].set_text(nbb_formatted_code);\n",
       "                        }\n",
       "                        break;\n",
       "                    }\n",
       "                }\n",
       "            }, 500);\n",
       "            "
      ],
      "text/plain": [
       "<IPython.core.display.Javascript object>"
      ]
     },
     "metadata": {},
     "output_type": "display_data"
    }
   ],
   "source": [
    "xgb_classif.predict(X_test)[:5]"
   ]
  },
  {
   "cell_type": "code",
   "execution_count": 55,
   "id": "8b20f907",
   "metadata": {},
   "outputs": [
    {
     "name": "stdout",
     "output_type": "stream",
     "text": [
      "Probabilities : \n",
      "[[9.9962151e-01 3.7849427e-04]\n",
      " [7.4094534e-04 9.9925905e-01]\n",
      " [7.4838996e-03 9.9251610e-01]\n",
      " [9.9939799e-01 6.0198107e-04]\n",
      " [9.9195606e-01 8.0439411e-03]]\n",
      "\n",
      "Prediction From Probabilities : \n",
      "[0 1 1 0 0]\n"
     ]
    },
    {
     "data": {
      "application/javascript": [
       "\n",
       "            setTimeout(function() {\n",
       "                var nbb_cell_id = 55;\n",
       "                var nbb_unformatted_code = \"print(\\\"Probabilities : \\\")\\nprint(xgb_classif.predict_proba(X_test)[:5])\\nprint(\\\"\\\\nPrediction From Probabilities : \\\")\\nprint(np.argmax(xgb_classif.predict_proba(X_test)[:5], axis=1))\";\n",
       "                var nbb_formatted_code = \"print(\\\"Probabilities : \\\")\\nprint(xgb_classif.predict_proba(X_test)[:5])\\nprint(\\\"\\\\nPrediction From Probabilities : \\\")\\nprint(np.argmax(xgb_classif.predict_proba(X_test)[:5], axis=1))\";\n",
       "                var nbb_cells = Jupyter.notebook.get_cells();\n",
       "                for (var i = 0; i < nbb_cells.length; ++i) {\n",
       "                    if (nbb_cells[i].input_prompt_number == nbb_cell_id) {\n",
       "                        if (nbb_cells[i].get_text() == nbb_unformatted_code) {\n",
       "                             nbb_cells[i].set_text(nbb_formatted_code);\n",
       "                        }\n",
       "                        break;\n",
       "                    }\n",
       "                }\n",
       "            }, 500);\n",
       "            "
      ],
      "text/plain": [
       "<IPython.core.display.Javascript object>"
      ]
     },
     "metadata": {},
     "output_type": "display_data"
    }
   ],
   "source": [
    "print(\"Probabilities : \")\n",
    "print(xgb_classif.predict_proba(X_test)[:5])\n",
    "print(\"\\nPrediction From Probabilities : \")\n",
    "print(np.argmax(xgb_classif.predict_proba(X_test)[:5], axis=1))"
   ]
  },
  {
   "cell_type": "code",
   "execution_count": 56,
   "id": "3a380646",
   "metadata": {},
   "outputs": [
    {
     "name": "stdout",
     "output_type": "stream",
     "text": [
      "Default Number of Estimators :  100\n",
      "Default Max Depth of Trees   :  None\n",
      "Feature Importances : \n"
     ]
    },
    {
     "data": {
      "text/html": [
       "<div>\n",
       "<style scoped>\n",
       "    .dataframe tbody tr th:only-of-type {\n",
       "        vertical-align: middle;\n",
       "    }\n",
       "\n",
       "    .dataframe tbody tr th {\n",
       "        vertical-align: top;\n",
       "    }\n",
       "\n",
       "    .dataframe thead th {\n",
       "        text-align: right;\n",
       "    }\n",
       "</style>\n",
       "<table border=\"1\" class=\"dataframe\">\n",
       "  <thead>\n",
       "    <tr style=\"text-align: right;\">\n",
       "      <th></th>\n",
       "      <th>mean radius</th>\n",
       "      <th>mean texture</th>\n",
       "      <th>mean perimeter</th>\n",
       "      <th>mean area</th>\n",
       "      <th>mean smoothness</th>\n",
       "      <th>mean compactness</th>\n",
       "      <th>mean concavity</th>\n",
       "      <th>mean concave points</th>\n",
       "      <th>mean symmetry</th>\n",
       "      <th>mean fractal dimension</th>\n",
       "      <th>radius error</th>\n",
       "      <th>texture error</th>\n",
       "      <th>perimeter error</th>\n",
       "      <th>area error</th>\n",
       "      <th>smoothness error</th>\n",
       "      <th>compactness error</th>\n",
       "      <th>concavity error</th>\n",
       "      <th>concave points error</th>\n",
       "      <th>symmetry error</th>\n",
       "      <th>fractal dimension error</th>\n",
       "      <th>worst radius</th>\n",
       "      <th>worst texture</th>\n",
       "      <th>worst perimeter</th>\n",
       "      <th>worst area</th>\n",
       "      <th>worst smoothness</th>\n",
       "      <th>worst compactness</th>\n",
       "      <th>worst concavity</th>\n",
       "      <th>worst concave points</th>\n",
       "      <th>worst symmetry</th>\n",
       "      <th>worst fractal dimension</th>\n",
       "    </tr>\n",
       "  </thead>\n",
       "  <tbody>\n",
       "    <tr>\n",
       "      <th>0</th>\n",
       "      <td>0.007508</td>\n",
       "      <td>0.018245</td>\n",
       "      <td>0.0</td>\n",
       "      <td>0.01407</td>\n",
       "      <td>0.005634</td>\n",
       "      <td>0.00113</td>\n",
       "      <td>0.00268</td>\n",
       "      <td>0.034978</td>\n",
       "      <td>0.001187</td>\n",
       "      <td>0.005131</td>\n",
       "      <td>0.01308</td>\n",
       "      <td>0.002079</td>\n",
       "      <td>0.0</td>\n",
       "      <td>0.005953</td>\n",
       "      <td>0.001658</td>\n",
       "      <td>0.006462</td>\n",
       "      <td>0.0</td>\n",
       "      <td>0.001915</td>\n",
       "      <td>0.000841</td>\n",
       "      <td>0.004829</td>\n",
       "      <td>0.449676</td>\n",
       "      <td>0.020751</td>\n",
       "      <td>0.218758</td>\n",
       "      <td>0.033382</td>\n",
       "      <td>0.007877</td>\n",
       "      <td>0.0</td>\n",
       "      <td>0.009276</td>\n",
       "      <td>0.124308</td>\n",
       "      <td>0.002986</td>\n",
       "      <td>0.005606</td>\n",
       "    </tr>\n",
       "  </tbody>\n",
       "</table>\n",
       "</div>"
      ],
      "text/plain": [
       "   mean radius  mean texture  mean perimeter  mean area  mean smoothness  \\\n",
       "0     0.007508      0.018245             0.0    0.01407         0.005634   \n",
       "\n",
       "   mean compactness  mean concavity  mean concave points  mean symmetry  \\\n",
       "0           0.00113         0.00268             0.034978       0.001187   \n",
       "\n",
       "   mean fractal dimension  radius error  texture error  perimeter error  \\\n",
       "0                0.005131       0.01308       0.002079              0.0   \n",
       "\n",
       "   area error  smoothness error  compactness error  concavity error  \\\n",
       "0    0.005953          0.001658           0.006462              0.0   \n",
       "\n",
       "   concave points error  symmetry error  fractal dimension error  \\\n",
       "0              0.001915        0.000841                 0.004829   \n",
       "\n",
       "   worst radius  worst texture  worst perimeter  worst area  worst smoothness  \\\n",
       "0      0.449676       0.020751         0.218758    0.033382          0.007877   \n",
       "\n",
       "   worst compactness  worst concavity  worst concave points  worst symmetry  \\\n",
       "0                0.0         0.009276              0.124308        0.002986   \n",
       "\n",
       "   worst fractal dimension  \n",
       "0                 0.005606  "
      ]
     },
     "execution_count": 56,
     "metadata": {},
     "output_type": "execute_result"
    },
    {
     "data": {
      "application/javascript": [
       "\n",
       "            setTimeout(function() {\n",
       "                var nbb_cell_id = 56;\n",
       "                var nbb_unformatted_code = \"print(\\\"Default Number of Estimators : \\\",xgb_classif.n_estimators)\\nprint(\\\"Default Max Depth of Trees   : \\\", xgb_classif.max_depth)\\nprint(\\\"Feature Importances : \\\")\\npd.DataFrame([xgb_classif.feature_importances_], columns=breast_cancer.feature_names)\";\n",
       "                var nbb_formatted_code = \"print(\\\"Default Number of Estimators : \\\", xgb_classif.n_estimators)\\nprint(\\\"Default Max Depth of Trees   : \\\", xgb_classif.max_depth)\\nprint(\\\"Feature Importances : \\\")\\npd.DataFrame([xgb_classif.feature_importances_], columns=breast_cancer.feature_names)\";\n",
       "                var nbb_cells = Jupyter.notebook.get_cells();\n",
       "                for (var i = 0; i < nbb_cells.length; ++i) {\n",
       "                    if (nbb_cells[i].input_prompt_number == nbb_cell_id) {\n",
       "                        if (nbb_cells[i].get_text() == nbb_unformatted_code) {\n",
       "                             nbb_cells[i].set_text(nbb_formatted_code);\n",
       "                        }\n",
       "                        break;\n",
       "                    }\n",
       "                }\n",
       "            }, 500);\n",
       "            "
      ],
      "text/plain": [
       "<IPython.core.display.Javascript object>"
      ]
     },
     "metadata": {},
     "output_type": "display_data"
    }
   ],
   "source": [
    "print(\"Default Number of Estimators : \", xgb_classif.n_estimators)\n",
    "print(\"Default Max Depth of Trees   : \", xgb_classif.max_depth)\n",
    "print(\"Feature Importances : \")\n",
    "pd.DataFrame([xgb_classif.feature_importances_], columns=breast_cancer.feature_names)"
   ]
  },
  {
   "cell_type": "markdown",
   "id": "2c9c3067",
   "metadata": {},
   "source": [
    "Below we have explained how we can use XGBClassifier with sklearn's grid search functionality to try a list of parameters to find the best parameter settings."
   ]
  },
  {
   "cell_type": "code",
   "execution_count": 57,
   "id": "b363b42a",
   "metadata": {},
   "outputs": [
    {
     "name": "stdout",
     "output_type": "stream",
     "text": [
      "[22:45:12] WARNING: /Users/travis/build/dmlc/xgboost/src/learner.cc:1061: Starting in XGBoost 1.3.0, the default evaluation metric used with the objective 'binary:logistic' was changed from 'error' to 'logloss'. Explicitly set eval_metric if you'd like to restore the old behavior.\n",
      "Test  Accuracy Score : 0.98\n",
      "Train Accuracy Score : 1.00\n",
      "Best Params :  {'eta': 1, 'max_depth': None, 'n_estimators': 50}\n",
      "Feature Importances : \n"
     ]
    },
    {
     "data": {
      "text/html": [
       "<div>\n",
       "<style scoped>\n",
       "    .dataframe tbody tr th:only-of-type {\n",
       "        vertical-align: middle;\n",
       "    }\n",
       "\n",
       "    .dataframe tbody tr th {\n",
       "        vertical-align: top;\n",
       "    }\n",
       "\n",
       "    .dataframe thead th {\n",
       "        text-align: right;\n",
       "    }\n",
       "</style>\n",
       "<table border=\"1\" class=\"dataframe\">\n",
       "  <thead>\n",
       "    <tr style=\"text-align: right;\">\n",
       "      <th></th>\n",
       "      <th>mean radius</th>\n",
       "      <th>mean texture</th>\n",
       "      <th>mean perimeter</th>\n",
       "      <th>mean area</th>\n",
       "      <th>mean smoothness</th>\n",
       "      <th>mean compactness</th>\n",
       "      <th>mean concavity</th>\n",
       "      <th>mean concave points</th>\n",
       "      <th>mean symmetry</th>\n",
       "      <th>mean fractal dimension</th>\n",
       "      <th>radius error</th>\n",
       "      <th>texture error</th>\n",
       "      <th>perimeter error</th>\n",
       "      <th>area error</th>\n",
       "      <th>smoothness error</th>\n",
       "      <th>compactness error</th>\n",
       "      <th>concavity error</th>\n",
       "      <th>concave points error</th>\n",
       "      <th>symmetry error</th>\n",
       "      <th>fractal dimension error</th>\n",
       "      <th>worst radius</th>\n",
       "      <th>worst texture</th>\n",
       "      <th>worst perimeter</th>\n",
       "      <th>worst area</th>\n",
       "      <th>worst smoothness</th>\n",
       "      <th>worst compactness</th>\n",
       "      <th>worst concavity</th>\n",
       "      <th>worst concave points</th>\n",
       "      <th>worst symmetry</th>\n",
       "      <th>worst fractal dimension</th>\n",
       "    </tr>\n",
       "  </thead>\n",
       "  <tbody>\n",
       "    <tr>\n",
       "      <th>0</th>\n",
       "      <td>0.00544</td>\n",
       "      <td>0.014877</td>\n",
       "      <td>0.0</td>\n",
       "      <td>0.0</td>\n",
       "      <td>0.002808</td>\n",
       "      <td>0.00063</td>\n",
       "      <td>0.000494</td>\n",
       "      <td>0.052355</td>\n",
       "      <td>0.002261</td>\n",
       "      <td>0.000968</td>\n",
       "      <td>0.007919</td>\n",
       "      <td>0.002445</td>\n",
       "      <td>0.0</td>\n",
       "      <td>0.004377</td>\n",
       "      <td>0.000712</td>\n",
       "      <td>0.002277</td>\n",
       "      <td>0.001108</td>\n",
       "      <td>0.000309</td>\n",
       "      <td>0.000304</td>\n",
       "      <td>0.001782</td>\n",
       "      <td>0.462069</td>\n",
       "      <td>0.015647</td>\n",
       "      <td>0.268949</td>\n",
       "      <td>0.004184</td>\n",
       "      <td>0.002715</td>\n",
       "      <td>0.007969</td>\n",
       "      <td>0.021782</td>\n",
       "      <td>0.111749</td>\n",
       "      <td>0.003871</td>\n",
       "      <td>0.0</td>\n",
       "    </tr>\n",
       "  </tbody>\n",
       "</table>\n",
       "</div>"
      ],
      "text/plain": [
       "   mean radius  mean texture  mean perimeter  mean area  mean smoothness  \\\n",
       "0      0.00544      0.014877             0.0        0.0         0.002808   \n",
       "\n",
       "   mean compactness  mean concavity  mean concave points  mean symmetry  \\\n",
       "0           0.00063        0.000494             0.052355       0.002261   \n",
       "\n",
       "   mean fractal dimension  radius error  texture error  perimeter error  \\\n",
       "0                0.000968      0.007919       0.002445              0.0   \n",
       "\n",
       "   area error  smoothness error  compactness error  concavity error  \\\n",
       "0    0.004377          0.000712           0.002277         0.001108   \n",
       "\n",
       "   concave points error  symmetry error  fractal dimension error  \\\n",
       "0              0.000309        0.000304                 0.001782   \n",
       "\n",
       "   worst radius  worst texture  worst perimeter  worst area  worst smoothness  \\\n",
       "0      0.462069       0.015647         0.268949    0.004184          0.002715   \n",
       "\n",
       "   worst compactness  worst concavity  worst concave points  worst symmetry  \\\n",
       "0           0.007969         0.021782              0.111749        0.003871   \n",
       "\n",
       "   worst fractal dimension  \n",
       "0                      0.0  "
      ]
     },
     "execution_count": 57,
     "metadata": {},
     "output_type": "execute_result"
    },
    {
     "data": {
      "application/javascript": [
       "\n",
       "            setTimeout(function() {\n",
       "                var nbb_cell_id = 57;\n",
       "                var nbb_unformatted_code = \"from sklearn.model_selection import GridSearchCV\\n\\nparams = {\\n        'n_estimators': [50,100,150,200,300,500],\\n        'max_depth': [None, 3, 5, 7, 9],\\n        'eta': [0.5, 1, 2, 3]\\n        }\\ngrid_search = GridSearchCV(xgb.XGBClassifier(), params, n_jobs=-1, cv=5)\\n\\ngrid_search.fit(X_train, Y_train)\\n\\nprint(\\\"Test  Accuracy Score : %.2f\\\"%grid_search.score(X_test, Y_test))\\nprint(\\\"Train Accuracy Score : %.2f\\\"%grid_search.score(X_train, Y_train))\\n\\nprint(\\\"Best Params : \\\", grid_search.best_params_)\\nprint(\\\"Feature Importances : \\\")\\npd.DataFrame([grid_search.best_estimator_.feature_importances_], columns=breast_cancer.feature_names)\";\n",
       "                var nbb_formatted_code = \"from sklearn.model_selection import GridSearchCV\\n\\nparams = {\\n    \\\"n_estimators\\\": [50, 100, 150, 200, 300, 500],\\n    \\\"max_depth\\\": [None, 3, 5, 7, 9],\\n    \\\"eta\\\": [0.5, 1, 2, 3],\\n}\\ngrid_search = GridSearchCV(xgb.XGBClassifier(), params, n_jobs=-1, cv=5)\\n\\ngrid_search.fit(X_train, Y_train)\\n\\nprint(\\\"Test  Accuracy Score : %.2f\\\" % grid_search.score(X_test, Y_test))\\nprint(\\\"Train Accuracy Score : %.2f\\\" % grid_search.score(X_train, Y_train))\\n\\nprint(\\\"Best Params : \\\", grid_search.best_params_)\\nprint(\\\"Feature Importances : \\\")\\npd.DataFrame(\\n    [grid_search.best_estimator_.feature_importances_],\\n    columns=breast_cancer.feature_names,\\n)\";\n",
       "                var nbb_cells = Jupyter.notebook.get_cells();\n",
       "                for (var i = 0; i < nbb_cells.length; ++i) {\n",
       "                    if (nbb_cells[i].input_prompt_number == nbb_cell_id) {\n",
       "                        if (nbb_cells[i].get_text() == nbb_unformatted_code) {\n",
       "                             nbb_cells[i].set_text(nbb_formatted_code);\n",
       "                        }\n",
       "                        break;\n",
       "                    }\n",
       "                }\n",
       "            }, 500);\n",
       "            "
      ],
      "text/plain": [
       "<IPython.core.display.Javascript object>"
      ]
     },
     "metadata": {},
     "output_type": "display_data"
    }
   ],
   "source": [
    "from sklearn.model_selection import GridSearchCV\n",
    "\n",
    "params = {\n",
    "    \"n_estimators\": [50, 100, 150, 200, 300, 500],\n",
    "    \"max_depth\": [None, 3, 5, 7, 9],\n",
    "    \"eta\": [0.5, 1, 2, 3],\n",
    "}\n",
    "grid_search = GridSearchCV(xgb.XGBClassifier(), params, n_jobs=-1, cv=5)\n",
    "\n",
    "grid_search.fit(X_train, Y_train)\n",
    "\n",
    "print(\"Test  Accuracy Score : %.2f\" % grid_search.score(X_test, Y_test))\n",
    "print(\"Train Accuracy Score : %.2f\" % grid_search.score(X_train, Y_train))\n",
    "\n",
    "print(\"Best Params : \", grid_search.best_params_)\n",
    "print(\"Feature Importances : \")\n",
    "pd.DataFrame(\n",
    "    [grid_search.best_estimator_.feature_importances_],\n",
    "    columns=breast_cancer.feature_names,\n",
    ")"
   ]
  },
  {
   "cell_type": "markdown",
   "id": "bccfadde",
   "metadata": {},
   "source": [
    "### XGBRFRegressor\n",
    "The XGBRFRegressor is a random forest implementation based on decision trees for regression tasks. It has almost exactly the same API as that of XGBRegressor. We have explained below the usage of it on the Boston housing dataset."
   ]
  },
  {
   "cell_type": "code",
   "execution_count": 58,
   "id": "cd18803b",
   "metadata": {},
   "outputs": [
    {
     "name": "stdout",
     "output_type": "stream",
     "text": [
      "Test  R2 Score : 0.86\n",
      "Train R2 Score : 0.96\n"
     ]
    },
    {
     "data": {
      "application/javascript": [
       "\n",
       "            setTimeout(function() {\n",
       "                var nbb_cell_id = 58;\n",
       "                var nbb_unformatted_code = \"X_train, X_test, Y_train, Y_test = train_test_split(boston.data, boston.target, train_size=0.90, random_state=42)\\n\\nxgb_rf_regressor = xgb.XGBRFRegressor()\\n\\nxgb_rf_regressor.fit(X_train, Y_train)\\n\\nprint(\\\"Test  R2 Score : %.2f\\\"%xgb_rf_regressor.score(X_test, Y_test))\\nprint(\\\"Train R2 Score : %.2f\\\"%xgb_rf_regressor.score(X_train, Y_train))\";\n",
       "                var nbb_formatted_code = \"X_train, X_test, Y_train, Y_test = train_test_split(\\n    boston.data, boston.target, train_size=0.90, random_state=42\\n)\\n\\nxgb_rf_regressor = xgb.XGBRFRegressor()\\n\\nxgb_rf_regressor.fit(X_train, Y_train)\\n\\nprint(\\\"Test  R2 Score : %.2f\\\" % xgb_rf_regressor.score(X_test, Y_test))\\nprint(\\\"Train R2 Score : %.2f\\\" % xgb_rf_regressor.score(X_train, Y_train))\";\n",
       "                var nbb_cells = Jupyter.notebook.get_cells();\n",
       "                for (var i = 0; i < nbb_cells.length; ++i) {\n",
       "                    if (nbb_cells[i].input_prompt_number == nbb_cell_id) {\n",
       "                        if (nbb_cells[i].get_text() == nbb_unformatted_code) {\n",
       "                             nbb_cells[i].set_text(nbb_formatted_code);\n",
       "                        }\n",
       "                        break;\n",
       "                    }\n",
       "                }\n",
       "            }, 500);\n",
       "            "
      ],
      "text/plain": [
       "<IPython.core.display.Javascript object>"
      ]
     },
     "metadata": {},
     "output_type": "display_data"
    }
   ],
   "source": [
    "X_train, X_test, Y_train, Y_test = train_test_split(\n",
    "    boston.data, boston.target, train_size=0.90, random_state=42\n",
    ")\n",
    "\n",
    "xgb_rf_regressor = xgb.XGBRFRegressor()\n",
    "\n",
    "xgb_rf_regressor.fit(X_train, Y_train)\n",
    "\n",
    "print(\"Test  R2 Score : %.2f\" % xgb_rf_regressor.score(X_test, Y_test))\n",
    "print(\"Train R2 Score : %.2f\" % xgb_rf_regressor.score(X_train, Y_train))"
   ]
  },
  {
   "cell_type": "code",
   "execution_count": 59,
   "id": "0948256b",
   "metadata": {},
   "outputs": [
    {
     "name": "stdout",
     "output_type": "stream",
     "text": [
      "Default Number of Estimators :  100\n",
      "Default Max Depth of Trees   :  None\n",
      "Feature Importances : \n"
     ]
    },
    {
     "data": {
      "text/html": [
       "<div>\n",
       "<style scoped>\n",
       "    .dataframe tbody tr th:only-of-type {\n",
       "        vertical-align: middle;\n",
       "    }\n",
       "\n",
       "    .dataframe tbody tr th {\n",
       "        vertical-align: top;\n",
       "    }\n",
       "\n",
       "    .dataframe thead th {\n",
       "        text-align: right;\n",
       "    }\n",
       "</style>\n",
       "<table border=\"1\" class=\"dataframe\">\n",
       "  <thead>\n",
       "    <tr style=\"text-align: right;\">\n",
       "      <th></th>\n",
       "      <th>CRIM</th>\n",
       "      <th>ZN</th>\n",
       "      <th>INDUS</th>\n",
       "      <th>CHAS</th>\n",
       "      <th>NOX</th>\n",
       "      <th>RM</th>\n",
       "      <th>AGE</th>\n",
       "      <th>DIS</th>\n",
       "      <th>RAD</th>\n",
       "      <th>TAX</th>\n",
       "      <th>PTRATIO</th>\n",
       "      <th>B</th>\n",
       "      <th>LSTAT</th>\n",
       "    </tr>\n",
       "  </thead>\n",
       "  <tbody>\n",
       "    <tr>\n",
       "      <th>0</th>\n",
       "      <td>0.030199</td>\n",
       "      <td>0.005227</td>\n",
       "      <td>0.024489</td>\n",
       "      <td>0.015842</td>\n",
       "      <td>0.06135</td>\n",
       "      <td>0.336078</td>\n",
       "      <td>0.01389</td>\n",
       "      <td>0.094914</td>\n",
       "      <td>0.019268</td>\n",
       "      <td>0.026751</td>\n",
       "      <td>0.03069</td>\n",
       "      <td>0.013734</td>\n",
       "      <td>0.32757</td>\n",
       "    </tr>\n",
       "  </tbody>\n",
       "</table>\n",
       "</div>"
      ],
      "text/plain": [
       "       CRIM        ZN     INDUS      CHAS      NOX        RM      AGE  \\\n",
       "0  0.030199  0.005227  0.024489  0.015842  0.06135  0.336078  0.01389   \n",
       "\n",
       "        DIS       RAD       TAX  PTRATIO         B    LSTAT  \n",
       "0  0.094914  0.019268  0.026751  0.03069  0.013734  0.32757  "
      ]
     },
     "execution_count": 59,
     "metadata": {},
     "output_type": "execute_result"
    },
    {
     "data": {
      "application/javascript": [
       "\n",
       "            setTimeout(function() {\n",
       "                var nbb_cell_id = 59;\n",
       "                var nbb_unformatted_code = \"print(\\\"Default Number of Estimators : \\\",xgb_rf_regressor.n_estimators)\\nprint(\\\"Default Max Depth of Trees   : \\\", xgb_rf_regressor.max_depth)\\nprint(\\\"Feature Importances : \\\")\\npd.DataFrame([xgb_rf_regressor.feature_importances_], columns=boston.feature_names)\";\n",
       "                var nbb_formatted_code = \"print(\\\"Default Number of Estimators : \\\", xgb_rf_regressor.n_estimators)\\nprint(\\\"Default Max Depth of Trees   : \\\", xgb_rf_regressor.max_depth)\\nprint(\\\"Feature Importances : \\\")\\npd.DataFrame([xgb_rf_regressor.feature_importances_], columns=boston.feature_names)\";\n",
       "                var nbb_cells = Jupyter.notebook.get_cells();\n",
       "                for (var i = 0; i < nbb_cells.length; ++i) {\n",
       "                    if (nbb_cells[i].input_prompt_number == nbb_cell_id) {\n",
       "                        if (nbb_cells[i].get_text() == nbb_unformatted_code) {\n",
       "                             nbb_cells[i].set_text(nbb_formatted_code);\n",
       "                        }\n",
       "                        break;\n",
       "                    }\n",
       "                }\n",
       "            }, 500);\n",
       "            "
      ],
      "text/plain": [
       "<IPython.core.display.Javascript object>"
      ]
     },
     "metadata": {},
     "output_type": "display_data"
    }
   ],
   "source": [
    "print(\"Default Number of Estimators : \", xgb_rf_regressor.n_estimators)\n",
    "print(\"Default Max Depth of Trees   : \", xgb_rf_regressor.max_depth)\n",
    "print(\"Feature Importances : \")\n",
    "pd.DataFrame([xgb_rf_regressor.feature_importances_], columns=boston.feature_names)"
   ]
  },
  {
   "cell_type": "code",
   "execution_count": 60,
   "id": "1e0c7fdb",
   "metadata": {},
   "outputs": [
    {
     "name": "stdout",
     "output_type": "stream",
     "text": [
      "Test  R2 Score : 0.89\n",
      "Train R2 Score : 0.99\n",
      "Best Params :  {'eta': 0.5, 'max_depth': 9, 'n_estimators': 500}\n",
      "Feature Importances : \n"
     ]
    },
    {
     "data": {
      "text/html": [
       "<div>\n",
       "<style scoped>\n",
       "    .dataframe tbody tr th:only-of-type {\n",
       "        vertical-align: middle;\n",
       "    }\n",
       "\n",
       "    .dataframe tbody tr th {\n",
       "        vertical-align: top;\n",
       "    }\n",
       "\n",
       "    .dataframe thead th {\n",
       "        text-align: right;\n",
       "    }\n",
       "</style>\n",
       "<table border=\"1\" class=\"dataframe\">\n",
       "  <thead>\n",
       "    <tr style=\"text-align: right;\">\n",
       "      <th></th>\n",
       "      <th>CRIM</th>\n",
       "      <th>ZN</th>\n",
       "      <th>INDUS</th>\n",
       "      <th>CHAS</th>\n",
       "      <th>NOX</th>\n",
       "      <th>RM</th>\n",
       "      <th>AGE</th>\n",
       "      <th>DIS</th>\n",
       "      <th>RAD</th>\n",
       "      <th>TAX</th>\n",
       "      <th>PTRATIO</th>\n",
       "      <th>B</th>\n",
       "      <th>LSTAT</th>\n",
       "    </tr>\n",
       "  </thead>\n",
       "  <tbody>\n",
       "    <tr>\n",
       "      <th>0</th>\n",
       "      <td>0.016609</td>\n",
       "      <td>0.004359</td>\n",
       "      <td>0.02294</td>\n",
       "      <td>0.008511</td>\n",
       "      <td>0.059449</td>\n",
       "      <td>0.312804</td>\n",
       "      <td>0.014432</td>\n",
       "      <td>0.09</td>\n",
       "      <td>0.015711</td>\n",
       "      <td>0.036049</td>\n",
       "      <td>0.039632</td>\n",
       "      <td>0.014827</td>\n",
       "      <td>0.364676</td>\n",
       "    </tr>\n",
       "  </tbody>\n",
       "</table>\n",
       "</div>"
      ],
      "text/plain": [
       "       CRIM        ZN    INDUS      CHAS       NOX        RM       AGE   DIS  \\\n",
       "0  0.016609  0.004359  0.02294  0.008511  0.059449  0.312804  0.014432  0.09   \n",
       "\n",
       "        RAD       TAX   PTRATIO         B     LSTAT  \n",
       "0  0.015711  0.036049  0.039632  0.014827  0.364676  "
      ]
     },
     "execution_count": 60,
     "metadata": {},
     "output_type": "execute_result"
    },
    {
     "data": {
      "application/javascript": [
       "\n",
       "            setTimeout(function() {\n",
       "                var nbb_cell_id = 60;\n",
       "                var nbb_unformatted_code = \"from sklearn.model_selection import GridSearchCV\\n\\nparams = {\\n        'n_estimators': [50,100,150,200,300,500],\\n        'max_depth': [None, 3, 5, 7, 9],\\n        'eta': [0.5, 1, 2, 3]\\n        }\\ngrid_search = GridSearchCV(xgb.XGBRFRegressor(), params, n_jobs=-1, cv=5)\\n\\ngrid_search.fit(X_train, Y_train)\\n\\nprint(\\\"Test  R2 Score : %.2f\\\"%grid_search.score(X_test, Y_test))\\nprint(\\\"Train R2 Score : %.2f\\\"%grid_search.score(X_train, Y_train))\\n\\nprint(\\\"Best Params : \\\", grid_search.best_params_)\\nprint(\\\"Feature Importances : \\\")\\npd.DataFrame([grid_search.best_estimator_.feature_importances_], columns=boston.feature_names)\";\n",
       "                var nbb_formatted_code = \"from sklearn.model_selection import GridSearchCV\\n\\nparams = {\\n    \\\"n_estimators\\\": [50, 100, 150, 200, 300, 500],\\n    \\\"max_depth\\\": [None, 3, 5, 7, 9],\\n    \\\"eta\\\": [0.5, 1, 2, 3],\\n}\\ngrid_search = GridSearchCV(xgb.XGBRFRegressor(), params, n_jobs=-1, cv=5)\\n\\ngrid_search.fit(X_train, Y_train)\\n\\nprint(\\\"Test  R2 Score : %.2f\\\" % grid_search.score(X_test, Y_test))\\nprint(\\\"Train R2 Score : %.2f\\\" % grid_search.score(X_train, Y_train))\\n\\nprint(\\\"Best Params : \\\", grid_search.best_params_)\\nprint(\\\"Feature Importances : \\\")\\npd.DataFrame(\\n    [grid_search.best_estimator_.feature_importances_], columns=boston.feature_names\\n)\";\n",
       "                var nbb_cells = Jupyter.notebook.get_cells();\n",
       "                for (var i = 0; i < nbb_cells.length; ++i) {\n",
       "                    if (nbb_cells[i].input_prompt_number == nbb_cell_id) {\n",
       "                        if (nbb_cells[i].get_text() == nbb_unformatted_code) {\n",
       "                             nbb_cells[i].set_text(nbb_formatted_code);\n",
       "                        }\n",
       "                        break;\n",
       "                    }\n",
       "                }\n",
       "            }, 500);\n",
       "            "
      ],
      "text/plain": [
       "<IPython.core.display.Javascript object>"
      ]
     },
     "metadata": {},
     "output_type": "display_data"
    }
   ],
   "source": [
    "from sklearn.model_selection import GridSearchCV\n",
    "\n",
    "params = {\n",
    "    \"n_estimators\": [50, 100, 150, 200, 300, 500],\n",
    "    \"max_depth\": [None, 3, 5, 7, 9],\n",
    "    \"eta\": [0.5, 1, 2, 3],\n",
    "}\n",
    "grid_search = GridSearchCV(xgb.XGBRFRegressor(), params, n_jobs=-1, cv=5)\n",
    "\n",
    "grid_search.fit(X_train, Y_train)\n",
    "\n",
    "print(\"Test  R2 Score : %.2f\" % grid_search.score(X_test, Y_test))\n",
    "print(\"Train R2 Score : %.2f\" % grid_search.score(X_train, Y_train))\n",
    "\n",
    "print(\"Best Params : \", grid_search.best_params_)\n",
    "print(\"Feature Importances : \")\n",
    "pd.DataFrame(\n",
    "    [grid_search.best_estimator_.feature_importances_], columns=boston.feature_names\n",
    ")"
   ]
  },
  {
   "cell_type": "markdown",
   "id": "b2f25613",
   "metadata": {},
   "source": [
    "### XGBRFClassifier \n",
    "The XGBRFClassifier is a random forest implementation based on decision trees for classification tasks. It has almost exactly the same API as that of XGBClassifier. We have explained below the usage of it on the breast cancer dataset."
   ]
  },
  {
   "cell_type": "code",
   "execution_count": 61,
   "id": "5f6b26ac",
   "metadata": {},
   "outputs": [
    {
     "name": "stdout",
     "output_type": "stream",
     "text": [
      "[22:51:50] WARNING: /Users/travis/build/dmlc/xgboost/src/learner.cc:1061: Starting in XGBoost 1.3.0, the default evaluation metric used with the objective 'binary:logistic' was changed from 'error' to 'logloss'. Explicitly set eval_metric if you'd like to restore the old behavior.\n",
      "Test  Accuracy Score : 0.93\n",
      "Train Accuracy Score : 0.99\n"
     ]
    },
    {
     "data": {
      "application/javascript": [
       "\n",
       "            setTimeout(function() {\n",
       "                var nbb_cell_id = 61;\n",
       "                var nbb_unformatted_code = \"X_train, X_test, Y_train, Y_test = train_test_split(breast_cancer.data, breast_cancer.target,\\n                                                    stratify=breast_cancer.target,\\n                                                    train_size=0.90, random_state=42)\\n\\nxgb_rf_classif = xgb.XGBRFClassifier()\\n\\nxgb_rf_classif.fit(X_train, Y_train)\\n\\nprint(\\\"Test  Accuracy Score : %.2f\\\"%xgb_rf_classif.score(X_test, Y_test))\\nprint(\\\"Train Accuracy Score : %.2f\\\"%xgb_rf_classif.score(X_train, Y_train))\";\n",
       "                var nbb_formatted_code = \"X_train, X_test, Y_train, Y_test = train_test_split(\\n    breast_cancer.data,\\n    breast_cancer.target,\\n    stratify=breast_cancer.target,\\n    train_size=0.90,\\n    random_state=42,\\n)\\n\\nxgb_rf_classif = xgb.XGBRFClassifier()\\n\\nxgb_rf_classif.fit(X_train, Y_train)\\n\\nprint(\\\"Test  Accuracy Score : %.2f\\\" % xgb_rf_classif.score(X_test, Y_test))\\nprint(\\\"Train Accuracy Score : %.2f\\\" % xgb_rf_classif.score(X_train, Y_train))\";\n",
       "                var nbb_cells = Jupyter.notebook.get_cells();\n",
       "                for (var i = 0; i < nbb_cells.length; ++i) {\n",
       "                    if (nbb_cells[i].input_prompt_number == nbb_cell_id) {\n",
       "                        if (nbb_cells[i].get_text() == nbb_unformatted_code) {\n",
       "                             nbb_cells[i].set_text(nbb_formatted_code);\n",
       "                        }\n",
       "                        break;\n",
       "                    }\n",
       "                }\n",
       "            }, 500);\n",
       "            "
      ],
      "text/plain": [
       "<IPython.core.display.Javascript object>"
      ]
     },
     "metadata": {},
     "output_type": "display_data"
    }
   ],
   "source": [
    "X_train, X_test, Y_train, Y_test = train_test_split(\n",
    "    breast_cancer.data,\n",
    "    breast_cancer.target,\n",
    "    stratify=breast_cancer.target,\n",
    "    train_size=0.90,\n",
    "    random_state=42,\n",
    ")\n",
    "\n",
    "xgb_rf_classif = xgb.XGBRFClassifier()\n",
    "\n",
    "xgb_rf_classif.fit(X_train, Y_train)\n",
    "\n",
    "print(\"Test  Accuracy Score : %.2f\" % xgb_rf_classif.score(X_test, Y_test))\n",
    "print(\"Train Accuracy Score : %.2f\" % xgb_rf_classif.score(X_train, Y_train))"
   ]
  },
  {
   "cell_type": "code",
   "execution_count": 62,
   "id": "d27bc585",
   "metadata": {},
   "outputs": [
    {
     "name": "stdout",
     "output_type": "stream",
     "text": [
      "Default Number of Estimators :  100\n",
      "Default Max Depth of Trees   :  None\n",
      "Feature Importances : \n"
     ]
    },
    {
     "data": {
      "text/html": [
       "<div>\n",
       "<style scoped>\n",
       "    .dataframe tbody tr th:only-of-type {\n",
       "        vertical-align: middle;\n",
       "    }\n",
       "\n",
       "    .dataframe tbody tr th {\n",
       "        vertical-align: top;\n",
       "    }\n",
       "\n",
       "    .dataframe thead th {\n",
       "        text-align: right;\n",
       "    }\n",
       "</style>\n",
       "<table border=\"1\" class=\"dataframe\">\n",
       "  <thead>\n",
       "    <tr style=\"text-align: right;\">\n",
       "      <th></th>\n",
       "      <th>mean radius</th>\n",
       "      <th>mean texture</th>\n",
       "      <th>mean perimeter</th>\n",
       "      <th>mean area</th>\n",
       "      <th>mean smoothness</th>\n",
       "      <th>mean compactness</th>\n",
       "      <th>mean concavity</th>\n",
       "      <th>mean concave points</th>\n",
       "      <th>mean symmetry</th>\n",
       "      <th>mean fractal dimension</th>\n",
       "      <th>radius error</th>\n",
       "      <th>texture error</th>\n",
       "      <th>perimeter error</th>\n",
       "      <th>area error</th>\n",
       "      <th>smoothness error</th>\n",
       "      <th>compactness error</th>\n",
       "      <th>concavity error</th>\n",
       "      <th>concave points error</th>\n",
       "      <th>symmetry error</th>\n",
       "      <th>fractal dimension error</th>\n",
       "      <th>worst radius</th>\n",
       "      <th>worst texture</th>\n",
       "      <th>worst perimeter</th>\n",
       "      <th>worst area</th>\n",
       "      <th>worst smoothness</th>\n",
       "      <th>worst compactness</th>\n",
       "      <th>worst concavity</th>\n",
       "      <th>worst concave points</th>\n",
       "      <th>worst symmetry</th>\n",
       "      <th>worst fractal dimension</th>\n",
       "    </tr>\n",
       "  </thead>\n",
       "  <tbody>\n",
       "    <tr>\n",
       "      <th>0</th>\n",
       "      <td>0.00389</td>\n",
       "      <td>0.009664</td>\n",
       "      <td>0.008656</td>\n",
       "      <td>0.00785</td>\n",
       "      <td>0.006176</td>\n",
       "      <td>0.00765</td>\n",
       "      <td>0.012542</td>\n",
       "      <td>0.056341</td>\n",
       "      <td>0.005582</td>\n",
       "      <td>0.005764</td>\n",
       "      <td>0.004465</td>\n",
       "      <td>0.016311</td>\n",
       "      <td>0.006304</td>\n",
       "      <td>0.007947</td>\n",
       "      <td>0.002534</td>\n",
       "      <td>0.011532</td>\n",
       "      <td>0.013806</td>\n",
       "      <td>0.009391</td>\n",
       "      <td>0.005986</td>\n",
       "      <td>0.006223</td>\n",
       "      <td>0.157451</td>\n",
       "      <td>0.014847</td>\n",
       "      <td>0.251925</td>\n",
       "      <td>0.153197</td>\n",
       "      <td>0.015076</td>\n",
       "      <td>0.037333</td>\n",
       "      <td>0.019476</td>\n",
       "      <td>0.119397</td>\n",
       "      <td>0.022684</td>\n",
       "      <td>0.0</td>\n",
       "    </tr>\n",
       "  </tbody>\n",
       "</table>\n",
       "</div>"
      ],
      "text/plain": [
       "   mean radius  mean texture  mean perimeter  mean area  mean smoothness  \\\n",
       "0      0.00389      0.009664        0.008656    0.00785         0.006176   \n",
       "\n",
       "   mean compactness  mean concavity  mean concave points  mean symmetry  \\\n",
       "0           0.00765        0.012542             0.056341       0.005582   \n",
       "\n",
       "   mean fractal dimension  radius error  texture error  perimeter error  \\\n",
       "0                0.005764      0.004465       0.016311         0.006304   \n",
       "\n",
       "   area error  smoothness error  compactness error  concavity error  \\\n",
       "0    0.007947          0.002534           0.011532         0.013806   \n",
       "\n",
       "   concave points error  symmetry error  fractal dimension error  \\\n",
       "0              0.009391        0.005986                 0.006223   \n",
       "\n",
       "   worst radius  worst texture  worst perimeter  worst area  worst smoothness  \\\n",
       "0      0.157451       0.014847         0.251925    0.153197          0.015076   \n",
       "\n",
       "   worst compactness  worst concavity  worst concave points  worst symmetry  \\\n",
       "0           0.037333         0.019476              0.119397        0.022684   \n",
       "\n",
       "   worst fractal dimension  \n",
       "0                      0.0  "
      ]
     },
     "execution_count": 62,
     "metadata": {},
     "output_type": "execute_result"
    },
    {
     "data": {
      "application/javascript": [
       "\n",
       "            setTimeout(function() {\n",
       "                var nbb_cell_id = 62;\n",
       "                var nbb_unformatted_code = \"print(\\\"Default Number of Estimators : \\\",xgb_rf_classif.n_estimators)\\nprint(\\\"Default Max Depth of Trees   : \\\", xgb_rf_classif.max_depth)\\nprint(\\\"Feature Importances : \\\")\\npd.DataFrame([xgb_rf_classif.feature_importances_], columns=breast_cancer.feature_names)\";\n",
       "                var nbb_formatted_code = \"print(\\\"Default Number of Estimators : \\\", xgb_rf_classif.n_estimators)\\nprint(\\\"Default Max Depth of Trees   : \\\", xgb_rf_classif.max_depth)\\nprint(\\\"Feature Importances : \\\")\\npd.DataFrame([xgb_rf_classif.feature_importances_], columns=breast_cancer.feature_names)\";\n",
       "                var nbb_cells = Jupyter.notebook.get_cells();\n",
       "                for (var i = 0; i < nbb_cells.length; ++i) {\n",
       "                    if (nbb_cells[i].input_prompt_number == nbb_cell_id) {\n",
       "                        if (nbb_cells[i].get_text() == nbb_unformatted_code) {\n",
       "                             nbb_cells[i].set_text(nbb_formatted_code);\n",
       "                        }\n",
       "                        break;\n",
       "                    }\n",
       "                }\n",
       "            }, 500);\n",
       "            "
      ],
      "text/plain": [
       "<IPython.core.display.Javascript object>"
      ]
     },
     "metadata": {},
     "output_type": "display_data"
    }
   ],
   "source": [
    "print(\"Default Number of Estimators : \", xgb_rf_classif.n_estimators)\n",
    "print(\"Default Max Depth of Trees   : \", xgb_rf_classif.max_depth)\n",
    "print(\"Feature Importances : \")\n",
    "pd.DataFrame([xgb_rf_classif.feature_importances_], columns=breast_cancer.feature_names)"
   ]
  },
  {
   "cell_type": "code",
   "execution_count": 63,
   "id": "06effee6",
   "metadata": {},
   "outputs": [
    {
     "name": "stdout",
     "output_type": "stream",
     "text": [
      "[22:54:50] WARNING: /Users/travis/build/dmlc/xgboost/src/learner.cc:1061: Starting in XGBoost 1.3.0, the default evaluation metric used with the objective 'binary:logistic' was changed from 'error' to 'logloss'. Explicitly set eval_metric if you'd like to restore the old behavior.\n",
      "Test  Accuracy Score : 0.93\n",
      "Train Accuracy Score : 0.99\n",
      "Best Params :  {'eta': 0.5, 'max_depth': None, 'n_estimators': 100}\n",
      "Feature Importances : \n"
     ]
    },
    {
     "data": {
      "text/html": [
       "<div>\n",
       "<style scoped>\n",
       "    .dataframe tbody tr th:only-of-type {\n",
       "        vertical-align: middle;\n",
       "    }\n",
       "\n",
       "    .dataframe tbody tr th {\n",
       "        vertical-align: top;\n",
       "    }\n",
       "\n",
       "    .dataframe thead th {\n",
       "        text-align: right;\n",
       "    }\n",
       "</style>\n",
       "<table border=\"1\" class=\"dataframe\">\n",
       "  <thead>\n",
       "    <tr style=\"text-align: right;\">\n",
       "      <th></th>\n",
       "      <th>mean radius</th>\n",
       "      <th>mean texture</th>\n",
       "      <th>mean perimeter</th>\n",
       "      <th>mean area</th>\n",
       "      <th>mean smoothness</th>\n",
       "      <th>mean compactness</th>\n",
       "      <th>mean concavity</th>\n",
       "      <th>mean concave points</th>\n",
       "      <th>mean symmetry</th>\n",
       "      <th>mean fractal dimension</th>\n",
       "      <th>radius error</th>\n",
       "      <th>texture error</th>\n",
       "      <th>perimeter error</th>\n",
       "      <th>area error</th>\n",
       "      <th>smoothness error</th>\n",
       "      <th>compactness error</th>\n",
       "      <th>concavity error</th>\n",
       "      <th>concave points error</th>\n",
       "      <th>symmetry error</th>\n",
       "      <th>fractal dimension error</th>\n",
       "      <th>worst radius</th>\n",
       "      <th>worst texture</th>\n",
       "      <th>worst perimeter</th>\n",
       "      <th>worst area</th>\n",
       "      <th>worst smoothness</th>\n",
       "      <th>worst compactness</th>\n",
       "      <th>worst concavity</th>\n",
       "      <th>worst concave points</th>\n",
       "      <th>worst symmetry</th>\n",
       "      <th>worst fractal dimension</th>\n",
       "    </tr>\n",
       "  </thead>\n",
       "  <tbody>\n",
       "    <tr>\n",
       "      <th>0</th>\n",
       "      <td>0.00389</td>\n",
       "      <td>0.009664</td>\n",
       "      <td>0.008656</td>\n",
       "      <td>0.00785</td>\n",
       "      <td>0.006176</td>\n",
       "      <td>0.00765</td>\n",
       "      <td>0.012542</td>\n",
       "      <td>0.056341</td>\n",
       "      <td>0.005582</td>\n",
       "      <td>0.005764</td>\n",
       "      <td>0.004465</td>\n",
       "      <td>0.016311</td>\n",
       "      <td>0.006304</td>\n",
       "      <td>0.007947</td>\n",
       "      <td>0.002534</td>\n",
       "      <td>0.011532</td>\n",
       "      <td>0.013806</td>\n",
       "      <td>0.009391</td>\n",
       "      <td>0.005986</td>\n",
       "      <td>0.006223</td>\n",
       "      <td>0.157451</td>\n",
       "      <td>0.014847</td>\n",
       "      <td>0.251925</td>\n",
       "      <td>0.153197</td>\n",
       "      <td>0.015076</td>\n",
       "      <td>0.037333</td>\n",
       "      <td>0.019476</td>\n",
       "      <td>0.119397</td>\n",
       "      <td>0.022684</td>\n",
       "      <td>0.0</td>\n",
       "    </tr>\n",
       "  </tbody>\n",
       "</table>\n",
       "</div>"
      ],
      "text/plain": [
       "   mean radius  mean texture  mean perimeter  mean area  mean smoothness  \\\n",
       "0      0.00389      0.009664        0.008656    0.00785         0.006176   \n",
       "\n",
       "   mean compactness  mean concavity  mean concave points  mean symmetry  \\\n",
       "0           0.00765        0.012542             0.056341       0.005582   \n",
       "\n",
       "   mean fractal dimension  radius error  texture error  perimeter error  \\\n",
       "0                0.005764      0.004465       0.016311         0.006304   \n",
       "\n",
       "   area error  smoothness error  compactness error  concavity error  \\\n",
       "0    0.007947          0.002534           0.011532         0.013806   \n",
       "\n",
       "   concave points error  symmetry error  fractal dimension error  \\\n",
       "0              0.009391        0.005986                 0.006223   \n",
       "\n",
       "   worst radius  worst texture  worst perimeter  worst area  worst smoothness  \\\n",
       "0      0.157451       0.014847         0.251925    0.153197          0.015076   \n",
       "\n",
       "   worst compactness  worst concavity  worst concave points  worst symmetry  \\\n",
       "0           0.037333         0.019476              0.119397        0.022684   \n",
       "\n",
       "   worst fractal dimension  \n",
       "0                      0.0  "
      ]
     },
     "execution_count": 63,
     "metadata": {},
     "output_type": "execute_result"
    },
    {
     "data": {
      "application/javascript": [
       "\n",
       "            setTimeout(function() {\n",
       "                var nbb_cell_id = 63;\n",
       "                var nbb_unformatted_code = \"from sklearn.model_selection import GridSearchCV\\n\\nparams = {\\n        'n_estimators': [50,100,150,200,300,500],\\n        'max_depth': [None, 3, 5, 7, 9],\\n        'eta': [0.5, 1, 2, 3]\\n        }\\ngrid_search = GridSearchCV(xgb.XGBRFClassifier(), params, n_jobs=-1, cv=5)\\n\\ngrid_search.fit(X_train, Y_train)\\n\\nprint(\\\"Test  Accuracy Score : %.2f\\\"%grid_search.score(X_test, Y_test))\\nprint(\\\"Train Accuracy Score : %.2f\\\"%grid_search.score(X_train, Y_train))\\n\\nprint(\\\"Best Params : \\\", grid_search.best_params_)\\nprint(\\\"Feature Importances : \\\")\\npd.DataFrame([grid_search.best_estimator_.feature_importances_], columns=breast_cancer.feature_names)\";\n",
       "                var nbb_formatted_code = \"from sklearn.model_selection import GridSearchCV\\n\\nparams = {\\n    \\\"n_estimators\\\": [50, 100, 150, 200, 300, 500],\\n    \\\"max_depth\\\": [None, 3, 5, 7, 9],\\n    \\\"eta\\\": [0.5, 1, 2, 3],\\n}\\ngrid_search = GridSearchCV(xgb.XGBRFClassifier(), params, n_jobs=-1, cv=5)\\n\\ngrid_search.fit(X_train, Y_train)\\n\\nprint(\\\"Test  Accuracy Score : %.2f\\\" % grid_search.score(X_test, Y_test))\\nprint(\\\"Train Accuracy Score : %.2f\\\" % grid_search.score(X_train, Y_train))\\n\\nprint(\\\"Best Params : \\\", grid_search.best_params_)\\nprint(\\\"Feature Importances : \\\")\\npd.DataFrame(\\n    [grid_search.best_estimator_.feature_importances_],\\n    columns=breast_cancer.feature_names,\\n)\";\n",
       "                var nbb_cells = Jupyter.notebook.get_cells();\n",
       "                for (var i = 0; i < nbb_cells.length; ++i) {\n",
       "                    if (nbb_cells[i].input_prompt_number == nbb_cell_id) {\n",
       "                        if (nbb_cells[i].get_text() == nbb_unformatted_code) {\n",
       "                             nbb_cells[i].set_text(nbb_formatted_code);\n",
       "                        }\n",
       "                        break;\n",
       "                    }\n",
       "                }\n",
       "            }, 500);\n",
       "            "
      ],
      "text/plain": [
       "<IPython.core.display.Javascript object>"
      ]
     },
     "metadata": {},
     "output_type": "display_data"
    }
   ],
   "source": [
    "from sklearn.model_selection import GridSearchCV\n",
    "\n",
    "params = {\n",
    "    \"n_estimators\": [50, 100, 150, 200, 300, 500],\n",
    "    \"max_depth\": [None, 3, 5, 7, 9],\n",
    "    \"eta\": [0.5, 1, 2, 3],\n",
    "}\n",
    "grid_search = GridSearchCV(xgb.XGBRFClassifier(), params, n_jobs=-1, cv=5)\n",
    "\n",
    "grid_search.fit(X_train, Y_train)\n",
    "\n",
    "print(\"Test  Accuracy Score : %.2f\" % grid_search.score(X_test, Y_test))\n",
    "print(\"Train Accuracy Score : %.2f\" % grid_search.score(X_train, Y_train))\n",
    "\n",
    "print(\"Best Params : \", grid_search.best_params_)\n",
    "print(\"Feature Importances : \")\n",
    "pd.DataFrame(\n",
    "    [grid_search.best_estimator_.feature_importances_],\n",
    "    columns=breast_cancer.feature_names,\n",
    ")"
   ]
  },
  {
   "cell_type": "markdown",
   "id": "40981766",
   "metadata": {},
   "source": [
    "## Early Stop Training to Avoid Overfitting \n",
    "Xgboost provides us with an option that lets us stop the training process if training loss is not improving for some specified number of iterations. We can specify the early_stopping_rounds parameter in the train() method to some integer and it'll stop training if training loss is not improved for that many rounds of training.\n",
    "\n",
    "Below we have instructed train() method to train for 20 rounds using num_boost_round parameter and early_stopping_rounds is set to 5. The train() method will stop training if training loss is not improved for 5 sequential rounds of training."
   ]
  },
  {
   "cell_type": "code",
   "execution_count": 64,
   "id": "dee4510e",
   "metadata": {},
   "outputs": [
    {
     "name": "stdout",
     "output_type": "stream",
     "text": [
      "Train/Test Sizes :  (455, 13) (51, 13) (455,) (51,) \n",
      "\n",
      "[0]\ttrain-tweedie-nloglik@1.5:28.32971\ttest-tweedie-nloglik@1.5:26.66487\n",
      "[1]\ttrain-tweedie-nloglik@1.5:19.30211\ttest-tweedie-nloglik@1.5:18.59277\n",
      "[2]\ttrain-tweedie-nloglik@1.5:18.73162\ttest-tweedie-nloglik@1.5:18.15825\n",
      "[3]\ttrain-tweedie-nloglik@1.5:18.71630\ttest-tweedie-nloglik@1.5:18.14867\n",
      "[4]\ttrain-tweedie-nloglik@1.5:18.70620\ttest-tweedie-nloglik@1.5:18.14152\n",
      "[5]\ttrain-tweedie-nloglik@1.5:18.70218\ttest-tweedie-nloglik@1.5:18.13845\n",
      "[6]\ttrain-tweedie-nloglik@1.5:18.69798\ttest-tweedie-nloglik@1.5:18.13924\n",
      "[7]\ttrain-tweedie-nloglik@1.5:18.69526\ttest-tweedie-nloglik@1.5:18.13543\n",
      "[8]\ttrain-tweedie-nloglik@1.5:18.69322\ttest-tweedie-nloglik@1.5:18.12734\n",
      "[9]\ttrain-tweedie-nloglik@1.5:18.69212\ttest-tweedie-nloglik@1.5:18.12620\n",
      "[10]\ttrain-tweedie-nloglik@1.5:18.69033\ttest-tweedie-nloglik@1.5:18.12475\n",
      "[11]\ttrain-tweedie-nloglik@1.5:18.68892\ttest-tweedie-nloglik@1.5:18.12602\n",
      "[12]\ttrain-tweedie-nloglik@1.5:18.68768\ttest-tweedie-nloglik@1.5:18.12688\n",
      "[13]\ttrain-tweedie-nloglik@1.5:18.68724\ttest-tweedie-nloglik@1.5:18.12563\n",
      "[14]\ttrain-tweedie-nloglik@1.5:18.68605\ttest-tweedie-nloglik@1.5:18.12537\n",
      "[15]\ttrain-tweedie-nloglik@1.5:18.68555\ttest-tweedie-nloglik@1.5:18.12502\n",
      "\n",
      "Train RMSE :  [0]\teval-tweedie-nloglik@1.5:18.685551\n",
      "Test  RMSE :  [0]\teval-tweedie-nloglik@1.5:18.125015\n",
      "\n",
      "Test  R2 Score : 0.91\n",
      "Train R2 Score : 0.97\n"
     ]
    },
    {
     "data": {
      "application/javascript": [
       "\n",
       "            setTimeout(function() {\n",
       "                var nbb_cell_id = 64;\n",
       "                var nbb_unformatted_code = \"X_train, X_test, Y_train, Y_test = train_test_split(boston.data, boston.target, train_size=0.90, random_state=42)\\n\\nprint(\\\"Train/Test Sizes : \\\", X_train.shape, X_test.shape, Y_train.shape, Y_test.shape, \\\"\\\\n\\\")\\n\\ndmat_train = xgb.DMatrix(X_train, Y_train, feature_names=boston.feature_names)\\ndmat_test = xgb.DMatrix(X_test, Y_test, feature_names=boston.feature_names)\\n\\ntweedie_booster = xgb.train({'max_depth': 3, 'eta': 1, 'objective': 'reg:tweedie'},\\n                    dmat_train,\\n                    evals=[(dmat_train, \\\"train\\\"), (dmat_test, \\\"test\\\")],\\n                    num_boost_round=20,\\n                    early_stopping_rounds=5)\\n\\nprint(\\\"\\\\nTrain RMSE : \\\",tweedie_booster.eval(dmat_train))\\nprint(\\\"Test  RMSE : \\\",tweedie_booster.eval(dmat_test))\\n\\n\\nfrom sklearn.metrics import r2_score\\n\\nprint(\\\"\\\\nTest  R2 Score : %.2f\\\"%r2_score(Y_test, tweedie_booster.predict(dmat_test)))\\nprint(\\\"Train R2 Score : %.2f\\\"%r2_score(Y_train, tweedie_booster.predict(dmat_train)))\";\n",
       "                var nbb_formatted_code = \"X_train, X_test, Y_train, Y_test = train_test_split(\\n    boston.data, boston.target, train_size=0.90, random_state=42\\n)\\n\\nprint(\\n    \\\"Train/Test Sizes : \\\",\\n    X_train.shape,\\n    X_test.shape,\\n    Y_train.shape,\\n    Y_test.shape,\\n    \\\"\\\\n\\\",\\n)\\n\\ndmat_train = xgb.DMatrix(X_train, Y_train, feature_names=boston.feature_names)\\ndmat_test = xgb.DMatrix(X_test, Y_test, feature_names=boston.feature_names)\\n\\ntweedie_booster = xgb.train(\\n    {\\\"max_depth\\\": 3, \\\"eta\\\": 1, \\\"objective\\\": \\\"reg:tweedie\\\"},\\n    dmat_train,\\n    evals=[(dmat_train, \\\"train\\\"), (dmat_test, \\\"test\\\")],\\n    num_boost_round=20,\\n    early_stopping_rounds=5,\\n)\\n\\nprint(\\\"\\\\nTrain RMSE : \\\", tweedie_booster.eval(dmat_train))\\nprint(\\\"Test  RMSE : \\\", tweedie_booster.eval(dmat_test))\\n\\n\\nfrom sklearn.metrics import r2_score\\n\\nprint(\\\"\\\\nTest  R2 Score : %.2f\\\" % r2_score(Y_test, tweedie_booster.predict(dmat_test)))\\nprint(\\\"Train R2 Score : %.2f\\\" % r2_score(Y_train, tweedie_booster.predict(dmat_train)))\";\n",
       "                var nbb_cells = Jupyter.notebook.get_cells();\n",
       "                for (var i = 0; i < nbb_cells.length; ++i) {\n",
       "                    if (nbb_cells[i].input_prompt_number == nbb_cell_id) {\n",
       "                        if (nbb_cells[i].get_text() == nbb_unformatted_code) {\n",
       "                             nbb_cells[i].set_text(nbb_formatted_code);\n",
       "                        }\n",
       "                        break;\n",
       "                    }\n",
       "                }\n",
       "            }, 500);\n",
       "            "
      ],
      "text/plain": [
       "<IPython.core.display.Javascript object>"
      ]
     },
     "metadata": {},
     "output_type": "display_data"
    }
   ],
   "source": [
    "X_train, X_test, Y_train, Y_test = train_test_split(\n",
    "    boston.data, boston.target, train_size=0.90, random_state=42\n",
    ")\n",
    "\n",
    "print(\n",
    "    \"Train/Test Sizes : \",\n",
    "    X_train.shape,\n",
    "    X_test.shape,\n",
    "    Y_train.shape,\n",
    "    Y_test.shape,\n",
    "    \"\\n\",\n",
    ")\n",
    "\n",
    "dmat_train = xgb.DMatrix(X_train, Y_train, feature_names=boston.feature_names)\n",
    "dmat_test = xgb.DMatrix(X_test, Y_test, feature_names=boston.feature_names)\n",
    "\n",
    "tweedie_booster = xgb.train(\n",
    "    {\"max_depth\": 3, \"eta\": 1, \"objective\": \"reg:tweedie\"},\n",
    "    dmat_train,\n",
    "    evals=[(dmat_train, \"train\"), (dmat_test, \"test\")],\n",
    "    num_boost_round=20,\n",
    "    early_stopping_rounds=5,\n",
    ")\n",
    "\n",
    "print(\"\\nTrain RMSE : \", tweedie_booster.eval(dmat_train))\n",
    "print(\"Test  RMSE : \", tweedie_booster.eval(dmat_test))\n",
    "\n",
    "\n",
    "from sklearn.metrics import r2_score\n",
    "\n",
    "print(\"\\nTest  R2 Score : %.2f\" % r2_score(Y_test, tweedie_booster.predict(dmat_test)))\n",
    "print(\"Train R2 Score : %.2f\" % r2_score(Y_train, tweedie_booster.predict(dmat_train)))"
   ]
  },
  {
   "cell_type": "markdown",
   "id": "f42230bd",
   "metadata": {},
   "source": [
    "#### We have below explained how we can early stop training with XGBRegressor"
   ]
  },
  {
   "cell_type": "code",
   "execution_count": 65,
   "id": "37d86e7d",
   "metadata": {},
   "outputs": [
    {
     "name": "stdout",
     "output_type": "stream",
     "text": [
      "Train/Test Sizes :  (455, 13) (51, 13) (455,) (51,) \n",
      "\n",
      "[0]\tvalidation_0-rmse:19.40547\n",
      "[5]\tvalidation_0-rmse:3.15521\n",
      "[10]\tvalidation_0-rmse:2.48459\n",
      "[15]\tvalidation_0-rmse:2.40736\n",
      "[20]\tvalidation_0-rmse:2.40103\n",
      "[25]\tvalidation_0-rmse:2.46336\n",
      "Test  R2 Score : 0.91\n",
      "Train R2 Score : 0.98\n"
     ]
    },
    {
     "data": {
      "application/javascript": [
       "\n",
       "            setTimeout(function() {\n",
       "                var nbb_cell_id = 65;\n",
       "                var nbb_unformatted_code = \"X_train, X_test, Y_train, Y_test = train_test_split(boston.data, boston.target, train_size=0.90, random_state=42)\\n\\nprint(\\\"Train/Test Sizes : \\\", X_train.shape, X_test.shape, Y_train.shape, Y_test.shape, \\\"\\\\n\\\")\\n\\nxgb_regressor = xgb.XGBRegressor(max_depth=3, eta=1, objective='reg:tweedie')\\n\\nxgb_regressor.fit(X_train, Y_train,\\n                  eval_set=[(X_test, Y_test)], eval_metric=\\\"rmse\\\",\\n                  early_stopping_rounds=5, verbose=5)\\n\\nprint(\\\"Test  R2 Score : %.2f\\\"%xgb_regressor.score(X_test, Y_test))\\nprint(\\\"Train R2 Score : %.2f\\\"%xgb_regressor.score(X_train, Y_train))\";\n",
       "                var nbb_formatted_code = \"X_train, X_test, Y_train, Y_test = train_test_split(\\n    boston.data, boston.target, train_size=0.90, random_state=42\\n)\\n\\nprint(\\n    \\\"Train/Test Sizes : \\\",\\n    X_train.shape,\\n    X_test.shape,\\n    Y_train.shape,\\n    Y_test.shape,\\n    \\\"\\\\n\\\",\\n)\\n\\nxgb_regressor = xgb.XGBRegressor(max_depth=3, eta=1, objective=\\\"reg:tweedie\\\")\\n\\nxgb_regressor.fit(\\n    X_train,\\n    Y_train,\\n    eval_set=[(X_test, Y_test)],\\n    eval_metric=\\\"rmse\\\",\\n    early_stopping_rounds=5,\\n    verbose=5,\\n)\\n\\nprint(\\\"Test  R2 Score : %.2f\\\" % xgb_regressor.score(X_test, Y_test))\\nprint(\\\"Train R2 Score : %.2f\\\" % xgb_regressor.score(X_train, Y_train))\";\n",
       "                var nbb_cells = Jupyter.notebook.get_cells();\n",
       "                for (var i = 0; i < nbb_cells.length; ++i) {\n",
       "                    if (nbb_cells[i].input_prompt_number == nbb_cell_id) {\n",
       "                        if (nbb_cells[i].get_text() == nbb_unformatted_code) {\n",
       "                             nbb_cells[i].set_text(nbb_formatted_code);\n",
       "                        }\n",
       "                        break;\n",
       "                    }\n",
       "                }\n",
       "            }, 500);\n",
       "            "
      ],
      "text/plain": [
       "<IPython.core.display.Javascript object>"
      ]
     },
     "metadata": {},
     "output_type": "display_data"
    }
   ],
   "source": [
    "X_train, X_test, Y_train, Y_test = train_test_split(\n",
    "    boston.data, boston.target, train_size=0.90, random_state=42\n",
    ")\n",
    "\n",
    "print(\n",
    "    \"Train/Test Sizes : \",\n",
    "    X_train.shape,\n",
    "    X_test.shape,\n",
    "    Y_train.shape,\n",
    "    Y_test.shape,\n",
    "    \"\\n\",\n",
    ")\n",
    "\n",
    "xgb_regressor = xgb.XGBRegressor(max_depth=3, eta=1, objective=\"reg:tweedie\")\n",
    "\n",
    "xgb_regressor.fit(\n",
    "    X_train,\n",
    "    Y_train,\n",
    "    eval_set=[(X_test, Y_test)],\n",
    "    eval_metric=\"rmse\",\n",
    "    early_stopping_rounds=5,\n",
    "    verbose=5,\n",
    ")\n",
    "\n",
    "print(\"Test  R2 Score : %.2f\" % xgb_regressor.score(X_test, Y_test))\n",
    "print(\"Train R2 Score : %.2f\" % xgb_regressor.score(X_train, Y_train))"
   ]
  },
  {
   "cell_type": "markdown",
   "id": "dc6d421f",
   "metadata": {},
   "source": [
    "## Callbacks \n",
    "Xgboost provides us with a list of callback functions for a different purpose which gets executed after each iteration of training. Below is a list of available callbacks with xgboost as a part of the callback module.\n",
    "\n",
    "- early_stop - It accepts integer specifying whether to stop training if evaluation metric results on last evaluation set are not improved for that many iterations.\n",
    "- print_evaluation - It accepts integer values specifying how often to print evaluation results. Evaluation metric results are printed at every that many iterations as specified.\n",
    "- record_evaluation - It accepts a dictionary in which evaluation results will be recorded.\n",
    "- reset_learning_rate - It lets us reset the learning rate after each iteration of training. It accepts an array of size the same as the number of iterations or callback returning the new learning rate for each iteration.\n",
    "\n",
    "We need to provide a list of callbacks to the callbacks parameter for their execution after each iteration.\n",
    "\n",
    "Below we have explained usage of early_stop(), print_evaluation() and record_evaluation() callbacks for regression task.\n",
    "\n"
   ]
  },
  {
   "cell_type": "code",
   "execution_count": 66,
   "id": "389053dd",
   "metadata": {},
   "outputs": [
    {
     "name": "stdout",
     "output_type": "stream",
     "text": [
      "Train/Test Sizes :  (455, 13) (51, 13) (455,) (51,) \n",
      "\n",
      "Will train until test-tweedie-nloglik@1.5 hasn't improved in 5 rounds.\n",
      "[0]\ttest-tweedie-nloglik@1.5:26.66487\n",
      "[1]\ttest-tweedie-nloglik@1.5:18.59277\n",
      "[2]\ttest-tweedie-nloglik@1.5:18.15825\n",
      "[3]\ttest-tweedie-nloglik@1.5:18.14867\n",
      "[4]\ttest-tweedie-nloglik@1.5:18.14152\n",
      "[5]\ttest-tweedie-nloglik@1.5:18.13845\n",
      "[6]\ttest-tweedie-nloglik@1.5:18.13924\n",
      "[7]\ttest-tweedie-nloglik@1.5:18.13543\n",
      "[8]\ttest-tweedie-nloglik@1.5:18.12734\n",
      "[9]\ttest-tweedie-nloglik@1.5:18.12620\n",
      "[10]\ttest-tweedie-nloglik@1.5:18.12475\n",
      "[11]\ttest-tweedie-nloglik@1.5:18.12602\n",
      "[12]\ttest-tweedie-nloglik@1.5:18.12688\n",
      "[13]\ttest-tweedie-nloglik@1.5:18.12563\n",
      "[14]\ttest-tweedie-nloglik@1.5:18.12537\n",
      "Stopping. Best iteration:\n",
      "[10]\ttest-tweedie-nloglik@1.5:18.12475\n",
      "\n",
      "Evaluation Results :  {'test': {'tweedie-nloglik@1.5': [26.664871, 18.592772, 18.158253, 18.148666, 18.141516, 18.138445, 18.139244, 18.135429, 18.127338, 18.126202, 18.124754, 18.126019, 18.126877, 18.125628, 18.125372]}}\n",
      "\n",
      "Test  R2 Score : 0.91\n",
      "Train R2 Score : 0.97\n"
     ]
    },
    {
     "data": {
      "application/javascript": [
       "\n",
       "            setTimeout(function() {\n",
       "                var nbb_cell_id = 66;\n",
       "                var nbb_unformatted_code = \"X_train, X_test, Y_train, Y_test = train_test_split(boston.data, boston.target, train_size=0.90, random_state=42)\\n\\nprint(\\\"Train/Test Sizes : \\\", X_train.shape, X_test.shape, Y_train.shape, Y_test.shape, \\\"\\\\n\\\")\\n\\ndmat_train = xgb.DMatrix(X_train, Y_train, feature_names=boston.feature_names)\\ndmat_test = xgb.DMatrix(X_test, Y_test, feature_names=boston.feature_names)\\n\\n\\nearly_stop_execution = xgb.callback.early_stop(5)\\nprint_eval = xgb.callback.print_evaluation(1)\\neval_results = {}\\neval_results_callback = xgb.callback.record_evaluation(eval_results)\\n\\ntweedie_booster = xgb.train({'max_depth': 3, 'eta': 1, 'objective': 'reg:tweedie'},\\n                    dmat_train,\\n                    evals=[(dmat_test, \\\"test\\\")],\\n                    num_boost_round=25,\\n                    verbose_eval=False,\\n                    callbacks=[early_stop_execution, print_eval, eval_results_callback])\\n\\nprint(\\\"Evaluation Results : \\\", eval_results)\\n\\nprint(\\\"\\\\nTest  R2 Score : %.2f\\\"%r2_score(Y_test, tweedie_booster.predict(dmat_test)))\\nprint(\\\"Train R2 Score : %.2f\\\"%r2_score(Y_train, tweedie_booster.predict(dmat_train)))\";\n",
       "                var nbb_formatted_code = \"X_train, X_test, Y_train, Y_test = train_test_split(\\n    boston.data, boston.target, train_size=0.90, random_state=42\\n)\\n\\nprint(\\n    \\\"Train/Test Sizes : \\\",\\n    X_train.shape,\\n    X_test.shape,\\n    Y_train.shape,\\n    Y_test.shape,\\n    \\\"\\\\n\\\",\\n)\\n\\ndmat_train = xgb.DMatrix(X_train, Y_train, feature_names=boston.feature_names)\\ndmat_test = xgb.DMatrix(X_test, Y_test, feature_names=boston.feature_names)\\n\\n\\nearly_stop_execution = xgb.callback.early_stop(5)\\nprint_eval = xgb.callback.print_evaluation(1)\\neval_results = {}\\neval_results_callback = xgb.callback.record_evaluation(eval_results)\\n\\ntweedie_booster = xgb.train(\\n    {\\\"max_depth\\\": 3, \\\"eta\\\": 1, \\\"objective\\\": \\\"reg:tweedie\\\"},\\n    dmat_train,\\n    evals=[(dmat_test, \\\"test\\\")],\\n    num_boost_round=25,\\n    verbose_eval=False,\\n    callbacks=[early_stop_execution, print_eval, eval_results_callback],\\n)\\n\\nprint(\\\"Evaluation Results : \\\", eval_results)\\n\\nprint(\\\"\\\\nTest  R2 Score : %.2f\\\" % r2_score(Y_test, tweedie_booster.predict(dmat_test)))\\nprint(\\\"Train R2 Score : %.2f\\\" % r2_score(Y_train, tweedie_booster.predict(dmat_train)))\";\n",
       "                var nbb_cells = Jupyter.notebook.get_cells();\n",
       "                for (var i = 0; i < nbb_cells.length; ++i) {\n",
       "                    if (nbb_cells[i].input_prompt_number == nbb_cell_id) {\n",
       "                        if (nbb_cells[i].get_text() == nbb_unformatted_code) {\n",
       "                             nbb_cells[i].set_text(nbb_formatted_code);\n",
       "                        }\n",
       "                        break;\n",
       "                    }\n",
       "                }\n",
       "            }, 500);\n",
       "            "
      ],
      "text/plain": [
       "<IPython.core.display.Javascript object>"
      ]
     },
     "metadata": {},
     "output_type": "display_data"
    }
   ],
   "source": [
    "X_train, X_test, Y_train, Y_test = train_test_split(\n",
    "    boston.data, boston.target, train_size=0.90, random_state=42\n",
    ")\n",
    "\n",
    "print(\n",
    "    \"Train/Test Sizes : \",\n",
    "    X_train.shape,\n",
    "    X_test.shape,\n",
    "    Y_train.shape,\n",
    "    Y_test.shape,\n",
    "    \"\\n\",\n",
    ")\n",
    "\n",
    "dmat_train = xgb.DMatrix(X_train, Y_train, feature_names=boston.feature_names)\n",
    "dmat_test = xgb.DMatrix(X_test, Y_test, feature_names=boston.feature_names)\n",
    "\n",
    "\n",
    "early_stop_execution = xgb.callback.early_stop(5)\n",
    "print_eval = xgb.callback.print_evaluation(1)\n",
    "eval_results = {}\n",
    "eval_results_callback = xgb.callback.record_evaluation(eval_results)\n",
    "\n",
    "tweedie_booster = xgb.train(\n",
    "    {\"max_depth\": 3, \"eta\": 1, \"objective\": \"reg:tweedie\"},\n",
    "    dmat_train,\n",
    "    evals=[(dmat_test, \"test\")],\n",
    "    num_boost_round=25,\n",
    "    verbose_eval=False,\n",
    "    callbacks=[early_stop_execution, print_eval, eval_results_callback],\n",
    ")\n",
    "\n",
    "print(\"Evaluation Results : \", eval_results)\n",
    "\n",
    "print(\"\\nTest  R2 Score : %.2f\" % r2_score(Y_test, tweedie_booster.predict(dmat_test)))\n",
    "print(\"Train R2 Score : %.2f\" % r2_score(Y_train, tweedie_booster.predict(dmat_train)))"
   ]
  },
  {
   "cell_type": "markdown",
   "id": "48d30353",
   "metadata": {},
   "source": [
    "####  Below we have again explained the same three callbacks with XGBRegressor. This time we need to pass a list of callback functions to the callbacks parameter of the fit() method."
   ]
  },
  {
   "cell_type": "code",
   "execution_count": 67,
   "id": "2144d422",
   "metadata": {},
   "outputs": [
    {
     "name": "stdout",
     "output_type": "stream",
     "text": [
      "Train/Test Sizes :  (455, 13) (51, 13) (455,) (51,) \n",
      "\n",
      "Will train until validation_0-rmse hasn't improved in 5 rounds.\n",
      "[0]\tvalidation_0-rmse:3.59159\n",
      "[5]\tvalidation_0-rmse:2.78515\n",
      "[10]\tvalidation_0-rmse:2.57606\n",
      "[15]\tvalidation_0-rmse:2.47347\n",
      "[20]\tvalidation_0-rmse:2.43278\n",
      "[25]\tvalidation_0-rmse:2.39191\n",
      "[30]\tvalidation_0-rmse:2.44904\n",
      "Stopping. Best iteration:\n",
      "[26]\tvalidation_0-rmse:2.37548\n",
      "\n",
      "Evaluation Results :  {'validation_0': {'rmse': [3.591595, 3.263732, 3.122178, 2.94107, 2.752223, 2.785148, 2.64519, 2.642898, 2.588952, 2.614419, 2.576064, 2.524051, 2.521241, 2.548234, 2.546718, 2.473467, 2.490181, 2.460504, 2.394174, 2.426881, 2.432777, 2.421911, 2.420417, 2.379785, 2.382656, 2.39191, 2.375476, 2.386967, 2.440467, 2.443965, 2.449045]}}\n",
      "\n",
      "Test  R2 Score : 0.90\n",
      "Train R2 Score : 0.99\n"
     ]
    },
    {
     "data": {
      "application/javascript": [
       "\n",
       "            setTimeout(function() {\n",
       "                var nbb_cell_id = 67;\n",
       "                var nbb_unformatted_code = \"X_train, X_test, Y_train, Y_test = train_test_split(boston.data, boston.target, train_size=0.90, random_state=42)\\n\\nprint(\\\"Train/Test Sizes : \\\", X_train.shape, X_test.shape, Y_train.shape, Y_test.shape, \\\"\\\\n\\\")\\n\\nxgb_regressor = xgb.XGBRegressor(max_depth=3, eta=1, objective='reg:squarederror')\\n\\nearly_stop_execution = xgb.callback.early_stop(5)\\nprint_eval = xgb.callback.print_evaluation(5)\\neval_results = {}\\neval_results_callback = xgb.callback.record_evaluation(eval_results)\\n\\nxgb_regressor.fit(X_train, Y_train,\\n                  eval_set=[(X_test, Y_test)],\\n                  verbose=False,\\n                  callbacks = [early_stop_execution, print_eval, eval_results_callback]\\n                  )\\n\\nprint(\\\"Evaluation Results : \\\", eval_results)\\n\\nprint(\\\"\\\\nTest  R2 Score : %.2f\\\"%xgb_regressor.score(X_test, Y_test))\\nprint(\\\"Train R2 Score : %.2f\\\"%xgb_regressor.score(X_train, Y_train))\";\n",
       "                var nbb_formatted_code = \"X_train, X_test, Y_train, Y_test = train_test_split(\\n    boston.data, boston.target, train_size=0.90, random_state=42\\n)\\n\\nprint(\\n    \\\"Train/Test Sizes : \\\",\\n    X_train.shape,\\n    X_test.shape,\\n    Y_train.shape,\\n    Y_test.shape,\\n    \\\"\\\\n\\\",\\n)\\n\\nxgb_regressor = xgb.XGBRegressor(max_depth=3, eta=1, objective=\\\"reg:squarederror\\\")\\n\\nearly_stop_execution = xgb.callback.early_stop(5)\\nprint_eval = xgb.callback.print_evaluation(5)\\neval_results = {}\\neval_results_callback = xgb.callback.record_evaluation(eval_results)\\n\\nxgb_regressor.fit(\\n    X_train,\\n    Y_train,\\n    eval_set=[(X_test, Y_test)],\\n    verbose=False,\\n    callbacks=[early_stop_execution, print_eval, eval_results_callback],\\n)\\n\\nprint(\\\"Evaluation Results : \\\", eval_results)\\n\\nprint(\\\"\\\\nTest  R2 Score : %.2f\\\" % xgb_regressor.score(X_test, Y_test))\\nprint(\\\"Train R2 Score : %.2f\\\" % xgb_regressor.score(X_train, Y_train))\";\n",
       "                var nbb_cells = Jupyter.notebook.get_cells();\n",
       "                for (var i = 0; i < nbb_cells.length; ++i) {\n",
       "                    if (nbb_cells[i].input_prompt_number == nbb_cell_id) {\n",
       "                        if (nbb_cells[i].get_text() == nbb_unformatted_code) {\n",
       "                             nbb_cells[i].set_text(nbb_formatted_code);\n",
       "                        }\n",
       "                        break;\n",
       "                    }\n",
       "                }\n",
       "            }, 500);\n",
       "            "
      ],
      "text/plain": [
       "<IPython.core.display.Javascript object>"
      ]
     },
     "metadata": {},
     "output_type": "display_data"
    }
   ],
   "source": [
    "X_train, X_test, Y_train, Y_test = train_test_split(\n",
    "    boston.data, boston.target, train_size=0.90, random_state=42\n",
    ")\n",
    "\n",
    "print(\n",
    "    \"Train/Test Sizes : \",\n",
    "    X_train.shape,\n",
    "    X_test.shape,\n",
    "    Y_train.shape,\n",
    "    Y_test.shape,\n",
    "    \"\\n\",\n",
    ")\n",
    "\n",
    "xgb_regressor = xgb.XGBRegressor(max_depth=3, eta=1, objective=\"reg:squarederror\")\n",
    "\n",
    "early_stop_execution = xgb.callback.early_stop(5)\n",
    "print_eval = xgb.callback.print_evaluation(5)\n",
    "eval_results = {}\n",
    "eval_results_callback = xgb.callback.record_evaluation(eval_results)\n",
    "\n",
    "xgb_regressor.fit(\n",
    "    X_train,\n",
    "    Y_train,\n",
    "    eval_set=[(X_test, Y_test)],\n",
    "    verbose=False,\n",
    "    callbacks=[early_stop_execution, print_eval, eval_results_callback],\n",
    ")\n",
    "\n",
    "print(\"Evaluation Results : \", eval_results)\n",
    "\n",
    "print(\"\\nTest  R2 Score : %.2f\" % xgb_regressor.score(X_test, Y_test))\n",
    "print(\"Train R2 Score : %.2f\" % xgb_regressor.score(X_train, Y_train))"
   ]
  },
  {
   "cell_type": "markdown",
   "id": "424807f9",
   "metadata": {},
   "source": [
    "As a part of this example, we have explained how we can use the reset_learning_rate() callback. We have first called the reset_learning_rate() function with an array of size 15 which is the same as the number of iterations of our training process. The array starts from 0.1 till 1.5 increasing the learning rate by 0.1 each time."
   ]
  },
  {
   "cell_type": "code",
   "execution_count": 68,
   "id": "b029ec0d",
   "metadata": {},
   "outputs": [
    {
     "name": "stdout",
     "output_type": "stream",
     "text": [
      "[0]\ttest-tweedie-nloglik@1.5:26.66487\n",
      "[1]\ttest-tweedie-nloglik@1.5:25.31719\n",
      "[2]\ttest-tweedie-nloglik@1.5:23.11685\n",
      "[3]\ttest-tweedie-nloglik@1.5:20.87608\n",
      "[4]\ttest-tweedie-nloglik@1.5:19.25085\n",
      "[5]\ttest-tweedie-nloglik@1.5:18.44967\n",
      "[6]\ttest-tweedie-nloglik@1.5:18.19030\n",
      "[7]\ttest-tweedie-nloglik@1.5:18.14023\n",
      "[8]\ttest-tweedie-nloglik@1.5:18.13443\n",
      "[9]\ttest-tweedie-nloglik@1.5:18.13133\n",
      "[10]\ttest-tweedie-nloglik@1.5:18.13147\n",
      "[11]\ttest-tweedie-nloglik@1.5:18.13265\n",
      "[12]\ttest-tweedie-nloglik@1.5:18.13475\n",
      "[13]\ttest-tweedie-nloglik@1.5:18.13259\n",
      "[14]\ttest-tweedie-nloglik@1.5:18.13398\n",
      "\n",
      "Test  R2 Score : 0.87\n",
      "Train R2 Score : 0.97\n"
     ]
    },
    {
     "data": {
      "application/javascript": [
       "\n",
       "            setTimeout(function() {\n",
       "                var nbb_cell_id = 68;\n",
       "                var nbb_unformatted_code = \"reset_learning_rate = xgb.callback.reset_learning_rate(list(np.linspace(0.1,1.5, num=15)))\\n\\ntweedie_booster = xgb.train({'max_depth': 3, 'eta': 1, 'objective': 'reg:tweedie'},\\n                    dmat_train,\\n                    evals=[(dmat_test, \\\"test\\\")],\\n                    num_boost_round=15,\\n                    callbacks=[reset_learning_rate])\\n\\nprint(\\\"\\\\nTest  R2 Score : %.2f\\\"%r2_score(Y_test, tweedie_booster.predict(dmat_test)))\\nprint(\\\"Train R2 Score : %.2f\\\"%r2_score(Y_train, tweedie_booster.predict(dmat_train)))\";\n",
       "                var nbb_formatted_code = \"reset_learning_rate = xgb.callback.reset_learning_rate(\\n    list(np.linspace(0.1, 1.5, num=15))\\n)\\n\\ntweedie_booster = xgb.train(\\n    {\\\"max_depth\\\": 3, \\\"eta\\\": 1, \\\"objective\\\": \\\"reg:tweedie\\\"},\\n    dmat_train,\\n    evals=[(dmat_test, \\\"test\\\")],\\n    num_boost_round=15,\\n    callbacks=[reset_learning_rate],\\n)\\n\\nprint(\\\"\\\\nTest  R2 Score : %.2f\\\" % r2_score(Y_test, tweedie_booster.predict(dmat_test)))\\nprint(\\\"Train R2 Score : %.2f\\\" % r2_score(Y_train, tweedie_booster.predict(dmat_train)))\";\n",
       "                var nbb_cells = Jupyter.notebook.get_cells();\n",
       "                for (var i = 0; i < nbb_cells.length; ++i) {\n",
       "                    if (nbb_cells[i].input_prompt_number == nbb_cell_id) {\n",
       "                        if (nbb_cells[i].get_text() == nbb_unformatted_code) {\n",
       "                             nbb_cells[i].set_text(nbb_formatted_code);\n",
       "                        }\n",
       "                        break;\n",
       "                    }\n",
       "                }\n",
       "            }, 500);\n",
       "            "
      ],
      "text/plain": [
       "<IPython.core.display.Javascript object>"
      ]
     },
     "metadata": {},
     "output_type": "display_data"
    }
   ],
   "source": [
    "reset_learning_rate = xgb.callback.reset_learning_rate(\n",
    "    list(np.linspace(0.1, 1.5, num=15))\n",
    ")\n",
    "\n",
    "tweedie_booster = xgb.train(\n",
    "    {\"max_depth\": 3, \"eta\": 1, \"objective\": \"reg:tweedie\"},\n",
    "    dmat_train,\n",
    "    evals=[(dmat_test, \"test\")],\n",
    "    num_boost_round=15,\n",
    "    callbacks=[reset_learning_rate],\n",
    ")\n",
    "\n",
    "print(\"\\nTest  R2 Score : %.2f\" % r2_score(Y_test, tweedie_booster.predict(dmat_test)))\n",
    "print(\"Train R2 Score : %.2f\" % r2_score(Y_train, tweedie_booster.predict(dmat_train)))"
   ]
  },
  {
   "cell_type": "markdown",
   "id": "da359922",
   "metadata": {},
   "source": [
    "We have now explained another example demonstrating usage of the reset_learning_rate() callback. This time we have created a function named calculate_learning_rate() which will be passed to reset_learning_rate() callback. The function takes as input two integers (current boosting round index and a total number of boosting rounds) and returns the learning rate for that boosting round. We have then passed the callback created to the callbacks parameter."
   ]
  },
  {
   "cell_type": "code",
   "execution_count": 69,
   "id": "1427a5a0",
   "metadata": {},
   "outputs": [
    {
     "name": "stdout",
     "output_type": "stream",
     "text": [
      "[0]\ttest-tweedie-nloglik@1.5:26.66487\n",
      "[1]\ttest-tweedie-nloglik@1.5:25.31719\n",
      "[2]\ttest-tweedie-nloglik@1.5:23.11685\n",
      "[3]\ttest-tweedie-nloglik@1.5:20.87608\n",
      "[4]\ttest-tweedie-nloglik@1.5:19.25085\n",
      "[5]\ttest-tweedie-nloglik@1.5:18.44967\n",
      "[6]\ttest-tweedie-nloglik@1.5:18.19030\n",
      "[7]\ttest-tweedie-nloglik@1.5:18.14023\n",
      "[8]\ttest-tweedie-nloglik@1.5:18.13443\n",
      "[9]\ttest-tweedie-nloglik@1.5:18.13133\n",
      "[10]\ttest-tweedie-nloglik@1.5:18.13147\n",
      "[11]\ttest-tweedie-nloglik@1.5:18.13265\n",
      "[12]\ttest-tweedie-nloglik@1.5:18.13475\n",
      "[13]\ttest-tweedie-nloglik@1.5:18.13259\n",
      "[14]\ttest-tweedie-nloglik@1.5:18.13398\n",
      "\n",
      "Test  R2 Score : 0.87\n",
      "Train R2 Score : 0.97\n"
     ]
    },
    {
     "data": {
      "application/javascript": [
       "\n",
       "            setTimeout(function() {\n",
       "                var nbb_cell_id = 69;\n",
       "                var nbb_unformatted_code = \"def calculate_learning_rate(boosting_round, num_boost_round):\\n    lrs = list(np.linspace(0.1,1.5, num=num_boost_round))\\n    return lrs[boosting_round]\\n\\nreset_learning_rate = xgb.callback.reset_learning_rate(calculate_learning_rate)\\n\\ntweedie_booster = xgb.train({'max_depth': 3, 'eta': 1, 'objective': 'reg:tweedie'},\\n                    dmat_train,\\n                    evals=[(dmat_test, \\\"test\\\")],\\n                    num_boost_round=15,\\n                    callbacks=[reset_learning_rate])\\n\\nprint(\\\"\\\\nTest  R2 Score : %.2f\\\"%r2_score(Y_test, tweedie_booster.predict(dmat_test)))\\nprint(\\\"Train R2 Score : %.2f\\\"%r2_score(Y_train, tweedie_booster.predict(dmat_train)))\";\n",
       "                var nbb_formatted_code = \"def calculate_learning_rate(boosting_round, num_boost_round):\\n    lrs = list(np.linspace(0.1, 1.5, num=num_boost_round))\\n    return lrs[boosting_round]\\n\\n\\nreset_learning_rate = xgb.callback.reset_learning_rate(calculate_learning_rate)\\n\\ntweedie_booster = xgb.train(\\n    {\\\"max_depth\\\": 3, \\\"eta\\\": 1, \\\"objective\\\": \\\"reg:tweedie\\\"},\\n    dmat_train,\\n    evals=[(dmat_test, \\\"test\\\")],\\n    num_boost_round=15,\\n    callbacks=[reset_learning_rate],\\n)\\n\\nprint(\\\"\\\\nTest  R2 Score : %.2f\\\" % r2_score(Y_test, tweedie_booster.predict(dmat_test)))\\nprint(\\\"Train R2 Score : %.2f\\\" % r2_score(Y_train, tweedie_booster.predict(dmat_train)))\";\n",
       "                var nbb_cells = Jupyter.notebook.get_cells();\n",
       "                for (var i = 0; i < nbb_cells.length; ++i) {\n",
       "                    if (nbb_cells[i].input_prompt_number == nbb_cell_id) {\n",
       "                        if (nbb_cells[i].get_text() == nbb_unformatted_code) {\n",
       "                             nbb_cells[i].set_text(nbb_formatted_code);\n",
       "                        }\n",
       "                        break;\n",
       "                    }\n",
       "                }\n",
       "            }, 500);\n",
       "            "
      ],
      "text/plain": [
       "<IPython.core.display.Javascript object>"
      ]
     },
     "metadata": {},
     "output_type": "display_data"
    }
   ],
   "source": [
    "def calculate_learning_rate(boosting_round, num_boost_round):\n",
    "    lrs = list(np.linspace(0.1, 1.5, num=num_boost_round))\n",
    "    return lrs[boosting_round]\n",
    "\n",
    "\n",
    "reset_learning_rate = xgb.callback.reset_learning_rate(calculate_learning_rate)\n",
    "\n",
    "tweedie_booster = xgb.train(\n",
    "    {\"max_depth\": 3, \"eta\": 1, \"objective\": \"reg:tweedie\"},\n",
    "    dmat_train,\n",
    "    evals=[(dmat_test, \"test\")],\n",
    "    num_boost_round=15,\n",
    "    callbacks=[reset_learning_rate],\n",
    ")\n",
    "\n",
    "print(\"\\nTest  R2 Score : %.2f\" % r2_score(Y_test, tweedie_booster.predict(dmat_test)))\n",
    "print(\"Train R2 Score : %.2f\" % r2_score(Y_train, tweedie_booster.predict(dmat_train)))"
   ]
  },
  {
   "cell_type": "code",
   "execution_count": null,
   "id": "ff3e6c98",
   "metadata": {},
   "outputs": [],
   "source": []
  }
 ],
 "metadata": {
  "kernelspec": {
   "display_name": "Python 3",
   "language": "python",
   "name": "python3"
  },
  "language_info": {
   "codemirror_mode": {
    "name": "ipython",
    "version": 3
   },
   "file_extension": ".py",
   "mimetype": "text/x-python",
   "name": "python",
   "nbconvert_exporter": "python",
   "pygments_lexer": "ipython3",
   "version": "3.8.8"
  }
 },
 "nbformat": 4,
 "nbformat_minor": 5
}
